{
  "nbformat": 4,
  "nbformat_minor": 0,
  "metadata": {
    "colab": {
      "provenance": [],
      "gpuType": "T4",
      "include_colab_link": true
    },
    "kernelspec": {
      "name": "python3",
      "display_name": "Python 3"
    },
    "language_info": {
      "name": "python"
    },
    "accelerator": "GPU",
    "widgets": {
      "application/vnd.jupyter.widget-state+json": {
        "15b34e85d117414f81a1ea2c3019a3a6": {
          "model_module": "@jupyter-widgets/controls",
          "model_name": "HBoxModel",
          "model_module_version": "1.5.0",
          "state": {
            "_dom_classes": [],
            "_model_module": "@jupyter-widgets/controls",
            "_model_module_version": "1.5.0",
            "_model_name": "HBoxModel",
            "_view_count": null,
            "_view_module": "@jupyter-widgets/controls",
            "_view_module_version": "1.5.0",
            "_view_name": "HBoxView",
            "box_style": "",
            "children": [
              "IPY_MODEL_065006d47e91470289cee876f8fbd136",
              "IPY_MODEL_a81cffeae94441bf89706daabdb9c730",
              "IPY_MODEL_176cfd27c4dd4cc38537d6080a019571"
            ],
            "layout": "IPY_MODEL_09b11acd20c7432398f68aa4940665f1"
          }
        },
        "065006d47e91470289cee876f8fbd136": {
          "model_module": "@jupyter-widgets/controls",
          "model_name": "HTMLModel",
          "model_module_version": "1.5.0",
          "state": {
            "_dom_classes": [],
            "_model_module": "@jupyter-widgets/controls",
            "_model_module_version": "1.5.0",
            "_model_name": "HTMLModel",
            "_view_count": null,
            "_view_module": "@jupyter-widgets/controls",
            "_view_module_version": "1.5.0",
            "_view_name": "HTMLView",
            "description": "",
            "description_tooltip": null,
            "layout": "IPY_MODEL_b337dda99f2147e09e56c7f377ed0fa3",
            "placeholder": "​",
            "style": "IPY_MODEL_3a3b8412fc1d49589dcefcb8dd3329ba",
            "value": "Downloading builder script: 100%"
          }
        },
        "a81cffeae94441bf89706daabdb9c730": {
          "model_module": "@jupyter-widgets/controls",
          "model_name": "FloatProgressModel",
          "model_module_version": "1.5.0",
          "state": {
            "_dom_classes": [],
            "_model_module": "@jupyter-widgets/controls",
            "_model_module_version": "1.5.0",
            "_model_name": "FloatProgressModel",
            "_view_count": null,
            "_view_module": "@jupyter-widgets/controls",
            "_view_module_version": "1.5.0",
            "_view_name": "ProgressView",
            "bar_style": "success",
            "description": "",
            "description_tooltip": null,
            "layout": "IPY_MODEL_19a9c7cb45314c26b6020b25c3a2cb71",
            "max": 3362,
            "min": 0,
            "orientation": "horizontal",
            "style": "IPY_MODEL_bdd05580ff204657a262fff25d4e578d",
            "value": 3362
          }
        },
        "176cfd27c4dd4cc38537d6080a019571": {
          "model_module": "@jupyter-widgets/controls",
          "model_name": "HTMLModel",
          "model_module_version": "1.5.0",
          "state": {
            "_dom_classes": [],
            "_model_module": "@jupyter-widgets/controls",
            "_model_module_version": "1.5.0",
            "_model_name": "HTMLModel",
            "_view_count": null,
            "_view_module": "@jupyter-widgets/controls",
            "_view_module_version": "1.5.0",
            "_view_name": "HTMLView",
            "description": "",
            "description_tooltip": null,
            "layout": "IPY_MODEL_2615e8f2d2aa40bf8fc24bb6b1560d45",
            "placeholder": "​",
            "style": "IPY_MODEL_5895bd7cdc57432cae122e165c6d5409",
            "value": " 3.36k/3.36k [00:00&lt;00:00, 206kB/s]"
          }
        },
        "09b11acd20c7432398f68aa4940665f1": {
          "model_module": "@jupyter-widgets/base",
          "model_name": "LayoutModel",
          "model_module_version": "1.2.0",
          "state": {
            "_model_module": "@jupyter-widgets/base",
            "_model_module_version": "1.2.0",
            "_model_name": "LayoutModel",
            "_view_count": null,
            "_view_module": "@jupyter-widgets/base",
            "_view_module_version": "1.2.0",
            "_view_name": "LayoutView",
            "align_content": null,
            "align_items": null,
            "align_self": null,
            "border": null,
            "bottom": null,
            "display": null,
            "flex": null,
            "flex_flow": null,
            "grid_area": null,
            "grid_auto_columns": null,
            "grid_auto_flow": null,
            "grid_auto_rows": null,
            "grid_column": null,
            "grid_gap": null,
            "grid_row": null,
            "grid_template_areas": null,
            "grid_template_columns": null,
            "grid_template_rows": null,
            "height": null,
            "justify_content": null,
            "justify_items": null,
            "left": null,
            "margin": null,
            "max_height": null,
            "max_width": null,
            "min_height": null,
            "min_width": null,
            "object_fit": null,
            "object_position": null,
            "order": null,
            "overflow": null,
            "overflow_x": null,
            "overflow_y": null,
            "padding": null,
            "right": null,
            "top": null,
            "visibility": null,
            "width": null
          }
        },
        "b337dda99f2147e09e56c7f377ed0fa3": {
          "model_module": "@jupyter-widgets/base",
          "model_name": "LayoutModel",
          "model_module_version": "1.2.0",
          "state": {
            "_model_module": "@jupyter-widgets/base",
            "_model_module_version": "1.2.0",
            "_model_name": "LayoutModel",
            "_view_count": null,
            "_view_module": "@jupyter-widgets/base",
            "_view_module_version": "1.2.0",
            "_view_name": "LayoutView",
            "align_content": null,
            "align_items": null,
            "align_self": null,
            "border": null,
            "bottom": null,
            "display": null,
            "flex": null,
            "flex_flow": null,
            "grid_area": null,
            "grid_auto_columns": null,
            "grid_auto_flow": null,
            "grid_auto_rows": null,
            "grid_column": null,
            "grid_gap": null,
            "grid_row": null,
            "grid_template_areas": null,
            "grid_template_columns": null,
            "grid_template_rows": null,
            "height": null,
            "justify_content": null,
            "justify_items": null,
            "left": null,
            "margin": null,
            "max_height": null,
            "max_width": null,
            "min_height": null,
            "min_width": null,
            "object_fit": null,
            "object_position": null,
            "order": null,
            "overflow": null,
            "overflow_x": null,
            "overflow_y": null,
            "padding": null,
            "right": null,
            "top": null,
            "visibility": null,
            "width": null
          }
        },
        "3a3b8412fc1d49589dcefcb8dd3329ba": {
          "model_module": "@jupyter-widgets/controls",
          "model_name": "DescriptionStyleModel",
          "model_module_version": "1.5.0",
          "state": {
            "_model_module": "@jupyter-widgets/controls",
            "_model_module_version": "1.5.0",
            "_model_name": "DescriptionStyleModel",
            "_view_count": null,
            "_view_module": "@jupyter-widgets/base",
            "_view_module_version": "1.2.0",
            "_view_name": "StyleView",
            "description_width": ""
          }
        },
        "19a9c7cb45314c26b6020b25c3a2cb71": {
          "model_module": "@jupyter-widgets/base",
          "model_name": "LayoutModel",
          "model_module_version": "1.2.0",
          "state": {
            "_model_module": "@jupyter-widgets/base",
            "_model_module_version": "1.2.0",
            "_model_name": "LayoutModel",
            "_view_count": null,
            "_view_module": "@jupyter-widgets/base",
            "_view_module_version": "1.2.0",
            "_view_name": "LayoutView",
            "align_content": null,
            "align_items": null,
            "align_self": null,
            "border": null,
            "bottom": null,
            "display": null,
            "flex": null,
            "flex_flow": null,
            "grid_area": null,
            "grid_auto_columns": null,
            "grid_auto_flow": null,
            "grid_auto_rows": null,
            "grid_column": null,
            "grid_gap": null,
            "grid_row": null,
            "grid_template_areas": null,
            "grid_template_columns": null,
            "grid_template_rows": null,
            "height": null,
            "justify_content": null,
            "justify_items": null,
            "left": null,
            "margin": null,
            "max_height": null,
            "max_width": null,
            "min_height": null,
            "min_width": null,
            "object_fit": null,
            "object_position": null,
            "order": null,
            "overflow": null,
            "overflow_x": null,
            "overflow_y": null,
            "padding": null,
            "right": null,
            "top": null,
            "visibility": null,
            "width": null
          }
        },
        "bdd05580ff204657a262fff25d4e578d": {
          "model_module": "@jupyter-widgets/controls",
          "model_name": "ProgressStyleModel",
          "model_module_version": "1.5.0",
          "state": {
            "_model_module": "@jupyter-widgets/controls",
            "_model_module_version": "1.5.0",
            "_model_name": "ProgressStyleModel",
            "_view_count": null,
            "_view_module": "@jupyter-widgets/base",
            "_view_module_version": "1.2.0",
            "_view_name": "StyleView",
            "bar_color": null,
            "description_width": ""
          }
        },
        "2615e8f2d2aa40bf8fc24bb6b1560d45": {
          "model_module": "@jupyter-widgets/base",
          "model_name": "LayoutModel",
          "model_module_version": "1.2.0",
          "state": {
            "_model_module": "@jupyter-widgets/base",
            "_model_module_version": "1.2.0",
            "_model_name": "LayoutModel",
            "_view_count": null,
            "_view_module": "@jupyter-widgets/base",
            "_view_module_version": "1.2.0",
            "_view_name": "LayoutView",
            "align_content": null,
            "align_items": null,
            "align_self": null,
            "border": null,
            "bottom": null,
            "display": null,
            "flex": null,
            "flex_flow": null,
            "grid_area": null,
            "grid_auto_columns": null,
            "grid_auto_flow": null,
            "grid_auto_rows": null,
            "grid_column": null,
            "grid_gap": null,
            "grid_row": null,
            "grid_template_areas": null,
            "grid_template_columns": null,
            "grid_template_rows": null,
            "height": null,
            "justify_content": null,
            "justify_items": null,
            "left": null,
            "margin": null,
            "max_height": null,
            "max_width": null,
            "min_height": null,
            "min_width": null,
            "object_fit": null,
            "object_position": null,
            "order": null,
            "overflow": null,
            "overflow_x": null,
            "overflow_y": null,
            "padding": null,
            "right": null,
            "top": null,
            "visibility": null,
            "width": null
          }
        },
        "5895bd7cdc57432cae122e165c6d5409": {
          "model_module": "@jupyter-widgets/controls",
          "model_name": "DescriptionStyleModel",
          "model_module_version": "1.5.0",
          "state": {
            "_model_module": "@jupyter-widgets/controls",
            "_model_module_version": "1.5.0",
            "_model_name": "DescriptionStyleModel",
            "_view_count": null,
            "_view_module": "@jupyter-widgets/base",
            "_view_module_version": "1.2.0",
            "_view_name": "StyleView",
            "description_width": ""
          }
        },
        "70c4aac5a50c496f88841b99216bdec8": {
          "model_module": "@jupyter-widgets/controls",
          "model_name": "HBoxModel",
          "model_module_version": "1.5.0",
          "state": {
            "_dom_classes": [],
            "_model_module": "@jupyter-widgets/controls",
            "_model_module_version": "1.5.0",
            "_model_name": "HBoxModel",
            "_view_count": null,
            "_view_module": "@jupyter-widgets/controls",
            "_view_module_version": "1.5.0",
            "_view_name": "HBoxView",
            "box_style": "",
            "children": [
              "IPY_MODEL_ec36488ef007452e9d730db4cd488792",
              "IPY_MODEL_87ea0e31cc3d47b090ee4ef484057981",
              "IPY_MODEL_9d37a7148bcf430c9ca9a3ddabcc8de4"
            ],
            "layout": "IPY_MODEL_97643c60fea847c4981dca1d6640aa02"
          }
        },
        "ec36488ef007452e9d730db4cd488792": {
          "model_module": "@jupyter-widgets/controls",
          "model_name": "HTMLModel",
          "model_module_version": "1.5.0",
          "state": {
            "_dom_classes": [],
            "_model_module": "@jupyter-widgets/controls",
            "_model_module_version": "1.5.0",
            "_model_name": "HTMLModel",
            "_view_count": null,
            "_view_module": "@jupyter-widgets/controls",
            "_view_module_version": "1.5.0",
            "_view_name": "HTMLView",
            "description": "",
            "description_tooltip": null,
            "layout": "IPY_MODEL_8f4c015934fd4884b296efcd7e078695",
            "placeholder": "​",
            "style": "IPY_MODEL_6415e20c642a4cfcb4d7ebfa1bb3c20b",
            "value": "Downloading metadata: 100%"
          }
        },
        "87ea0e31cc3d47b090ee4ef484057981": {
          "model_module": "@jupyter-widgets/controls",
          "model_name": "FloatProgressModel",
          "model_module_version": "1.5.0",
          "state": {
            "_dom_classes": [],
            "_model_module": "@jupyter-widgets/controls",
            "_model_module_version": "1.5.0",
            "_model_name": "FloatProgressModel",
            "_view_count": null,
            "_view_module": "@jupyter-widgets/controls",
            "_view_module_version": "1.5.0",
            "_view_name": "ProgressView",
            "bar_style": "success",
            "description": "",
            "description_tooltip": null,
            "layout": "IPY_MODEL_18796e3604a944e195e4f7d27b9cf566",
            "max": 1577,
            "min": 0,
            "orientation": "horizontal",
            "style": "IPY_MODEL_1e8311606e9c4c2bae918fd726f6449a",
            "value": 1577
          }
        },
        "9d37a7148bcf430c9ca9a3ddabcc8de4": {
          "model_module": "@jupyter-widgets/controls",
          "model_name": "HTMLModel",
          "model_module_version": "1.5.0",
          "state": {
            "_dom_classes": [],
            "_model_module": "@jupyter-widgets/controls",
            "_model_module_version": "1.5.0",
            "_model_name": "HTMLModel",
            "_view_count": null,
            "_view_module": "@jupyter-widgets/controls",
            "_view_module_version": "1.5.0",
            "_view_name": "HTMLView",
            "description": "",
            "description_tooltip": null,
            "layout": "IPY_MODEL_d95db6ca6e9f40c8a6422995291fe423",
            "placeholder": "​",
            "style": "IPY_MODEL_c12ffa91ab31478f9990ab565f47e518",
            "value": " 1.58k/1.58k [00:00&lt;00:00, 122kB/s]"
          }
        },
        "97643c60fea847c4981dca1d6640aa02": {
          "model_module": "@jupyter-widgets/base",
          "model_name": "LayoutModel",
          "model_module_version": "1.2.0",
          "state": {
            "_model_module": "@jupyter-widgets/base",
            "_model_module_version": "1.2.0",
            "_model_name": "LayoutModel",
            "_view_count": null,
            "_view_module": "@jupyter-widgets/base",
            "_view_module_version": "1.2.0",
            "_view_name": "LayoutView",
            "align_content": null,
            "align_items": null,
            "align_self": null,
            "border": null,
            "bottom": null,
            "display": null,
            "flex": null,
            "flex_flow": null,
            "grid_area": null,
            "grid_auto_columns": null,
            "grid_auto_flow": null,
            "grid_auto_rows": null,
            "grid_column": null,
            "grid_gap": null,
            "grid_row": null,
            "grid_template_areas": null,
            "grid_template_columns": null,
            "grid_template_rows": null,
            "height": null,
            "justify_content": null,
            "justify_items": null,
            "left": null,
            "margin": null,
            "max_height": null,
            "max_width": null,
            "min_height": null,
            "min_width": null,
            "object_fit": null,
            "object_position": null,
            "order": null,
            "overflow": null,
            "overflow_x": null,
            "overflow_y": null,
            "padding": null,
            "right": null,
            "top": null,
            "visibility": null,
            "width": null
          }
        },
        "8f4c015934fd4884b296efcd7e078695": {
          "model_module": "@jupyter-widgets/base",
          "model_name": "LayoutModel",
          "model_module_version": "1.2.0",
          "state": {
            "_model_module": "@jupyter-widgets/base",
            "_model_module_version": "1.2.0",
            "_model_name": "LayoutModel",
            "_view_count": null,
            "_view_module": "@jupyter-widgets/base",
            "_view_module_version": "1.2.0",
            "_view_name": "LayoutView",
            "align_content": null,
            "align_items": null,
            "align_self": null,
            "border": null,
            "bottom": null,
            "display": null,
            "flex": null,
            "flex_flow": null,
            "grid_area": null,
            "grid_auto_columns": null,
            "grid_auto_flow": null,
            "grid_auto_rows": null,
            "grid_column": null,
            "grid_gap": null,
            "grid_row": null,
            "grid_template_areas": null,
            "grid_template_columns": null,
            "grid_template_rows": null,
            "height": null,
            "justify_content": null,
            "justify_items": null,
            "left": null,
            "margin": null,
            "max_height": null,
            "max_width": null,
            "min_height": null,
            "min_width": null,
            "object_fit": null,
            "object_position": null,
            "order": null,
            "overflow": null,
            "overflow_x": null,
            "overflow_y": null,
            "padding": null,
            "right": null,
            "top": null,
            "visibility": null,
            "width": null
          }
        },
        "6415e20c642a4cfcb4d7ebfa1bb3c20b": {
          "model_module": "@jupyter-widgets/controls",
          "model_name": "DescriptionStyleModel",
          "model_module_version": "1.5.0",
          "state": {
            "_model_module": "@jupyter-widgets/controls",
            "_model_module_version": "1.5.0",
            "_model_name": "DescriptionStyleModel",
            "_view_count": null,
            "_view_module": "@jupyter-widgets/base",
            "_view_module_version": "1.2.0",
            "_view_name": "StyleView",
            "description_width": ""
          }
        },
        "18796e3604a944e195e4f7d27b9cf566": {
          "model_module": "@jupyter-widgets/base",
          "model_name": "LayoutModel",
          "model_module_version": "1.2.0",
          "state": {
            "_model_module": "@jupyter-widgets/base",
            "_model_module_version": "1.2.0",
            "_model_name": "LayoutModel",
            "_view_count": null,
            "_view_module": "@jupyter-widgets/base",
            "_view_module_version": "1.2.0",
            "_view_name": "LayoutView",
            "align_content": null,
            "align_items": null,
            "align_self": null,
            "border": null,
            "bottom": null,
            "display": null,
            "flex": null,
            "flex_flow": null,
            "grid_area": null,
            "grid_auto_columns": null,
            "grid_auto_flow": null,
            "grid_auto_rows": null,
            "grid_column": null,
            "grid_gap": null,
            "grid_row": null,
            "grid_template_areas": null,
            "grid_template_columns": null,
            "grid_template_rows": null,
            "height": null,
            "justify_content": null,
            "justify_items": null,
            "left": null,
            "margin": null,
            "max_height": null,
            "max_width": null,
            "min_height": null,
            "min_width": null,
            "object_fit": null,
            "object_position": null,
            "order": null,
            "overflow": null,
            "overflow_x": null,
            "overflow_y": null,
            "padding": null,
            "right": null,
            "top": null,
            "visibility": null,
            "width": null
          }
        },
        "1e8311606e9c4c2bae918fd726f6449a": {
          "model_module": "@jupyter-widgets/controls",
          "model_name": "ProgressStyleModel",
          "model_module_version": "1.5.0",
          "state": {
            "_model_module": "@jupyter-widgets/controls",
            "_model_module_version": "1.5.0",
            "_model_name": "ProgressStyleModel",
            "_view_count": null,
            "_view_module": "@jupyter-widgets/base",
            "_view_module_version": "1.2.0",
            "_view_name": "StyleView",
            "bar_color": null,
            "description_width": ""
          }
        },
        "d95db6ca6e9f40c8a6422995291fe423": {
          "model_module": "@jupyter-widgets/base",
          "model_name": "LayoutModel",
          "model_module_version": "1.2.0",
          "state": {
            "_model_module": "@jupyter-widgets/base",
            "_model_module_version": "1.2.0",
            "_model_name": "LayoutModel",
            "_view_count": null,
            "_view_module": "@jupyter-widgets/base",
            "_view_module_version": "1.2.0",
            "_view_name": "LayoutView",
            "align_content": null,
            "align_items": null,
            "align_self": null,
            "border": null,
            "bottom": null,
            "display": null,
            "flex": null,
            "flex_flow": null,
            "grid_area": null,
            "grid_auto_columns": null,
            "grid_auto_flow": null,
            "grid_auto_rows": null,
            "grid_column": null,
            "grid_gap": null,
            "grid_row": null,
            "grid_template_areas": null,
            "grid_template_columns": null,
            "grid_template_rows": null,
            "height": null,
            "justify_content": null,
            "justify_items": null,
            "left": null,
            "margin": null,
            "max_height": null,
            "max_width": null,
            "min_height": null,
            "min_width": null,
            "object_fit": null,
            "object_position": null,
            "order": null,
            "overflow": null,
            "overflow_x": null,
            "overflow_y": null,
            "padding": null,
            "right": null,
            "top": null,
            "visibility": null,
            "width": null
          }
        },
        "c12ffa91ab31478f9990ab565f47e518": {
          "model_module": "@jupyter-widgets/controls",
          "model_name": "DescriptionStyleModel",
          "model_module_version": "1.5.0",
          "state": {
            "_model_module": "@jupyter-widgets/controls",
            "_model_module_version": "1.5.0",
            "_model_name": "DescriptionStyleModel",
            "_view_count": null,
            "_view_module": "@jupyter-widgets/base",
            "_view_module_version": "1.2.0",
            "_view_name": "StyleView",
            "description_width": ""
          }
        },
        "aa5ef3fe600c4a858be0f37becbdf93e": {
          "model_module": "@jupyter-widgets/controls",
          "model_name": "HBoxModel",
          "model_module_version": "1.5.0",
          "state": {
            "_dom_classes": [],
            "_model_module": "@jupyter-widgets/controls",
            "_model_module_version": "1.5.0",
            "_model_name": "HBoxModel",
            "_view_count": null,
            "_view_module": "@jupyter-widgets/controls",
            "_view_module_version": "1.5.0",
            "_view_name": "HBoxView",
            "box_style": "",
            "children": [
              "IPY_MODEL_42be563a2ae8449399d43645d02842a5",
              "IPY_MODEL_8c113afe005a46899c48cc437c599df1",
              "IPY_MODEL_5e1c55e8810a4e5987e805316b1122c8"
            ],
            "layout": "IPY_MODEL_7111ef15e71746cba47bbd109fb707ce"
          }
        },
        "42be563a2ae8449399d43645d02842a5": {
          "model_module": "@jupyter-widgets/controls",
          "model_name": "HTMLModel",
          "model_module_version": "1.5.0",
          "state": {
            "_dom_classes": [],
            "_model_module": "@jupyter-widgets/controls",
            "_model_module_version": "1.5.0",
            "_model_name": "HTMLModel",
            "_view_count": null,
            "_view_module": "@jupyter-widgets/controls",
            "_view_module_version": "1.5.0",
            "_view_name": "HTMLView",
            "description": "",
            "description_tooltip": null,
            "layout": "IPY_MODEL_b4ebdd6c63a44100bc3a3abb8ddf3561",
            "placeholder": "​",
            "style": "IPY_MODEL_a6116d12b1d94c54b5fc5e7c4efc99db",
            "value": "Downloading readme: 100%"
          }
        },
        "8c113afe005a46899c48cc437c599df1": {
          "model_module": "@jupyter-widgets/controls",
          "model_name": "FloatProgressModel",
          "model_module_version": "1.5.0",
          "state": {
            "_dom_classes": [],
            "_model_module": "@jupyter-widgets/controls",
            "_model_module_version": "1.5.0",
            "_model_name": "FloatProgressModel",
            "_view_count": null,
            "_view_module": "@jupyter-widgets/controls",
            "_view_module_version": "1.5.0",
            "_view_name": "ProgressView",
            "bar_style": "success",
            "description": "",
            "description_tooltip": null,
            "layout": "IPY_MODEL_f00e200bf543412c9c818876948a8e9d",
            "max": 7042,
            "min": 0,
            "orientation": "horizontal",
            "style": "IPY_MODEL_f5ad8e1087a84680ab73c5108a9a4ef8",
            "value": 7042
          }
        },
        "5e1c55e8810a4e5987e805316b1122c8": {
          "model_module": "@jupyter-widgets/controls",
          "model_name": "HTMLModel",
          "model_module_version": "1.5.0",
          "state": {
            "_dom_classes": [],
            "_model_module": "@jupyter-widgets/controls",
            "_model_module_version": "1.5.0",
            "_model_name": "HTMLModel",
            "_view_count": null,
            "_view_module": "@jupyter-widgets/controls",
            "_view_module_version": "1.5.0",
            "_view_name": "HTMLView",
            "description": "",
            "description_tooltip": null,
            "layout": "IPY_MODEL_bf62bb85cdc245e5b81860c74a676480",
            "placeholder": "​",
            "style": "IPY_MODEL_19359e7112044fcf830319bebe6fb0d8",
            "value": " 7.04k/7.04k [00:00&lt;00:00, 532kB/s]"
          }
        },
        "7111ef15e71746cba47bbd109fb707ce": {
          "model_module": "@jupyter-widgets/base",
          "model_name": "LayoutModel",
          "model_module_version": "1.2.0",
          "state": {
            "_model_module": "@jupyter-widgets/base",
            "_model_module_version": "1.2.0",
            "_model_name": "LayoutModel",
            "_view_count": null,
            "_view_module": "@jupyter-widgets/base",
            "_view_module_version": "1.2.0",
            "_view_name": "LayoutView",
            "align_content": null,
            "align_items": null,
            "align_self": null,
            "border": null,
            "bottom": null,
            "display": null,
            "flex": null,
            "flex_flow": null,
            "grid_area": null,
            "grid_auto_columns": null,
            "grid_auto_flow": null,
            "grid_auto_rows": null,
            "grid_column": null,
            "grid_gap": null,
            "grid_row": null,
            "grid_template_areas": null,
            "grid_template_columns": null,
            "grid_template_rows": null,
            "height": null,
            "justify_content": null,
            "justify_items": null,
            "left": null,
            "margin": null,
            "max_height": null,
            "max_width": null,
            "min_height": null,
            "min_width": null,
            "object_fit": null,
            "object_position": null,
            "order": null,
            "overflow": null,
            "overflow_x": null,
            "overflow_y": null,
            "padding": null,
            "right": null,
            "top": null,
            "visibility": null,
            "width": null
          }
        },
        "b4ebdd6c63a44100bc3a3abb8ddf3561": {
          "model_module": "@jupyter-widgets/base",
          "model_name": "LayoutModel",
          "model_module_version": "1.2.0",
          "state": {
            "_model_module": "@jupyter-widgets/base",
            "_model_module_version": "1.2.0",
            "_model_name": "LayoutModel",
            "_view_count": null,
            "_view_module": "@jupyter-widgets/base",
            "_view_module_version": "1.2.0",
            "_view_name": "LayoutView",
            "align_content": null,
            "align_items": null,
            "align_self": null,
            "border": null,
            "bottom": null,
            "display": null,
            "flex": null,
            "flex_flow": null,
            "grid_area": null,
            "grid_auto_columns": null,
            "grid_auto_flow": null,
            "grid_auto_rows": null,
            "grid_column": null,
            "grid_gap": null,
            "grid_row": null,
            "grid_template_areas": null,
            "grid_template_columns": null,
            "grid_template_rows": null,
            "height": null,
            "justify_content": null,
            "justify_items": null,
            "left": null,
            "margin": null,
            "max_height": null,
            "max_width": null,
            "min_height": null,
            "min_width": null,
            "object_fit": null,
            "object_position": null,
            "order": null,
            "overflow": null,
            "overflow_x": null,
            "overflow_y": null,
            "padding": null,
            "right": null,
            "top": null,
            "visibility": null,
            "width": null
          }
        },
        "a6116d12b1d94c54b5fc5e7c4efc99db": {
          "model_module": "@jupyter-widgets/controls",
          "model_name": "DescriptionStyleModel",
          "model_module_version": "1.5.0",
          "state": {
            "_model_module": "@jupyter-widgets/controls",
            "_model_module_version": "1.5.0",
            "_model_name": "DescriptionStyleModel",
            "_view_count": null,
            "_view_module": "@jupyter-widgets/base",
            "_view_module_version": "1.2.0",
            "_view_name": "StyleView",
            "description_width": ""
          }
        },
        "f00e200bf543412c9c818876948a8e9d": {
          "model_module": "@jupyter-widgets/base",
          "model_name": "LayoutModel",
          "model_module_version": "1.2.0",
          "state": {
            "_model_module": "@jupyter-widgets/base",
            "_model_module_version": "1.2.0",
            "_model_name": "LayoutModel",
            "_view_count": null,
            "_view_module": "@jupyter-widgets/base",
            "_view_module_version": "1.2.0",
            "_view_name": "LayoutView",
            "align_content": null,
            "align_items": null,
            "align_self": null,
            "border": null,
            "bottom": null,
            "display": null,
            "flex": null,
            "flex_flow": null,
            "grid_area": null,
            "grid_auto_columns": null,
            "grid_auto_flow": null,
            "grid_auto_rows": null,
            "grid_column": null,
            "grid_gap": null,
            "grid_row": null,
            "grid_template_areas": null,
            "grid_template_columns": null,
            "grid_template_rows": null,
            "height": null,
            "justify_content": null,
            "justify_items": null,
            "left": null,
            "margin": null,
            "max_height": null,
            "max_width": null,
            "min_height": null,
            "min_width": null,
            "object_fit": null,
            "object_position": null,
            "order": null,
            "overflow": null,
            "overflow_x": null,
            "overflow_y": null,
            "padding": null,
            "right": null,
            "top": null,
            "visibility": null,
            "width": null
          }
        },
        "f5ad8e1087a84680ab73c5108a9a4ef8": {
          "model_module": "@jupyter-widgets/controls",
          "model_name": "ProgressStyleModel",
          "model_module_version": "1.5.0",
          "state": {
            "_model_module": "@jupyter-widgets/controls",
            "_model_module_version": "1.5.0",
            "_model_name": "ProgressStyleModel",
            "_view_count": null,
            "_view_module": "@jupyter-widgets/base",
            "_view_module_version": "1.2.0",
            "_view_name": "StyleView",
            "bar_color": null,
            "description_width": ""
          }
        },
        "bf62bb85cdc245e5b81860c74a676480": {
          "model_module": "@jupyter-widgets/base",
          "model_name": "LayoutModel",
          "model_module_version": "1.2.0",
          "state": {
            "_model_module": "@jupyter-widgets/base",
            "_model_module_version": "1.2.0",
            "_model_name": "LayoutModel",
            "_view_count": null,
            "_view_module": "@jupyter-widgets/base",
            "_view_module_version": "1.2.0",
            "_view_name": "LayoutView",
            "align_content": null,
            "align_items": null,
            "align_self": null,
            "border": null,
            "bottom": null,
            "display": null,
            "flex": null,
            "flex_flow": null,
            "grid_area": null,
            "grid_auto_columns": null,
            "grid_auto_flow": null,
            "grid_auto_rows": null,
            "grid_column": null,
            "grid_gap": null,
            "grid_row": null,
            "grid_template_areas": null,
            "grid_template_columns": null,
            "grid_template_rows": null,
            "height": null,
            "justify_content": null,
            "justify_items": null,
            "left": null,
            "margin": null,
            "max_height": null,
            "max_width": null,
            "min_height": null,
            "min_width": null,
            "object_fit": null,
            "object_position": null,
            "order": null,
            "overflow": null,
            "overflow_x": null,
            "overflow_y": null,
            "padding": null,
            "right": null,
            "top": null,
            "visibility": null,
            "width": null
          }
        },
        "19359e7112044fcf830319bebe6fb0d8": {
          "model_module": "@jupyter-widgets/controls",
          "model_name": "DescriptionStyleModel",
          "model_module_version": "1.5.0",
          "state": {
            "_model_module": "@jupyter-widgets/controls",
            "_model_module_version": "1.5.0",
            "_model_name": "DescriptionStyleModel",
            "_view_count": null,
            "_view_module": "@jupyter-widgets/base",
            "_view_module_version": "1.2.0",
            "_view_name": "StyleView",
            "description_width": ""
          }
        },
        "3907a56b8b7442e18e828d2e630b9b33": {
          "model_module": "@jupyter-widgets/controls",
          "model_name": "HBoxModel",
          "model_module_version": "1.5.0",
          "state": {
            "_dom_classes": [],
            "_model_module": "@jupyter-widgets/controls",
            "_model_module_version": "1.5.0",
            "_model_name": "HBoxModel",
            "_view_count": null,
            "_view_module": "@jupyter-widgets/controls",
            "_view_module_version": "1.5.0",
            "_view_name": "HBoxView",
            "box_style": "",
            "children": [
              "IPY_MODEL_1d1e55ccdb4b4c5bb8057daece045395",
              "IPY_MODEL_e7835d5f8f43497692d3e4870fa199fb",
              "IPY_MODEL_94169e5414bf4689a37c6e7abc7c1aa4"
            ],
            "layout": "IPY_MODEL_b5aa11490d70472abcdff295f3337268"
          }
        },
        "1d1e55ccdb4b4c5bb8057daece045395": {
          "model_module": "@jupyter-widgets/controls",
          "model_name": "HTMLModel",
          "model_module_version": "1.5.0",
          "state": {
            "_dom_classes": [],
            "_model_module": "@jupyter-widgets/controls",
            "_model_module_version": "1.5.0",
            "_model_name": "HTMLModel",
            "_view_count": null,
            "_view_module": "@jupyter-widgets/controls",
            "_view_module_version": "1.5.0",
            "_view_name": "HTMLView",
            "description": "",
            "description_tooltip": null,
            "layout": "IPY_MODEL_d5a70eb6d005410f8931b567a4576585",
            "placeholder": "​",
            "style": "IPY_MODEL_ddc0fddff29c442fb78a12f6dd0e400c",
            "value": "Downloading data: 100%"
          }
        },
        "e7835d5f8f43497692d3e4870fa199fb": {
          "model_module": "@jupyter-widgets/controls",
          "model_name": "FloatProgressModel",
          "model_module_version": "1.5.0",
          "state": {
            "_dom_classes": [],
            "_model_module": "@jupyter-widgets/controls",
            "_model_module_version": "1.5.0",
            "_model_name": "FloatProgressModel",
            "_view_count": null,
            "_view_module": "@jupyter-widgets/controls",
            "_view_module_version": "1.5.0",
            "_view_name": "ProgressView",
            "bar_style": "success",
            "description": "",
            "description_tooltip": null,
            "layout": "IPY_MODEL_0b3b5072c40e49f79263ca78b02ab189",
            "max": 2944100,
            "min": 0,
            "orientation": "horizontal",
            "style": "IPY_MODEL_0ae544a222dc48c8943d219d0f1b3be8",
            "value": 2944100
          }
        },
        "94169e5414bf4689a37c6e7abc7c1aa4": {
          "model_module": "@jupyter-widgets/controls",
          "model_name": "HTMLModel",
          "model_module_version": "1.5.0",
          "state": {
            "_dom_classes": [],
            "_model_module": "@jupyter-widgets/controls",
            "_model_module_version": "1.5.0",
            "_model_name": "HTMLModel",
            "_view_count": null,
            "_view_module": "@jupyter-widgets/controls",
            "_view_module_version": "1.5.0",
            "_view_name": "HTMLView",
            "description": "",
            "description_tooltip": null,
            "layout": "IPY_MODEL_56a518e35819481cb0c8bbc0e2d96f39",
            "placeholder": "​",
            "style": "IPY_MODEL_78e7e2eef6634d29ad4c55b08ab5d715",
            "value": " 2.94M/2.94M [00:00&lt;00:00, 3.73MB/s]"
          }
        },
        "b5aa11490d70472abcdff295f3337268": {
          "model_module": "@jupyter-widgets/base",
          "model_name": "LayoutModel",
          "model_module_version": "1.2.0",
          "state": {
            "_model_module": "@jupyter-widgets/base",
            "_model_module_version": "1.2.0",
            "_model_name": "LayoutModel",
            "_view_count": null,
            "_view_module": "@jupyter-widgets/base",
            "_view_module_version": "1.2.0",
            "_view_name": "LayoutView",
            "align_content": null,
            "align_items": null,
            "align_self": null,
            "border": null,
            "bottom": null,
            "display": null,
            "flex": null,
            "flex_flow": null,
            "grid_area": null,
            "grid_auto_columns": null,
            "grid_auto_flow": null,
            "grid_auto_rows": null,
            "grid_column": null,
            "grid_gap": null,
            "grid_row": null,
            "grid_template_areas": null,
            "grid_template_columns": null,
            "grid_template_rows": null,
            "height": null,
            "justify_content": null,
            "justify_items": null,
            "left": null,
            "margin": null,
            "max_height": null,
            "max_width": null,
            "min_height": null,
            "min_width": null,
            "object_fit": null,
            "object_position": null,
            "order": null,
            "overflow": null,
            "overflow_x": null,
            "overflow_y": null,
            "padding": null,
            "right": null,
            "top": null,
            "visibility": null,
            "width": null
          }
        },
        "d5a70eb6d005410f8931b567a4576585": {
          "model_module": "@jupyter-widgets/base",
          "model_name": "LayoutModel",
          "model_module_version": "1.2.0",
          "state": {
            "_model_module": "@jupyter-widgets/base",
            "_model_module_version": "1.2.0",
            "_model_name": "LayoutModel",
            "_view_count": null,
            "_view_module": "@jupyter-widgets/base",
            "_view_module_version": "1.2.0",
            "_view_name": "LayoutView",
            "align_content": null,
            "align_items": null,
            "align_self": null,
            "border": null,
            "bottom": null,
            "display": null,
            "flex": null,
            "flex_flow": null,
            "grid_area": null,
            "grid_auto_columns": null,
            "grid_auto_flow": null,
            "grid_auto_rows": null,
            "grid_column": null,
            "grid_gap": null,
            "grid_row": null,
            "grid_template_areas": null,
            "grid_template_columns": null,
            "grid_template_rows": null,
            "height": null,
            "justify_content": null,
            "justify_items": null,
            "left": null,
            "margin": null,
            "max_height": null,
            "max_width": null,
            "min_height": null,
            "min_width": null,
            "object_fit": null,
            "object_position": null,
            "order": null,
            "overflow": null,
            "overflow_x": null,
            "overflow_y": null,
            "padding": null,
            "right": null,
            "top": null,
            "visibility": null,
            "width": null
          }
        },
        "ddc0fddff29c442fb78a12f6dd0e400c": {
          "model_module": "@jupyter-widgets/controls",
          "model_name": "DescriptionStyleModel",
          "model_module_version": "1.5.0",
          "state": {
            "_model_module": "@jupyter-widgets/controls",
            "_model_module_version": "1.5.0",
            "_model_name": "DescriptionStyleModel",
            "_view_count": null,
            "_view_module": "@jupyter-widgets/base",
            "_view_module_version": "1.2.0",
            "_view_name": "StyleView",
            "description_width": ""
          }
        },
        "0b3b5072c40e49f79263ca78b02ab189": {
          "model_module": "@jupyter-widgets/base",
          "model_name": "LayoutModel",
          "model_module_version": "1.2.0",
          "state": {
            "_model_module": "@jupyter-widgets/base",
            "_model_module_version": "1.2.0",
            "_model_name": "LayoutModel",
            "_view_count": null,
            "_view_module": "@jupyter-widgets/base",
            "_view_module_version": "1.2.0",
            "_view_name": "LayoutView",
            "align_content": null,
            "align_items": null,
            "align_self": null,
            "border": null,
            "bottom": null,
            "display": null,
            "flex": null,
            "flex_flow": null,
            "grid_area": null,
            "grid_auto_columns": null,
            "grid_auto_flow": null,
            "grid_auto_rows": null,
            "grid_column": null,
            "grid_gap": null,
            "grid_row": null,
            "grid_template_areas": null,
            "grid_template_columns": null,
            "grid_template_rows": null,
            "height": null,
            "justify_content": null,
            "justify_items": null,
            "left": null,
            "margin": null,
            "max_height": null,
            "max_width": null,
            "min_height": null,
            "min_width": null,
            "object_fit": null,
            "object_position": null,
            "order": null,
            "overflow": null,
            "overflow_x": null,
            "overflow_y": null,
            "padding": null,
            "right": null,
            "top": null,
            "visibility": null,
            "width": null
          }
        },
        "0ae544a222dc48c8943d219d0f1b3be8": {
          "model_module": "@jupyter-widgets/controls",
          "model_name": "ProgressStyleModel",
          "model_module_version": "1.5.0",
          "state": {
            "_model_module": "@jupyter-widgets/controls",
            "_model_module_version": "1.5.0",
            "_model_name": "ProgressStyleModel",
            "_view_count": null,
            "_view_module": "@jupyter-widgets/base",
            "_view_module_version": "1.2.0",
            "_view_name": "StyleView",
            "bar_color": null,
            "description_width": ""
          }
        },
        "56a518e35819481cb0c8bbc0e2d96f39": {
          "model_module": "@jupyter-widgets/base",
          "model_name": "LayoutModel",
          "model_module_version": "1.2.0",
          "state": {
            "_model_module": "@jupyter-widgets/base",
            "_model_module_version": "1.2.0",
            "_model_name": "LayoutModel",
            "_view_count": null,
            "_view_module": "@jupyter-widgets/base",
            "_view_module_version": "1.2.0",
            "_view_name": "LayoutView",
            "align_content": null,
            "align_items": null,
            "align_self": null,
            "border": null,
            "bottom": null,
            "display": null,
            "flex": null,
            "flex_flow": null,
            "grid_area": null,
            "grid_auto_columns": null,
            "grid_auto_flow": null,
            "grid_auto_rows": null,
            "grid_column": null,
            "grid_gap": null,
            "grid_row": null,
            "grid_template_areas": null,
            "grid_template_columns": null,
            "grid_template_rows": null,
            "height": null,
            "justify_content": null,
            "justify_items": null,
            "left": null,
            "margin": null,
            "max_height": null,
            "max_width": null,
            "min_height": null,
            "min_width": null,
            "object_fit": null,
            "object_position": null,
            "order": null,
            "overflow": null,
            "overflow_x": null,
            "overflow_y": null,
            "padding": null,
            "right": null,
            "top": null,
            "visibility": null,
            "width": null
          }
        },
        "78e7e2eef6634d29ad4c55b08ab5d715": {
          "model_module": "@jupyter-widgets/controls",
          "model_name": "DescriptionStyleModel",
          "model_module_version": "1.5.0",
          "state": {
            "_model_module": "@jupyter-widgets/controls",
            "_model_module_version": "1.5.0",
            "_model_name": "DescriptionStyleModel",
            "_view_count": null,
            "_view_module": "@jupyter-widgets/base",
            "_view_module_version": "1.2.0",
            "_view_name": "StyleView",
            "description_width": ""
          }
        },
        "a259e804692f405e9ba61618190d42e9": {
          "model_module": "@jupyter-widgets/controls",
          "model_name": "HBoxModel",
          "model_module_version": "1.5.0",
          "state": {
            "_dom_classes": [],
            "_model_module": "@jupyter-widgets/controls",
            "_model_module_version": "1.5.0",
            "_model_name": "HBoxModel",
            "_view_count": null,
            "_view_module": "@jupyter-widgets/controls",
            "_view_module_version": "1.5.0",
            "_view_name": "HBoxView",
            "box_style": "",
            "children": [
              "IPY_MODEL_c395e36b3b6741739b6cfc055d4ec9dc",
              "IPY_MODEL_dd1ce56de00b4b75891c05b4ea602c51",
              "IPY_MODEL_5b9146fc20894d5abd48890c5b741fd8"
            ],
            "layout": "IPY_MODEL_55cd95bc0337435eb63833b1668f4723"
          }
        },
        "c395e36b3b6741739b6cfc055d4ec9dc": {
          "model_module": "@jupyter-widgets/controls",
          "model_name": "HTMLModel",
          "model_module_version": "1.5.0",
          "state": {
            "_dom_classes": [],
            "_model_module": "@jupyter-widgets/controls",
            "_model_module_version": "1.5.0",
            "_model_name": "HTMLModel",
            "_view_count": null,
            "_view_module": "@jupyter-widgets/controls",
            "_view_module_version": "1.5.0",
            "_view_name": "HTMLView",
            "description": "",
            "description_tooltip": null,
            "layout": "IPY_MODEL_3fd6c4accd9640c180e185e48a466136",
            "placeholder": "​",
            "style": "IPY_MODEL_59c485f44350466f924b463f03a7c6bb",
            "value": "Generating train split: 100%"
          }
        },
        "dd1ce56de00b4b75891c05b4ea602c51": {
          "model_module": "@jupyter-widgets/controls",
          "model_name": "FloatProgressModel",
          "model_module_version": "1.5.0",
          "state": {
            "_dom_classes": [],
            "_model_module": "@jupyter-widgets/controls",
            "_model_module_version": "1.5.0",
            "_model_name": "FloatProgressModel",
            "_view_count": null,
            "_view_module": "@jupyter-widgets/controls",
            "_view_module_version": "1.5.0",
            "_view_name": "ProgressView",
            "bar_style": "success",
            "description": "",
            "description_tooltip": null,
            "layout": "IPY_MODEL_a4538fa4d04446ceaa210cfda28a6ea0",
            "max": 14732,
            "min": 0,
            "orientation": "horizontal",
            "style": "IPY_MODEL_7a0f5d71adc749b49d96b4e679a2c3c0",
            "value": 14732
          }
        },
        "5b9146fc20894d5abd48890c5b741fd8": {
          "model_module": "@jupyter-widgets/controls",
          "model_name": "HTMLModel",
          "model_module_version": "1.5.0",
          "state": {
            "_dom_classes": [],
            "_model_module": "@jupyter-widgets/controls",
            "_model_module_version": "1.5.0",
            "_model_name": "HTMLModel",
            "_view_count": null,
            "_view_module": "@jupyter-widgets/controls",
            "_view_module_version": "1.5.0",
            "_view_name": "HTMLView",
            "description": "",
            "description_tooltip": null,
            "layout": "IPY_MODEL_e9622287626a45719c439abb820dc63d",
            "placeholder": "​",
            "style": "IPY_MODEL_5337ffe6f0e84c90823c8db2dc7deccf",
            "value": " 14732/14732 [00:00&lt;00:00, 23196.94 examples/s]"
          }
        },
        "55cd95bc0337435eb63833b1668f4723": {
          "model_module": "@jupyter-widgets/base",
          "model_name": "LayoutModel",
          "model_module_version": "1.2.0",
          "state": {
            "_model_module": "@jupyter-widgets/base",
            "_model_module_version": "1.2.0",
            "_model_name": "LayoutModel",
            "_view_count": null,
            "_view_module": "@jupyter-widgets/base",
            "_view_module_version": "1.2.0",
            "_view_name": "LayoutView",
            "align_content": null,
            "align_items": null,
            "align_self": null,
            "border": null,
            "bottom": null,
            "display": null,
            "flex": null,
            "flex_flow": null,
            "grid_area": null,
            "grid_auto_columns": null,
            "grid_auto_flow": null,
            "grid_auto_rows": null,
            "grid_column": null,
            "grid_gap": null,
            "grid_row": null,
            "grid_template_areas": null,
            "grid_template_columns": null,
            "grid_template_rows": null,
            "height": null,
            "justify_content": null,
            "justify_items": null,
            "left": null,
            "margin": null,
            "max_height": null,
            "max_width": null,
            "min_height": null,
            "min_width": null,
            "object_fit": null,
            "object_position": null,
            "order": null,
            "overflow": null,
            "overflow_x": null,
            "overflow_y": null,
            "padding": null,
            "right": null,
            "top": null,
            "visibility": null,
            "width": null
          }
        },
        "3fd6c4accd9640c180e185e48a466136": {
          "model_module": "@jupyter-widgets/base",
          "model_name": "LayoutModel",
          "model_module_version": "1.2.0",
          "state": {
            "_model_module": "@jupyter-widgets/base",
            "_model_module_version": "1.2.0",
            "_model_name": "LayoutModel",
            "_view_count": null,
            "_view_module": "@jupyter-widgets/base",
            "_view_module_version": "1.2.0",
            "_view_name": "LayoutView",
            "align_content": null,
            "align_items": null,
            "align_self": null,
            "border": null,
            "bottom": null,
            "display": null,
            "flex": null,
            "flex_flow": null,
            "grid_area": null,
            "grid_auto_columns": null,
            "grid_auto_flow": null,
            "grid_auto_rows": null,
            "grid_column": null,
            "grid_gap": null,
            "grid_row": null,
            "grid_template_areas": null,
            "grid_template_columns": null,
            "grid_template_rows": null,
            "height": null,
            "justify_content": null,
            "justify_items": null,
            "left": null,
            "margin": null,
            "max_height": null,
            "max_width": null,
            "min_height": null,
            "min_width": null,
            "object_fit": null,
            "object_position": null,
            "order": null,
            "overflow": null,
            "overflow_x": null,
            "overflow_y": null,
            "padding": null,
            "right": null,
            "top": null,
            "visibility": null,
            "width": null
          }
        },
        "59c485f44350466f924b463f03a7c6bb": {
          "model_module": "@jupyter-widgets/controls",
          "model_name": "DescriptionStyleModel",
          "model_module_version": "1.5.0",
          "state": {
            "_model_module": "@jupyter-widgets/controls",
            "_model_module_version": "1.5.0",
            "_model_name": "DescriptionStyleModel",
            "_view_count": null,
            "_view_module": "@jupyter-widgets/base",
            "_view_module_version": "1.2.0",
            "_view_name": "StyleView",
            "description_width": ""
          }
        },
        "a4538fa4d04446ceaa210cfda28a6ea0": {
          "model_module": "@jupyter-widgets/base",
          "model_name": "LayoutModel",
          "model_module_version": "1.2.0",
          "state": {
            "_model_module": "@jupyter-widgets/base",
            "_model_module_version": "1.2.0",
            "_model_name": "LayoutModel",
            "_view_count": null,
            "_view_module": "@jupyter-widgets/base",
            "_view_module_version": "1.2.0",
            "_view_name": "LayoutView",
            "align_content": null,
            "align_items": null,
            "align_self": null,
            "border": null,
            "bottom": null,
            "display": null,
            "flex": null,
            "flex_flow": null,
            "grid_area": null,
            "grid_auto_columns": null,
            "grid_auto_flow": null,
            "grid_auto_rows": null,
            "grid_column": null,
            "grid_gap": null,
            "grid_row": null,
            "grid_template_areas": null,
            "grid_template_columns": null,
            "grid_template_rows": null,
            "height": null,
            "justify_content": null,
            "justify_items": null,
            "left": null,
            "margin": null,
            "max_height": null,
            "max_width": null,
            "min_height": null,
            "min_width": null,
            "object_fit": null,
            "object_position": null,
            "order": null,
            "overflow": null,
            "overflow_x": null,
            "overflow_y": null,
            "padding": null,
            "right": null,
            "top": null,
            "visibility": null,
            "width": null
          }
        },
        "7a0f5d71adc749b49d96b4e679a2c3c0": {
          "model_module": "@jupyter-widgets/controls",
          "model_name": "ProgressStyleModel",
          "model_module_version": "1.5.0",
          "state": {
            "_model_module": "@jupyter-widgets/controls",
            "_model_module_version": "1.5.0",
            "_model_name": "ProgressStyleModel",
            "_view_count": null,
            "_view_module": "@jupyter-widgets/base",
            "_view_module_version": "1.2.0",
            "_view_name": "StyleView",
            "bar_color": null,
            "description_width": ""
          }
        },
        "e9622287626a45719c439abb820dc63d": {
          "model_module": "@jupyter-widgets/base",
          "model_name": "LayoutModel",
          "model_module_version": "1.2.0",
          "state": {
            "_model_module": "@jupyter-widgets/base",
            "_model_module_version": "1.2.0",
            "_model_name": "LayoutModel",
            "_view_count": null,
            "_view_module": "@jupyter-widgets/base",
            "_view_module_version": "1.2.0",
            "_view_name": "LayoutView",
            "align_content": null,
            "align_items": null,
            "align_self": null,
            "border": null,
            "bottom": null,
            "display": null,
            "flex": null,
            "flex_flow": null,
            "grid_area": null,
            "grid_auto_columns": null,
            "grid_auto_flow": null,
            "grid_auto_rows": null,
            "grid_column": null,
            "grid_gap": null,
            "grid_row": null,
            "grid_template_areas": null,
            "grid_template_columns": null,
            "grid_template_rows": null,
            "height": null,
            "justify_content": null,
            "justify_items": null,
            "left": null,
            "margin": null,
            "max_height": null,
            "max_width": null,
            "min_height": null,
            "min_width": null,
            "object_fit": null,
            "object_position": null,
            "order": null,
            "overflow": null,
            "overflow_x": null,
            "overflow_y": null,
            "padding": null,
            "right": null,
            "top": null,
            "visibility": null,
            "width": null
          }
        },
        "5337ffe6f0e84c90823c8db2dc7deccf": {
          "model_module": "@jupyter-widgets/controls",
          "model_name": "DescriptionStyleModel",
          "model_module_version": "1.5.0",
          "state": {
            "_model_module": "@jupyter-widgets/controls",
            "_model_module_version": "1.5.0",
            "_model_name": "DescriptionStyleModel",
            "_view_count": null,
            "_view_module": "@jupyter-widgets/base",
            "_view_module_version": "1.2.0",
            "_view_name": "StyleView",
            "description_width": ""
          }
        },
        "25ce59b46b67475fb23c36f01bd3f3e8": {
          "model_module": "@jupyter-widgets/controls",
          "model_name": "HBoxModel",
          "model_module_version": "1.5.0",
          "state": {
            "_dom_classes": [],
            "_model_module": "@jupyter-widgets/controls",
            "_model_module_version": "1.5.0",
            "_model_name": "HBoxModel",
            "_view_count": null,
            "_view_module": "@jupyter-widgets/controls",
            "_view_module_version": "1.5.0",
            "_view_name": "HBoxView",
            "box_style": "",
            "children": [
              "IPY_MODEL_68b6c659886444d78529f2a9e0660741",
              "IPY_MODEL_b6aa4e8965c944c39900fee9af5bc54b",
              "IPY_MODEL_e6342ffcd9a14dfa9266c7a070e12c4c"
            ],
            "layout": "IPY_MODEL_85d062fb4322469dbbdf0bae84691b5a"
          }
        },
        "68b6c659886444d78529f2a9e0660741": {
          "model_module": "@jupyter-widgets/controls",
          "model_name": "HTMLModel",
          "model_module_version": "1.5.0",
          "state": {
            "_dom_classes": [],
            "_model_module": "@jupyter-widgets/controls",
            "_model_module_version": "1.5.0",
            "_model_name": "HTMLModel",
            "_view_count": null,
            "_view_module": "@jupyter-widgets/controls",
            "_view_module_version": "1.5.0",
            "_view_name": "HTMLView",
            "description": "",
            "description_tooltip": null,
            "layout": "IPY_MODEL_e2592027c7ae4d8e9a8bc17aa578b257",
            "placeholder": "​",
            "style": "IPY_MODEL_b936062c5eae42b986e6cc368ee142ba",
            "value": "Generating test split: 100%"
          }
        },
        "b6aa4e8965c944c39900fee9af5bc54b": {
          "model_module": "@jupyter-widgets/controls",
          "model_name": "FloatProgressModel",
          "model_module_version": "1.5.0",
          "state": {
            "_dom_classes": [],
            "_model_module": "@jupyter-widgets/controls",
            "_model_module_version": "1.5.0",
            "_model_name": "FloatProgressModel",
            "_view_count": null,
            "_view_module": "@jupyter-widgets/controls",
            "_view_module_version": "1.5.0",
            "_view_name": "ProgressView",
            "bar_style": "success",
            "description": "",
            "description_tooltip": null,
            "layout": "IPY_MODEL_afdcf82393d2452dbed457941f54bd52",
            "max": 819,
            "min": 0,
            "orientation": "horizontal",
            "style": "IPY_MODEL_08967450c34444ef9910f3f1779ee649",
            "value": 819
          }
        },
        "e6342ffcd9a14dfa9266c7a070e12c4c": {
          "model_module": "@jupyter-widgets/controls",
          "model_name": "HTMLModel",
          "model_module_version": "1.5.0",
          "state": {
            "_dom_classes": [],
            "_model_module": "@jupyter-widgets/controls",
            "_model_module_version": "1.5.0",
            "_model_name": "HTMLModel",
            "_view_count": null,
            "_view_module": "@jupyter-widgets/controls",
            "_view_module_version": "1.5.0",
            "_view_name": "HTMLView",
            "description": "",
            "description_tooltip": null,
            "layout": "IPY_MODEL_c2e3ab3103374ad2a99139d91db90c40",
            "placeholder": "​",
            "style": "IPY_MODEL_d04c7245b21d446db26bc520349bd024",
            "value": " 819/819 [00:00&lt;00:00,  3.84 examples/s]"
          }
        },
        "85d062fb4322469dbbdf0bae84691b5a": {
          "model_module": "@jupyter-widgets/base",
          "model_name": "LayoutModel",
          "model_module_version": "1.2.0",
          "state": {
            "_model_module": "@jupyter-widgets/base",
            "_model_module_version": "1.2.0",
            "_model_name": "LayoutModel",
            "_view_count": null,
            "_view_module": "@jupyter-widgets/base",
            "_view_module_version": "1.2.0",
            "_view_name": "LayoutView",
            "align_content": null,
            "align_items": null,
            "align_self": null,
            "border": null,
            "bottom": null,
            "display": null,
            "flex": null,
            "flex_flow": null,
            "grid_area": null,
            "grid_auto_columns": null,
            "grid_auto_flow": null,
            "grid_auto_rows": null,
            "grid_column": null,
            "grid_gap": null,
            "grid_row": null,
            "grid_template_areas": null,
            "grid_template_columns": null,
            "grid_template_rows": null,
            "height": null,
            "justify_content": null,
            "justify_items": null,
            "left": null,
            "margin": null,
            "max_height": null,
            "max_width": null,
            "min_height": null,
            "min_width": null,
            "object_fit": null,
            "object_position": null,
            "order": null,
            "overflow": null,
            "overflow_x": null,
            "overflow_y": null,
            "padding": null,
            "right": null,
            "top": null,
            "visibility": null,
            "width": null
          }
        },
        "e2592027c7ae4d8e9a8bc17aa578b257": {
          "model_module": "@jupyter-widgets/base",
          "model_name": "LayoutModel",
          "model_module_version": "1.2.0",
          "state": {
            "_model_module": "@jupyter-widgets/base",
            "_model_module_version": "1.2.0",
            "_model_name": "LayoutModel",
            "_view_count": null,
            "_view_module": "@jupyter-widgets/base",
            "_view_module_version": "1.2.0",
            "_view_name": "LayoutView",
            "align_content": null,
            "align_items": null,
            "align_self": null,
            "border": null,
            "bottom": null,
            "display": null,
            "flex": null,
            "flex_flow": null,
            "grid_area": null,
            "grid_auto_columns": null,
            "grid_auto_flow": null,
            "grid_auto_rows": null,
            "grid_column": null,
            "grid_gap": null,
            "grid_row": null,
            "grid_template_areas": null,
            "grid_template_columns": null,
            "grid_template_rows": null,
            "height": null,
            "justify_content": null,
            "justify_items": null,
            "left": null,
            "margin": null,
            "max_height": null,
            "max_width": null,
            "min_height": null,
            "min_width": null,
            "object_fit": null,
            "object_position": null,
            "order": null,
            "overflow": null,
            "overflow_x": null,
            "overflow_y": null,
            "padding": null,
            "right": null,
            "top": null,
            "visibility": null,
            "width": null
          }
        },
        "b936062c5eae42b986e6cc368ee142ba": {
          "model_module": "@jupyter-widgets/controls",
          "model_name": "DescriptionStyleModel",
          "model_module_version": "1.5.0",
          "state": {
            "_model_module": "@jupyter-widgets/controls",
            "_model_module_version": "1.5.0",
            "_model_name": "DescriptionStyleModel",
            "_view_count": null,
            "_view_module": "@jupyter-widgets/base",
            "_view_module_version": "1.2.0",
            "_view_name": "StyleView",
            "description_width": ""
          }
        },
        "afdcf82393d2452dbed457941f54bd52": {
          "model_module": "@jupyter-widgets/base",
          "model_name": "LayoutModel",
          "model_module_version": "1.2.0",
          "state": {
            "_model_module": "@jupyter-widgets/base",
            "_model_module_version": "1.2.0",
            "_model_name": "LayoutModel",
            "_view_count": null,
            "_view_module": "@jupyter-widgets/base",
            "_view_module_version": "1.2.0",
            "_view_name": "LayoutView",
            "align_content": null,
            "align_items": null,
            "align_self": null,
            "border": null,
            "bottom": null,
            "display": null,
            "flex": null,
            "flex_flow": null,
            "grid_area": null,
            "grid_auto_columns": null,
            "grid_auto_flow": null,
            "grid_auto_rows": null,
            "grid_column": null,
            "grid_gap": null,
            "grid_row": null,
            "grid_template_areas": null,
            "grid_template_columns": null,
            "grid_template_rows": null,
            "height": null,
            "justify_content": null,
            "justify_items": null,
            "left": null,
            "margin": null,
            "max_height": null,
            "max_width": null,
            "min_height": null,
            "min_width": null,
            "object_fit": null,
            "object_position": null,
            "order": null,
            "overflow": null,
            "overflow_x": null,
            "overflow_y": null,
            "padding": null,
            "right": null,
            "top": null,
            "visibility": null,
            "width": null
          }
        },
        "08967450c34444ef9910f3f1779ee649": {
          "model_module": "@jupyter-widgets/controls",
          "model_name": "ProgressStyleModel",
          "model_module_version": "1.5.0",
          "state": {
            "_model_module": "@jupyter-widgets/controls",
            "_model_module_version": "1.5.0",
            "_model_name": "ProgressStyleModel",
            "_view_count": null,
            "_view_module": "@jupyter-widgets/base",
            "_view_module_version": "1.2.0",
            "_view_name": "StyleView",
            "bar_color": null,
            "description_width": ""
          }
        },
        "c2e3ab3103374ad2a99139d91db90c40": {
          "model_module": "@jupyter-widgets/base",
          "model_name": "LayoutModel",
          "model_module_version": "1.2.0",
          "state": {
            "_model_module": "@jupyter-widgets/base",
            "_model_module_version": "1.2.0",
            "_model_name": "LayoutModel",
            "_view_count": null,
            "_view_module": "@jupyter-widgets/base",
            "_view_module_version": "1.2.0",
            "_view_name": "LayoutView",
            "align_content": null,
            "align_items": null,
            "align_self": null,
            "border": null,
            "bottom": null,
            "display": null,
            "flex": null,
            "flex_flow": null,
            "grid_area": null,
            "grid_auto_columns": null,
            "grid_auto_flow": null,
            "grid_auto_rows": null,
            "grid_column": null,
            "grid_gap": null,
            "grid_row": null,
            "grid_template_areas": null,
            "grid_template_columns": null,
            "grid_template_rows": null,
            "height": null,
            "justify_content": null,
            "justify_items": null,
            "left": null,
            "margin": null,
            "max_height": null,
            "max_width": null,
            "min_height": null,
            "min_width": null,
            "object_fit": null,
            "object_position": null,
            "order": null,
            "overflow": null,
            "overflow_x": null,
            "overflow_y": null,
            "padding": null,
            "right": null,
            "top": null,
            "visibility": null,
            "width": null
          }
        },
        "d04c7245b21d446db26bc520349bd024": {
          "model_module": "@jupyter-widgets/controls",
          "model_name": "DescriptionStyleModel",
          "model_module_version": "1.5.0",
          "state": {
            "_model_module": "@jupyter-widgets/controls",
            "_model_module_version": "1.5.0",
            "_model_name": "DescriptionStyleModel",
            "_view_count": null,
            "_view_module": "@jupyter-widgets/base",
            "_view_module_version": "1.2.0",
            "_view_name": "StyleView",
            "description_width": ""
          }
        },
        "2b8b0f657c074ee597461df3da84a0e0": {
          "model_module": "@jupyter-widgets/controls",
          "model_name": "HBoxModel",
          "model_module_version": "1.5.0",
          "state": {
            "_dom_classes": [],
            "_model_module": "@jupyter-widgets/controls",
            "_model_module_version": "1.5.0",
            "_model_name": "HBoxModel",
            "_view_count": null,
            "_view_module": "@jupyter-widgets/controls",
            "_view_module_version": "1.5.0",
            "_view_name": "HBoxView",
            "box_style": "",
            "children": [
              "IPY_MODEL_601932b17989482ab83ccf87b7577136",
              "IPY_MODEL_e4036b25dada470bbf2a59415d5ef471",
              "IPY_MODEL_763722f5596a4848b3d1b33a05693258"
            ],
            "layout": "IPY_MODEL_15bb8cabf2884487aea30f34d31b2af0"
          }
        },
        "601932b17989482ab83ccf87b7577136": {
          "model_module": "@jupyter-widgets/controls",
          "model_name": "HTMLModel",
          "model_module_version": "1.5.0",
          "state": {
            "_dom_classes": [],
            "_model_module": "@jupyter-widgets/controls",
            "_model_module_version": "1.5.0",
            "_model_name": "HTMLModel",
            "_view_count": null,
            "_view_module": "@jupyter-widgets/controls",
            "_view_module_version": "1.5.0",
            "_view_name": "HTMLView",
            "description": "",
            "description_tooltip": null,
            "layout": "IPY_MODEL_6d157b00eefc4be0945d1e7ea098b93d",
            "placeholder": "​",
            "style": "IPY_MODEL_0d265916aa9a4186890993e00b1d7cde",
            "value": "Generating validation split: 100%"
          }
        },
        "e4036b25dada470bbf2a59415d5ef471": {
          "model_module": "@jupyter-widgets/controls",
          "model_name": "FloatProgressModel",
          "model_module_version": "1.5.0",
          "state": {
            "_dom_classes": [],
            "_model_module": "@jupyter-widgets/controls",
            "_model_module_version": "1.5.0",
            "_model_name": "FloatProgressModel",
            "_view_count": null,
            "_view_module": "@jupyter-widgets/controls",
            "_view_module_version": "1.5.0",
            "_view_name": "ProgressView",
            "bar_style": "success",
            "description": "",
            "description_tooltip": null,
            "layout": "IPY_MODEL_fdf473977c8341959429cfb66c6d9980",
            "max": 818,
            "min": 0,
            "orientation": "horizontal",
            "style": "IPY_MODEL_2e8742d4dbdf482486ffae086810e4a4",
            "value": 818
          }
        },
        "763722f5596a4848b3d1b33a05693258": {
          "model_module": "@jupyter-widgets/controls",
          "model_name": "HTMLModel",
          "model_module_version": "1.5.0",
          "state": {
            "_dom_classes": [],
            "_model_module": "@jupyter-widgets/controls",
            "_model_module_version": "1.5.0",
            "_model_name": "HTMLModel",
            "_view_count": null,
            "_view_module": "@jupyter-widgets/controls",
            "_view_module_version": "1.5.0",
            "_view_name": "HTMLView",
            "description": "",
            "description_tooltip": null,
            "layout": "IPY_MODEL_ab7d2032ded14d4080d5bf19b815b5c0",
            "placeholder": "​",
            "style": "IPY_MODEL_66d4721304fa4927939f1b7013c3b6e1",
            "value": " 818/818 [00:00&lt;00:00,  3.96 examples/s]"
          }
        },
        "15bb8cabf2884487aea30f34d31b2af0": {
          "model_module": "@jupyter-widgets/base",
          "model_name": "LayoutModel",
          "model_module_version": "1.2.0",
          "state": {
            "_model_module": "@jupyter-widgets/base",
            "_model_module_version": "1.2.0",
            "_model_name": "LayoutModel",
            "_view_count": null,
            "_view_module": "@jupyter-widgets/base",
            "_view_module_version": "1.2.0",
            "_view_name": "LayoutView",
            "align_content": null,
            "align_items": null,
            "align_self": null,
            "border": null,
            "bottom": null,
            "display": null,
            "flex": null,
            "flex_flow": null,
            "grid_area": null,
            "grid_auto_columns": null,
            "grid_auto_flow": null,
            "grid_auto_rows": null,
            "grid_column": null,
            "grid_gap": null,
            "grid_row": null,
            "grid_template_areas": null,
            "grid_template_columns": null,
            "grid_template_rows": null,
            "height": null,
            "justify_content": null,
            "justify_items": null,
            "left": null,
            "margin": null,
            "max_height": null,
            "max_width": null,
            "min_height": null,
            "min_width": null,
            "object_fit": null,
            "object_position": null,
            "order": null,
            "overflow": null,
            "overflow_x": null,
            "overflow_y": null,
            "padding": null,
            "right": null,
            "top": null,
            "visibility": null,
            "width": null
          }
        },
        "6d157b00eefc4be0945d1e7ea098b93d": {
          "model_module": "@jupyter-widgets/base",
          "model_name": "LayoutModel",
          "model_module_version": "1.2.0",
          "state": {
            "_model_module": "@jupyter-widgets/base",
            "_model_module_version": "1.2.0",
            "_model_name": "LayoutModel",
            "_view_count": null,
            "_view_module": "@jupyter-widgets/base",
            "_view_module_version": "1.2.0",
            "_view_name": "LayoutView",
            "align_content": null,
            "align_items": null,
            "align_self": null,
            "border": null,
            "bottom": null,
            "display": null,
            "flex": null,
            "flex_flow": null,
            "grid_area": null,
            "grid_auto_columns": null,
            "grid_auto_flow": null,
            "grid_auto_rows": null,
            "grid_column": null,
            "grid_gap": null,
            "grid_row": null,
            "grid_template_areas": null,
            "grid_template_columns": null,
            "grid_template_rows": null,
            "height": null,
            "justify_content": null,
            "justify_items": null,
            "left": null,
            "margin": null,
            "max_height": null,
            "max_width": null,
            "min_height": null,
            "min_width": null,
            "object_fit": null,
            "object_position": null,
            "order": null,
            "overflow": null,
            "overflow_x": null,
            "overflow_y": null,
            "padding": null,
            "right": null,
            "top": null,
            "visibility": null,
            "width": null
          }
        },
        "0d265916aa9a4186890993e00b1d7cde": {
          "model_module": "@jupyter-widgets/controls",
          "model_name": "DescriptionStyleModel",
          "model_module_version": "1.5.0",
          "state": {
            "_model_module": "@jupyter-widgets/controls",
            "_model_module_version": "1.5.0",
            "_model_name": "DescriptionStyleModel",
            "_view_count": null,
            "_view_module": "@jupyter-widgets/base",
            "_view_module_version": "1.2.0",
            "_view_name": "StyleView",
            "description_width": ""
          }
        },
        "fdf473977c8341959429cfb66c6d9980": {
          "model_module": "@jupyter-widgets/base",
          "model_name": "LayoutModel",
          "model_module_version": "1.2.0",
          "state": {
            "_model_module": "@jupyter-widgets/base",
            "_model_module_version": "1.2.0",
            "_model_name": "LayoutModel",
            "_view_count": null,
            "_view_module": "@jupyter-widgets/base",
            "_view_module_version": "1.2.0",
            "_view_name": "LayoutView",
            "align_content": null,
            "align_items": null,
            "align_self": null,
            "border": null,
            "bottom": null,
            "display": null,
            "flex": null,
            "flex_flow": null,
            "grid_area": null,
            "grid_auto_columns": null,
            "grid_auto_flow": null,
            "grid_auto_rows": null,
            "grid_column": null,
            "grid_gap": null,
            "grid_row": null,
            "grid_template_areas": null,
            "grid_template_columns": null,
            "grid_template_rows": null,
            "height": null,
            "justify_content": null,
            "justify_items": null,
            "left": null,
            "margin": null,
            "max_height": null,
            "max_width": null,
            "min_height": null,
            "min_width": null,
            "object_fit": null,
            "object_position": null,
            "order": null,
            "overflow": null,
            "overflow_x": null,
            "overflow_y": null,
            "padding": null,
            "right": null,
            "top": null,
            "visibility": null,
            "width": null
          }
        },
        "2e8742d4dbdf482486ffae086810e4a4": {
          "model_module": "@jupyter-widgets/controls",
          "model_name": "ProgressStyleModel",
          "model_module_version": "1.5.0",
          "state": {
            "_model_module": "@jupyter-widgets/controls",
            "_model_module_version": "1.5.0",
            "_model_name": "ProgressStyleModel",
            "_view_count": null,
            "_view_module": "@jupyter-widgets/base",
            "_view_module_version": "1.2.0",
            "_view_name": "StyleView",
            "bar_color": null,
            "description_width": ""
          }
        },
        "ab7d2032ded14d4080d5bf19b815b5c0": {
          "model_module": "@jupyter-widgets/base",
          "model_name": "LayoutModel",
          "model_module_version": "1.2.0",
          "state": {
            "_model_module": "@jupyter-widgets/base",
            "_model_module_version": "1.2.0",
            "_model_name": "LayoutModel",
            "_view_count": null,
            "_view_module": "@jupyter-widgets/base",
            "_view_module_version": "1.2.0",
            "_view_name": "LayoutView",
            "align_content": null,
            "align_items": null,
            "align_self": null,
            "border": null,
            "bottom": null,
            "display": null,
            "flex": null,
            "flex_flow": null,
            "grid_area": null,
            "grid_auto_columns": null,
            "grid_auto_flow": null,
            "grid_auto_rows": null,
            "grid_column": null,
            "grid_gap": null,
            "grid_row": null,
            "grid_template_areas": null,
            "grid_template_columns": null,
            "grid_template_rows": null,
            "height": null,
            "justify_content": null,
            "justify_items": null,
            "left": null,
            "margin": null,
            "max_height": null,
            "max_width": null,
            "min_height": null,
            "min_width": null,
            "object_fit": null,
            "object_position": null,
            "order": null,
            "overflow": null,
            "overflow_x": null,
            "overflow_y": null,
            "padding": null,
            "right": null,
            "top": null,
            "visibility": null,
            "width": null
          }
        },
        "66d4721304fa4927939f1b7013c3b6e1": {
          "model_module": "@jupyter-widgets/controls",
          "model_name": "DescriptionStyleModel",
          "model_module_version": "1.5.0",
          "state": {
            "_model_module": "@jupyter-widgets/controls",
            "_model_module_version": "1.5.0",
            "_model_name": "DescriptionStyleModel",
            "_view_count": null,
            "_view_module": "@jupyter-widgets/base",
            "_view_module_version": "1.2.0",
            "_view_name": "StyleView",
            "description_width": ""
          }
        },
        "b7d1ebba7f764479965780269b2ae828": {
          "model_module": "@jupyter-widgets/controls",
          "model_name": "HBoxModel",
          "model_module_version": "1.5.0",
          "state": {
            "_dom_classes": [],
            "_model_module": "@jupyter-widgets/controls",
            "_model_module_version": "1.5.0",
            "_model_name": "HBoxModel",
            "_view_count": null,
            "_view_module": "@jupyter-widgets/controls",
            "_view_module_version": "1.5.0",
            "_view_name": "HBoxView",
            "box_style": "",
            "children": [
              "IPY_MODEL_8ba2ae94cad64aa5b789842e3daa21da",
              "IPY_MODEL_b0ea5db66dc042c0a3b485698a5515a9",
              "IPY_MODEL_c2e43891a4864d37bb10f84e8c8b06bb"
            ],
            "layout": "IPY_MODEL_ce251f02352a4bdc818331823c7f9d8a"
          }
        },
        "8ba2ae94cad64aa5b789842e3daa21da": {
          "model_module": "@jupyter-widgets/controls",
          "model_name": "HTMLModel",
          "model_module_version": "1.5.0",
          "state": {
            "_dom_classes": [],
            "_model_module": "@jupyter-widgets/controls",
            "_model_module_version": "1.5.0",
            "_model_name": "HTMLModel",
            "_view_count": null,
            "_view_module": "@jupyter-widgets/controls",
            "_view_module_version": "1.5.0",
            "_view_name": "HTMLView",
            "description": "",
            "description_tooltip": null,
            "layout": "IPY_MODEL_a11cbec8bfdf4226bad3a3904b67ee67",
            "placeholder": "​",
            "style": "IPY_MODEL_42d6008383ae417aae61ed6112f8f851",
            "value": "Downloading (…)okenizer_config.json: 100%"
          }
        },
        "b0ea5db66dc042c0a3b485698a5515a9": {
          "model_module": "@jupyter-widgets/controls",
          "model_name": "FloatProgressModel",
          "model_module_version": "1.5.0",
          "state": {
            "_dom_classes": [],
            "_model_module": "@jupyter-widgets/controls",
            "_model_module_version": "1.5.0",
            "_model_name": "FloatProgressModel",
            "_view_count": null,
            "_view_module": "@jupyter-widgets/controls",
            "_view_module_version": "1.5.0",
            "_view_name": "ProgressView",
            "bar_style": "success",
            "description": "",
            "description_tooltip": null,
            "layout": "IPY_MODEL_28b1cc2bf5a5475bb6204a557c425476",
            "max": 979,
            "min": 0,
            "orientation": "horizontal",
            "style": "IPY_MODEL_6f55ace3c69c4285bf08c8d996d1c806",
            "value": 979
          }
        },
        "c2e43891a4864d37bb10f84e8c8b06bb": {
          "model_module": "@jupyter-widgets/controls",
          "model_name": "HTMLModel",
          "model_module_version": "1.5.0",
          "state": {
            "_dom_classes": [],
            "_model_module": "@jupyter-widgets/controls",
            "_model_module_version": "1.5.0",
            "_model_name": "HTMLModel",
            "_view_count": null,
            "_view_module": "@jupyter-widgets/controls",
            "_view_module_version": "1.5.0",
            "_view_name": "HTMLView",
            "description": "",
            "description_tooltip": null,
            "layout": "IPY_MODEL_25c198f74a334fcc8cf800c1dec5d1d0",
            "placeholder": "​",
            "style": "IPY_MODEL_6647cdedc02d4c10897ce0d8e47f479c",
            "value": " 979/979 [00:00&lt;00:00, 63.9kB/s]"
          }
        },
        "ce251f02352a4bdc818331823c7f9d8a": {
          "model_module": "@jupyter-widgets/base",
          "model_name": "LayoutModel",
          "model_module_version": "1.2.0",
          "state": {
            "_model_module": "@jupyter-widgets/base",
            "_model_module_version": "1.2.0",
            "_model_name": "LayoutModel",
            "_view_count": null,
            "_view_module": "@jupyter-widgets/base",
            "_view_module_version": "1.2.0",
            "_view_name": "LayoutView",
            "align_content": null,
            "align_items": null,
            "align_self": null,
            "border": null,
            "bottom": null,
            "display": null,
            "flex": null,
            "flex_flow": null,
            "grid_area": null,
            "grid_auto_columns": null,
            "grid_auto_flow": null,
            "grid_auto_rows": null,
            "grid_column": null,
            "grid_gap": null,
            "grid_row": null,
            "grid_template_areas": null,
            "grid_template_columns": null,
            "grid_template_rows": null,
            "height": null,
            "justify_content": null,
            "justify_items": null,
            "left": null,
            "margin": null,
            "max_height": null,
            "max_width": null,
            "min_height": null,
            "min_width": null,
            "object_fit": null,
            "object_position": null,
            "order": null,
            "overflow": null,
            "overflow_x": null,
            "overflow_y": null,
            "padding": null,
            "right": null,
            "top": null,
            "visibility": null,
            "width": null
          }
        },
        "a11cbec8bfdf4226bad3a3904b67ee67": {
          "model_module": "@jupyter-widgets/base",
          "model_name": "LayoutModel",
          "model_module_version": "1.2.0",
          "state": {
            "_model_module": "@jupyter-widgets/base",
            "_model_module_version": "1.2.0",
            "_model_name": "LayoutModel",
            "_view_count": null,
            "_view_module": "@jupyter-widgets/base",
            "_view_module_version": "1.2.0",
            "_view_name": "LayoutView",
            "align_content": null,
            "align_items": null,
            "align_self": null,
            "border": null,
            "bottom": null,
            "display": null,
            "flex": null,
            "flex_flow": null,
            "grid_area": null,
            "grid_auto_columns": null,
            "grid_auto_flow": null,
            "grid_auto_rows": null,
            "grid_column": null,
            "grid_gap": null,
            "grid_row": null,
            "grid_template_areas": null,
            "grid_template_columns": null,
            "grid_template_rows": null,
            "height": null,
            "justify_content": null,
            "justify_items": null,
            "left": null,
            "margin": null,
            "max_height": null,
            "max_width": null,
            "min_height": null,
            "min_width": null,
            "object_fit": null,
            "object_position": null,
            "order": null,
            "overflow": null,
            "overflow_x": null,
            "overflow_y": null,
            "padding": null,
            "right": null,
            "top": null,
            "visibility": null,
            "width": null
          }
        },
        "42d6008383ae417aae61ed6112f8f851": {
          "model_module": "@jupyter-widgets/controls",
          "model_name": "DescriptionStyleModel",
          "model_module_version": "1.5.0",
          "state": {
            "_model_module": "@jupyter-widgets/controls",
            "_model_module_version": "1.5.0",
            "_model_name": "DescriptionStyleModel",
            "_view_count": null,
            "_view_module": "@jupyter-widgets/base",
            "_view_module_version": "1.2.0",
            "_view_name": "StyleView",
            "description_width": ""
          }
        },
        "28b1cc2bf5a5475bb6204a557c425476": {
          "model_module": "@jupyter-widgets/base",
          "model_name": "LayoutModel",
          "model_module_version": "1.2.0",
          "state": {
            "_model_module": "@jupyter-widgets/base",
            "_model_module_version": "1.2.0",
            "_model_name": "LayoutModel",
            "_view_count": null,
            "_view_module": "@jupyter-widgets/base",
            "_view_module_version": "1.2.0",
            "_view_name": "LayoutView",
            "align_content": null,
            "align_items": null,
            "align_self": null,
            "border": null,
            "bottom": null,
            "display": null,
            "flex": null,
            "flex_flow": null,
            "grid_area": null,
            "grid_auto_columns": null,
            "grid_auto_flow": null,
            "grid_auto_rows": null,
            "grid_column": null,
            "grid_gap": null,
            "grid_row": null,
            "grid_template_areas": null,
            "grid_template_columns": null,
            "grid_template_rows": null,
            "height": null,
            "justify_content": null,
            "justify_items": null,
            "left": null,
            "margin": null,
            "max_height": null,
            "max_width": null,
            "min_height": null,
            "min_width": null,
            "object_fit": null,
            "object_position": null,
            "order": null,
            "overflow": null,
            "overflow_x": null,
            "overflow_y": null,
            "padding": null,
            "right": null,
            "top": null,
            "visibility": null,
            "width": null
          }
        },
        "6f55ace3c69c4285bf08c8d996d1c806": {
          "model_module": "@jupyter-widgets/controls",
          "model_name": "ProgressStyleModel",
          "model_module_version": "1.5.0",
          "state": {
            "_model_module": "@jupyter-widgets/controls",
            "_model_module_version": "1.5.0",
            "_model_name": "ProgressStyleModel",
            "_view_count": null,
            "_view_module": "@jupyter-widgets/base",
            "_view_module_version": "1.2.0",
            "_view_name": "StyleView",
            "bar_color": null,
            "description_width": ""
          }
        },
        "25c198f74a334fcc8cf800c1dec5d1d0": {
          "model_module": "@jupyter-widgets/base",
          "model_name": "LayoutModel",
          "model_module_version": "1.2.0",
          "state": {
            "_model_module": "@jupyter-widgets/base",
            "_model_module_version": "1.2.0",
            "_model_name": "LayoutModel",
            "_view_count": null,
            "_view_module": "@jupyter-widgets/base",
            "_view_module_version": "1.2.0",
            "_view_name": "LayoutView",
            "align_content": null,
            "align_items": null,
            "align_self": null,
            "border": null,
            "bottom": null,
            "display": null,
            "flex": null,
            "flex_flow": null,
            "grid_area": null,
            "grid_auto_columns": null,
            "grid_auto_flow": null,
            "grid_auto_rows": null,
            "grid_column": null,
            "grid_gap": null,
            "grid_row": null,
            "grid_template_areas": null,
            "grid_template_columns": null,
            "grid_template_rows": null,
            "height": null,
            "justify_content": null,
            "justify_items": null,
            "left": null,
            "margin": null,
            "max_height": null,
            "max_width": null,
            "min_height": null,
            "min_width": null,
            "object_fit": null,
            "object_position": null,
            "order": null,
            "overflow": null,
            "overflow_x": null,
            "overflow_y": null,
            "padding": null,
            "right": null,
            "top": null,
            "visibility": null,
            "width": null
          }
        },
        "6647cdedc02d4c10897ce0d8e47f479c": {
          "model_module": "@jupyter-widgets/controls",
          "model_name": "DescriptionStyleModel",
          "model_module_version": "1.5.0",
          "state": {
            "_model_module": "@jupyter-widgets/controls",
            "_model_module_version": "1.5.0",
            "_model_name": "DescriptionStyleModel",
            "_view_count": null,
            "_view_module": "@jupyter-widgets/base",
            "_view_module_version": "1.2.0",
            "_view_name": "StyleView",
            "description_width": ""
          }
        },
        "f1794a89749f453b9b0045b4b6ef6b46": {
          "model_module": "@jupyter-widgets/controls",
          "model_name": "HBoxModel",
          "model_module_version": "1.5.0",
          "state": {
            "_dom_classes": [],
            "_model_module": "@jupyter-widgets/controls",
            "_model_module_version": "1.5.0",
            "_model_name": "HBoxModel",
            "_view_count": null,
            "_view_module": "@jupyter-widgets/controls",
            "_view_module_version": "1.5.0",
            "_view_name": "HBoxView",
            "box_style": "",
            "children": [
              "IPY_MODEL_5445d143685c4726be87534bfdc4a62a",
              "IPY_MODEL_fbde67db2a184398bf9c295dd1fafc05",
              "IPY_MODEL_589db2f0405f42b6bed19d1d04147094"
            ],
            "layout": "IPY_MODEL_9280df29cd2b4429afc2270f0471e0f5"
          }
        },
        "5445d143685c4726be87534bfdc4a62a": {
          "model_module": "@jupyter-widgets/controls",
          "model_name": "HTMLModel",
          "model_module_version": "1.5.0",
          "state": {
            "_dom_classes": [],
            "_model_module": "@jupyter-widgets/controls",
            "_model_module_version": "1.5.0",
            "_model_name": "HTMLModel",
            "_view_count": null,
            "_view_module": "@jupyter-widgets/controls",
            "_view_module_version": "1.5.0",
            "_view_name": "HTMLView",
            "description": "",
            "description_tooltip": null,
            "layout": "IPY_MODEL_30f31d131d4c46019bb38e7df2747e15",
            "placeholder": "​",
            "style": "IPY_MODEL_8f36395e2e024c67b55d597e0f2bdac5",
            "value": "Downloading tokenizer.model: 100%"
          }
        },
        "fbde67db2a184398bf9c295dd1fafc05": {
          "model_module": "@jupyter-widgets/controls",
          "model_name": "FloatProgressModel",
          "model_module_version": "1.5.0",
          "state": {
            "_dom_classes": [],
            "_model_module": "@jupyter-widgets/controls",
            "_model_module_version": "1.5.0",
            "_model_name": "FloatProgressModel",
            "_view_count": null,
            "_view_module": "@jupyter-widgets/controls",
            "_view_module_version": "1.5.0",
            "_view_name": "ProgressView",
            "bar_style": "success",
            "description": "",
            "description_tooltip": null,
            "layout": "IPY_MODEL_243e2f7f50134ad2bb331df4f9aacc6d",
            "max": 493443,
            "min": 0,
            "orientation": "horizontal",
            "style": "IPY_MODEL_346c4375ea904700b417bb02103f391e",
            "value": 493443
          }
        },
        "589db2f0405f42b6bed19d1d04147094": {
          "model_module": "@jupyter-widgets/controls",
          "model_name": "HTMLModel",
          "model_module_version": "1.5.0",
          "state": {
            "_dom_classes": [],
            "_model_module": "@jupyter-widgets/controls",
            "_model_module_version": "1.5.0",
            "_model_name": "HTMLModel",
            "_view_count": null,
            "_view_module": "@jupyter-widgets/controls",
            "_view_module_version": "1.5.0",
            "_view_name": "HTMLView",
            "description": "",
            "description_tooltip": null,
            "layout": "IPY_MODEL_58cc92b0919e4b07b5a00eff343a7d27",
            "placeholder": "​",
            "style": "IPY_MODEL_62d79eb513464e7bb80b6caa7b435f58",
            "value": " 493k/493k [00:00&lt;00:00, 3.83MB/s]"
          }
        },
        "9280df29cd2b4429afc2270f0471e0f5": {
          "model_module": "@jupyter-widgets/base",
          "model_name": "LayoutModel",
          "model_module_version": "1.2.0",
          "state": {
            "_model_module": "@jupyter-widgets/base",
            "_model_module_version": "1.2.0",
            "_model_name": "LayoutModel",
            "_view_count": null,
            "_view_module": "@jupyter-widgets/base",
            "_view_module_version": "1.2.0",
            "_view_name": "LayoutView",
            "align_content": null,
            "align_items": null,
            "align_self": null,
            "border": null,
            "bottom": null,
            "display": null,
            "flex": null,
            "flex_flow": null,
            "grid_area": null,
            "grid_auto_columns": null,
            "grid_auto_flow": null,
            "grid_auto_rows": null,
            "grid_column": null,
            "grid_gap": null,
            "grid_row": null,
            "grid_template_areas": null,
            "grid_template_columns": null,
            "grid_template_rows": null,
            "height": null,
            "justify_content": null,
            "justify_items": null,
            "left": null,
            "margin": null,
            "max_height": null,
            "max_width": null,
            "min_height": null,
            "min_width": null,
            "object_fit": null,
            "object_position": null,
            "order": null,
            "overflow": null,
            "overflow_x": null,
            "overflow_y": null,
            "padding": null,
            "right": null,
            "top": null,
            "visibility": null,
            "width": null
          }
        },
        "30f31d131d4c46019bb38e7df2747e15": {
          "model_module": "@jupyter-widgets/base",
          "model_name": "LayoutModel",
          "model_module_version": "1.2.0",
          "state": {
            "_model_module": "@jupyter-widgets/base",
            "_model_module_version": "1.2.0",
            "_model_name": "LayoutModel",
            "_view_count": null,
            "_view_module": "@jupyter-widgets/base",
            "_view_module_version": "1.2.0",
            "_view_name": "LayoutView",
            "align_content": null,
            "align_items": null,
            "align_self": null,
            "border": null,
            "bottom": null,
            "display": null,
            "flex": null,
            "flex_flow": null,
            "grid_area": null,
            "grid_auto_columns": null,
            "grid_auto_flow": null,
            "grid_auto_rows": null,
            "grid_column": null,
            "grid_gap": null,
            "grid_row": null,
            "grid_template_areas": null,
            "grid_template_columns": null,
            "grid_template_rows": null,
            "height": null,
            "justify_content": null,
            "justify_items": null,
            "left": null,
            "margin": null,
            "max_height": null,
            "max_width": null,
            "min_height": null,
            "min_width": null,
            "object_fit": null,
            "object_position": null,
            "order": null,
            "overflow": null,
            "overflow_x": null,
            "overflow_y": null,
            "padding": null,
            "right": null,
            "top": null,
            "visibility": null,
            "width": null
          }
        },
        "8f36395e2e024c67b55d597e0f2bdac5": {
          "model_module": "@jupyter-widgets/controls",
          "model_name": "DescriptionStyleModel",
          "model_module_version": "1.5.0",
          "state": {
            "_model_module": "@jupyter-widgets/controls",
            "_model_module_version": "1.5.0",
            "_model_name": "DescriptionStyleModel",
            "_view_count": null,
            "_view_module": "@jupyter-widgets/base",
            "_view_module_version": "1.2.0",
            "_view_name": "StyleView",
            "description_width": ""
          }
        },
        "243e2f7f50134ad2bb331df4f9aacc6d": {
          "model_module": "@jupyter-widgets/base",
          "model_name": "LayoutModel",
          "model_module_version": "1.2.0",
          "state": {
            "_model_module": "@jupyter-widgets/base",
            "_model_module_version": "1.2.0",
            "_model_name": "LayoutModel",
            "_view_count": null,
            "_view_module": "@jupyter-widgets/base",
            "_view_module_version": "1.2.0",
            "_view_name": "LayoutView",
            "align_content": null,
            "align_items": null,
            "align_self": null,
            "border": null,
            "bottom": null,
            "display": null,
            "flex": null,
            "flex_flow": null,
            "grid_area": null,
            "grid_auto_columns": null,
            "grid_auto_flow": null,
            "grid_auto_rows": null,
            "grid_column": null,
            "grid_gap": null,
            "grid_row": null,
            "grid_template_areas": null,
            "grid_template_columns": null,
            "grid_template_rows": null,
            "height": null,
            "justify_content": null,
            "justify_items": null,
            "left": null,
            "margin": null,
            "max_height": null,
            "max_width": null,
            "min_height": null,
            "min_width": null,
            "object_fit": null,
            "object_position": null,
            "order": null,
            "overflow": null,
            "overflow_x": null,
            "overflow_y": null,
            "padding": null,
            "right": null,
            "top": null,
            "visibility": null,
            "width": null
          }
        },
        "346c4375ea904700b417bb02103f391e": {
          "model_module": "@jupyter-widgets/controls",
          "model_name": "ProgressStyleModel",
          "model_module_version": "1.5.0",
          "state": {
            "_model_module": "@jupyter-widgets/controls",
            "_model_module_version": "1.5.0",
            "_model_name": "ProgressStyleModel",
            "_view_count": null,
            "_view_module": "@jupyter-widgets/base",
            "_view_module_version": "1.2.0",
            "_view_name": "StyleView",
            "bar_color": null,
            "description_width": ""
          }
        },
        "58cc92b0919e4b07b5a00eff343a7d27": {
          "model_module": "@jupyter-widgets/base",
          "model_name": "LayoutModel",
          "model_module_version": "1.2.0",
          "state": {
            "_model_module": "@jupyter-widgets/base",
            "_model_module_version": "1.2.0",
            "_model_name": "LayoutModel",
            "_view_count": null,
            "_view_module": "@jupyter-widgets/base",
            "_view_module_version": "1.2.0",
            "_view_name": "LayoutView",
            "align_content": null,
            "align_items": null,
            "align_self": null,
            "border": null,
            "bottom": null,
            "display": null,
            "flex": null,
            "flex_flow": null,
            "grid_area": null,
            "grid_auto_columns": null,
            "grid_auto_flow": null,
            "grid_auto_rows": null,
            "grid_column": null,
            "grid_gap": null,
            "grid_row": null,
            "grid_template_areas": null,
            "grid_template_columns": null,
            "grid_template_rows": null,
            "height": null,
            "justify_content": null,
            "justify_items": null,
            "left": null,
            "margin": null,
            "max_height": null,
            "max_width": null,
            "min_height": null,
            "min_width": null,
            "object_fit": null,
            "object_position": null,
            "order": null,
            "overflow": null,
            "overflow_x": null,
            "overflow_y": null,
            "padding": null,
            "right": null,
            "top": null,
            "visibility": null,
            "width": null
          }
        },
        "62d79eb513464e7bb80b6caa7b435f58": {
          "model_module": "@jupyter-widgets/controls",
          "model_name": "DescriptionStyleModel",
          "model_module_version": "1.5.0",
          "state": {
            "_model_module": "@jupyter-widgets/controls",
            "_model_module_version": "1.5.0",
            "_model_name": "DescriptionStyleModel",
            "_view_count": null,
            "_view_module": "@jupyter-widgets/base",
            "_view_module_version": "1.2.0",
            "_view_name": "StyleView",
            "description_width": ""
          }
        },
        "17f5b46c05b6427fa8fcc3e390133b71": {
          "model_module": "@jupyter-widgets/controls",
          "model_name": "HBoxModel",
          "model_module_version": "1.5.0",
          "state": {
            "_dom_classes": [],
            "_model_module": "@jupyter-widgets/controls",
            "_model_module_version": "1.5.0",
            "_model_name": "HBoxModel",
            "_view_count": null,
            "_view_module": "@jupyter-widgets/controls",
            "_view_module_version": "1.5.0",
            "_view_name": "HBoxView",
            "box_style": "",
            "children": [
              "IPY_MODEL_9c3b36a0ae1b49ed9f50df8a3a468f9b",
              "IPY_MODEL_b66c0568ba5e4d4088b0ad44ed4d3008",
              "IPY_MODEL_f6210c1bcdf34b0a99408ad7425aef30"
            ],
            "layout": "IPY_MODEL_e85028dabdb34a1495afb0a7d7d8bad3"
          }
        },
        "9c3b36a0ae1b49ed9f50df8a3a468f9b": {
          "model_module": "@jupyter-widgets/controls",
          "model_name": "HTMLModel",
          "model_module_version": "1.5.0",
          "state": {
            "_dom_classes": [],
            "_model_module": "@jupyter-widgets/controls",
            "_model_module_version": "1.5.0",
            "_model_name": "HTMLModel",
            "_view_count": null,
            "_view_module": "@jupyter-widgets/controls",
            "_view_module_version": "1.5.0",
            "_view_name": "HTMLView",
            "description": "",
            "description_tooltip": null,
            "layout": "IPY_MODEL_e78f5e5292994e3284fbc873d5a8923c",
            "placeholder": "​",
            "style": "IPY_MODEL_83a496db776f4e789a42d8beea3c4a3f",
            "value": "Downloading (…)/main/tokenizer.json: 100%"
          }
        },
        "b66c0568ba5e4d4088b0ad44ed4d3008": {
          "model_module": "@jupyter-widgets/controls",
          "model_name": "FloatProgressModel",
          "model_module_version": "1.5.0",
          "state": {
            "_dom_classes": [],
            "_model_module": "@jupyter-widgets/controls",
            "_model_module_version": "1.5.0",
            "_model_name": "FloatProgressModel",
            "_view_count": null,
            "_view_module": "@jupyter-widgets/controls",
            "_view_module_version": "1.5.0",
            "_view_name": "ProgressView",
            "bar_style": "success",
            "description": "",
            "description_tooltip": null,
            "layout": "IPY_MODEL_75aeb66f00c34f6e9cecc207efb3c9fd",
            "max": 1795303,
            "min": 0,
            "orientation": "horizontal",
            "style": "IPY_MODEL_de19bba80d434ef1b6ff39935f344ed2",
            "value": 1795303
          }
        },
        "f6210c1bcdf34b0a99408ad7425aef30": {
          "model_module": "@jupyter-widgets/controls",
          "model_name": "HTMLModel",
          "model_module_version": "1.5.0",
          "state": {
            "_dom_classes": [],
            "_model_module": "@jupyter-widgets/controls",
            "_model_module_version": "1.5.0",
            "_model_name": "HTMLModel",
            "_view_count": null,
            "_view_module": "@jupyter-widgets/controls",
            "_view_module_version": "1.5.0",
            "_view_name": "HTMLView",
            "description": "",
            "description_tooltip": null,
            "layout": "IPY_MODEL_255c45da047f4f14a49d1f5a28919e66",
            "placeholder": "​",
            "style": "IPY_MODEL_280c0ba52be848c58ed6a8aaa6297978",
            "value": " 1.80M/1.80M [00:00&lt;00:00, 13.9MB/s]"
          }
        },
        "e85028dabdb34a1495afb0a7d7d8bad3": {
          "model_module": "@jupyter-widgets/base",
          "model_name": "LayoutModel",
          "model_module_version": "1.2.0",
          "state": {
            "_model_module": "@jupyter-widgets/base",
            "_model_module_version": "1.2.0",
            "_model_name": "LayoutModel",
            "_view_count": null,
            "_view_module": "@jupyter-widgets/base",
            "_view_module_version": "1.2.0",
            "_view_name": "LayoutView",
            "align_content": null,
            "align_items": null,
            "align_self": null,
            "border": null,
            "bottom": null,
            "display": null,
            "flex": null,
            "flex_flow": null,
            "grid_area": null,
            "grid_auto_columns": null,
            "grid_auto_flow": null,
            "grid_auto_rows": null,
            "grid_column": null,
            "grid_gap": null,
            "grid_row": null,
            "grid_template_areas": null,
            "grid_template_columns": null,
            "grid_template_rows": null,
            "height": null,
            "justify_content": null,
            "justify_items": null,
            "left": null,
            "margin": null,
            "max_height": null,
            "max_width": null,
            "min_height": null,
            "min_width": null,
            "object_fit": null,
            "object_position": null,
            "order": null,
            "overflow": null,
            "overflow_x": null,
            "overflow_y": null,
            "padding": null,
            "right": null,
            "top": null,
            "visibility": null,
            "width": null
          }
        },
        "e78f5e5292994e3284fbc873d5a8923c": {
          "model_module": "@jupyter-widgets/base",
          "model_name": "LayoutModel",
          "model_module_version": "1.2.0",
          "state": {
            "_model_module": "@jupyter-widgets/base",
            "_model_module_version": "1.2.0",
            "_model_name": "LayoutModel",
            "_view_count": null,
            "_view_module": "@jupyter-widgets/base",
            "_view_module_version": "1.2.0",
            "_view_name": "LayoutView",
            "align_content": null,
            "align_items": null,
            "align_self": null,
            "border": null,
            "bottom": null,
            "display": null,
            "flex": null,
            "flex_flow": null,
            "grid_area": null,
            "grid_auto_columns": null,
            "grid_auto_flow": null,
            "grid_auto_rows": null,
            "grid_column": null,
            "grid_gap": null,
            "grid_row": null,
            "grid_template_areas": null,
            "grid_template_columns": null,
            "grid_template_rows": null,
            "height": null,
            "justify_content": null,
            "justify_items": null,
            "left": null,
            "margin": null,
            "max_height": null,
            "max_width": null,
            "min_height": null,
            "min_width": null,
            "object_fit": null,
            "object_position": null,
            "order": null,
            "overflow": null,
            "overflow_x": null,
            "overflow_y": null,
            "padding": null,
            "right": null,
            "top": null,
            "visibility": null,
            "width": null
          }
        },
        "83a496db776f4e789a42d8beea3c4a3f": {
          "model_module": "@jupyter-widgets/controls",
          "model_name": "DescriptionStyleModel",
          "model_module_version": "1.5.0",
          "state": {
            "_model_module": "@jupyter-widgets/controls",
            "_model_module_version": "1.5.0",
            "_model_name": "DescriptionStyleModel",
            "_view_count": null,
            "_view_module": "@jupyter-widgets/base",
            "_view_module_version": "1.2.0",
            "_view_name": "StyleView",
            "description_width": ""
          }
        },
        "75aeb66f00c34f6e9cecc207efb3c9fd": {
          "model_module": "@jupyter-widgets/base",
          "model_name": "LayoutModel",
          "model_module_version": "1.2.0",
          "state": {
            "_model_module": "@jupyter-widgets/base",
            "_model_module_version": "1.2.0",
            "_model_name": "LayoutModel",
            "_view_count": null,
            "_view_module": "@jupyter-widgets/base",
            "_view_module_version": "1.2.0",
            "_view_name": "LayoutView",
            "align_content": null,
            "align_items": null,
            "align_self": null,
            "border": null,
            "bottom": null,
            "display": null,
            "flex": null,
            "flex_flow": null,
            "grid_area": null,
            "grid_auto_columns": null,
            "grid_auto_flow": null,
            "grid_auto_rows": null,
            "grid_column": null,
            "grid_gap": null,
            "grid_row": null,
            "grid_template_areas": null,
            "grid_template_columns": null,
            "grid_template_rows": null,
            "height": null,
            "justify_content": null,
            "justify_items": null,
            "left": null,
            "margin": null,
            "max_height": null,
            "max_width": null,
            "min_height": null,
            "min_width": null,
            "object_fit": null,
            "object_position": null,
            "order": null,
            "overflow": null,
            "overflow_x": null,
            "overflow_y": null,
            "padding": null,
            "right": null,
            "top": null,
            "visibility": null,
            "width": null
          }
        },
        "de19bba80d434ef1b6ff39935f344ed2": {
          "model_module": "@jupyter-widgets/controls",
          "model_name": "ProgressStyleModel",
          "model_module_version": "1.5.0",
          "state": {
            "_model_module": "@jupyter-widgets/controls",
            "_model_module_version": "1.5.0",
            "_model_name": "ProgressStyleModel",
            "_view_count": null,
            "_view_module": "@jupyter-widgets/base",
            "_view_module_version": "1.2.0",
            "_view_name": "StyleView",
            "bar_color": null,
            "description_width": ""
          }
        },
        "255c45da047f4f14a49d1f5a28919e66": {
          "model_module": "@jupyter-widgets/base",
          "model_name": "LayoutModel",
          "model_module_version": "1.2.0",
          "state": {
            "_model_module": "@jupyter-widgets/base",
            "_model_module_version": "1.2.0",
            "_model_name": "LayoutModel",
            "_view_count": null,
            "_view_module": "@jupyter-widgets/base",
            "_view_module_version": "1.2.0",
            "_view_name": "LayoutView",
            "align_content": null,
            "align_items": null,
            "align_self": null,
            "border": null,
            "bottom": null,
            "display": null,
            "flex": null,
            "flex_flow": null,
            "grid_area": null,
            "grid_auto_columns": null,
            "grid_auto_flow": null,
            "grid_auto_rows": null,
            "grid_column": null,
            "grid_gap": null,
            "grid_row": null,
            "grid_template_areas": null,
            "grid_template_columns": null,
            "grid_template_rows": null,
            "height": null,
            "justify_content": null,
            "justify_items": null,
            "left": null,
            "margin": null,
            "max_height": null,
            "max_width": null,
            "min_height": null,
            "min_width": null,
            "object_fit": null,
            "object_position": null,
            "order": null,
            "overflow": null,
            "overflow_x": null,
            "overflow_y": null,
            "padding": null,
            "right": null,
            "top": null,
            "visibility": null,
            "width": null
          }
        },
        "280c0ba52be848c58ed6a8aaa6297978": {
          "model_module": "@jupyter-widgets/controls",
          "model_name": "DescriptionStyleModel",
          "model_module_version": "1.5.0",
          "state": {
            "_model_module": "@jupyter-widgets/controls",
            "_model_module_version": "1.5.0",
            "_model_name": "DescriptionStyleModel",
            "_view_count": null,
            "_view_module": "@jupyter-widgets/base",
            "_view_module_version": "1.2.0",
            "_view_name": "StyleView",
            "description_width": ""
          }
        },
        "05f12ee006464f2e9f0d99641984490b": {
          "model_module": "@jupyter-widgets/controls",
          "model_name": "HBoxModel",
          "model_module_version": "1.5.0",
          "state": {
            "_dom_classes": [],
            "_model_module": "@jupyter-widgets/controls",
            "_model_module_version": "1.5.0",
            "_model_name": "HBoxModel",
            "_view_count": null,
            "_view_module": "@jupyter-widgets/controls",
            "_view_module_version": "1.5.0",
            "_view_name": "HBoxView",
            "box_style": "",
            "children": [
              "IPY_MODEL_571b303b1c93415e9fedaf369714d2aa",
              "IPY_MODEL_d957368711da4eaba9179922536aa7a9",
              "IPY_MODEL_838bca52d8764077afa83671a06eea8c"
            ],
            "layout": "IPY_MODEL_1c36de329e9f4337ad1e1448b5a20412"
          }
        },
        "571b303b1c93415e9fedaf369714d2aa": {
          "model_module": "@jupyter-widgets/controls",
          "model_name": "HTMLModel",
          "model_module_version": "1.5.0",
          "state": {
            "_dom_classes": [],
            "_model_module": "@jupyter-widgets/controls",
            "_model_module_version": "1.5.0",
            "_model_name": "HTMLModel",
            "_view_count": null,
            "_view_module": "@jupyter-widgets/controls",
            "_view_module_version": "1.5.0",
            "_view_name": "HTMLView",
            "description": "",
            "description_tooltip": null,
            "layout": "IPY_MODEL_1f97dfea80054b478845e34c603d1569",
            "placeholder": "​",
            "style": "IPY_MODEL_e1ae334a1b034242a750d9f693ce18dd",
            "value": "Downloading (…)in/added_tokens.json: 100%"
          }
        },
        "d957368711da4eaba9179922536aa7a9": {
          "model_module": "@jupyter-widgets/controls",
          "model_name": "FloatProgressModel",
          "model_module_version": "1.5.0",
          "state": {
            "_dom_classes": [],
            "_model_module": "@jupyter-widgets/controls",
            "_model_module_version": "1.5.0",
            "_model_name": "FloatProgressModel",
            "_view_count": null,
            "_view_module": "@jupyter-widgets/controls",
            "_view_module_version": "1.5.0",
            "_view_name": "ProgressView",
            "bar_style": "success",
            "description": "",
            "description_tooltip": null,
            "layout": "IPY_MODEL_a29a6b0362594c68a10f8e6d6ec84630",
            "max": 42,
            "min": 0,
            "orientation": "horizontal",
            "style": "IPY_MODEL_c0475eccf3944c74b4d1a54b74707385",
            "value": 42
          }
        },
        "838bca52d8764077afa83671a06eea8c": {
          "model_module": "@jupyter-widgets/controls",
          "model_name": "HTMLModel",
          "model_module_version": "1.5.0",
          "state": {
            "_dom_classes": [],
            "_model_module": "@jupyter-widgets/controls",
            "_model_module_version": "1.5.0",
            "_model_name": "HTMLModel",
            "_view_count": null,
            "_view_module": "@jupyter-widgets/controls",
            "_view_module_version": "1.5.0",
            "_view_name": "HTMLView",
            "description": "",
            "description_tooltip": null,
            "layout": "IPY_MODEL_5d4e8c07b4d046c7a2fb26f52d5448b1",
            "placeholder": "​",
            "style": "IPY_MODEL_82338eda5a1c4e568bc8ad10f7052817",
            "value": " 42.0/42.0 [00:00&lt;00:00, 3.09kB/s]"
          }
        },
        "1c36de329e9f4337ad1e1448b5a20412": {
          "model_module": "@jupyter-widgets/base",
          "model_name": "LayoutModel",
          "model_module_version": "1.2.0",
          "state": {
            "_model_module": "@jupyter-widgets/base",
            "_model_module_version": "1.2.0",
            "_model_name": "LayoutModel",
            "_view_count": null,
            "_view_module": "@jupyter-widgets/base",
            "_view_module_version": "1.2.0",
            "_view_name": "LayoutView",
            "align_content": null,
            "align_items": null,
            "align_self": null,
            "border": null,
            "bottom": null,
            "display": null,
            "flex": null,
            "flex_flow": null,
            "grid_area": null,
            "grid_auto_columns": null,
            "grid_auto_flow": null,
            "grid_auto_rows": null,
            "grid_column": null,
            "grid_gap": null,
            "grid_row": null,
            "grid_template_areas": null,
            "grid_template_columns": null,
            "grid_template_rows": null,
            "height": null,
            "justify_content": null,
            "justify_items": null,
            "left": null,
            "margin": null,
            "max_height": null,
            "max_width": null,
            "min_height": null,
            "min_width": null,
            "object_fit": null,
            "object_position": null,
            "order": null,
            "overflow": null,
            "overflow_x": null,
            "overflow_y": null,
            "padding": null,
            "right": null,
            "top": null,
            "visibility": null,
            "width": null
          }
        },
        "1f97dfea80054b478845e34c603d1569": {
          "model_module": "@jupyter-widgets/base",
          "model_name": "LayoutModel",
          "model_module_version": "1.2.0",
          "state": {
            "_model_module": "@jupyter-widgets/base",
            "_model_module_version": "1.2.0",
            "_model_name": "LayoutModel",
            "_view_count": null,
            "_view_module": "@jupyter-widgets/base",
            "_view_module_version": "1.2.0",
            "_view_name": "LayoutView",
            "align_content": null,
            "align_items": null,
            "align_self": null,
            "border": null,
            "bottom": null,
            "display": null,
            "flex": null,
            "flex_flow": null,
            "grid_area": null,
            "grid_auto_columns": null,
            "grid_auto_flow": null,
            "grid_auto_rows": null,
            "grid_column": null,
            "grid_gap": null,
            "grid_row": null,
            "grid_template_areas": null,
            "grid_template_columns": null,
            "grid_template_rows": null,
            "height": null,
            "justify_content": null,
            "justify_items": null,
            "left": null,
            "margin": null,
            "max_height": null,
            "max_width": null,
            "min_height": null,
            "min_width": null,
            "object_fit": null,
            "object_position": null,
            "order": null,
            "overflow": null,
            "overflow_x": null,
            "overflow_y": null,
            "padding": null,
            "right": null,
            "top": null,
            "visibility": null,
            "width": null
          }
        },
        "e1ae334a1b034242a750d9f693ce18dd": {
          "model_module": "@jupyter-widgets/controls",
          "model_name": "DescriptionStyleModel",
          "model_module_version": "1.5.0",
          "state": {
            "_model_module": "@jupyter-widgets/controls",
            "_model_module_version": "1.5.0",
            "_model_name": "DescriptionStyleModel",
            "_view_count": null,
            "_view_module": "@jupyter-widgets/base",
            "_view_module_version": "1.2.0",
            "_view_name": "StyleView",
            "description_width": ""
          }
        },
        "a29a6b0362594c68a10f8e6d6ec84630": {
          "model_module": "@jupyter-widgets/base",
          "model_name": "LayoutModel",
          "model_module_version": "1.2.0",
          "state": {
            "_model_module": "@jupyter-widgets/base",
            "_model_module_version": "1.2.0",
            "_model_name": "LayoutModel",
            "_view_count": null,
            "_view_module": "@jupyter-widgets/base",
            "_view_module_version": "1.2.0",
            "_view_name": "LayoutView",
            "align_content": null,
            "align_items": null,
            "align_self": null,
            "border": null,
            "bottom": null,
            "display": null,
            "flex": null,
            "flex_flow": null,
            "grid_area": null,
            "grid_auto_columns": null,
            "grid_auto_flow": null,
            "grid_auto_rows": null,
            "grid_column": null,
            "grid_gap": null,
            "grid_row": null,
            "grid_template_areas": null,
            "grid_template_columns": null,
            "grid_template_rows": null,
            "height": null,
            "justify_content": null,
            "justify_items": null,
            "left": null,
            "margin": null,
            "max_height": null,
            "max_width": null,
            "min_height": null,
            "min_width": null,
            "object_fit": null,
            "object_position": null,
            "order": null,
            "overflow": null,
            "overflow_x": null,
            "overflow_y": null,
            "padding": null,
            "right": null,
            "top": null,
            "visibility": null,
            "width": null
          }
        },
        "c0475eccf3944c74b4d1a54b74707385": {
          "model_module": "@jupyter-widgets/controls",
          "model_name": "ProgressStyleModel",
          "model_module_version": "1.5.0",
          "state": {
            "_model_module": "@jupyter-widgets/controls",
            "_model_module_version": "1.5.0",
            "_model_name": "ProgressStyleModel",
            "_view_count": null,
            "_view_module": "@jupyter-widgets/base",
            "_view_module_version": "1.2.0",
            "_view_name": "StyleView",
            "bar_color": null,
            "description_width": ""
          }
        },
        "5d4e8c07b4d046c7a2fb26f52d5448b1": {
          "model_module": "@jupyter-widgets/base",
          "model_name": "LayoutModel",
          "model_module_version": "1.2.0",
          "state": {
            "_model_module": "@jupyter-widgets/base",
            "_model_module_version": "1.2.0",
            "_model_name": "LayoutModel",
            "_view_count": null,
            "_view_module": "@jupyter-widgets/base",
            "_view_module_version": "1.2.0",
            "_view_name": "LayoutView",
            "align_content": null,
            "align_items": null,
            "align_self": null,
            "border": null,
            "bottom": null,
            "display": null,
            "flex": null,
            "flex_flow": null,
            "grid_area": null,
            "grid_auto_columns": null,
            "grid_auto_flow": null,
            "grid_auto_rows": null,
            "grid_column": null,
            "grid_gap": null,
            "grid_row": null,
            "grid_template_areas": null,
            "grid_template_columns": null,
            "grid_template_rows": null,
            "height": null,
            "justify_content": null,
            "justify_items": null,
            "left": null,
            "margin": null,
            "max_height": null,
            "max_width": null,
            "min_height": null,
            "min_width": null,
            "object_fit": null,
            "object_position": null,
            "order": null,
            "overflow": null,
            "overflow_x": null,
            "overflow_y": null,
            "padding": null,
            "right": null,
            "top": null,
            "visibility": null,
            "width": null
          }
        },
        "82338eda5a1c4e568bc8ad10f7052817": {
          "model_module": "@jupyter-widgets/controls",
          "model_name": "DescriptionStyleModel",
          "model_module_version": "1.5.0",
          "state": {
            "_model_module": "@jupyter-widgets/controls",
            "_model_module_version": "1.5.0",
            "_model_name": "DescriptionStyleModel",
            "_view_count": null,
            "_view_module": "@jupyter-widgets/base",
            "_view_module_version": "1.2.0",
            "_view_name": "StyleView",
            "description_width": ""
          }
        },
        "1590c20970204cd6bd38c1b1d0469df1": {
          "model_module": "@jupyter-widgets/controls",
          "model_name": "HBoxModel",
          "model_module_version": "1.5.0",
          "state": {
            "_dom_classes": [],
            "_model_module": "@jupyter-widgets/controls",
            "_model_module_version": "1.5.0",
            "_model_name": "HBoxModel",
            "_view_count": null,
            "_view_module": "@jupyter-widgets/controls",
            "_view_module_version": "1.5.0",
            "_view_name": "HBoxView",
            "box_style": "",
            "children": [
              "IPY_MODEL_9227ac6d55e44c908d3087e882c45eff",
              "IPY_MODEL_e36bf0871d9b4d7ba83fa65420d8a808",
              "IPY_MODEL_143c59d823d44c04a2fd0cc91f2c409a"
            ],
            "layout": "IPY_MODEL_deb2768c9e2b4190826fa0d916652c2b"
          }
        },
        "9227ac6d55e44c908d3087e882c45eff": {
          "model_module": "@jupyter-widgets/controls",
          "model_name": "HTMLModel",
          "model_module_version": "1.5.0",
          "state": {
            "_dom_classes": [],
            "_model_module": "@jupyter-widgets/controls",
            "_model_module_version": "1.5.0",
            "_model_name": "HTMLModel",
            "_view_count": null,
            "_view_module": "@jupyter-widgets/controls",
            "_view_module_version": "1.5.0",
            "_view_name": "HTMLView",
            "description": "",
            "description_tooltip": null,
            "layout": "IPY_MODEL_3e3639a203d24365b4171ff4134b1183",
            "placeholder": "​",
            "style": "IPY_MODEL_7c9ee2d2bd90440a9a376bfa2cc4bd20",
            "value": "Downloading (…)cial_tokens_map.json: 100%"
          }
        },
        "e36bf0871d9b4d7ba83fa65420d8a808": {
          "model_module": "@jupyter-widgets/controls",
          "model_name": "FloatProgressModel",
          "model_module_version": "1.5.0",
          "state": {
            "_dom_classes": [],
            "_model_module": "@jupyter-widgets/controls",
            "_model_module_version": "1.5.0",
            "_model_name": "FloatProgressModel",
            "_view_count": null,
            "_view_module": "@jupyter-widgets/controls",
            "_view_module_version": "1.5.0",
            "_view_name": "ProgressView",
            "bar_style": "success",
            "description": "",
            "description_tooltip": null,
            "layout": "IPY_MODEL_851d971464ab4702b255e9e0a4e58836",
            "max": 145,
            "min": 0,
            "orientation": "horizontal",
            "style": "IPY_MODEL_69694d84502f4582b53aae88fd50a40d",
            "value": 145
          }
        },
        "143c59d823d44c04a2fd0cc91f2c409a": {
          "model_module": "@jupyter-widgets/controls",
          "model_name": "HTMLModel",
          "model_module_version": "1.5.0",
          "state": {
            "_dom_classes": [],
            "_model_module": "@jupyter-widgets/controls",
            "_model_module_version": "1.5.0",
            "_model_name": "HTMLModel",
            "_view_count": null,
            "_view_module": "@jupyter-widgets/controls",
            "_view_module_version": "1.5.0",
            "_view_name": "HTMLView",
            "description": "",
            "description_tooltip": null,
            "layout": "IPY_MODEL_c328da3a6f3c4758ad00851a7a4510cc",
            "placeholder": "​",
            "style": "IPY_MODEL_0acd7f1e8362482fa5606962e96525ca",
            "value": " 145/145 [00:00&lt;00:00, 9.91kB/s]"
          }
        },
        "deb2768c9e2b4190826fa0d916652c2b": {
          "model_module": "@jupyter-widgets/base",
          "model_name": "LayoutModel",
          "model_module_version": "1.2.0",
          "state": {
            "_model_module": "@jupyter-widgets/base",
            "_model_module_version": "1.2.0",
            "_model_name": "LayoutModel",
            "_view_count": null,
            "_view_module": "@jupyter-widgets/base",
            "_view_module_version": "1.2.0",
            "_view_name": "LayoutView",
            "align_content": null,
            "align_items": null,
            "align_self": null,
            "border": null,
            "bottom": null,
            "display": null,
            "flex": null,
            "flex_flow": null,
            "grid_area": null,
            "grid_auto_columns": null,
            "grid_auto_flow": null,
            "grid_auto_rows": null,
            "grid_column": null,
            "grid_gap": null,
            "grid_row": null,
            "grid_template_areas": null,
            "grid_template_columns": null,
            "grid_template_rows": null,
            "height": null,
            "justify_content": null,
            "justify_items": null,
            "left": null,
            "margin": null,
            "max_height": null,
            "max_width": null,
            "min_height": null,
            "min_width": null,
            "object_fit": null,
            "object_position": null,
            "order": null,
            "overflow": null,
            "overflow_x": null,
            "overflow_y": null,
            "padding": null,
            "right": null,
            "top": null,
            "visibility": null,
            "width": null
          }
        },
        "3e3639a203d24365b4171ff4134b1183": {
          "model_module": "@jupyter-widgets/base",
          "model_name": "LayoutModel",
          "model_module_version": "1.2.0",
          "state": {
            "_model_module": "@jupyter-widgets/base",
            "_model_module_version": "1.2.0",
            "_model_name": "LayoutModel",
            "_view_count": null,
            "_view_module": "@jupyter-widgets/base",
            "_view_module_version": "1.2.0",
            "_view_name": "LayoutView",
            "align_content": null,
            "align_items": null,
            "align_self": null,
            "border": null,
            "bottom": null,
            "display": null,
            "flex": null,
            "flex_flow": null,
            "grid_area": null,
            "grid_auto_columns": null,
            "grid_auto_flow": null,
            "grid_auto_rows": null,
            "grid_column": null,
            "grid_gap": null,
            "grid_row": null,
            "grid_template_areas": null,
            "grid_template_columns": null,
            "grid_template_rows": null,
            "height": null,
            "justify_content": null,
            "justify_items": null,
            "left": null,
            "margin": null,
            "max_height": null,
            "max_width": null,
            "min_height": null,
            "min_width": null,
            "object_fit": null,
            "object_position": null,
            "order": null,
            "overflow": null,
            "overflow_x": null,
            "overflow_y": null,
            "padding": null,
            "right": null,
            "top": null,
            "visibility": null,
            "width": null
          }
        },
        "7c9ee2d2bd90440a9a376bfa2cc4bd20": {
          "model_module": "@jupyter-widgets/controls",
          "model_name": "DescriptionStyleModel",
          "model_module_version": "1.5.0",
          "state": {
            "_model_module": "@jupyter-widgets/controls",
            "_model_module_version": "1.5.0",
            "_model_name": "DescriptionStyleModel",
            "_view_count": null,
            "_view_module": "@jupyter-widgets/base",
            "_view_module_version": "1.2.0",
            "_view_name": "StyleView",
            "description_width": ""
          }
        },
        "851d971464ab4702b255e9e0a4e58836": {
          "model_module": "@jupyter-widgets/base",
          "model_name": "LayoutModel",
          "model_module_version": "1.2.0",
          "state": {
            "_model_module": "@jupyter-widgets/base",
            "_model_module_version": "1.2.0",
            "_model_name": "LayoutModel",
            "_view_count": null,
            "_view_module": "@jupyter-widgets/base",
            "_view_module_version": "1.2.0",
            "_view_name": "LayoutView",
            "align_content": null,
            "align_items": null,
            "align_self": null,
            "border": null,
            "bottom": null,
            "display": null,
            "flex": null,
            "flex_flow": null,
            "grid_area": null,
            "grid_auto_columns": null,
            "grid_auto_flow": null,
            "grid_auto_rows": null,
            "grid_column": null,
            "grid_gap": null,
            "grid_row": null,
            "grid_template_areas": null,
            "grid_template_columns": null,
            "grid_template_rows": null,
            "height": null,
            "justify_content": null,
            "justify_items": null,
            "left": null,
            "margin": null,
            "max_height": null,
            "max_width": null,
            "min_height": null,
            "min_width": null,
            "object_fit": null,
            "object_position": null,
            "order": null,
            "overflow": null,
            "overflow_x": null,
            "overflow_y": null,
            "padding": null,
            "right": null,
            "top": null,
            "visibility": null,
            "width": null
          }
        },
        "69694d84502f4582b53aae88fd50a40d": {
          "model_module": "@jupyter-widgets/controls",
          "model_name": "ProgressStyleModel",
          "model_module_version": "1.5.0",
          "state": {
            "_model_module": "@jupyter-widgets/controls",
            "_model_module_version": "1.5.0",
            "_model_name": "ProgressStyleModel",
            "_view_count": null,
            "_view_module": "@jupyter-widgets/base",
            "_view_module_version": "1.2.0",
            "_view_name": "StyleView",
            "bar_color": null,
            "description_width": ""
          }
        },
        "c328da3a6f3c4758ad00851a7a4510cc": {
          "model_module": "@jupyter-widgets/base",
          "model_name": "LayoutModel",
          "model_module_version": "1.2.0",
          "state": {
            "_model_module": "@jupyter-widgets/base",
            "_model_module_version": "1.2.0",
            "_model_name": "LayoutModel",
            "_view_count": null,
            "_view_module": "@jupyter-widgets/base",
            "_view_module_version": "1.2.0",
            "_view_name": "LayoutView",
            "align_content": null,
            "align_items": null,
            "align_self": null,
            "border": null,
            "bottom": null,
            "display": null,
            "flex": null,
            "flex_flow": null,
            "grid_area": null,
            "grid_auto_columns": null,
            "grid_auto_flow": null,
            "grid_auto_rows": null,
            "grid_column": null,
            "grid_gap": null,
            "grid_row": null,
            "grid_template_areas": null,
            "grid_template_columns": null,
            "grid_template_rows": null,
            "height": null,
            "justify_content": null,
            "justify_items": null,
            "left": null,
            "margin": null,
            "max_height": null,
            "max_width": null,
            "min_height": null,
            "min_width": null,
            "object_fit": null,
            "object_position": null,
            "order": null,
            "overflow": null,
            "overflow_x": null,
            "overflow_y": null,
            "padding": null,
            "right": null,
            "top": null,
            "visibility": null,
            "width": null
          }
        },
        "0acd7f1e8362482fa5606962e96525ca": {
          "model_module": "@jupyter-widgets/controls",
          "model_name": "DescriptionStyleModel",
          "model_module_version": "1.5.0",
          "state": {
            "_model_module": "@jupyter-widgets/controls",
            "_model_module_version": "1.5.0",
            "_model_name": "DescriptionStyleModel",
            "_view_count": null,
            "_view_module": "@jupyter-widgets/base",
            "_view_module_version": "1.2.0",
            "_view_name": "StyleView",
            "description_width": ""
          }
        },
        "61315dad0d604454ae67e4b0ecb244bd": {
          "model_module": "@jupyter-widgets/controls",
          "model_name": "HBoxModel",
          "model_module_version": "1.5.0",
          "state": {
            "_dom_classes": [],
            "_model_module": "@jupyter-widgets/controls",
            "_model_module_version": "1.5.0",
            "_model_name": "HBoxModel",
            "_view_count": null,
            "_view_module": "@jupyter-widgets/controls",
            "_view_module_version": "1.5.0",
            "_view_name": "HBoxView",
            "box_style": "",
            "children": [
              "IPY_MODEL_863d27cec0d64a979b26c1b5053afffe",
              "IPY_MODEL_400fffb8976548d1bbc7da94a41e9536",
              "IPY_MODEL_a3d3de4ba5de4f60b191fe4dd2c425b9"
            ],
            "layout": "IPY_MODEL_76905e75018e475d985c82845bf147a0"
          }
        },
        "863d27cec0d64a979b26c1b5053afffe": {
          "model_module": "@jupyter-widgets/controls",
          "model_name": "HTMLModel",
          "model_module_version": "1.5.0",
          "state": {
            "_dom_classes": [],
            "_model_module": "@jupyter-widgets/controls",
            "_model_module_version": "1.5.0",
            "_model_name": "HTMLModel",
            "_view_count": null,
            "_view_module": "@jupyter-widgets/controls",
            "_view_module_version": "1.5.0",
            "_view_name": "HTMLView",
            "description": "",
            "description_tooltip": null,
            "layout": "IPY_MODEL_ae35a3e1f7cc4cd9a1138590a00eb2bb",
            "placeholder": "​",
            "style": "IPY_MODEL_5f5cda1d0322452f8a70e8cbe6ae8dad",
            "value": "Downloading (…)lve/main/config.json: 100%"
          }
        },
        "400fffb8976548d1bbc7da94a41e9536": {
          "model_module": "@jupyter-widgets/controls",
          "model_name": "FloatProgressModel",
          "model_module_version": "1.5.0",
          "state": {
            "_dom_classes": [],
            "_model_module": "@jupyter-widgets/controls",
            "_model_module_version": "1.5.0",
            "_model_name": "FloatProgressModel",
            "_view_count": null,
            "_view_module": "@jupyter-widgets/controls",
            "_view_module_version": "1.5.0",
            "_view_name": "ProgressView",
            "bar_style": "success",
            "description": "",
            "description_tooltip": null,
            "layout": "IPY_MODEL_5e895742d3594b77916c5037413219da",
            "max": 613,
            "min": 0,
            "orientation": "horizontal",
            "style": "IPY_MODEL_9def2e888fb34a2195f315af1acb273e",
            "value": 613
          }
        },
        "a3d3de4ba5de4f60b191fe4dd2c425b9": {
          "model_module": "@jupyter-widgets/controls",
          "model_name": "HTMLModel",
          "model_module_version": "1.5.0",
          "state": {
            "_dom_classes": [],
            "_model_module": "@jupyter-widgets/controls",
            "_model_module_version": "1.5.0",
            "_model_name": "HTMLModel",
            "_view_count": null,
            "_view_module": "@jupyter-widgets/controls",
            "_view_module_version": "1.5.0",
            "_view_name": "HTMLView",
            "description": "",
            "description_tooltip": null,
            "layout": "IPY_MODEL_190cec79938c4228b00e3540bdcfa847",
            "placeholder": "​",
            "style": "IPY_MODEL_282f641d4749439d8d70b39be05eeac5",
            "value": " 613/613 [00:00&lt;00:00, 49.2kB/s]"
          }
        },
        "76905e75018e475d985c82845bf147a0": {
          "model_module": "@jupyter-widgets/base",
          "model_name": "LayoutModel",
          "model_module_version": "1.2.0",
          "state": {
            "_model_module": "@jupyter-widgets/base",
            "_model_module_version": "1.2.0",
            "_model_name": "LayoutModel",
            "_view_count": null,
            "_view_module": "@jupyter-widgets/base",
            "_view_module_version": "1.2.0",
            "_view_name": "LayoutView",
            "align_content": null,
            "align_items": null,
            "align_self": null,
            "border": null,
            "bottom": null,
            "display": null,
            "flex": null,
            "flex_flow": null,
            "grid_area": null,
            "grid_auto_columns": null,
            "grid_auto_flow": null,
            "grid_auto_rows": null,
            "grid_column": null,
            "grid_gap": null,
            "grid_row": null,
            "grid_template_areas": null,
            "grid_template_columns": null,
            "grid_template_rows": null,
            "height": null,
            "justify_content": null,
            "justify_items": null,
            "left": null,
            "margin": null,
            "max_height": null,
            "max_width": null,
            "min_height": null,
            "min_width": null,
            "object_fit": null,
            "object_position": null,
            "order": null,
            "overflow": null,
            "overflow_x": null,
            "overflow_y": null,
            "padding": null,
            "right": null,
            "top": null,
            "visibility": null,
            "width": null
          }
        },
        "ae35a3e1f7cc4cd9a1138590a00eb2bb": {
          "model_module": "@jupyter-widgets/base",
          "model_name": "LayoutModel",
          "model_module_version": "1.2.0",
          "state": {
            "_model_module": "@jupyter-widgets/base",
            "_model_module_version": "1.2.0",
            "_model_name": "LayoutModel",
            "_view_count": null,
            "_view_module": "@jupyter-widgets/base",
            "_view_module_version": "1.2.0",
            "_view_name": "LayoutView",
            "align_content": null,
            "align_items": null,
            "align_self": null,
            "border": null,
            "bottom": null,
            "display": null,
            "flex": null,
            "flex_flow": null,
            "grid_area": null,
            "grid_auto_columns": null,
            "grid_auto_flow": null,
            "grid_auto_rows": null,
            "grid_column": null,
            "grid_gap": null,
            "grid_row": null,
            "grid_template_areas": null,
            "grid_template_columns": null,
            "grid_template_rows": null,
            "height": null,
            "justify_content": null,
            "justify_items": null,
            "left": null,
            "margin": null,
            "max_height": null,
            "max_width": null,
            "min_height": null,
            "min_width": null,
            "object_fit": null,
            "object_position": null,
            "order": null,
            "overflow": null,
            "overflow_x": null,
            "overflow_y": null,
            "padding": null,
            "right": null,
            "top": null,
            "visibility": null,
            "width": null
          }
        },
        "5f5cda1d0322452f8a70e8cbe6ae8dad": {
          "model_module": "@jupyter-widgets/controls",
          "model_name": "DescriptionStyleModel",
          "model_module_version": "1.5.0",
          "state": {
            "_model_module": "@jupyter-widgets/controls",
            "_model_module_version": "1.5.0",
            "_model_name": "DescriptionStyleModel",
            "_view_count": null,
            "_view_module": "@jupyter-widgets/base",
            "_view_module_version": "1.2.0",
            "_view_name": "StyleView",
            "description_width": ""
          }
        },
        "5e895742d3594b77916c5037413219da": {
          "model_module": "@jupyter-widgets/base",
          "model_name": "LayoutModel",
          "model_module_version": "1.2.0",
          "state": {
            "_model_module": "@jupyter-widgets/base",
            "_model_module_version": "1.2.0",
            "_model_name": "LayoutModel",
            "_view_count": null,
            "_view_module": "@jupyter-widgets/base",
            "_view_module_version": "1.2.0",
            "_view_name": "LayoutView",
            "align_content": null,
            "align_items": null,
            "align_self": null,
            "border": null,
            "bottom": null,
            "display": null,
            "flex": null,
            "flex_flow": null,
            "grid_area": null,
            "grid_auto_columns": null,
            "grid_auto_flow": null,
            "grid_auto_rows": null,
            "grid_column": null,
            "grid_gap": null,
            "grid_row": null,
            "grid_template_areas": null,
            "grid_template_columns": null,
            "grid_template_rows": null,
            "height": null,
            "justify_content": null,
            "justify_items": null,
            "left": null,
            "margin": null,
            "max_height": null,
            "max_width": null,
            "min_height": null,
            "min_width": null,
            "object_fit": null,
            "object_position": null,
            "order": null,
            "overflow": null,
            "overflow_x": null,
            "overflow_y": null,
            "padding": null,
            "right": null,
            "top": null,
            "visibility": null,
            "width": null
          }
        },
        "9def2e888fb34a2195f315af1acb273e": {
          "model_module": "@jupyter-widgets/controls",
          "model_name": "ProgressStyleModel",
          "model_module_version": "1.5.0",
          "state": {
            "_model_module": "@jupyter-widgets/controls",
            "_model_module_version": "1.5.0",
            "_model_name": "ProgressStyleModel",
            "_view_count": null,
            "_view_module": "@jupyter-widgets/base",
            "_view_module_version": "1.2.0",
            "_view_name": "StyleView",
            "bar_color": null,
            "description_width": ""
          }
        },
        "190cec79938c4228b00e3540bdcfa847": {
          "model_module": "@jupyter-widgets/base",
          "model_name": "LayoutModel",
          "model_module_version": "1.2.0",
          "state": {
            "_model_module": "@jupyter-widgets/base",
            "_model_module_version": "1.2.0",
            "_model_name": "LayoutModel",
            "_view_count": null,
            "_view_module": "@jupyter-widgets/base",
            "_view_module_version": "1.2.0",
            "_view_name": "LayoutView",
            "align_content": null,
            "align_items": null,
            "align_self": null,
            "border": null,
            "bottom": null,
            "display": null,
            "flex": null,
            "flex_flow": null,
            "grid_area": null,
            "grid_auto_columns": null,
            "grid_auto_flow": null,
            "grid_auto_rows": null,
            "grid_column": null,
            "grid_gap": null,
            "grid_row": null,
            "grid_template_areas": null,
            "grid_template_columns": null,
            "grid_template_rows": null,
            "height": null,
            "justify_content": null,
            "justify_items": null,
            "left": null,
            "margin": null,
            "max_height": null,
            "max_width": null,
            "min_height": null,
            "min_width": null,
            "object_fit": null,
            "object_position": null,
            "order": null,
            "overflow": null,
            "overflow_x": null,
            "overflow_y": null,
            "padding": null,
            "right": null,
            "top": null,
            "visibility": null,
            "width": null
          }
        },
        "282f641d4749439d8d70b39be05eeac5": {
          "model_module": "@jupyter-widgets/controls",
          "model_name": "DescriptionStyleModel",
          "model_module_version": "1.5.0",
          "state": {
            "_model_module": "@jupyter-widgets/controls",
            "_model_module_version": "1.5.0",
            "_model_name": "DescriptionStyleModel",
            "_view_count": null,
            "_view_module": "@jupyter-widgets/base",
            "_view_module_version": "1.2.0",
            "_view_name": "StyleView",
            "description_width": ""
          }
        },
        "a2f6ef8be2594f75af56b4f4814579b5": {
          "model_module": "@jupyter-widgets/controls",
          "model_name": "HBoxModel",
          "model_module_version": "1.5.0",
          "state": {
            "_dom_classes": [],
            "_model_module": "@jupyter-widgets/controls",
            "_model_module_version": "1.5.0",
            "_model_name": "HBoxModel",
            "_view_count": null,
            "_view_module": "@jupyter-widgets/controls",
            "_view_module_version": "1.5.0",
            "_view_name": "HBoxView",
            "box_style": "",
            "children": [
              "IPY_MODEL_b5e2a3d751804f66971a5849a8fa21bb",
              "IPY_MODEL_97ff168304a0490aa5ae879d43870016",
              "IPY_MODEL_1951312da98d42f691874c63f086b1a9"
            ],
            "layout": "IPY_MODEL_7a989514d81d4049a3fae3a30e9c25e8"
          }
        },
        "b5e2a3d751804f66971a5849a8fa21bb": {
          "model_module": "@jupyter-widgets/controls",
          "model_name": "HTMLModel",
          "model_module_version": "1.5.0",
          "state": {
            "_dom_classes": [],
            "_model_module": "@jupyter-widgets/controls",
            "_model_module_version": "1.5.0",
            "_model_name": "HTMLModel",
            "_view_count": null,
            "_view_module": "@jupyter-widgets/controls",
            "_view_module_version": "1.5.0",
            "_view_name": "HTMLView",
            "description": "",
            "description_tooltip": null,
            "layout": "IPY_MODEL_3b8deb505e8843dd887467f55d50cfbe",
            "placeholder": "​",
            "style": "IPY_MODEL_3ceb1240e286499c91ab9b02c07dcce8",
            "value": "Downloading (…)model.bin.index.json: 100%"
          }
        },
        "97ff168304a0490aa5ae879d43870016": {
          "model_module": "@jupyter-widgets/controls",
          "model_name": "FloatProgressModel",
          "model_module_version": "1.5.0",
          "state": {
            "_dom_classes": [],
            "_model_module": "@jupyter-widgets/controls",
            "_model_module_version": "1.5.0",
            "_model_name": "FloatProgressModel",
            "_view_count": null,
            "_view_module": "@jupyter-widgets/controls",
            "_view_module_version": "1.5.0",
            "_view_name": "ProgressView",
            "bar_style": "success",
            "description": "",
            "description_tooltip": null,
            "layout": "IPY_MODEL_573c70cc6db4407aa2a360ef99efd3ee",
            "max": 23950,
            "min": 0,
            "orientation": "horizontal",
            "style": "IPY_MODEL_f18a521a78794c669327a52befc0e611",
            "value": 23950
          }
        },
        "1951312da98d42f691874c63f086b1a9": {
          "model_module": "@jupyter-widgets/controls",
          "model_name": "HTMLModel",
          "model_module_version": "1.5.0",
          "state": {
            "_dom_classes": [],
            "_model_module": "@jupyter-widgets/controls",
            "_model_module_version": "1.5.0",
            "_model_name": "HTMLModel",
            "_view_count": null,
            "_view_module": "@jupyter-widgets/controls",
            "_view_module_version": "1.5.0",
            "_view_name": "HTMLView",
            "description": "",
            "description_tooltip": null,
            "layout": "IPY_MODEL_969cef3a9dad4f99905534ca1af37b31",
            "placeholder": "​",
            "style": "IPY_MODEL_7ff487ebaf104c9ab03f6dcdf1c1ed46",
            "value": " 23.9k/23.9k [00:00&lt;00:00, 1.78MB/s]"
          }
        },
        "7a989514d81d4049a3fae3a30e9c25e8": {
          "model_module": "@jupyter-widgets/base",
          "model_name": "LayoutModel",
          "model_module_version": "1.2.0",
          "state": {
            "_model_module": "@jupyter-widgets/base",
            "_model_module_version": "1.2.0",
            "_model_name": "LayoutModel",
            "_view_count": null,
            "_view_module": "@jupyter-widgets/base",
            "_view_module_version": "1.2.0",
            "_view_name": "LayoutView",
            "align_content": null,
            "align_items": null,
            "align_self": null,
            "border": null,
            "bottom": null,
            "display": null,
            "flex": null,
            "flex_flow": null,
            "grid_area": null,
            "grid_auto_columns": null,
            "grid_auto_flow": null,
            "grid_auto_rows": null,
            "grid_column": null,
            "grid_gap": null,
            "grid_row": null,
            "grid_template_areas": null,
            "grid_template_columns": null,
            "grid_template_rows": null,
            "height": null,
            "justify_content": null,
            "justify_items": null,
            "left": null,
            "margin": null,
            "max_height": null,
            "max_width": null,
            "min_height": null,
            "min_width": null,
            "object_fit": null,
            "object_position": null,
            "order": null,
            "overflow": null,
            "overflow_x": null,
            "overflow_y": null,
            "padding": null,
            "right": null,
            "top": null,
            "visibility": null,
            "width": null
          }
        },
        "3b8deb505e8843dd887467f55d50cfbe": {
          "model_module": "@jupyter-widgets/base",
          "model_name": "LayoutModel",
          "model_module_version": "1.2.0",
          "state": {
            "_model_module": "@jupyter-widgets/base",
            "_model_module_version": "1.2.0",
            "_model_name": "LayoutModel",
            "_view_count": null,
            "_view_module": "@jupyter-widgets/base",
            "_view_module_version": "1.2.0",
            "_view_name": "LayoutView",
            "align_content": null,
            "align_items": null,
            "align_self": null,
            "border": null,
            "bottom": null,
            "display": null,
            "flex": null,
            "flex_flow": null,
            "grid_area": null,
            "grid_auto_columns": null,
            "grid_auto_flow": null,
            "grid_auto_rows": null,
            "grid_column": null,
            "grid_gap": null,
            "grid_row": null,
            "grid_template_areas": null,
            "grid_template_columns": null,
            "grid_template_rows": null,
            "height": null,
            "justify_content": null,
            "justify_items": null,
            "left": null,
            "margin": null,
            "max_height": null,
            "max_width": null,
            "min_height": null,
            "min_width": null,
            "object_fit": null,
            "object_position": null,
            "order": null,
            "overflow": null,
            "overflow_x": null,
            "overflow_y": null,
            "padding": null,
            "right": null,
            "top": null,
            "visibility": null,
            "width": null
          }
        },
        "3ceb1240e286499c91ab9b02c07dcce8": {
          "model_module": "@jupyter-widgets/controls",
          "model_name": "DescriptionStyleModel",
          "model_module_version": "1.5.0",
          "state": {
            "_model_module": "@jupyter-widgets/controls",
            "_model_module_version": "1.5.0",
            "_model_name": "DescriptionStyleModel",
            "_view_count": null,
            "_view_module": "@jupyter-widgets/base",
            "_view_module_version": "1.2.0",
            "_view_name": "StyleView",
            "description_width": ""
          }
        },
        "573c70cc6db4407aa2a360ef99efd3ee": {
          "model_module": "@jupyter-widgets/base",
          "model_name": "LayoutModel",
          "model_module_version": "1.2.0",
          "state": {
            "_model_module": "@jupyter-widgets/base",
            "_model_module_version": "1.2.0",
            "_model_name": "LayoutModel",
            "_view_count": null,
            "_view_module": "@jupyter-widgets/base",
            "_view_module_version": "1.2.0",
            "_view_name": "LayoutView",
            "align_content": null,
            "align_items": null,
            "align_self": null,
            "border": null,
            "bottom": null,
            "display": null,
            "flex": null,
            "flex_flow": null,
            "grid_area": null,
            "grid_auto_columns": null,
            "grid_auto_flow": null,
            "grid_auto_rows": null,
            "grid_column": null,
            "grid_gap": null,
            "grid_row": null,
            "grid_template_areas": null,
            "grid_template_columns": null,
            "grid_template_rows": null,
            "height": null,
            "justify_content": null,
            "justify_items": null,
            "left": null,
            "margin": null,
            "max_height": null,
            "max_width": null,
            "min_height": null,
            "min_width": null,
            "object_fit": null,
            "object_position": null,
            "order": null,
            "overflow": null,
            "overflow_x": null,
            "overflow_y": null,
            "padding": null,
            "right": null,
            "top": null,
            "visibility": null,
            "width": null
          }
        },
        "f18a521a78794c669327a52befc0e611": {
          "model_module": "@jupyter-widgets/controls",
          "model_name": "ProgressStyleModel",
          "model_module_version": "1.5.0",
          "state": {
            "_model_module": "@jupyter-widgets/controls",
            "_model_module_version": "1.5.0",
            "_model_name": "ProgressStyleModel",
            "_view_count": null,
            "_view_module": "@jupyter-widgets/base",
            "_view_module_version": "1.2.0",
            "_view_name": "StyleView",
            "bar_color": null,
            "description_width": ""
          }
        },
        "969cef3a9dad4f99905534ca1af37b31": {
          "model_module": "@jupyter-widgets/base",
          "model_name": "LayoutModel",
          "model_module_version": "1.2.0",
          "state": {
            "_model_module": "@jupyter-widgets/base",
            "_model_module_version": "1.2.0",
            "_model_name": "LayoutModel",
            "_view_count": null,
            "_view_module": "@jupyter-widgets/base",
            "_view_module_version": "1.2.0",
            "_view_name": "LayoutView",
            "align_content": null,
            "align_items": null,
            "align_self": null,
            "border": null,
            "bottom": null,
            "display": null,
            "flex": null,
            "flex_flow": null,
            "grid_area": null,
            "grid_auto_columns": null,
            "grid_auto_flow": null,
            "grid_auto_rows": null,
            "grid_column": null,
            "grid_gap": null,
            "grid_row": null,
            "grid_template_areas": null,
            "grid_template_columns": null,
            "grid_template_rows": null,
            "height": null,
            "justify_content": null,
            "justify_items": null,
            "left": null,
            "margin": null,
            "max_height": null,
            "max_width": null,
            "min_height": null,
            "min_width": null,
            "object_fit": null,
            "object_position": null,
            "order": null,
            "overflow": null,
            "overflow_x": null,
            "overflow_y": null,
            "padding": null,
            "right": null,
            "top": null,
            "visibility": null,
            "width": null
          }
        },
        "7ff487ebaf104c9ab03f6dcdf1c1ed46": {
          "model_module": "@jupyter-widgets/controls",
          "model_name": "DescriptionStyleModel",
          "model_module_version": "1.5.0",
          "state": {
            "_model_module": "@jupyter-widgets/controls",
            "_model_module_version": "1.5.0",
            "_model_name": "DescriptionStyleModel",
            "_view_count": null,
            "_view_module": "@jupyter-widgets/base",
            "_view_module_version": "1.2.0",
            "_view_name": "StyleView",
            "description_width": ""
          }
        },
        "21a4b84992ea47b7aa0d9a40b18f6ed6": {
          "model_module": "@jupyter-widgets/controls",
          "model_name": "HBoxModel",
          "model_module_version": "1.5.0",
          "state": {
            "_dom_classes": [],
            "_model_module": "@jupyter-widgets/controls",
            "_model_module_version": "1.5.0",
            "_model_name": "HBoxModel",
            "_view_count": null,
            "_view_module": "@jupyter-widgets/controls",
            "_view_module_version": "1.5.0",
            "_view_name": "HBoxView",
            "box_style": "",
            "children": [
              "IPY_MODEL_84f10438228446fbb0a6da3bf02dcea3",
              "IPY_MODEL_fbdb2d1d69b24cc584746467a0774122",
              "IPY_MODEL_7bc3391cf98f46afba821082179fdd62"
            ],
            "layout": "IPY_MODEL_ba3c245026f54732abbfdd2d4ddb6957"
          }
        },
        "84f10438228446fbb0a6da3bf02dcea3": {
          "model_module": "@jupyter-widgets/controls",
          "model_name": "HTMLModel",
          "model_module_version": "1.5.0",
          "state": {
            "_dom_classes": [],
            "_model_module": "@jupyter-widgets/controls",
            "_model_module_version": "1.5.0",
            "_model_name": "HTMLModel",
            "_view_count": null,
            "_view_module": "@jupyter-widgets/controls",
            "_view_module_version": "1.5.0",
            "_view_name": "HTMLView",
            "description": "",
            "description_tooltip": null,
            "layout": "IPY_MODEL_a5a88ba069d54d3994382ba051a37bc9",
            "placeholder": "​",
            "style": "IPY_MODEL_83097b556c604919a13ea88c888b72a0",
            "value": "Downloading shards: 100%"
          }
        },
        "fbdb2d1d69b24cc584746467a0774122": {
          "model_module": "@jupyter-widgets/controls",
          "model_name": "FloatProgressModel",
          "model_module_version": "1.5.0",
          "state": {
            "_dom_classes": [],
            "_model_module": "@jupyter-widgets/controls",
            "_model_module_version": "1.5.0",
            "_model_name": "FloatProgressModel",
            "_view_count": null,
            "_view_module": "@jupyter-widgets/controls",
            "_view_module_version": "1.5.0",
            "_view_name": "ProgressView",
            "bar_style": "success",
            "description": "",
            "description_tooltip": null,
            "layout": "IPY_MODEL_60f33f2ce0394b098567642bd9fd3cf9",
            "max": 8,
            "min": 0,
            "orientation": "horizontal",
            "style": "IPY_MODEL_0384c7fb229642fcb63f4c46377f0a91",
            "value": 8
          }
        },
        "7bc3391cf98f46afba821082179fdd62": {
          "model_module": "@jupyter-widgets/controls",
          "model_name": "HTMLModel",
          "model_module_version": "1.5.0",
          "state": {
            "_dom_classes": [],
            "_model_module": "@jupyter-widgets/controls",
            "_model_module_version": "1.5.0",
            "_model_name": "HTMLModel",
            "_view_count": null,
            "_view_module": "@jupyter-widgets/controls",
            "_view_module_version": "1.5.0",
            "_view_name": "HTMLView",
            "description": "",
            "description_tooltip": null,
            "layout": "IPY_MODEL_e41210c009e44fcea4b5bca98d4ff97c",
            "placeholder": "​",
            "style": "IPY_MODEL_8b802598342849eeb0f2c5123525d5cb",
            "value": " 8/8 [06:14&lt;00:00, 41.51s/it]"
          }
        },
        "ba3c245026f54732abbfdd2d4ddb6957": {
          "model_module": "@jupyter-widgets/base",
          "model_name": "LayoutModel",
          "model_module_version": "1.2.0",
          "state": {
            "_model_module": "@jupyter-widgets/base",
            "_model_module_version": "1.2.0",
            "_model_name": "LayoutModel",
            "_view_count": null,
            "_view_module": "@jupyter-widgets/base",
            "_view_module_version": "1.2.0",
            "_view_name": "LayoutView",
            "align_content": null,
            "align_items": null,
            "align_self": null,
            "border": null,
            "bottom": null,
            "display": null,
            "flex": null,
            "flex_flow": null,
            "grid_area": null,
            "grid_auto_columns": null,
            "grid_auto_flow": null,
            "grid_auto_rows": null,
            "grid_column": null,
            "grid_gap": null,
            "grid_row": null,
            "grid_template_areas": null,
            "grid_template_columns": null,
            "grid_template_rows": null,
            "height": null,
            "justify_content": null,
            "justify_items": null,
            "left": null,
            "margin": null,
            "max_height": null,
            "max_width": null,
            "min_height": null,
            "min_width": null,
            "object_fit": null,
            "object_position": null,
            "order": null,
            "overflow": null,
            "overflow_x": null,
            "overflow_y": null,
            "padding": null,
            "right": null,
            "top": null,
            "visibility": null,
            "width": null
          }
        },
        "a5a88ba069d54d3994382ba051a37bc9": {
          "model_module": "@jupyter-widgets/base",
          "model_name": "LayoutModel",
          "model_module_version": "1.2.0",
          "state": {
            "_model_module": "@jupyter-widgets/base",
            "_model_module_version": "1.2.0",
            "_model_name": "LayoutModel",
            "_view_count": null,
            "_view_module": "@jupyter-widgets/base",
            "_view_module_version": "1.2.0",
            "_view_name": "LayoutView",
            "align_content": null,
            "align_items": null,
            "align_self": null,
            "border": null,
            "bottom": null,
            "display": null,
            "flex": null,
            "flex_flow": null,
            "grid_area": null,
            "grid_auto_columns": null,
            "grid_auto_flow": null,
            "grid_auto_rows": null,
            "grid_column": null,
            "grid_gap": null,
            "grid_row": null,
            "grid_template_areas": null,
            "grid_template_columns": null,
            "grid_template_rows": null,
            "height": null,
            "justify_content": null,
            "justify_items": null,
            "left": null,
            "margin": null,
            "max_height": null,
            "max_width": null,
            "min_height": null,
            "min_width": null,
            "object_fit": null,
            "object_position": null,
            "order": null,
            "overflow": null,
            "overflow_x": null,
            "overflow_y": null,
            "padding": null,
            "right": null,
            "top": null,
            "visibility": null,
            "width": null
          }
        },
        "83097b556c604919a13ea88c888b72a0": {
          "model_module": "@jupyter-widgets/controls",
          "model_name": "DescriptionStyleModel",
          "model_module_version": "1.5.0",
          "state": {
            "_model_module": "@jupyter-widgets/controls",
            "_model_module_version": "1.5.0",
            "_model_name": "DescriptionStyleModel",
            "_view_count": null,
            "_view_module": "@jupyter-widgets/base",
            "_view_module_version": "1.2.0",
            "_view_name": "StyleView",
            "description_width": ""
          }
        },
        "60f33f2ce0394b098567642bd9fd3cf9": {
          "model_module": "@jupyter-widgets/base",
          "model_name": "LayoutModel",
          "model_module_version": "1.2.0",
          "state": {
            "_model_module": "@jupyter-widgets/base",
            "_model_module_version": "1.2.0",
            "_model_name": "LayoutModel",
            "_view_count": null,
            "_view_module": "@jupyter-widgets/base",
            "_view_module_version": "1.2.0",
            "_view_name": "LayoutView",
            "align_content": null,
            "align_items": null,
            "align_self": null,
            "border": null,
            "bottom": null,
            "display": null,
            "flex": null,
            "flex_flow": null,
            "grid_area": null,
            "grid_auto_columns": null,
            "grid_auto_flow": null,
            "grid_auto_rows": null,
            "grid_column": null,
            "grid_gap": null,
            "grid_row": null,
            "grid_template_areas": null,
            "grid_template_columns": null,
            "grid_template_rows": null,
            "height": null,
            "justify_content": null,
            "justify_items": null,
            "left": null,
            "margin": null,
            "max_height": null,
            "max_width": null,
            "min_height": null,
            "min_width": null,
            "object_fit": null,
            "object_position": null,
            "order": null,
            "overflow": null,
            "overflow_x": null,
            "overflow_y": null,
            "padding": null,
            "right": null,
            "top": null,
            "visibility": null,
            "width": null
          }
        },
        "0384c7fb229642fcb63f4c46377f0a91": {
          "model_module": "@jupyter-widgets/controls",
          "model_name": "ProgressStyleModel",
          "model_module_version": "1.5.0",
          "state": {
            "_model_module": "@jupyter-widgets/controls",
            "_model_module_version": "1.5.0",
            "_model_name": "ProgressStyleModel",
            "_view_count": null,
            "_view_module": "@jupyter-widgets/base",
            "_view_module_version": "1.2.0",
            "_view_name": "StyleView",
            "bar_color": null,
            "description_width": ""
          }
        },
        "e41210c009e44fcea4b5bca98d4ff97c": {
          "model_module": "@jupyter-widgets/base",
          "model_name": "LayoutModel",
          "model_module_version": "1.2.0",
          "state": {
            "_model_module": "@jupyter-widgets/base",
            "_model_module_version": "1.2.0",
            "_model_name": "LayoutModel",
            "_view_count": null,
            "_view_module": "@jupyter-widgets/base",
            "_view_module_version": "1.2.0",
            "_view_name": "LayoutView",
            "align_content": null,
            "align_items": null,
            "align_self": null,
            "border": null,
            "bottom": null,
            "display": null,
            "flex": null,
            "flex_flow": null,
            "grid_area": null,
            "grid_auto_columns": null,
            "grid_auto_flow": null,
            "grid_auto_rows": null,
            "grid_column": null,
            "grid_gap": null,
            "grid_row": null,
            "grid_template_areas": null,
            "grid_template_columns": null,
            "grid_template_rows": null,
            "height": null,
            "justify_content": null,
            "justify_items": null,
            "left": null,
            "margin": null,
            "max_height": null,
            "max_width": null,
            "min_height": null,
            "min_width": null,
            "object_fit": null,
            "object_position": null,
            "order": null,
            "overflow": null,
            "overflow_x": null,
            "overflow_y": null,
            "padding": null,
            "right": null,
            "top": null,
            "visibility": null,
            "width": null
          }
        },
        "8b802598342849eeb0f2c5123525d5cb": {
          "model_module": "@jupyter-widgets/controls",
          "model_name": "DescriptionStyleModel",
          "model_module_version": "1.5.0",
          "state": {
            "_model_module": "@jupyter-widgets/controls",
            "_model_module_version": "1.5.0",
            "_model_name": "DescriptionStyleModel",
            "_view_count": null,
            "_view_module": "@jupyter-widgets/base",
            "_view_module_version": "1.2.0",
            "_view_name": "StyleView",
            "description_width": ""
          }
        },
        "aba8b84c7a4b466daf134e00aa9660a0": {
          "model_module": "@jupyter-widgets/controls",
          "model_name": "HBoxModel",
          "model_module_version": "1.5.0",
          "state": {
            "_dom_classes": [],
            "_model_module": "@jupyter-widgets/controls",
            "_model_module_version": "1.5.0",
            "_model_name": "HBoxModel",
            "_view_count": null,
            "_view_module": "@jupyter-widgets/controls",
            "_view_module_version": "1.5.0",
            "_view_name": "HBoxView",
            "box_style": "",
            "children": [
              "IPY_MODEL_5f794515d5394610b445ef034a1fd180",
              "IPY_MODEL_64f43dd7af204c82b2f1394e18945cdd",
              "IPY_MODEL_25aa3cc32ca04b26b229123807aee5fe"
            ],
            "layout": "IPY_MODEL_e21066529f9d46c4a3569f318e769afb"
          }
        },
        "5f794515d5394610b445ef034a1fd180": {
          "model_module": "@jupyter-widgets/controls",
          "model_name": "HTMLModel",
          "model_module_version": "1.5.0",
          "state": {
            "_dom_classes": [],
            "_model_module": "@jupyter-widgets/controls",
            "_model_module_version": "1.5.0",
            "_model_name": "HTMLModel",
            "_view_count": null,
            "_view_module": "@jupyter-widgets/controls",
            "_view_module_version": "1.5.0",
            "_view_name": "HTMLView",
            "description": "",
            "description_tooltip": null,
            "layout": "IPY_MODEL_d62652f37c4844fa960b8bb3b3376dc4",
            "placeholder": "​",
            "style": "IPY_MODEL_43e5ee3fb8ff4d449d35fb620375cb06",
            "value": "Downloading (…)l-00001-of-00008.bin: 100%"
          }
        },
        "64f43dd7af204c82b2f1394e18945cdd": {
          "model_module": "@jupyter-widgets/controls",
          "model_name": "FloatProgressModel",
          "model_module_version": "1.5.0",
          "state": {
            "_dom_classes": [],
            "_model_module": "@jupyter-widgets/controls",
            "_model_module_version": "1.5.0",
            "_model_name": "FloatProgressModel",
            "_view_count": null,
            "_view_module": "@jupyter-widgets/controls",
            "_view_module_version": "1.5.0",
            "_view_name": "ProgressView",
            "bar_style": "success",
            "description": "",
            "description_tooltip": null,
            "layout": "IPY_MODEL_a15af8fb74154c1b8f1c8ec53922b3bf",
            "max": 1889594419,
            "min": 0,
            "orientation": "horizontal",
            "style": "IPY_MODEL_8de624c1cbcf4bb9bc40d1cb32fa7be3",
            "value": 1889594419
          }
        },
        "25aa3cc32ca04b26b229123807aee5fe": {
          "model_module": "@jupyter-widgets/controls",
          "model_name": "HTMLModel",
          "model_module_version": "1.5.0",
          "state": {
            "_dom_classes": [],
            "_model_module": "@jupyter-widgets/controls",
            "_model_module_version": "1.5.0",
            "_model_name": "HTMLModel",
            "_view_count": null,
            "_view_module": "@jupyter-widgets/controls",
            "_view_module_version": "1.5.0",
            "_view_name": "HTMLView",
            "description": "",
            "description_tooltip": null,
            "layout": "IPY_MODEL_c499aeb70a7648cc8985f17e0daa3585",
            "placeholder": "​",
            "style": "IPY_MODEL_f1835e62ffb34f369f4d0c1db2ac2230",
            "value": " 1.89G/1.89G [00:42&lt;00:00, 47.9MB/s]"
          }
        },
        "e21066529f9d46c4a3569f318e769afb": {
          "model_module": "@jupyter-widgets/base",
          "model_name": "LayoutModel",
          "model_module_version": "1.2.0",
          "state": {
            "_model_module": "@jupyter-widgets/base",
            "_model_module_version": "1.2.0",
            "_model_name": "LayoutModel",
            "_view_count": null,
            "_view_module": "@jupyter-widgets/base",
            "_view_module_version": "1.2.0",
            "_view_name": "LayoutView",
            "align_content": null,
            "align_items": null,
            "align_self": null,
            "border": null,
            "bottom": null,
            "display": null,
            "flex": null,
            "flex_flow": null,
            "grid_area": null,
            "grid_auto_columns": null,
            "grid_auto_flow": null,
            "grid_auto_rows": null,
            "grid_column": null,
            "grid_gap": null,
            "grid_row": null,
            "grid_template_areas": null,
            "grid_template_columns": null,
            "grid_template_rows": null,
            "height": null,
            "justify_content": null,
            "justify_items": null,
            "left": null,
            "margin": null,
            "max_height": null,
            "max_width": null,
            "min_height": null,
            "min_width": null,
            "object_fit": null,
            "object_position": null,
            "order": null,
            "overflow": null,
            "overflow_x": null,
            "overflow_y": null,
            "padding": null,
            "right": null,
            "top": null,
            "visibility": null,
            "width": null
          }
        },
        "d62652f37c4844fa960b8bb3b3376dc4": {
          "model_module": "@jupyter-widgets/base",
          "model_name": "LayoutModel",
          "model_module_version": "1.2.0",
          "state": {
            "_model_module": "@jupyter-widgets/base",
            "_model_module_version": "1.2.0",
            "_model_name": "LayoutModel",
            "_view_count": null,
            "_view_module": "@jupyter-widgets/base",
            "_view_module_version": "1.2.0",
            "_view_name": "LayoutView",
            "align_content": null,
            "align_items": null,
            "align_self": null,
            "border": null,
            "bottom": null,
            "display": null,
            "flex": null,
            "flex_flow": null,
            "grid_area": null,
            "grid_auto_columns": null,
            "grid_auto_flow": null,
            "grid_auto_rows": null,
            "grid_column": null,
            "grid_gap": null,
            "grid_row": null,
            "grid_template_areas": null,
            "grid_template_columns": null,
            "grid_template_rows": null,
            "height": null,
            "justify_content": null,
            "justify_items": null,
            "left": null,
            "margin": null,
            "max_height": null,
            "max_width": null,
            "min_height": null,
            "min_width": null,
            "object_fit": null,
            "object_position": null,
            "order": null,
            "overflow": null,
            "overflow_x": null,
            "overflow_y": null,
            "padding": null,
            "right": null,
            "top": null,
            "visibility": null,
            "width": null
          }
        },
        "43e5ee3fb8ff4d449d35fb620375cb06": {
          "model_module": "@jupyter-widgets/controls",
          "model_name": "DescriptionStyleModel",
          "model_module_version": "1.5.0",
          "state": {
            "_model_module": "@jupyter-widgets/controls",
            "_model_module_version": "1.5.0",
            "_model_name": "DescriptionStyleModel",
            "_view_count": null,
            "_view_module": "@jupyter-widgets/base",
            "_view_module_version": "1.2.0",
            "_view_name": "StyleView",
            "description_width": ""
          }
        },
        "a15af8fb74154c1b8f1c8ec53922b3bf": {
          "model_module": "@jupyter-widgets/base",
          "model_name": "LayoutModel",
          "model_module_version": "1.2.0",
          "state": {
            "_model_module": "@jupyter-widgets/base",
            "_model_module_version": "1.2.0",
            "_model_name": "LayoutModel",
            "_view_count": null,
            "_view_module": "@jupyter-widgets/base",
            "_view_module_version": "1.2.0",
            "_view_name": "LayoutView",
            "align_content": null,
            "align_items": null,
            "align_self": null,
            "border": null,
            "bottom": null,
            "display": null,
            "flex": null,
            "flex_flow": null,
            "grid_area": null,
            "grid_auto_columns": null,
            "grid_auto_flow": null,
            "grid_auto_rows": null,
            "grid_column": null,
            "grid_gap": null,
            "grid_row": null,
            "grid_template_areas": null,
            "grid_template_columns": null,
            "grid_template_rows": null,
            "height": null,
            "justify_content": null,
            "justify_items": null,
            "left": null,
            "margin": null,
            "max_height": null,
            "max_width": null,
            "min_height": null,
            "min_width": null,
            "object_fit": null,
            "object_position": null,
            "order": null,
            "overflow": null,
            "overflow_x": null,
            "overflow_y": null,
            "padding": null,
            "right": null,
            "top": null,
            "visibility": null,
            "width": null
          }
        },
        "8de624c1cbcf4bb9bc40d1cb32fa7be3": {
          "model_module": "@jupyter-widgets/controls",
          "model_name": "ProgressStyleModel",
          "model_module_version": "1.5.0",
          "state": {
            "_model_module": "@jupyter-widgets/controls",
            "_model_module_version": "1.5.0",
            "_model_name": "ProgressStyleModel",
            "_view_count": null,
            "_view_module": "@jupyter-widgets/base",
            "_view_module_version": "1.2.0",
            "_view_name": "StyleView",
            "bar_color": null,
            "description_width": ""
          }
        },
        "c499aeb70a7648cc8985f17e0daa3585": {
          "model_module": "@jupyter-widgets/base",
          "model_name": "LayoutModel",
          "model_module_version": "1.2.0",
          "state": {
            "_model_module": "@jupyter-widgets/base",
            "_model_module_version": "1.2.0",
            "_model_name": "LayoutModel",
            "_view_count": null,
            "_view_module": "@jupyter-widgets/base",
            "_view_module_version": "1.2.0",
            "_view_name": "LayoutView",
            "align_content": null,
            "align_items": null,
            "align_self": null,
            "border": null,
            "bottom": null,
            "display": null,
            "flex": null,
            "flex_flow": null,
            "grid_area": null,
            "grid_auto_columns": null,
            "grid_auto_flow": null,
            "grid_auto_rows": null,
            "grid_column": null,
            "grid_gap": null,
            "grid_row": null,
            "grid_template_areas": null,
            "grid_template_columns": null,
            "grid_template_rows": null,
            "height": null,
            "justify_content": null,
            "justify_items": null,
            "left": null,
            "margin": null,
            "max_height": null,
            "max_width": null,
            "min_height": null,
            "min_width": null,
            "object_fit": null,
            "object_position": null,
            "order": null,
            "overflow": null,
            "overflow_x": null,
            "overflow_y": null,
            "padding": null,
            "right": null,
            "top": null,
            "visibility": null,
            "width": null
          }
        },
        "f1835e62ffb34f369f4d0c1db2ac2230": {
          "model_module": "@jupyter-widgets/controls",
          "model_name": "DescriptionStyleModel",
          "model_module_version": "1.5.0",
          "state": {
            "_model_module": "@jupyter-widgets/controls",
            "_model_module_version": "1.5.0",
            "_model_name": "DescriptionStyleModel",
            "_view_count": null,
            "_view_module": "@jupyter-widgets/base",
            "_view_module_version": "1.2.0",
            "_view_name": "StyleView",
            "description_width": ""
          }
        },
        "617dbc09624a4d8396c668fa14144b73": {
          "model_module": "@jupyter-widgets/controls",
          "model_name": "HBoxModel",
          "model_module_version": "1.5.0",
          "state": {
            "_dom_classes": [],
            "_model_module": "@jupyter-widgets/controls",
            "_model_module_version": "1.5.0",
            "_model_name": "HBoxModel",
            "_view_count": null,
            "_view_module": "@jupyter-widgets/controls",
            "_view_module_version": "1.5.0",
            "_view_name": "HBoxView",
            "box_style": "",
            "children": [
              "IPY_MODEL_af280554b2ff45cf9ac6c226f9f57ea3",
              "IPY_MODEL_c3e144fb6be941aebcee061875908eb3",
              "IPY_MODEL_76e649dc7bbf4c828b69473a5fc90025"
            ],
            "layout": "IPY_MODEL_729516b651dc42e190bd8ee4fa24c4e9"
          }
        },
        "af280554b2ff45cf9ac6c226f9f57ea3": {
          "model_module": "@jupyter-widgets/controls",
          "model_name": "HTMLModel",
          "model_module_version": "1.5.0",
          "state": {
            "_dom_classes": [],
            "_model_module": "@jupyter-widgets/controls",
            "_model_module_version": "1.5.0",
            "_model_name": "HTMLModel",
            "_view_count": null,
            "_view_module": "@jupyter-widgets/controls",
            "_view_module_version": "1.5.0",
            "_view_name": "HTMLView",
            "description": "",
            "description_tooltip": null,
            "layout": "IPY_MODEL_47cf8a8de58d4844b9a64358f0134f8b",
            "placeholder": "​",
            "style": "IPY_MODEL_b47cbbb857bf4934aeb2c9d6158f308d",
            "value": "Downloading (…)l-00002-of-00008.bin: 100%"
          }
        },
        "c3e144fb6be941aebcee061875908eb3": {
          "model_module": "@jupyter-widgets/controls",
          "model_name": "FloatProgressModel",
          "model_module_version": "1.5.0",
          "state": {
            "_dom_classes": [],
            "_model_module": "@jupyter-widgets/controls",
            "_model_module_version": "1.5.0",
            "_model_name": "FloatProgressModel",
            "_view_count": null,
            "_view_module": "@jupyter-widgets/controls",
            "_view_module_version": "1.5.0",
            "_view_name": "ProgressView",
            "bar_style": "success",
            "description": "",
            "description_tooltip": null,
            "layout": "IPY_MODEL_d64fd45326194f9088ee1cfac8393b5e",
            "max": 1946253333,
            "min": 0,
            "orientation": "horizontal",
            "style": "IPY_MODEL_423adf1fc8184b9f8e24d73a23a919fb",
            "value": 1946253333
          }
        },
        "76e649dc7bbf4c828b69473a5fc90025": {
          "model_module": "@jupyter-widgets/controls",
          "model_name": "HTMLModel",
          "model_module_version": "1.5.0",
          "state": {
            "_dom_classes": [],
            "_model_module": "@jupyter-widgets/controls",
            "_model_module_version": "1.5.0",
            "_model_name": "HTMLModel",
            "_view_count": null,
            "_view_module": "@jupyter-widgets/controls",
            "_view_module_version": "1.5.0",
            "_view_name": "HTMLView",
            "description": "",
            "description_tooltip": null,
            "layout": "IPY_MODEL_2a61b2ed1aa440dfb32a8521a5616d3a",
            "placeholder": "​",
            "style": "IPY_MODEL_acf6b97f5193449bbed155340a83c54d",
            "value": " 1.95G/1.95G [00:46&lt;00:00, 36.8MB/s]"
          }
        },
        "729516b651dc42e190bd8ee4fa24c4e9": {
          "model_module": "@jupyter-widgets/base",
          "model_name": "LayoutModel",
          "model_module_version": "1.2.0",
          "state": {
            "_model_module": "@jupyter-widgets/base",
            "_model_module_version": "1.2.0",
            "_model_name": "LayoutModel",
            "_view_count": null,
            "_view_module": "@jupyter-widgets/base",
            "_view_module_version": "1.2.0",
            "_view_name": "LayoutView",
            "align_content": null,
            "align_items": null,
            "align_self": null,
            "border": null,
            "bottom": null,
            "display": null,
            "flex": null,
            "flex_flow": null,
            "grid_area": null,
            "grid_auto_columns": null,
            "grid_auto_flow": null,
            "grid_auto_rows": null,
            "grid_column": null,
            "grid_gap": null,
            "grid_row": null,
            "grid_template_areas": null,
            "grid_template_columns": null,
            "grid_template_rows": null,
            "height": null,
            "justify_content": null,
            "justify_items": null,
            "left": null,
            "margin": null,
            "max_height": null,
            "max_width": null,
            "min_height": null,
            "min_width": null,
            "object_fit": null,
            "object_position": null,
            "order": null,
            "overflow": null,
            "overflow_x": null,
            "overflow_y": null,
            "padding": null,
            "right": null,
            "top": null,
            "visibility": null,
            "width": null
          }
        },
        "47cf8a8de58d4844b9a64358f0134f8b": {
          "model_module": "@jupyter-widgets/base",
          "model_name": "LayoutModel",
          "model_module_version": "1.2.0",
          "state": {
            "_model_module": "@jupyter-widgets/base",
            "_model_module_version": "1.2.0",
            "_model_name": "LayoutModel",
            "_view_count": null,
            "_view_module": "@jupyter-widgets/base",
            "_view_module_version": "1.2.0",
            "_view_name": "LayoutView",
            "align_content": null,
            "align_items": null,
            "align_self": null,
            "border": null,
            "bottom": null,
            "display": null,
            "flex": null,
            "flex_flow": null,
            "grid_area": null,
            "grid_auto_columns": null,
            "grid_auto_flow": null,
            "grid_auto_rows": null,
            "grid_column": null,
            "grid_gap": null,
            "grid_row": null,
            "grid_template_areas": null,
            "grid_template_columns": null,
            "grid_template_rows": null,
            "height": null,
            "justify_content": null,
            "justify_items": null,
            "left": null,
            "margin": null,
            "max_height": null,
            "max_width": null,
            "min_height": null,
            "min_width": null,
            "object_fit": null,
            "object_position": null,
            "order": null,
            "overflow": null,
            "overflow_x": null,
            "overflow_y": null,
            "padding": null,
            "right": null,
            "top": null,
            "visibility": null,
            "width": null
          }
        },
        "b47cbbb857bf4934aeb2c9d6158f308d": {
          "model_module": "@jupyter-widgets/controls",
          "model_name": "DescriptionStyleModel",
          "model_module_version": "1.5.0",
          "state": {
            "_model_module": "@jupyter-widgets/controls",
            "_model_module_version": "1.5.0",
            "_model_name": "DescriptionStyleModel",
            "_view_count": null,
            "_view_module": "@jupyter-widgets/base",
            "_view_module_version": "1.2.0",
            "_view_name": "StyleView",
            "description_width": ""
          }
        },
        "d64fd45326194f9088ee1cfac8393b5e": {
          "model_module": "@jupyter-widgets/base",
          "model_name": "LayoutModel",
          "model_module_version": "1.2.0",
          "state": {
            "_model_module": "@jupyter-widgets/base",
            "_model_module_version": "1.2.0",
            "_model_name": "LayoutModel",
            "_view_count": null,
            "_view_module": "@jupyter-widgets/base",
            "_view_module_version": "1.2.0",
            "_view_name": "LayoutView",
            "align_content": null,
            "align_items": null,
            "align_self": null,
            "border": null,
            "bottom": null,
            "display": null,
            "flex": null,
            "flex_flow": null,
            "grid_area": null,
            "grid_auto_columns": null,
            "grid_auto_flow": null,
            "grid_auto_rows": null,
            "grid_column": null,
            "grid_gap": null,
            "grid_row": null,
            "grid_template_areas": null,
            "grid_template_columns": null,
            "grid_template_rows": null,
            "height": null,
            "justify_content": null,
            "justify_items": null,
            "left": null,
            "margin": null,
            "max_height": null,
            "max_width": null,
            "min_height": null,
            "min_width": null,
            "object_fit": null,
            "object_position": null,
            "order": null,
            "overflow": null,
            "overflow_x": null,
            "overflow_y": null,
            "padding": null,
            "right": null,
            "top": null,
            "visibility": null,
            "width": null
          }
        },
        "423adf1fc8184b9f8e24d73a23a919fb": {
          "model_module": "@jupyter-widgets/controls",
          "model_name": "ProgressStyleModel",
          "model_module_version": "1.5.0",
          "state": {
            "_model_module": "@jupyter-widgets/controls",
            "_model_module_version": "1.5.0",
            "_model_name": "ProgressStyleModel",
            "_view_count": null,
            "_view_module": "@jupyter-widgets/base",
            "_view_module_version": "1.2.0",
            "_view_name": "StyleView",
            "bar_color": null,
            "description_width": ""
          }
        },
        "2a61b2ed1aa440dfb32a8521a5616d3a": {
          "model_module": "@jupyter-widgets/base",
          "model_name": "LayoutModel",
          "model_module_version": "1.2.0",
          "state": {
            "_model_module": "@jupyter-widgets/base",
            "_model_module_version": "1.2.0",
            "_model_name": "LayoutModel",
            "_view_count": null,
            "_view_module": "@jupyter-widgets/base",
            "_view_module_version": "1.2.0",
            "_view_name": "LayoutView",
            "align_content": null,
            "align_items": null,
            "align_self": null,
            "border": null,
            "bottom": null,
            "display": null,
            "flex": null,
            "flex_flow": null,
            "grid_area": null,
            "grid_auto_columns": null,
            "grid_auto_flow": null,
            "grid_auto_rows": null,
            "grid_column": null,
            "grid_gap": null,
            "grid_row": null,
            "grid_template_areas": null,
            "grid_template_columns": null,
            "grid_template_rows": null,
            "height": null,
            "justify_content": null,
            "justify_items": null,
            "left": null,
            "margin": null,
            "max_height": null,
            "max_width": null,
            "min_height": null,
            "min_width": null,
            "object_fit": null,
            "object_position": null,
            "order": null,
            "overflow": null,
            "overflow_x": null,
            "overflow_y": null,
            "padding": null,
            "right": null,
            "top": null,
            "visibility": null,
            "width": null
          }
        },
        "acf6b97f5193449bbed155340a83c54d": {
          "model_module": "@jupyter-widgets/controls",
          "model_name": "DescriptionStyleModel",
          "model_module_version": "1.5.0",
          "state": {
            "_model_module": "@jupyter-widgets/controls",
            "_model_module_version": "1.5.0",
            "_model_name": "DescriptionStyleModel",
            "_view_count": null,
            "_view_module": "@jupyter-widgets/base",
            "_view_module_version": "1.2.0",
            "_view_name": "StyleView",
            "description_width": ""
          }
        },
        "c7bb72553fa14f628ec9b78ba52f1847": {
          "model_module": "@jupyter-widgets/controls",
          "model_name": "HBoxModel",
          "model_module_version": "1.5.0",
          "state": {
            "_dom_classes": [],
            "_model_module": "@jupyter-widgets/controls",
            "_model_module_version": "1.5.0",
            "_model_name": "HBoxModel",
            "_view_count": null,
            "_view_module": "@jupyter-widgets/controls",
            "_view_module_version": "1.5.0",
            "_view_name": "HBoxView",
            "box_style": "",
            "children": [
              "IPY_MODEL_d0eae0435dac446480b7555ddd4d5ec7",
              "IPY_MODEL_8d7d220cae0f4bdebadff7eba89d8ce1",
              "IPY_MODEL_eede6069b6774cedb97a3a654706ad28"
            ],
            "layout": "IPY_MODEL_0130ccaacef04e0db9f8aeff9ab796be"
          }
        },
        "d0eae0435dac446480b7555ddd4d5ec7": {
          "model_module": "@jupyter-widgets/controls",
          "model_name": "HTMLModel",
          "model_module_version": "1.5.0",
          "state": {
            "_dom_classes": [],
            "_model_module": "@jupyter-widgets/controls",
            "_model_module_version": "1.5.0",
            "_model_name": "HTMLModel",
            "_view_count": null,
            "_view_module": "@jupyter-widgets/controls",
            "_view_module_version": "1.5.0",
            "_view_name": "HTMLView",
            "description": "",
            "description_tooltip": null,
            "layout": "IPY_MODEL_d21c9f218d0e4305b8a2da9f00f1bf88",
            "placeholder": "​",
            "style": "IPY_MODEL_860fc816a1e440a791c605f8afdb3f35",
            "value": "Downloading (…)l-00003-of-00008.bin: 100%"
          }
        },
        "8d7d220cae0f4bdebadff7eba89d8ce1": {
          "model_module": "@jupyter-widgets/controls",
          "model_name": "FloatProgressModel",
          "model_module_version": "1.5.0",
          "state": {
            "_dom_classes": [],
            "_model_module": "@jupyter-widgets/controls",
            "_model_module_version": "1.5.0",
            "_model_name": "FloatProgressModel",
            "_view_count": null,
            "_view_module": "@jupyter-widgets/controls",
            "_view_module_version": "1.5.0",
            "_view_name": "ProgressView",
            "bar_style": "success",
            "description": "",
            "description_tooltip": null,
            "layout": "IPY_MODEL_21c2dece0bc747659d10544356254ec5",
            "max": 1979789691,
            "min": 0,
            "orientation": "horizontal",
            "style": "IPY_MODEL_e79f2bac383c4d9aacdfd041b5cd3814",
            "value": 1979789691
          }
        },
        "eede6069b6774cedb97a3a654706ad28": {
          "model_module": "@jupyter-widgets/controls",
          "model_name": "HTMLModel",
          "model_module_version": "1.5.0",
          "state": {
            "_dom_classes": [],
            "_model_module": "@jupyter-widgets/controls",
            "_model_module_version": "1.5.0",
            "_model_name": "HTMLModel",
            "_view_count": null,
            "_view_module": "@jupyter-widgets/controls",
            "_view_module_version": "1.5.0",
            "_view_name": "HTMLView",
            "description": "",
            "description_tooltip": null,
            "layout": "IPY_MODEL_2c125f97b7c5447897967b4e8c4f5f2f",
            "placeholder": "​",
            "style": "IPY_MODEL_4c912e8ded434ff8965caeec774cfd7e",
            "value": " 1.98G/1.98G [00:48&lt;00:00, 35.9MB/s]"
          }
        },
        "0130ccaacef04e0db9f8aeff9ab796be": {
          "model_module": "@jupyter-widgets/base",
          "model_name": "LayoutModel",
          "model_module_version": "1.2.0",
          "state": {
            "_model_module": "@jupyter-widgets/base",
            "_model_module_version": "1.2.0",
            "_model_name": "LayoutModel",
            "_view_count": null,
            "_view_module": "@jupyter-widgets/base",
            "_view_module_version": "1.2.0",
            "_view_name": "LayoutView",
            "align_content": null,
            "align_items": null,
            "align_self": null,
            "border": null,
            "bottom": null,
            "display": null,
            "flex": null,
            "flex_flow": null,
            "grid_area": null,
            "grid_auto_columns": null,
            "grid_auto_flow": null,
            "grid_auto_rows": null,
            "grid_column": null,
            "grid_gap": null,
            "grid_row": null,
            "grid_template_areas": null,
            "grid_template_columns": null,
            "grid_template_rows": null,
            "height": null,
            "justify_content": null,
            "justify_items": null,
            "left": null,
            "margin": null,
            "max_height": null,
            "max_width": null,
            "min_height": null,
            "min_width": null,
            "object_fit": null,
            "object_position": null,
            "order": null,
            "overflow": null,
            "overflow_x": null,
            "overflow_y": null,
            "padding": null,
            "right": null,
            "top": null,
            "visibility": null,
            "width": null
          }
        },
        "d21c9f218d0e4305b8a2da9f00f1bf88": {
          "model_module": "@jupyter-widgets/base",
          "model_name": "LayoutModel",
          "model_module_version": "1.2.0",
          "state": {
            "_model_module": "@jupyter-widgets/base",
            "_model_module_version": "1.2.0",
            "_model_name": "LayoutModel",
            "_view_count": null,
            "_view_module": "@jupyter-widgets/base",
            "_view_module_version": "1.2.0",
            "_view_name": "LayoutView",
            "align_content": null,
            "align_items": null,
            "align_self": null,
            "border": null,
            "bottom": null,
            "display": null,
            "flex": null,
            "flex_flow": null,
            "grid_area": null,
            "grid_auto_columns": null,
            "grid_auto_flow": null,
            "grid_auto_rows": null,
            "grid_column": null,
            "grid_gap": null,
            "grid_row": null,
            "grid_template_areas": null,
            "grid_template_columns": null,
            "grid_template_rows": null,
            "height": null,
            "justify_content": null,
            "justify_items": null,
            "left": null,
            "margin": null,
            "max_height": null,
            "max_width": null,
            "min_height": null,
            "min_width": null,
            "object_fit": null,
            "object_position": null,
            "order": null,
            "overflow": null,
            "overflow_x": null,
            "overflow_y": null,
            "padding": null,
            "right": null,
            "top": null,
            "visibility": null,
            "width": null
          }
        },
        "860fc816a1e440a791c605f8afdb3f35": {
          "model_module": "@jupyter-widgets/controls",
          "model_name": "DescriptionStyleModel",
          "model_module_version": "1.5.0",
          "state": {
            "_model_module": "@jupyter-widgets/controls",
            "_model_module_version": "1.5.0",
            "_model_name": "DescriptionStyleModel",
            "_view_count": null,
            "_view_module": "@jupyter-widgets/base",
            "_view_module_version": "1.2.0",
            "_view_name": "StyleView",
            "description_width": ""
          }
        },
        "21c2dece0bc747659d10544356254ec5": {
          "model_module": "@jupyter-widgets/base",
          "model_name": "LayoutModel",
          "model_module_version": "1.2.0",
          "state": {
            "_model_module": "@jupyter-widgets/base",
            "_model_module_version": "1.2.0",
            "_model_name": "LayoutModel",
            "_view_count": null,
            "_view_module": "@jupyter-widgets/base",
            "_view_module_version": "1.2.0",
            "_view_name": "LayoutView",
            "align_content": null,
            "align_items": null,
            "align_self": null,
            "border": null,
            "bottom": null,
            "display": null,
            "flex": null,
            "flex_flow": null,
            "grid_area": null,
            "grid_auto_columns": null,
            "grid_auto_flow": null,
            "grid_auto_rows": null,
            "grid_column": null,
            "grid_gap": null,
            "grid_row": null,
            "grid_template_areas": null,
            "grid_template_columns": null,
            "grid_template_rows": null,
            "height": null,
            "justify_content": null,
            "justify_items": null,
            "left": null,
            "margin": null,
            "max_height": null,
            "max_width": null,
            "min_height": null,
            "min_width": null,
            "object_fit": null,
            "object_position": null,
            "order": null,
            "overflow": null,
            "overflow_x": null,
            "overflow_y": null,
            "padding": null,
            "right": null,
            "top": null,
            "visibility": null,
            "width": null
          }
        },
        "e79f2bac383c4d9aacdfd041b5cd3814": {
          "model_module": "@jupyter-widgets/controls",
          "model_name": "ProgressStyleModel",
          "model_module_version": "1.5.0",
          "state": {
            "_model_module": "@jupyter-widgets/controls",
            "_model_module_version": "1.5.0",
            "_model_name": "ProgressStyleModel",
            "_view_count": null,
            "_view_module": "@jupyter-widgets/base",
            "_view_module_version": "1.2.0",
            "_view_name": "StyleView",
            "bar_color": null,
            "description_width": ""
          }
        },
        "2c125f97b7c5447897967b4e8c4f5f2f": {
          "model_module": "@jupyter-widgets/base",
          "model_name": "LayoutModel",
          "model_module_version": "1.2.0",
          "state": {
            "_model_module": "@jupyter-widgets/base",
            "_model_module_version": "1.2.0",
            "_model_name": "LayoutModel",
            "_view_count": null,
            "_view_module": "@jupyter-widgets/base",
            "_view_module_version": "1.2.0",
            "_view_name": "LayoutView",
            "align_content": null,
            "align_items": null,
            "align_self": null,
            "border": null,
            "bottom": null,
            "display": null,
            "flex": null,
            "flex_flow": null,
            "grid_area": null,
            "grid_auto_columns": null,
            "grid_auto_flow": null,
            "grid_auto_rows": null,
            "grid_column": null,
            "grid_gap": null,
            "grid_row": null,
            "grid_template_areas": null,
            "grid_template_columns": null,
            "grid_template_rows": null,
            "height": null,
            "justify_content": null,
            "justify_items": null,
            "left": null,
            "margin": null,
            "max_height": null,
            "max_width": null,
            "min_height": null,
            "min_width": null,
            "object_fit": null,
            "object_position": null,
            "order": null,
            "overflow": null,
            "overflow_x": null,
            "overflow_y": null,
            "padding": null,
            "right": null,
            "top": null,
            "visibility": null,
            "width": null
          }
        },
        "4c912e8ded434ff8965caeec774cfd7e": {
          "model_module": "@jupyter-widgets/controls",
          "model_name": "DescriptionStyleModel",
          "model_module_version": "1.5.0",
          "state": {
            "_model_module": "@jupyter-widgets/controls",
            "_model_module_version": "1.5.0",
            "_model_name": "DescriptionStyleModel",
            "_view_count": null,
            "_view_module": "@jupyter-widgets/base",
            "_view_module_version": "1.2.0",
            "_view_name": "StyleView",
            "description_width": ""
          }
        },
        "a738ba9f4bfc4196930f5f5c8aee9d7a": {
          "model_module": "@jupyter-widgets/controls",
          "model_name": "HBoxModel",
          "model_module_version": "1.5.0",
          "state": {
            "_dom_classes": [],
            "_model_module": "@jupyter-widgets/controls",
            "_model_module_version": "1.5.0",
            "_model_name": "HBoxModel",
            "_view_count": null,
            "_view_module": "@jupyter-widgets/controls",
            "_view_module_version": "1.5.0",
            "_view_name": "HBoxView",
            "box_style": "",
            "children": [
              "IPY_MODEL_c8fe727242284fd7bc236db3ead18e7e",
              "IPY_MODEL_9e797914f1364c8e8f416c5a3600c98b",
              "IPY_MODEL_258e1da45fae4d3a8c5d82f4737a20a1"
            ],
            "layout": "IPY_MODEL_da7b5cbf80214034a68ce6eb11f91401"
          }
        },
        "c8fe727242284fd7bc236db3ead18e7e": {
          "model_module": "@jupyter-widgets/controls",
          "model_name": "HTMLModel",
          "model_module_version": "1.5.0",
          "state": {
            "_dom_classes": [],
            "_model_module": "@jupyter-widgets/controls",
            "_model_module_version": "1.5.0",
            "_model_name": "HTMLModel",
            "_view_count": null,
            "_view_module": "@jupyter-widgets/controls",
            "_view_module_version": "1.5.0",
            "_view_name": "HTMLView",
            "description": "",
            "description_tooltip": null,
            "layout": "IPY_MODEL_d4191cf7bff144a09413828fc85f1710",
            "placeholder": "​",
            "style": "IPY_MODEL_e3b497900eb94451a67d18ea6b72938f",
            "value": "Downloading (…)l-00004-of-00008.bin: 100%"
          }
        },
        "9e797914f1364c8e8f416c5a3600c98b": {
          "model_module": "@jupyter-widgets/controls",
          "model_name": "FloatProgressModel",
          "model_module_version": "1.5.0",
          "state": {
            "_dom_classes": [],
            "_model_module": "@jupyter-widgets/controls",
            "_model_module_version": "1.5.0",
            "_model_name": "FloatProgressModel",
            "_view_count": null,
            "_view_module": "@jupyter-widgets/controls",
            "_view_module_version": "1.5.0",
            "_view_name": "ProgressView",
            "bar_style": "success",
            "description": "",
            "description_tooltip": null,
            "layout": "IPY_MODEL_16cd4b79554c470aaf2ab7a10922652e",
            "max": 1946253333,
            "min": 0,
            "orientation": "horizontal",
            "style": "IPY_MODEL_0caf1c8a0bde45b783426bd4f14acc3b",
            "value": 1946253333
          }
        },
        "258e1da45fae4d3a8c5d82f4737a20a1": {
          "model_module": "@jupyter-widgets/controls",
          "model_name": "HTMLModel",
          "model_module_version": "1.5.0",
          "state": {
            "_dom_classes": [],
            "_model_module": "@jupyter-widgets/controls",
            "_model_module_version": "1.5.0",
            "_model_name": "HTMLModel",
            "_view_count": null,
            "_view_module": "@jupyter-widgets/controls",
            "_view_module_version": "1.5.0",
            "_view_name": "HTMLView",
            "description": "",
            "description_tooltip": null,
            "layout": "IPY_MODEL_407f83cfa2684da4ba515309d93ddef3",
            "placeholder": "​",
            "style": "IPY_MODEL_cd4395eaee7b4753be0d283e10fd10a4",
            "value": " 1.95G/1.95G [00:47&lt;00:00, 48.2MB/s]"
          }
        },
        "da7b5cbf80214034a68ce6eb11f91401": {
          "model_module": "@jupyter-widgets/base",
          "model_name": "LayoutModel",
          "model_module_version": "1.2.0",
          "state": {
            "_model_module": "@jupyter-widgets/base",
            "_model_module_version": "1.2.0",
            "_model_name": "LayoutModel",
            "_view_count": null,
            "_view_module": "@jupyter-widgets/base",
            "_view_module_version": "1.2.0",
            "_view_name": "LayoutView",
            "align_content": null,
            "align_items": null,
            "align_self": null,
            "border": null,
            "bottom": null,
            "display": null,
            "flex": null,
            "flex_flow": null,
            "grid_area": null,
            "grid_auto_columns": null,
            "grid_auto_flow": null,
            "grid_auto_rows": null,
            "grid_column": null,
            "grid_gap": null,
            "grid_row": null,
            "grid_template_areas": null,
            "grid_template_columns": null,
            "grid_template_rows": null,
            "height": null,
            "justify_content": null,
            "justify_items": null,
            "left": null,
            "margin": null,
            "max_height": null,
            "max_width": null,
            "min_height": null,
            "min_width": null,
            "object_fit": null,
            "object_position": null,
            "order": null,
            "overflow": null,
            "overflow_x": null,
            "overflow_y": null,
            "padding": null,
            "right": null,
            "top": null,
            "visibility": null,
            "width": null
          }
        },
        "d4191cf7bff144a09413828fc85f1710": {
          "model_module": "@jupyter-widgets/base",
          "model_name": "LayoutModel",
          "model_module_version": "1.2.0",
          "state": {
            "_model_module": "@jupyter-widgets/base",
            "_model_module_version": "1.2.0",
            "_model_name": "LayoutModel",
            "_view_count": null,
            "_view_module": "@jupyter-widgets/base",
            "_view_module_version": "1.2.0",
            "_view_name": "LayoutView",
            "align_content": null,
            "align_items": null,
            "align_self": null,
            "border": null,
            "bottom": null,
            "display": null,
            "flex": null,
            "flex_flow": null,
            "grid_area": null,
            "grid_auto_columns": null,
            "grid_auto_flow": null,
            "grid_auto_rows": null,
            "grid_column": null,
            "grid_gap": null,
            "grid_row": null,
            "grid_template_areas": null,
            "grid_template_columns": null,
            "grid_template_rows": null,
            "height": null,
            "justify_content": null,
            "justify_items": null,
            "left": null,
            "margin": null,
            "max_height": null,
            "max_width": null,
            "min_height": null,
            "min_width": null,
            "object_fit": null,
            "object_position": null,
            "order": null,
            "overflow": null,
            "overflow_x": null,
            "overflow_y": null,
            "padding": null,
            "right": null,
            "top": null,
            "visibility": null,
            "width": null
          }
        },
        "e3b497900eb94451a67d18ea6b72938f": {
          "model_module": "@jupyter-widgets/controls",
          "model_name": "DescriptionStyleModel",
          "model_module_version": "1.5.0",
          "state": {
            "_model_module": "@jupyter-widgets/controls",
            "_model_module_version": "1.5.0",
            "_model_name": "DescriptionStyleModel",
            "_view_count": null,
            "_view_module": "@jupyter-widgets/base",
            "_view_module_version": "1.2.0",
            "_view_name": "StyleView",
            "description_width": ""
          }
        },
        "16cd4b79554c470aaf2ab7a10922652e": {
          "model_module": "@jupyter-widgets/base",
          "model_name": "LayoutModel",
          "model_module_version": "1.2.0",
          "state": {
            "_model_module": "@jupyter-widgets/base",
            "_model_module_version": "1.2.0",
            "_model_name": "LayoutModel",
            "_view_count": null,
            "_view_module": "@jupyter-widgets/base",
            "_view_module_version": "1.2.0",
            "_view_name": "LayoutView",
            "align_content": null,
            "align_items": null,
            "align_self": null,
            "border": null,
            "bottom": null,
            "display": null,
            "flex": null,
            "flex_flow": null,
            "grid_area": null,
            "grid_auto_columns": null,
            "grid_auto_flow": null,
            "grid_auto_rows": null,
            "grid_column": null,
            "grid_gap": null,
            "grid_row": null,
            "grid_template_areas": null,
            "grid_template_columns": null,
            "grid_template_rows": null,
            "height": null,
            "justify_content": null,
            "justify_items": null,
            "left": null,
            "margin": null,
            "max_height": null,
            "max_width": null,
            "min_height": null,
            "min_width": null,
            "object_fit": null,
            "object_position": null,
            "order": null,
            "overflow": null,
            "overflow_x": null,
            "overflow_y": null,
            "padding": null,
            "right": null,
            "top": null,
            "visibility": null,
            "width": null
          }
        },
        "0caf1c8a0bde45b783426bd4f14acc3b": {
          "model_module": "@jupyter-widgets/controls",
          "model_name": "ProgressStyleModel",
          "model_module_version": "1.5.0",
          "state": {
            "_model_module": "@jupyter-widgets/controls",
            "_model_module_version": "1.5.0",
            "_model_name": "ProgressStyleModel",
            "_view_count": null,
            "_view_module": "@jupyter-widgets/base",
            "_view_module_version": "1.2.0",
            "_view_name": "StyleView",
            "bar_color": null,
            "description_width": ""
          }
        },
        "407f83cfa2684da4ba515309d93ddef3": {
          "model_module": "@jupyter-widgets/base",
          "model_name": "LayoutModel",
          "model_module_version": "1.2.0",
          "state": {
            "_model_module": "@jupyter-widgets/base",
            "_model_module_version": "1.2.0",
            "_model_name": "LayoutModel",
            "_view_count": null,
            "_view_module": "@jupyter-widgets/base",
            "_view_module_version": "1.2.0",
            "_view_name": "LayoutView",
            "align_content": null,
            "align_items": null,
            "align_self": null,
            "border": null,
            "bottom": null,
            "display": null,
            "flex": null,
            "flex_flow": null,
            "grid_area": null,
            "grid_auto_columns": null,
            "grid_auto_flow": null,
            "grid_auto_rows": null,
            "grid_column": null,
            "grid_gap": null,
            "grid_row": null,
            "grid_template_areas": null,
            "grid_template_columns": null,
            "grid_template_rows": null,
            "height": null,
            "justify_content": null,
            "justify_items": null,
            "left": null,
            "margin": null,
            "max_height": null,
            "max_width": null,
            "min_height": null,
            "min_width": null,
            "object_fit": null,
            "object_position": null,
            "order": null,
            "overflow": null,
            "overflow_x": null,
            "overflow_y": null,
            "padding": null,
            "right": null,
            "top": null,
            "visibility": null,
            "width": null
          }
        },
        "cd4395eaee7b4753be0d283e10fd10a4": {
          "model_module": "@jupyter-widgets/controls",
          "model_name": "DescriptionStyleModel",
          "model_module_version": "1.5.0",
          "state": {
            "_model_module": "@jupyter-widgets/controls",
            "_model_module_version": "1.5.0",
            "_model_name": "DescriptionStyleModel",
            "_view_count": null,
            "_view_module": "@jupyter-widgets/base",
            "_view_module_version": "1.2.0",
            "_view_name": "StyleView",
            "description_width": ""
          }
        },
        "f2f57320ffe74dc7a2387e51a045aa51": {
          "model_module": "@jupyter-widgets/controls",
          "model_name": "HBoxModel",
          "model_module_version": "1.5.0",
          "state": {
            "_dom_classes": [],
            "_model_module": "@jupyter-widgets/controls",
            "_model_module_version": "1.5.0",
            "_model_name": "HBoxModel",
            "_view_count": null,
            "_view_module": "@jupyter-widgets/controls",
            "_view_module_version": "1.5.0",
            "_view_name": "HBoxView",
            "box_style": "",
            "children": [
              "IPY_MODEL_bf6cdec5c58e4ded8e7aa12ad0596b8d",
              "IPY_MODEL_4b215d362cc541959fde673202f4eb26",
              "IPY_MODEL_f7f1a0d41d7b439da2095fe0ab2533ab"
            ],
            "layout": "IPY_MODEL_f8cde1e7a05f401296aeb11c60d17c2c"
          }
        },
        "bf6cdec5c58e4ded8e7aa12ad0596b8d": {
          "model_module": "@jupyter-widgets/controls",
          "model_name": "HTMLModel",
          "model_module_version": "1.5.0",
          "state": {
            "_dom_classes": [],
            "_model_module": "@jupyter-widgets/controls",
            "_model_module_version": "1.5.0",
            "_model_name": "HTMLModel",
            "_view_count": null,
            "_view_module": "@jupyter-widgets/controls",
            "_view_module_version": "1.5.0",
            "_view_name": "HTMLView",
            "description": "",
            "description_tooltip": null,
            "layout": "IPY_MODEL_a4ba44ef083b45e299f1f077c76cc103",
            "placeholder": "​",
            "style": "IPY_MODEL_79e3e957381f449dbddca965e4fbde1d",
            "value": "Downloading (…)l-00005-of-00008.bin: 100%"
          }
        },
        "4b215d362cc541959fde673202f4eb26": {
          "model_module": "@jupyter-widgets/controls",
          "model_name": "FloatProgressModel",
          "model_module_version": "1.5.0",
          "state": {
            "_dom_classes": [],
            "_model_module": "@jupyter-widgets/controls",
            "_model_module_version": "1.5.0",
            "_model_name": "FloatProgressModel",
            "_view_count": null,
            "_view_module": "@jupyter-widgets/controls",
            "_view_module_version": "1.5.0",
            "_view_name": "ProgressView",
            "bar_style": "success",
            "description": "",
            "description_tooltip": null,
            "layout": "IPY_MODEL_7762c89f78554397b72009df001da933",
            "max": 1979789691,
            "min": 0,
            "orientation": "horizontal",
            "style": "IPY_MODEL_ff769daf54724a5cacb7f12567731677",
            "value": 1979789691
          }
        },
        "f7f1a0d41d7b439da2095fe0ab2533ab": {
          "model_module": "@jupyter-widgets/controls",
          "model_name": "HTMLModel",
          "model_module_version": "1.5.0",
          "state": {
            "_dom_classes": [],
            "_model_module": "@jupyter-widgets/controls",
            "_model_module_version": "1.5.0",
            "_model_name": "HTMLModel",
            "_view_count": null,
            "_view_module": "@jupyter-widgets/controls",
            "_view_module_version": "1.5.0",
            "_view_name": "HTMLView",
            "description": "",
            "description_tooltip": null,
            "layout": "IPY_MODEL_d39d08d9f8b94371bf7b57abd58f1900",
            "placeholder": "​",
            "style": "IPY_MODEL_639c5463e4864001a4b21bd71b791b1c",
            "value": " 1.98G/1.98G [01:16&lt;00:00, 47.0MB/s]"
          }
        },
        "f8cde1e7a05f401296aeb11c60d17c2c": {
          "model_module": "@jupyter-widgets/base",
          "model_name": "LayoutModel",
          "model_module_version": "1.2.0",
          "state": {
            "_model_module": "@jupyter-widgets/base",
            "_model_module_version": "1.2.0",
            "_model_name": "LayoutModel",
            "_view_count": null,
            "_view_module": "@jupyter-widgets/base",
            "_view_module_version": "1.2.0",
            "_view_name": "LayoutView",
            "align_content": null,
            "align_items": null,
            "align_self": null,
            "border": null,
            "bottom": null,
            "display": null,
            "flex": null,
            "flex_flow": null,
            "grid_area": null,
            "grid_auto_columns": null,
            "grid_auto_flow": null,
            "grid_auto_rows": null,
            "grid_column": null,
            "grid_gap": null,
            "grid_row": null,
            "grid_template_areas": null,
            "grid_template_columns": null,
            "grid_template_rows": null,
            "height": null,
            "justify_content": null,
            "justify_items": null,
            "left": null,
            "margin": null,
            "max_height": null,
            "max_width": null,
            "min_height": null,
            "min_width": null,
            "object_fit": null,
            "object_position": null,
            "order": null,
            "overflow": null,
            "overflow_x": null,
            "overflow_y": null,
            "padding": null,
            "right": null,
            "top": null,
            "visibility": null,
            "width": null
          }
        },
        "a4ba44ef083b45e299f1f077c76cc103": {
          "model_module": "@jupyter-widgets/base",
          "model_name": "LayoutModel",
          "model_module_version": "1.2.0",
          "state": {
            "_model_module": "@jupyter-widgets/base",
            "_model_module_version": "1.2.0",
            "_model_name": "LayoutModel",
            "_view_count": null,
            "_view_module": "@jupyter-widgets/base",
            "_view_module_version": "1.2.0",
            "_view_name": "LayoutView",
            "align_content": null,
            "align_items": null,
            "align_self": null,
            "border": null,
            "bottom": null,
            "display": null,
            "flex": null,
            "flex_flow": null,
            "grid_area": null,
            "grid_auto_columns": null,
            "grid_auto_flow": null,
            "grid_auto_rows": null,
            "grid_column": null,
            "grid_gap": null,
            "grid_row": null,
            "grid_template_areas": null,
            "grid_template_columns": null,
            "grid_template_rows": null,
            "height": null,
            "justify_content": null,
            "justify_items": null,
            "left": null,
            "margin": null,
            "max_height": null,
            "max_width": null,
            "min_height": null,
            "min_width": null,
            "object_fit": null,
            "object_position": null,
            "order": null,
            "overflow": null,
            "overflow_x": null,
            "overflow_y": null,
            "padding": null,
            "right": null,
            "top": null,
            "visibility": null,
            "width": null
          }
        },
        "79e3e957381f449dbddca965e4fbde1d": {
          "model_module": "@jupyter-widgets/controls",
          "model_name": "DescriptionStyleModel",
          "model_module_version": "1.5.0",
          "state": {
            "_model_module": "@jupyter-widgets/controls",
            "_model_module_version": "1.5.0",
            "_model_name": "DescriptionStyleModel",
            "_view_count": null,
            "_view_module": "@jupyter-widgets/base",
            "_view_module_version": "1.2.0",
            "_view_name": "StyleView",
            "description_width": ""
          }
        },
        "7762c89f78554397b72009df001da933": {
          "model_module": "@jupyter-widgets/base",
          "model_name": "LayoutModel",
          "model_module_version": "1.2.0",
          "state": {
            "_model_module": "@jupyter-widgets/base",
            "_model_module_version": "1.2.0",
            "_model_name": "LayoutModel",
            "_view_count": null,
            "_view_module": "@jupyter-widgets/base",
            "_view_module_version": "1.2.0",
            "_view_name": "LayoutView",
            "align_content": null,
            "align_items": null,
            "align_self": null,
            "border": null,
            "bottom": null,
            "display": null,
            "flex": null,
            "flex_flow": null,
            "grid_area": null,
            "grid_auto_columns": null,
            "grid_auto_flow": null,
            "grid_auto_rows": null,
            "grid_column": null,
            "grid_gap": null,
            "grid_row": null,
            "grid_template_areas": null,
            "grid_template_columns": null,
            "grid_template_rows": null,
            "height": null,
            "justify_content": null,
            "justify_items": null,
            "left": null,
            "margin": null,
            "max_height": null,
            "max_width": null,
            "min_height": null,
            "min_width": null,
            "object_fit": null,
            "object_position": null,
            "order": null,
            "overflow": null,
            "overflow_x": null,
            "overflow_y": null,
            "padding": null,
            "right": null,
            "top": null,
            "visibility": null,
            "width": null
          }
        },
        "ff769daf54724a5cacb7f12567731677": {
          "model_module": "@jupyter-widgets/controls",
          "model_name": "ProgressStyleModel",
          "model_module_version": "1.5.0",
          "state": {
            "_model_module": "@jupyter-widgets/controls",
            "_model_module_version": "1.5.0",
            "_model_name": "ProgressStyleModel",
            "_view_count": null,
            "_view_module": "@jupyter-widgets/base",
            "_view_module_version": "1.2.0",
            "_view_name": "StyleView",
            "bar_color": null,
            "description_width": ""
          }
        },
        "d39d08d9f8b94371bf7b57abd58f1900": {
          "model_module": "@jupyter-widgets/base",
          "model_name": "LayoutModel",
          "model_module_version": "1.2.0",
          "state": {
            "_model_module": "@jupyter-widgets/base",
            "_model_module_version": "1.2.0",
            "_model_name": "LayoutModel",
            "_view_count": null,
            "_view_module": "@jupyter-widgets/base",
            "_view_module_version": "1.2.0",
            "_view_name": "LayoutView",
            "align_content": null,
            "align_items": null,
            "align_self": null,
            "border": null,
            "bottom": null,
            "display": null,
            "flex": null,
            "flex_flow": null,
            "grid_area": null,
            "grid_auto_columns": null,
            "grid_auto_flow": null,
            "grid_auto_rows": null,
            "grid_column": null,
            "grid_gap": null,
            "grid_row": null,
            "grid_template_areas": null,
            "grid_template_columns": null,
            "grid_template_rows": null,
            "height": null,
            "justify_content": null,
            "justify_items": null,
            "left": null,
            "margin": null,
            "max_height": null,
            "max_width": null,
            "min_height": null,
            "min_width": null,
            "object_fit": null,
            "object_position": null,
            "order": null,
            "overflow": null,
            "overflow_x": null,
            "overflow_y": null,
            "padding": null,
            "right": null,
            "top": null,
            "visibility": null,
            "width": null
          }
        },
        "639c5463e4864001a4b21bd71b791b1c": {
          "model_module": "@jupyter-widgets/controls",
          "model_name": "DescriptionStyleModel",
          "model_module_version": "1.5.0",
          "state": {
            "_model_module": "@jupyter-widgets/controls",
            "_model_module_version": "1.5.0",
            "_model_name": "DescriptionStyleModel",
            "_view_count": null,
            "_view_module": "@jupyter-widgets/base",
            "_view_module_version": "1.2.0",
            "_view_name": "StyleView",
            "description_width": ""
          }
        },
        "4702914e89f443ca9de1b8e45156e677": {
          "model_module": "@jupyter-widgets/controls",
          "model_name": "HBoxModel",
          "model_module_version": "1.5.0",
          "state": {
            "_dom_classes": [],
            "_model_module": "@jupyter-widgets/controls",
            "_model_module_version": "1.5.0",
            "_model_name": "HBoxModel",
            "_view_count": null,
            "_view_module": "@jupyter-widgets/controls",
            "_view_module_version": "1.5.0",
            "_view_name": "HBoxView",
            "box_style": "",
            "children": [
              "IPY_MODEL_4c2ea5b4d1994e9187b6273cc0d025d6",
              "IPY_MODEL_6ff1d8b582534289a6bb2e4827f3c6fe",
              "IPY_MODEL_225823fb722b47c3b12da0e1f321c3cb"
            ],
            "layout": "IPY_MODEL_730c05721b314b5ea02852d9174088f0"
          }
        },
        "4c2ea5b4d1994e9187b6273cc0d025d6": {
          "model_module": "@jupyter-widgets/controls",
          "model_name": "HTMLModel",
          "model_module_version": "1.5.0",
          "state": {
            "_dom_classes": [],
            "_model_module": "@jupyter-widgets/controls",
            "_model_module_version": "1.5.0",
            "_model_name": "HTMLModel",
            "_view_count": null,
            "_view_module": "@jupyter-widgets/controls",
            "_view_module_version": "1.5.0",
            "_view_name": "HTMLView",
            "description": "",
            "description_tooltip": null,
            "layout": "IPY_MODEL_1662f7ceb583423aa3c61ccd63f2db62",
            "placeholder": "​",
            "style": "IPY_MODEL_50a0fc22bb5640169e7bf55f3b72bfb7",
            "value": "Downloading (…)l-00006-of-00008.bin: 100%"
          }
        },
        "6ff1d8b582534289a6bb2e4827f3c6fe": {
          "model_module": "@jupyter-widgets/controls",
          "model_name": "FloatProgressModel",
          "model_module_version": "1.5.0",
          "state": {
            "_dom_classes": [],
            "_model_module": "@jupyter-widgets/controls",
            "_model_module_version": "1.5.0",
            "_model_name": "FloatProgressModel",
            "_view_count": null,
            "_view_module": "@jupyter-widgets/controls",
            "_view_module_version": "1.5.0",
            "_view_name": "ProgressView",
            "bar_style": "success",
            "description": "",
            "description_tooltip": null,
            "layout": "IPY_MODEL_964c311fbff14734b35448daa514f6e3",
            "max": 1946253333,
            "min": 0,
            "orientation": "horizontal",
            "style": "IPY_MODEL_cbc93db95b46411facb486b26a65434f",
            "value": 1946253333
          }
        },
        "225823fb722b47c3b12da0e1f321c3cb": {
          "model_module": "@jupyter-widgets/controls",
          "model_name": "HTMLModel",
          "model_module_version": "1.5.0",
          "state": {
            "_dom_classes": [],
            "_model_module": "@jupyter-widgets/controls",
            "_model_module_version": "1.5.0",
            "_model_name": "HTMLModel",
            "_view_count": null,
            "_view_module": "@jupyter-widgets/controls",
            "_view_module_version": "1.5.0",
            "_view_name": "HTMLView",
            "description": "",
            "description_tooltip": null,
            "layout": "IPY_MODEL_ae17818bdbbd486f9be64d4cc19b9330",
            "placeholder": "​",
            "style": "IPY_MODEL_436ffa65a3ef469fb861e85dea8f0ce3",
            "value": " 1.95G/1.95G [00:44&lt;00:00, 52.2MB/s]"
          }
        },
        "730c05721b314b5ea02852d9174088f0": {
          "model_module": "@jupyter-widgets/base",
          "model_name": "LayoutModel",
          "model_module_version": "1.2.0",
          "state": {
            "_model_module": "@jupyter-widgets/base",
            "_model_module_version": "1.2.0",
            "_model_name": "LayoutModel",
            "_view_count": null,
            "_view_module": "@jupyter-widgets/base",
            "_view_module_version": "1.2.0",
            "_view_name": "LayoutView",
            "align_content": null,
            "align_items": null,
            "align_self": null,
            "border": null,
            "bottom": null,
            "display": null,
            "flex": null,
            "flex_flow": null,
            "grid_area": null,
            "grid_auto_columns": null,
            "grid_auto_flow": null,
            "grid_auto_rows": null,
            "grid_column": null,
            "grid_gap": null,
            "grid_row": null,
            "grid_template_areas": null,
            "grid_template_columns": null,
            "grid_template_rows": null,
            "height": null,
            "justify_content": null,
            "justify_items": null,
            "left": null,
            "margin": null,
            "max_height": null,
            "max_width": null,
            "min_height": null,
            "min_width": null,
            "object_fit": null,
            "object_position": null,
            "order": null,
            "overflow": null,
            "overflow_x": null,
            "overflow_y": null,
            "padding": null,
            "right": null,
            "top": null,
            "visibility": null,
            "width": null
          }
        },
        "1662f7ceb583423aa3c61ccd63f2db62": {
          "model_module": "@jupyter-widgets/base",
          "model_name": "LayoutModel",
          "model_module_version": "1.2.0",
          "state": {
            "_model_module": "@jupyter-widgets/base",
            "_model_module_version": "1.2.0",
            "_model_name": "LayoutModel",
            "_view_count": null,
            "_view_module": "@jupyter-widgets/base",
            "_view_module_version": "1.2.0",
            "_view_name": "LayoutView",
            "align_content": null,
            "align_items": null,
            "align_self": null,
            "border": null,
            "bottom": null,
            "display": null,
            "flex": null,
            "flex_flow": null,
            "grid_area": null,
            "grid_auto_columns": null,
            "grid_auto_flow": null,
            "grid_auto_rows": null,
            "grid_column": null,
            "grid_gap": null,
            "grid_row": null,
            "grid_template_areas": null,
            "grid_template_columns": null,
            "grid_template_rows": null,
            "height": null,
            "justify_content": null,
            "justify_items": null,
            "left": null,
            "margin": null,
            "max_height": null,
            "max_width": null,
            "min_height": null,
            "min_width": null,
            "object_fit": null,
            "object_position": null,
            "order": null,
            "overflow": null,
            "overflow_x": null,
            "overflow_y": null,
            "padding": null,
            "right": null,
            "top": null,
            "visibility": null,
            "width": null
          }
        },
        "50a0fc22bb5640169e7bf55f3b72bfb7": {
          "model_module": "@jupyter-widgets/controls",
          "model_name": "DescriptionStyleModel",
          "model_module_version": "1.5.0",
          "state": {
            "_model_module": "@jupyter-widgets/controls",
            "_model_module_version": "1.5.0",
            "_model_name": "DescriptionStyleModel",
            "_view_count": null,
            "_view_module": "@jupyter-widgets/base",
            "_view_module_version": "1.2.0",
            "_view_name": "StyleView",
            "description_width": ""
          }
        },
        "964c311fbff14734b35448daa514f6e3": {
          "model_module": "@jupyter-widgets/base",
          "model_name": "LayoutModel",
          "model_module_version": "1.2.0",
          "state": {
            "_model_module": "@jupyter-widgets/base",
            "_model_module_version": "1.2.0",
            "_model_name": "LayoutModel",
            "_view_count": null,
            "_view_module": "@jupyter-widgets/base",
            "_view_module_version": "1.2.0",
            "_view_name": "LayoutView",
            "align_content": null,
            "align_items": null,
            "align_self": null,
            "border": null,
            "bottom": null,
            "display": null,
            "flex": null,
            "flex_flow": null,
            "grid_area": null,
            "grid_auto_columns": null,
            "grid_auto_flow": null,
            "grid_auto_rows": null,
            "grid_column": null,
            "grid_gap": null,
            "grid_row": null,
            "grid_template_areas": null,
            "grid_template_columns": null,
            "grid_template_rows": null,
            "height": null,
            "justify_content": null,
            "justify_items": null,
            "left": null,
            "margin": null,
            "max_height": null,
            "max_width": null,
            "min_height": null,
            "min_width": null,
            "object_fit": null,
            "object_position": null,
            "order": null,
            "overflow": null,
            "overflow_x": null,
            "overflow_y": null,
            "padding": null,
            "right": null,
            "top": null,
            "visibility": null,
            "width": null
          }
        },
        "cbc93db95b46411facb486b26a65434f": {
          "model_module": "@jupyter-widgets/controls",
          "model_name": "ProgressStyleModel",
          "model_module_version": "1.5.0",
          "state": {
            "_model_module": "@jupyter-widgets/controls",
            "_model_module_version": "1.5.0",
            "_model_name": "ProgressStyleModel",
            "_view_count": null,
            "_view_module": "@jupyter-widgets/base",
            "_view_module_version": "1.2.0",
            "_view_name": "StyleView",
            "bar_color": null,
            "description_width": ""
          }
        },
        "ae17818bdbbd486f9be64d4cc19b9330": {
          "model_module": "@jupyter-widgets/base",
          "model_name": "LayoutModel",
          "model_module_version": "1.2.0",
          "state": {
            "_model_module": "@jupyter-widgets/base",
            "_model_module_version": "1.2.0",
            "_model_name": "LayoutModel",
            "_view_count": null,
            "_view_module": "@jupyter-widgets/base",
            "_view_module_version": "1.2.0",
            "_view_name": "LayoutView",
            "align_content": null,
            "align_items": null,
            "align_self": null,
            "border": null,
            "bottom": null,
            "display": null,
            "flex": null,
            "flex_flow": null,
            "grid_area": null,
            "grid_auto_columns": null,
            "grid_auto_flow": null,
            "grid_auto_rows": null,
            "grid_column": null,
            "grid_gap": null,
            "grid_row": null,
            "grid_template_areas": null,
            "grid_template_columns": null,
            "grid_template_rows": null,
            "height": null,
            "justify_content": null,
            "justify_items": null,
            "left": null,
            "margin": null,
            "max_height": null,
            "max_width": null,
            "min_height": null,
            "min_width": null,
            "object_fit": null,
            "object_position": null,
            "order": null,
            "overflow": null,
            "overflow_x": null,
            "overflow_y": null,
            "padding": null,
            "right": null,
            "top": null,
            "visibility": null,
            "width": null
          }
        },
        "436ffa65a3ef469fb861e85dea8f0ce3": {
          "model_module": "@jupyter-widgets/controls",
          "model_name": "DescriptionStyleModel",
          "model_module_version": "1.5.0",
          "state": {
            "_model_module": "@jupyter-widgets/controls",
            "_model_module_version": "1.5.0",
            "_model_name": "DescriptionStyleModel",
            "_view_count": null,
            "_view_module": "@jupyter-widgets/base",
            "_view_module_version": "1.2.0",
            "_view_name": "StyleView",
            "description_width": ""
          }
        },
        "3556ba2cd80c4cd0b61d1fdada4e1b28": {
          "model_module": "@jupyter-widgets/controls",
          "model_name": "HBoxModel",
          "model_module_version": "1.5.0",
          "state": {
            "_dom_classes": [],
            "_model_module": "@jupyter-widgets/controls",
            "_model_module_version": "1.5.0",
            "_model_name": "HBoxModel",
            "_view_count": null,
            "_view_module": "@jupyter-widgets/controls",
            "_view_module_version": "1.5.0",
            "_view_name": "HBoxView",
            "box_style": "",
            "children": [
              "IPY_MODEL_67c40012778b4b629272aaa5fd8c1629",
              "IPY_MODEL_ad86475da96b4edc810c86c4d032fee6",
              "IPY_MODEL_955cbbc597914e01890ab73fa9760e6b"
            ],
            "layout": "IPY_MODEL_88f3c76cf727434ca2b5af5809d26a9a"
          }
        },
        "67c40012778b4b629272aaa5fd8c1629": {
          "model_module": "@jupyter-widgets/controls",
          "model_name": "HTMLModel",
          "model_module_version": "1.5.0",
          "state": {
            "_dom_classes": [],
            "_model_module": "@jupyter-widgets/controls",
            "_model_module_version": "1.5.0",
            "_model_name": "HTMLModel",
            "_view_count": null,
            "_view_module": "@jupyter-widgets/controls",
            "_view_module_version": "1.5.0",
            "_view_name": "HTMLView",
            "description": "",
            "description_tooltip": null,
            "layout": "IPY_MODEL_3f4c74bb9caf4498a26d7b14a598b20c",
            "placeholder": "​",
            "style": "IPY_MODEL_81f4ecc8d98048d6820691b8bad7e70a",
            "value": "Downloading (…)l-00007-of-00008.bin: 100%"
          }
        },
        "ad86475da96b4edc810c86c4d032fee6": {
          "model_module": "@jupyter-widgets/controls",
          "model_name": "FloatProgressModel",
          "model_module_version": "1.5.0",
          "state": {
            "_dom_classes": [],
            "_model_module": "@jupyter-widgets/controls",
            "_model_module_version": "1.5.0",
            "_model_name": "FloatProgressModel",
            "_view_count": null,
            "_view_module": "@jupyter-widgets/controls",
            "_view_module_version": "1.5.0",
            "_view_name": "ProgressView",
            "bar_style": "success",
            "description": "",
            "description_tooltip": null,
            "layout": "IPY_MODEL_fabe0b19e18b4db08f51fb971582fdd0",
            "max": 1979789691,
            "min": 0,
            "orientation": "horizontal",
            "style": "IPY_MODEL_eac332c0336b498bafcd5311f3493290",
            "value": 1979789691
          }
        },
        "955cbbc597914e01890ab73fa9760e6b": {
          "model_module": "@jupyter-widgets/controls",
          "model_name": "HTMLModel",
          "model_module_version": "1.5.0",
          "state": {
            "_dom_classes": [],
            "_model_module": "@jupyter-widgets/controls",
            "_model_module_version": "1.5.0",
            "_model_name": "HTMLModel",
            "_view_count": null,
            "_view_module": "@jupyter-widgets/controls",
            "_view_module_version": "1.5.0",
            "_view_name": "HTMLView",
            "description": "",
            "description_tooltip": null,
            "layout": "IPY_MODEL_c039b655db1b4d4f9b344af72c543dca",
            "placeholder": "​",
            "style": "IPY_MODEL_bad16ee0785749309d37683f3d6363e2",
            "value": " 1.98G/1.98G [00:44&lt;00:00, 36.6MB/s]"
          }
        },
        "88f3c76cf727434ca2b5af5809d26a9a": {
          "model_module": "@jupyter-widgets/base",
          "model_name": "LayoutModel",
          "model_module_version": "1.2.0",
          "state": {
            "_model_module": "@jupyter-widgets/base",
            "_model_module_version": "1.2.0",
            "_model_name": "LayoutModel",
            "_view_count": null,
            "_view_module": "@jupyter-widgets/base",
            "_view_module_version": "1.2.0",
            "_view_name": "LayoutView",
            "align_content": null,
            "align_items": null,
            "align_self": null,
            "border": null,
            "bottom": null,
            "display": null,
            "flex": null,
            "flex_flow": null,
            "grid_area": null,
            "grid_auto_columns": null,
            "grid_auto_flow": null,
            "grid_auto_rows": null,
            "grid_column": null,
            "grid_gap": null,
            "grid_row": null,
            "grid_template_areas": null,
            "grid_template_columns": null,
            "grid_template_rows": null,
            "height": null,
            "justify_content": null,
            "justify_items": null,
            "left": null,
            "margin": null,
            "max_height": null,
            "max_width": null,
            "min_height": null,
            "min_width": null,
            "object_fit": null,
            "object_position": null,
            "order": null,
            "overflow": null,
            "overflow_x": null,
            "overflow_y": null,
            "padding": null,
            "right": null,
            "top": null,
            "visibility": null,
            "width": null
          }
        },
        "3f4c74bb9caf4498a26d7b14a598b20c": {
          "model_module": "@jupyter-widgets/base",
          "model_name": "LayoutModel",
          "model_module_version": "1.2.0",
          "state": {
            "_model_module": "@jupyter-widgets/base",
            "_model_module_version": "1.2.0",
            "_model_name": "LayoutModel",
            "_view_count": null,
            "_view_module": "@jupyter-widgets/base",
            "_view_module_version": "1.2.0",
            "_view_name": "LayoutView",
            "align_content": null,
            "align_items": null,
            "align_self": null,
            "border": null,
            "bottom": null,
            "display": null,
            "flex": null,
            "flex_flow": null,
            "grid_area": null,
            "grid_auto_columns": null,
            "grid_auto_flow": null,
            "grid_auto_rows": null,
            "grid_column": null,
            "grid_gap": null,
            "grid_row": null,
            "grid_template_areas": null,
            "grid_template_columns": null,
            "grid_template_rows": null,
            "height": null,
            "justify_content": null,
            "justify_items": null,
            "left": null,
            "margin": null,
            "max_height": null,
            "max_width": null,
            "min_height": null,
            "min_width": null,
            "object_fit": null,
            "object_position": null,
            "order": null,
            "overflow": null,
            "overflow_x": null,
            "overflow_y": null,
            "padding": null,
            "right": null,
            "top": null,
            "visibility": null,
            "width": null
          }
        },
        "81f4ecc8d98048d6820691b8bad7e70a": {
          "model_module": "@jupyter-widgets/controls",
          "model_name": "DescriptionStyleModel",
          "model_module_version": "1.5.0",
          "state": {
            "_model_module": "@jupyter-widgets/controls",
            "_model_module_version": "1.5.0",
            "_model_name": "DescriptionStyleModel",
            "_view_count": null,
            "_view_module": "@jupyter-widgets/base",
            "_view_module_version": "1.2.0",
            "_view_name": "StyleView",
            "description_width": ""
          }
        },
        "fabe0b19e18b4db08f51fb971582fdd0": {
          "model_module": "@jupyter-widgets/base",
          "model_name": "LayoutModel",
          "model_module_version": "1.2.0",
          "state": {
            "_model_module": "@jupyter-widgets/base",
            "_model_module_version": "1.2.0",
            "_model_name": "LayoutModel",
            "_view_count": null,
            "_view_module": "@jupyter-widgets/base",
            "_view_module_version": "1.2.0",
            "_view_name": "LayoutView",
            "align_content": null,
            "align_items": null,
            "align_self": null,
            "border": null,
            "bottom": null,
            "display": null,
            "flex": null,
            "flex_flow": null,
            "grid_area": null,
            "grid_auto_columns": null,
            "grid_auto_flow": null,
            "grid_auto_rows": null,
            "grid_column": null,
            "grid_gap": null,
            "grid_row": null,
            "grid_template_areas": null,
            "grid_template_columns": null,
            "grid_template_rows": null,
            "height": null,
            "justify_content": null,
            "justify_items": null,
            "left": null,
            "margin": null,
            "max_height": null,
            "max_width": null,
            "min_height": null,
            "min_width": null,
            "object_fit": null,
            "object_position": null,
            "order": null,
            "overflow": null,
            "overflow_x": null,
            "overflow_y": null,
            "padding": null,
            "right": null,
            "top": null,
            "visibility": null,
            "width": null
          }
        },
        "eac332c0336b498bafcd5311f3493290": {
          "model_module": "@jupyter-widgets/controls",
          "model_name": "ProgressStyleModel",
          "model_module_version": "1.5.0",
          "state": {
            "_model_module": "@jupyter-widgets/controls",
            "_model_module_version": "1.5.0",
            "_model_name": "ProgressStyleModel",
            "_view_count": null,
            "_view_module": "@jupyter-widgets/base",
            "_view_module_version": "1.2.0",
            "_view_name": "StyleView",
            "bar_color": null,
            "description_width": ""
          }
        },
        "c039b655db1b4d4f9b344af72c543dca": {
          "model_module": "@jupyter-widgets/base",
          "model_name": "LayoutModel",
          "model_module_version": "1.2.0",
          "state": {
            "_model_module": "@jupyter-widgets/base",
            "_model_module_version": "1.2.0",
            "_model_name": "LayoutModel",
            "_view_count": null,
            "_view_module": "@jupyter-widgets/base",
            "_view_module_version": "1.2.0",
            "_view_name": "LayoutView",
            "align_content": null,
            "align_items": null,
            "align_self": null,
            "border": null,
            "bottom": null,
            "display": null,
            "flex": null,
            "flex_flow": null,
            "grid_area": null,
            "grid_auto_columns": null,
            "grid_auto_flow": null,
            "grid_auto_rows": null,
            "grid_column": null,
            "grid_gap": null,
            "grid_row": null,
            "grid_template_areas": null,
            "grid_template_columns": null,
            "grid_template_rows": null,
            "height": null,
            "justify_content": null,
            "justify_items": null,
            "left": null,
            "margin": null,
            "max_height": null,
            "max_width": null,
            "min_height": null,
            "min_width": null,
            "object_fit": null,
            "object_position": null,
            "order": null,
            "overflow": null,
            "overflow_x": null,
            "overflow_y": null,
            "padding": null,
            "right": null,
            "top": null,
            "visibility": null,
            "width": null
          }
        },
        "bad16ee0785749309d37683f3d6363e2": {
          "model_module": "@jupyter-widgets/controls",
          "model_name": "DescriptionStyleModel",
          "model_module_version": "1.5.0",
          "state": {
            "_model_module": "@jupyter-widgets/controls",
            "_model_module_version": "1.5.0",
            "_model_name": "DescriptionStyleModel",
            "_view_count": null,
            "_view_module": "@jupyter-widgets/base",
            "_view_module_version": "1.2.0",
            "_view_name": "StyleView",
            "description_width": ""
          }
        },
        "e043d1437c6244328999253a9cdba800": {
          "model_module": "@jupyter-widgets/controls",
          "model_name": "HBoxModel",
          "model_module_version": "1.5.0",
          "state": {
            "_dom_classes": [],
            "_model_module": "@jupyter-widgets/controls",
            "_model_module_version": "1.5.0",
            "_model_name": "HBoxModel",
            "_view_count": null,
            "_view_module": "@jupyter-widgets/controls",
            "_view_module_version": "1.5.0",
            "_view_name": "HBoxView",
            "box_style": "",
            "children": [
              "IPY_MODEL_9d8cc82d7e254084aebe0b80148a39dd",
              "IPY_MODEL_774202b6ad444a28a273930c577a1945",
              "IPY_MODEL_13179b5245b14776a98f6fd8309f541b"
            ],
            "layout": "IPY_MODEL_9d6a355841014ca99d5cee0d5583d8dc"
          }
        },
        "9d8cc82d7e254084aebe0b80148a39dd": {
          "model_module": "@jupyter-widgets/controls",
          "model_name": "HTMLModel",
          "model_module_version": "1.5.0",
          "state": {
            "_dom_classes": [],
            "_model_module": "@jupyter-widgets/controls",
            "_model_module_version": "1.5.0",
            "_model_name": "HTMLModel",
            "_view_count": null,
            "_view_module": "@jupyter-widgets/controls",
            "_view_module_version": "1.5.0",
            "_view_name": "HTMLView",
            "description": "",
            "description_tooltip": null,
            "layout": "IPY_MODEL_146b51bd8f384c3a939b61b1e838317e",
            "placeholder": "​",
            "style": "IPY_MODEL_91d1df3f2c9e4926ab00f79226232959",
            "value": "Downloading (…)l-00008-of-00008.bin: 100%"
          }
        },
        "774202b6ad444a28a273930c577a1945": {
          "model_module": "@jupyter-widgets/controls",
          "model_name": "FloatProgressModel",
          "model_module_version": "1.5.0",
          "state": {
            "_dom_classes": [],
            "_model_module": "@jupyter-widgets/controls",
            "_model_module_version": "1.5.0",
            "_model_name": "FloatProgressModel",
            "_view_count": null,
            "_view_module": "@jupyter-widgets/controls",
            "_view_module_version": "1.5.0",
            "_view_name": "ProgressView",
            "bar_style": "success",
            "description": "",
            "description_tooltip": null,
            "layout": "IPY_MODEL_675a2477148040d9aee6d06c82dac01b",
            "max": 815838027,
            "min": 0,
            "orientation": "horizontal",
            "style": "IPY_MODEL_dec37bce66c7463e98037891b783d46a",
            "value": 815838027
          }
        },
        "13179b5245b14776a98f6fd8309f541b": {
          "model_module": "@jupyter-widgets/controls",
          "model_name": "HTMLModel",
          "model_module_version": "1.5.0",
          "state": {
            "_dom_classes": [],
            "_model_module": "@jupyter-widgets/controls",
            "_model_module_version": "1.5.0",
            "_model_name": "HTMLModel",
            "_view_count": null,
            "_view_module": "@jupyter-widgets/controls",
            "_view_module_version": "1.5.0",
            "_view_name": "HTMLView",
            "description": "",
            "description_tooltip": null,
            "layout": "IPY_MODEL_c10a544979ca47dfb97f4bd9fb13087d",
            "placeholder": "​",
            "style": "IPY_MODEL_358160dafcc04693a2aa6a4b5c1e2e62",
            "value": " 816M/816M [00:21&lt;00:00, 46.5MB/s]"
          }
        },
        "9d6a355841014ca99d5cee0d5583d8dc": {
          "model_module": "@jupyter-widgets/base",
          "model_name": "LayoutModel",
          "model_module_version": "1.2.0",
          "state": {
            "_model_module": "@jupyter-widgets/base",
            "_model_module_version": "1.2.0",
            "_model_name": "LayoutModel",
            "_view_count": null,
            "_view_module": "@jupyter-widgets/base",
            "_view_module_version": "1.2.0",
            "_view_name": "LayoutView",
            "align_content": null,
            "align_items": null,
            "align_self": null,
            "border": null,
            "bottom": null,
            "display": null,
            "flex": null,
            "flex_flow": null,
            "grid_area": null,
            "grid_auto_columns": null,
            "grid_auto_flow": null,
            "grid_auto_rows": null,
            "grid_column": null,
            "grid_gap": null,
            "grid_row": null,
            "grid_template_areas": null,
            "grid_template_columns": null,
            "grid_template_rows": null,
            "height": null,
            "justify_content": null,
            "justify_items": null,
            "left": null,
            "margin": null,
            "max_height": null,
            "max_width": null,
            "min_height": null,
            "min_width": null,
            "object_fit": null,
            "object_position": null,
            "order": null,
            "overflow": null,
            "overflow_x": null,
            "overflow_y": null,
            "padding": null,
            "right": null,
            "top": null,
            "visibility": null,
            "width": null
          }
        },
        "146b51bd8f384c3a939b61b1e838317e": {
          "model_module": "@jupyter-widgets/base",
          "model_name": "LayoutModel",
          "model_module_version": "1.2.0",
          "state": {
            "_model_module": "@jupyter-widgets/base",
            "_model_module_version": "1.2.0",
            "_model_name": "LayoutModel",
            "_view_count": null,
            "_view_module": "@jupyter-widgets/base",
            "_view_module_version": "1.2.0",
            "_view_name": "LayoutView",
            "align_content": null,
            "align_items": null,
            "align_self": null,
            "border": null,
            "bottom": null,
            "display": null,
            "flex": null,
            "flex_flow": null,
            "grid_area": null,
            "grid_auto_columns": null,
            "grid_auto_flow": null,
            "grid_auto_rows": null,
            "grid_column": null,
            "grid_gap": null,
            "grid_row": null,
            "grid_template_areas": null,
            "grid_template_columns": null,
            "grid_template_rows": null,
            "height": null,
            "justify_content": null,
            "justify_items": null,
            "left": null,
            "margin": null,
            "max_height": null,
            "max_width": null,
            "min_height": null,
            "min_width": null,
            "object_fit": null,
            "object_position": null,
            "order": null,
            "overflow": null,
            "overflow_x": null,
            "overflow_y": null,
            "padding": null,
            "right": null,
            "top": null,
            "visibility": null,
            "width": null
          }
        },
        "91d1df3f2c9e4926ab00f79226232959": {
          "model_module": "@jupyter-widgets/controls",
          "model_name": "DescriptionStyleModel",
          "model_module_version": "1.5.0",
          "state": {
            "_model_module": "@jupyter-widgets/controls",
            "_model_module_version": "1.5.0",
            "_model_name": "DescriptionStyleModel",
            "_view_count": null,
            "_view_module": "@jupyter-widgets/base",
            "_view_module_version": "1.2.0",
            "_view_name": "StyleView",
            "description_width": ""
          }
        },
        "675a2477148040d9aee6d06c82dac01b": {
          "model_module": "@jupyter-widgets/base",
          "model_name": "LayoutModel",
          "model_module_version": "1.2.0",
          "state": {
            "_model_module": "@jupyter-widgets/base",
            "_model_module_version": "1.2.0",
            "_model_name": "LayoutModel",
            "_view_count": null,
            "_view_module": "@jupyter-widgets/base",
            "_view_module_version": "1.2.0",
            "_view_name": "LayoutView",
            "align_content": null,
            "align_items": null,
            "align_self": null,
            "border": null,
            "bottom": null,
            "display": null,
            "flex": null,
            "flex_flow": null,
            "grid_area": null,
            "grid_auto_columns": null,
            "grid_auto_flow": null,
            "grid_auto_rows": null,
            "grid_column": null,
            "grid_gap": null,
            "grid_row": null,
            "grid_template_areas": null,
            "grid_template_columns": null,
            "grid_template_rows": null,
            "height": null,
            "justify_content": null,
            "justify_items": null,
            "left": null,
            "margin": null,
            "max_height": null,
            "max_width": null,
            "min_height": null,
            "min_width": null,
            "object_fit": null,
            "object_position": null,
            "order": null,
            "overflow": null,
            "overflow_x": null,
            "overflow_y": null,
            "padding": null,
            "right": null,
            "top": null,
            "visibility": null,
            "width": null
          }
        },
        "dec37bce66c7463e98037891b783d46a": {
          "model_module": "@jupyter-widgets/controls",
          "model_name": "ProgressStyleModel",
          "model_module_version": "1.5.0",
          "state": {
            "_model_module": "@jupyter-widgets/controls",
            "_model_module_version": "1.5.0",
            "_model_name": "ProgressStyleModel",
            "_view_count": null,
            "_view_module": "@jupyter-widgets/base",
            "_view_module_version": "1.2.0",
            "_view_name": "StyleView",
            "bar_color": null,
            "description_width": ""
          }
        },
        "c10a544979ca47dfb97f4bd9fb13087d": {
          "model_module": "@jupyter-widgets/base",
          "model_name": "LayoutModel",
          "model_module_version": "1.2.0",
          "state": {
            "_model_module": "@jupyter-widgets/base",
            "_model_module_version": "1.2.0",
            "_model_name": "LayoutModel",
            "_view_count": null,
            "_view_module": "@jupyter-widgets/base",
            "_view_module_version": "1.2.0",
            "_view_name": "LayoutView",
            "align_content": null,
            "align_items": null,
            "align_self": null,
            "border": null,
            "bottom": null,
            "display": null,
            "flex": null,
            "flex_flow": null,
            "grid_area": null,
            "grid_auto_columns": null,
            "grid_auto_flow": null,
            "grid_auto_rows": null,
            "grid_column": null,
            "grid_gap": null,
            "grid_row": null,
            "grid_template_areas": null,
            "grid_template_columns": null,
            "grid_template_rows": null,
            "height": null,
            "justify_content": null,
            "justify_items": null,
            "left": null,
            "margin": null,
            "max_height": null,
            "max_width": null,
            "min_height": null,
            "min_width": null,
            "object_fit": null,
            "object_position": null,
            "order": null,
            "overflow": null,
            "overflow_x": null,
            "overflow_y": null,
            "padding": null,
            "right": null,
            "top": null,
            "visibility": null,
            "width": null
          }
        },
        "358160dafcc04693a2aa6a4b5c1e2e62": {
          "model_module": "@jupyter-widgets/controls",
          "model_name": "DescriptionStyleModel",
          "model_module_version": "1.5.0",
          "state": {
            "_model_module": "@jupyter-widgets/controls",
            "_model_module_version": "1.5.0",
            "_model_name": "DescriptionStyleModel",
            "_view_count": null,
            "_view_module": "@jupyter-widgets/base",
            "_view_module_version": "1.2.0",
            "_view_name": "StyleView",
            "description_width": ""
          }
        },
        "d6bd8bae282c417687b448a77e1fda68": {
          "model_module": "@jupyter-widgets/controls",
          "model_name": "HBoxModel",
          "model_module_version": "1.5.0",
          "state": {
            "_dom_classes": [],
            "_model_module": "@jupyter-widgets/controls",
            "_model_module_version": "1.5.0",
            "_model_name": "HBoxModel",
            "_view_count": null,
            "_view_module": "@jupyter-widgets/controls",
            "_view_module_version": "1.5.0",
            "_view_name": "HBoxView",
            "box_style": "",
            "children": [
              "IPY_MODEL_34456268d3134529a33e87aeac49f7ec",
              "IPY_MODEL_ee2717ebc0c34c38944a32e7a92380fb",
              "IPY_MODEL_5451a0a1258f4382971abf7759e1365a"
            ],
            "layout": "IPY_MODEL_ba2e3f9237944897b013e1e952b1e0fc"
          }
        },
        "34456268d3134529a33e87aeac49f7ec": {
          "model_module": "@jupyter-widgets/controls",
          "model_name": "HTMLModel",
          "model_module_version": "1.5.0",
          "state": {
            "_dom_classes": [],
            "_model_module": "@jupyter-widgets/controls",
            "_model_module_version": "1.5.0",
            "_model_name": "HTMLModel",
            "_view_count": null,
            "_view_module": "@jupyter-widgets/controls",
            "_view_module_version": "1.5.0",
            "_view_name": "HTMLView",
            "description": "",
            "description_tooltip": null,
            "layout": "IPY_MODEL_51d3363dfa234163a239a38fc007268b",
            "placeholder": "​",
            "style": "IPY_MODEL_ded29db1ba5f432384a31823b32c7595",
            "value": "Loading checkpoint shards: 100%"
          }
        },
        "ee2717ebc0c34c38944a32e7a92380fb": {
          "model_module": "@jupyter-widgets/controls",
          "model_name": "FloatProgressModel",
          "model_module_version": "1.5.0",
          "state": {
            "_dom_classes": [],
            "_model_module": "@jupyter-widgets/controls",
            "_model_module_version": "1.5.0",
            "_model_name": "FloatProgressModel",
            "_view_count": null,
            "_view_module": "@jupyter-widgets/controls",
            "_view_module_version": "1.5.0",
            "_view_name": "ProgressView",
            "bar_style": "success",
            "description": "",
            "description_tooltip": null,
            "layout": "IPY_MODEL_a52168f0c3954b099bcf25b166de7105",
            "max": 8,
            "min": 0,
            "orientation": "horizontal",
            "style": "IPY_MODEL_bac70cf3462348ec8c45acb7bdca1b4c",
            "value": 8
          }
        },
        "5451a0a1258f4382971abf7759e1365a": {
          "model_module": "@jupyter-widgets/controls",
          "model_name": "HTMLModel",
          "model_module_version": "1.5.0",
          "state": {
            "_dom_classes": [],
            "_model_module": "@jupyter-widgets/controls",
            "_model_module_version": "1.5.0",
            "_model_name": "HTMLModel",
            "_view_count": null,
            "_view_module": "@jupyter-widgets/controls",
            "_view_module_version": "1.5.0",
            "_view_name": "HTMLView",
            "description": "",
            "description_tooltip": null,
            "layout": "IPY_MODEL_34961185d70f4f2f9771362467577d97",
            "placeholder": "​",
            "style": "IPY_MODEL_de4bc3883bd54463a782503943367abc",
            "value": " 8/8 [00:14&lt;00:00,  1.58s/it]"
          }
        },
        "ba2e3f9237944897b013e1e952b1e0fc": {
          "model_module": "@jupyter-widgets/base",
          "model_name": "LayoutModel",
          "model_module_version": "1.2.0",
          "state": {
            "_model_module": "@jupyter-widgets/base",
            "_model_module_version": "1.2.0",
            "_model_name": "LayoutModel",
            "_view_count": null,
            "_view_module": "@jupyter-widgets/base",
            "_view_module_version": "1.2.0",
            "_view_name": "LayoutView",
            "align_content": null,
            "align_items": null,
            "align_self": null,
            "border": null,
            "bottom": null,
            "display": null,
            "flex": null,
            "flex_flow": null,
            "grid_area": null,
            "grid_auto_columns": null,
            "grid_auto_flow": null,
            "grid_auto_rows": null,
            "grid_column": null,
            "grid_gap": null,
            "grid_row": null,
            "grid_template_areas": null,
            "grid_template_columns": null,
            "grid_template_rows": null,
            "height": null,
            "justify_content": null,
            "justify_items": null,
            "left": null,
            "margin": null,
            "max_height": null,
            "max_width": null,
            "min_height": null,
            "min_width": null,
            "object_fit": null,
            "object_position": null,
            "order": null,
            "overflow": null,
            "overflow_x": null,
            "overflow_y": null,
            "padding": null,
            "right": null,
            "top": null,
            "visibility": null,
            "width": null
          }
        },
        "51d3363dfa234163a239a38fc007268b": {
          "model_module": "@jupyter-widgets/base",
          "model_name": "LayoutModel",
          "model_module_version": "1.2.0",
          "state": {
            "_model_module": "@jupyter-widgets/base",
            "_model_module_version": "1.2.0",
            "_model_name": "LayoutModel",
            "_view_count": null,
            "_view_module": "@jupyter-widgets/base",
            "_view_module_version": "1.2.0",
            "_view_name": "LayoutView",
            "align_content": null,
            "align_items": null,
            "align_self": null,
            "border": null,
            "bottom": null,
            "display": null,
            "flex": null,
            "flex_flow": null,
            "grid_area": null,
            "grid_auto_columns": null,
            "grid_auto_flow": null,
            "grid_auto_rows": null,
            "grid_column": null,
            "grid_gap": null,
            "grid_row": null,
            "grid_template_areas": null,
            "grid_template_columns": null,
            "grid_template_rows": null,
            "height": null,
            "justify_content": null,
            "justify_items": null,
            "left": null,
            "margin": null,
            "max_height": null,
            "max_width": null,
            "min_height": null,
            "min_width": null,
            "object_fit": null,
            "object_position": null,
            "order": null,
            "overflow": null,
            "overflow_x": null,
            "overflow_y": null,
            "padding": null,
            "right": null,
            "top": null,
            "visibility": null,
            "width": null
          }
        },
        "ded29db1ba5f432384a31823b32c7595": {
          "model_module": "@jupyter-widgets/controls",
          "model_name": "DescriptionStyleModel",
          "model_module_version": "1.5.0",
          "state": {
            "_model_module": "@jupyter-widgets/controls",
            "_model_module_version": "1.5.0",
            "_model_name": "DescriptionStyleModel",
            "_view_count": null,
            "_view_module": "@jupyter-widgets/base",
            "_view_module_version": "1.2.0",
            "_view_name": "StyleView",
            "description_width": ""
          }
        },
        "a52168f0c3954b099bcf25b166de7105": {
          "model_module": "@jupyter-widgets/base",
          "model_name": "LayoutModel",
          "model_module_version": "1.2.0",
          "state": {
            "_model_module": "@jupyter-widgets/base",
            "_model_module_version": "1.2.0",
            "_model_name": "LayoutModel",
            "_view_count": null,
            "_view_module": "@jupyter-widgets/base",
            "_view_module_version": "1.2.0",
            "_view_name": "LayoutView",
            "align_content": null,
            "align_items": null,
            "align_self": null,
            "border": null,
            "bottom": null,
            "display": null,
            "flex": null,
            "flex_flow": null,
            "grid_area": null,
            "grid_auto_columns": null,
            "grid_auto_flow": null,
            "grid_auto_rows": null,
            "grid_column": null,
            "grid_gap": null,
            "grid_row": null,
            "grid_template_areas": null,
            "grid_template_columns": null,
            "grid_template_rows": null,
            "height": null,
            "justify_content": null,
            "justify_items": null,
            "left": null,
            "margin": null,
            "max_height": null,
            "max_width": null,
            "min_height": null,
            "min_width": null,
            "object_fit": null,
            "object_position": null,
            "order": null,
            "overflow": null,
            "overflow_x": null,
            "overflow_y": null,
            "padding": null,
            "right": null,
            "top": null,
            "visibility": null,
            "width": null
          }
        },
        "bac70cf3462348ec8c45acb7bdca1b4c": {
          "model_module": "@jupyter-widgets/controls",
          "model_name": "ProgressStyleModel",
          "model_module_version": "1.5.0",
          "state": {
            "_model_module": "@jupyter-widgets/controls",
            "_model_module_version": "1.5.0",
            "_model_name": "ProgressStyleModel",
            "_view_count": null,
            "_view_module": "@jupyter-widgets/base",
            "_view_module_version": "1.2.0",
            "_view_name": "StyleView",
            "bar_color": null,
            "description_width": ""
          }
        },
        "34961185d70f4f2f9771362467577d97": {
          "model_module": "@jupyter-widgets/base",
          "model_name": "LayoutModel",
          "model_module_version": "1.2.0",
          "state": {
            "_model_module": "@jupyter-widgets/base",
            "_model_module_version": "1.2.0",
            "_model_name": "LayoutModel",
            "_view_count": null,
            "_view_module": "@jupyter-widgets/base",
            "_view_module_version": "1.2.0",
            "_view_name": "LayoutView",
            "align_content": null,
            "align_items": null,
            "align_self": null,
            "border": null,
            "bottom": null,
            "display": null,
            "flex": null,
            "flex_flow": null,
            "grid_area": null,
            "grid_auto_columns": null,
            "grid_auto_flow": null,
            "grid_auto_rows": null,
            "grid_column": null,
            "grid_gap": null,
            "grid_row": null,
            "grid_template_areas": null,
            "grid_template_columns": null,
            "grid_template_rows": null,
            "height": null,
            "justify_content": null,
            "justify_items": null,
            "left": null,
            "margin": null,
            "max_height": null,
            "max_width": null,
            "min_height": null,
            "min_width": null,
            "object_fit": null,
            "object_position": null,
            "order": null,
            "overflow": null,
            "overflow_x": null,
            "overflow_y": null,
            "padding": null,
            "right": null,
            "top": null,
            "visibility": null,
            "width": null
          }
        },
        "de4bc3883bd54463a782503943367abc": {
          "model_module": "@jupyter-widgets/controls",
          "model_name": "DescriptionStyleModel",
          "model_module_version": "1.5.0",
          "state": {
            "_model_module": "@jupyter-widgets/controls",
            "_model_module_version": "1.5.0",
            "_model_name": "DescriptionStyleModel",
            "_view_count": null,
            "_view_module": "@jupyter-widgets/base",
            "_view_module_version": "1.2.0",
            "_view_name": "StyleView",
            "description_width": ""
          }
        },
        "5963b25cb53f40eab765ddd94dd32640": {
          "model_module": "@jupyter-widgets/controls",
          "model_name": "HBoxModel",
          "model_module_version": "1.5.0",
          "state": {
            "_dom_classes": [],
            "_model_module": "@jupyter-widgets/controls",
            "_model_module_version": "1.5.0",
            "_model_name": "HBoxModel",
            "_view_count": null,
            "_view_module": "@jupyter-widgets/controls",
            "_view_module_version": "1.5.0",
            "_view_name": "HBoxView",
            "box_style": "",
            "children": [
              "IPY_MODEL_5f9b07732b314240a35df9053cff172b",
              "IPY_MODEL_cab90203730f418a8a616db5150be468",
              "IPY_MODEL_ba4dc153ca7c4b45b5913d9f66c48cf9"
            ],
            "layout": "IPY_MODEL_6c7187fe38d04f5f9ccd31f4e1d8293c"
          }
        },
        "5f9b07732b314240a35df9053cff172b": {
          "model_module": "@jupyter-widgets/controls",
          "model_name": "HTMLModel",
          "model_module_version": "1.5.0",
          "state": {
            "_dom_classes": [],
            "_model_module": "@jupyter-widgets/controls",
            "_model_module_version": "1.5.0",
            "_model_name": "HTMLModel",
            "_view_count": null,
            "_view_module": "@jupyter-widgets/controls",
            "_view_module_version": "1.5.0",
            "_view_name": "HTMLView",
            "description": "",
            "description_tooltip": null,
            "layout": "IPY_MODEL_499584687af24b7d9fcb160aa601e5d9",
            "placeholder": "​",
            "style": "IPY_MODEL_1bdf1c57fefd4c599608a3722bc7f7bc",
            "value": "Loading checkpoint shards: 100%"
          }
        },
        "cab90203730f418a8a616db5150be468": {
          "model_module": "@jupyter-widgets/controls",
          "model_name": "FloatProgressModel",
          "model_module_version": "1.5.0",
          "state": {
            "_dom_classes": [],
            "_model_module": "@jupyter-widgets/controls",
            "_model_module_version": "1.5.0",
            "_model_name": "FloatProgressModel",
            "_view_count": null,
            "_view_module": "@jupyter-widgets/controls",
            "_view_module_version": "1.5.0",
            "_view_name": "ProgressView",
            "bar_style": "success",
            "description": "",
            "description_tooltip": null,
            "layout": "IPY_MODEL_1c14fa01a1e34079ac5cc901c17b77ae",
            "max": 8,
            "min": 0,
            "orientation": "horizontal",
            "style": "IPY_MODEL_3aa81f2f7e5040ad9e73ed93cc172577",
            "value": 8
          }
        },
        "ba4dc153ca7c4b45b5913d9f66c48cf9": {
          "model_module": "@jupyter-widgets/controls",
          "model_name": "HTMLModel",
          "model_module_version": "1.5.0",
          "state": {
            "_dom_classes": [],
            "_model_module": "@jupyter-widgets/controls",
            "_model_module_version": "1.5.0",
            "_model_name": "HTMLModel",
            "_view_count": null,
            "_view_module": "@jupyter-widgets/controls",
            "_view_module_version": "1.5.0",
            "_view_name": "HTMLView",
            "description": "",
            "description_tooltip": null,
            "layout": "IPY_MODEL_b2a854433a19443cb41d27b3c8e4275f",
            "placeholder": "​",
            "style": "IPY_MODEL_dda64eaac7b24c3a9cd8c8de53362547",
            "value": " 8/8 [00:14&lt;00:00,  1.65s/it]"
          }
        },
        "6c7187fe38d04f5f9ccd31f4e1d8293c": {
          "model_module": "@jupyter-widgets/base",
          "model_name": "LayoutModel",
          "model_module_version": "1.2.0",
          "state": {
            "_model_module": "@jupyter-widgets/base",
            "_model_module_version": "1.2.0",
            "_model_name": "LayoutModel",
            "_view_count": null,
            "_view_module": "@jupyter-widgets/base",
            "_view_module_version": "1.2.0",
            "_view_name": "LayoutView",
            "align_content": null,
            "align_items": null,
            "align_self": null,
            "border": null,
            "bottom": null,
            "display": null,
            "flex": null,
            "flex_flow": null,
            "grid_area": null,
            "grid_auto_columns": null,
            "grid_auto_flow": null,
            "grid_auto_rows": null,
            "grid_column": null,
            "grid_gap": null,
            "grid_row": null,
            "grid_template_areas": null,
            "grid_template_columns": null,
            "grid_template_rows": null,
            "height": null,
            "justify_content": null,
            "justify_items": null,
            "left": null,
            "margin": null,
            "max_height": null,
            "max_width": null,
            "min_height": null,
            "min_width": null,
            "object_fit": null,
            "object_position": null,
            "order": null,
            "overflow": null,
            "overflow_x": null,
            "overflow_y": null,
            "padding": null,
            "right": null,
            "top": null,
            "visibility": null,
            "width": null
          }
        },
        "499584687af24b7d9fcb160aa601e5d9": {
          "model_module": "@jupyter-widgets/base",
          "model_name": "LayoutModel",
          "model_module_version": "1.2.0",
          "state": {
            "_model_module": "@jupyter-widgets/base",
            "_model_module_version": "1.2.0",
            "_model_name": "LayoutModel",
            "_view_count": null,
            "_view_module": "@jupyter-widgets/base",
            "_view_module_version": "1.2.0",
            "_view_name": "LayoutView",
            "align_content": null,
            "align_items": null,
            "align_self": null,
            "border": null,
            "bottom": null,
            "display": null,
            "flex": null,
            "flex_flow": null,
            "grid_area": null,
            "grid_auto_columns": null,
            "grid_auto_flow": null,
            "grid_auto_rows": null,
            "grid_column": null,
            "grid_gap": null,
            "grid_row": null,
            "grid_template_areas": null,
            "grid_template_columns": null,
            "grid_template_rows": null,
            "height": null,
            "justify_content": null,
            "justify_items": null,
            "left": null,
            "margin": null,
            "max_height": null,
            "max_width": null,
            "min_height": null,
            "min_width": null,
            "object_fit": null,
            "object_position": null,
            "order": null,
            "overflow": null,
            "overflow_x": null,
            "overflow_y": null,
            "padding": null,
            "right": null,
            "top": null,
            "visibility": null,
            "width": null
          }
        },
        "1bdf1c57fefd4c599608a3722bc7f7bc": {
          "model_module": "@jupyter-widgets/controls",
          "model_name": "DescriptionStyleModel",
          "model_module_version": "1.5.0",
          "state": {
            "_model_module": "@jupyter-widgets/controls",
            "_model_module_version": "1.5.0",
            "_model_name": "DescriptionStyleModel",
            "_view_count": null,
            "_view_module": "@jupyter-widgets/base",
            "_view_module_version": "1.2.0",
            "_view_name": "StyleView",
            "description_width": ""
          }
        },
        "1c14fa01a1e34079ac5cc901c17b77ae": {
          "model_module": "@jupyter-widgets/base",
          "model_name": "LayoutModel",
          "model_module_version": "1.2.0",
          "state": {
            "_model_module": "@jupyter-widgets/base",
            "_model_module_version": "1.2.0",
            "_model_name": "LayoutModel",
            "_view_count": null,
            "_view_module": "@jupyter-widgets/base",
            "_view_module_version": "1.2.0",
            "_view_name": "LayoutView",
            "align_content": null,
            "align_items": null,
            "align_self": null,
            "border": null,
            "bottom": null,
            "display": null,
            "flex": null,
            "flex_flow": null,
            "grid_area": null,
            "grid_auto_columns": null,
            "grid_auto_flow": null,
            "grid_auto_rows": null,
            "grid_column": null,
            "grid_gap": null,
            "grid_row": null,
            "grid_template_areas": null,
            "grid_template_columns": null,
            "grid_template_rows": null,
            "height": null,
            "justify_content": null,
            "justify_items": null,
            "left": null,
            "margin": null,
            "max_height": null,
            "max_width": null,
            "min_height": null,
            "min_width": null,
            "object_fit": null,
            "object_position": null,
            "order": null,
            "overflow": null,
            "overflow_x": null,
            "overflow_y": null,
            "padding": null,
            "right": null,
            "top": null,
            "visibility": null,
            "width": null
          }
        },
        "3aa81f2f7e5040ad9e73ed93cc172577": {
          "model_module": "@jupyter-widgets/controls",
          "model_name": "ProgressStyleModel",
          "model_module_version": "1.5.0",
          "state": {
            "_model_module": "@jupyter-widgets/controls",
            "_model_module_version": "1.5.0",
            "_model_name": "ProgressStyleModel",
            "_view_count": null,
            "_view_module": "@jupyter-widgets/base",
            "_view_module_version": "1.2.0",
            "_view_name": "StyleView",
            "bar_color": null,
            "description_width": ""
          }
        },
        "b2a854433a19443cb41d27b3c8e4275f": {
          "model_module": "@jupyter-widgets/base",
          "model_name": "LayoutModel",
          "model_module_version": "1.2.0",
          "state": {
            "_model_module": "@jupyter-widgets/base",
            "_model_module_version": "1.2.0",
            "_model_name": "LayoutModel",
            "_view_count": null,
            "_view_module": "@jupyter-widgets/base",
            "_view_module_version": "1.2.0",
            "_view_name": "LayoutView",
            "align_content": null,
            "align_items": null,
            "align_self": null,
            "border": null,
            "bottom": null,
            "display": null,
            "flex": null,
            "flex_flow": null,
            "grid_area": null,
            "grid_auto_columns": null,
            "grid_auto_flow": null,
            "grid_auto_rows": null,
            "grid_column": null,
            "grid_gap": null,
            "grid_row": null,
            "grid_template_areas": null,
            "grid_template_columns": null,
            "grid_template_rows": null,
            "height": null,
            "justify_content": null,
            "justify_items": null,
            "left": null,
            "margin": null,
            "max_height": null,
            "max_width": null,
            "min_height": null,
            "min_width": null,
            "object_fit": null,
            "object_position": null,
            "order": null,
            "overflow": null,
            "overflow_x": null,
            "overflow_y": null,
            "padding": null,
            "right": null,
            "top": null,
            "visibility": null,
            "width": null
          }
        },
        "dda64eaac7b24c3a9cd8c8de53362547": {
          "model_module": "@jupyter-widgets/controls",
          "model_name": "DescriptionStyleModel",
          "model_module_version": "1.5.0",
          "state": {
            "_model_module": "@jupyter-widgets/controls",
            "_model_module_version": "1.5.0",
            "_model_name": "DescriptionStyleModel",
            "_view_count": null,
            "_view_module": "@jupyter-widgets/base",
            "_view_module_version": "1.2.0",
            "_view_name": "StyleView",
            "description_width": ""
          }
        },
        "3277e3e3a0d8414abeca2552bad7eb14": {
          "model_module": "@jupyter-widgets/controls",
          "model_name": "HBoxModel",
          "model_module_version": "1.5.0",
          "state": {
            "_dom_classes": [],
            "_model_module": "@jupyter-widgets/controls",
            "_model_module_version": "1.5.0",
            "_model_name": "HBoxModel",
            "_view_count": null,
            "_view_module": "@jupyter-widgets/controls",
            "_view_module_version": "1.5.0",
            "_view_name": "HBoxView",
            "box_style": "",
            "children": [
              "IPY_MODEL_b7479bc1f9b74a4fbc1a912394839fc2",
              "IPY_MODEL_bc210851d4ae4b3a8adc640900fe9d23",
              "IPY_MODEL_6a4c2811f80f44b9ba74fd988719bc18"
            ],
            "layout": "IPY_MODEL_977aeb47f5ba4e7bbf50fcb5bb1fd0ee"
          }
        },
        "b7479bc1f9b74a4fbc1a912394839fc2": {
          "model_module": "@jupyter-widgets/controls",
          "model_name": "HTMLModel",
          "model_module_version": "1.5.0",
          "state": {
            "_dom_classes": [],
            "_model_module": "@jupyter-widgets/controls",
            "_model_module_version": "1.5.0",
            "_model_name": "HTMLModel",
            "_view_count": null,
            "_view_module": "@jupyter-widgets/controls",
            "_view_module_version": "1.5.0",
            "_view_name": "HTMLView",
            "description": "",
            "description_tooltip": null,
            "layout": "IPY_MODEL_e3ce97076b8d49af8c197d7817484e4a",
            "placeholder": "​",
            "style": "IPY_MODEL_23d5cff63a774278b84892a9984dea1c",
            "value": "Downloading (…)neration_config.json: 100%"
          }
        },
        "bc210851d4ae4b3a8adc640900fe9d23": {
          "model_module": "@jupyter-widgets/controls",
          "model_name": "FloatProgressModel",
          "model_module_version": "1.5.0",
          "state": {
            "_dom_classes": [],
            "_model_module": "@jupyter-widgets/controls",
            "_model_module_version": "1.5.0",
            "_model_name": "FloatProgressModel",
            "_view_count": null,
            "_view_module": "@jupyter-widgets/controls",
            "_view_module_version": "1.5.0",
            "_view_name": "ProgressView",
            "bar_style": "success",
            "description": "",
            "description_tooltip": null,
            "layout": "IPY_MODEL_d764c6f7147e43c1bef4c4b6e6af2d06",
            "max": 111,
            "min": 0,
            "orientation": "horizontal",
            "style": "IPY_MODEL_df07367fd8b84709bb3f6df94bff28af",
            "value": 111
          }
        },
        "6a4c2811f80f44b9ba74fd988719bc18": {
          "model_module": "@jupyter-widgets/controls",
          "model_name": "HTMLModel",
          "model_module_version": "1.5.0",
          "state": {
            "_dom_classes": [],
            "_model_module": "@jupyter-widgets/controls",
            "_model_module_version": "1.5.0",
            "_model_name": "HTMLModel",
            "_view_count": null,
            "_view_module": "@jupyter-widgets/controls",
            "_view_module_version": "1.5.0",
            "_view_name": "HTMLView",
            "description": "",
            "description_tooltip": null,
            "layout": "IPY_MODEL_5bb637fd20434523aa849b05702fafea",
            "placeholder": "​",
            "style": "IPY_MODEL_59630449b52a45f8aa5b1946a70b34dc",
            "value": " 111/111 [00:00&lt;00:00, 8.37kB/s]"
          }
        },
        "977aeb47f5ba4e7bbf50fcb5bb1fd0ee": {
          "model_module": "@jupyter-widgets/base",
          "model_name": "LayoutModel",
          "model_module_version": "1.2.0",
          "state": {
            "_model_module": "@jupyter-widgets/base",
            "_model_module_version": "1.2.0",
            "_model_name": "LayoutModel",
            "_view_count": null,
            "_view_module": "@jupyter-widgets/base",
            "_view_module_version": "1.2.0",
            "_view_name": "LayoutView",
            "align_content": null,
            "align_items": null,
            "align_self": null,
            "border": null,
            "bottom": null,
            "display": null,
            "flex": null,
            "flex_flow": null,
            "grid_area": null,
            "grid_auto_columns": null,
            "grid_auto_flow": null,
            "grid_auto_rows": null,
            "grid_column": null,
            "grid_gap": null,
            "grid_row": null,
            "grid_template_areas": null,
            "grid_template_columns": null,
            "grid_template_rows": null,
            "height": null,
            "justify_content": null,
            "justify_items": null,
            "left": null,
            "margin": null,
            "max_height": null,
            "max_width": null,
            "min_height": null,
            "min_width": null,
            "object_fit": null,
            "object_position": null,
            "order": null,
            "overflow": null,
            "overflow_x": null,
            "overflow_y": null,
            "padding": null,
            "right": null,
            "top": null,
            "visibility": null,
            "width": null
          }
        },
        "e3ce97076b8d49af8c197d7817484e4a": {
          "model_module": "@jupyter-widgets/base",
          "model_name": "LayoutModel",
          "model_module_version": "1.2.0",
          "state": {
            "_model_module": "@jupyter-widgets/base",
            "_model_module_version": "1.2.0",
            "_model_name": "LayoutModel",
            "_view_count": null,
            "_view_module": "@jupyter-widgets/base",
            "_view_module_version": "1.2.0",
            "_view_name": "LayoutView",
            "align_content": null,
            "align_items": null,
            "align_self": null,
            "border": null,
            "bottom": null,
            "display": null,
            "flex": null,
            "flex_flow": null,
            "grid_area": null,
            "grid_auto_columns": null,
            "grid_auto_flow": null,
            "grid_auto_rows": null,
            "grid_column": null,
            "grid_gap": null,
            "grid_row": null,
            "grid_template_areas": null,
            "grid_template_columns": null,
            "grid_template_rows": null,
            "height": null,
            "justify_content": null,
            "justify_items": null,
            "left": null,
            "margin": null,
            "max_height": null,
            "max_width": null,
            "min_height": null,
            "min_width": null,
            "object_fit": null,
            "object_position": null,
            "order": null,
            "overflow": null,
            "overflow_x": null,
            "overflow_y": null,
            "padding": null,
            "right": null,
            "top": null,
            "visibility": null,
            "width": null
          }
        },
        "23d5cff63a774278b84892a9984dea1c": {
          "model_module": "@jupyter-widgets/controls",
          "model_name": "DescriptionStyleModel",
          "model_module_version": "1.5.0",
          "state": {
            "_model_module": "@jupyter-widgets/controls",
            "_model_module_version": "1.5.0",
            "_model_name": "DescriptionStyleModel",
            "_view_count": null,
            "_view_module": "@jupyter-widgets/base",
            "_view_module_version": "1.2.0",
            "_view_name": "StyleView",
            "description_width": ""
          }
        },
        "d764c6f7147e43c1bef4c4b6e6af2d06": {
          "model_module": "@jupyter-widgets/base",
          "model_name": "LayoutModel",
          "model_module_version": "1.2.0",
          "state": {
            "_model_module": "@jupyter-widgets/base",
            "_model_module_version": "1.2.0",
            "_model_name": "LayoutModel",
            "_view_count": null,
            "_view_module": "@jupyter-widgets/base",
            "_view_module_version": "1.2.0",
            "_view_name": "LayoutView",
            "align_content": null,
            "align_items": null,
            "align_self": null,
            "border": null,
            "bottom": null,
            "display": null,
            "flex": null,
            "flex_flow": null,
            "grid_area": null,
            "grid_auto_columns": null,
            "grid_auto_flow": null,
            "grid_auto_rows": null,
            "grid_column": null,
            "grid_gap": null,
            "grid_row": null,
            "grid_template_areas": null,
            "grid_template_columns": null,
            "grid_template_rows": null,
            "height": null,
            "justify_content": null,
            "justify_items": null,
            "left": null,
            "margin": null,
            "max_height": null,
            "max_width": null,
            "min_height": null,
            "min_width": null,
            "object_fit": null,
            "object_position": null,
            "order": null,
            "overflow": null,
            "overflow_x": null,
            "overflow_y": null,
            "padding": null,
            "right": null,
            "top": null,
            "visibility": null,
            "width": null
          }
        },
        "df07367fd8b84709bb3f6df94bff28af": {
          "model_module": "@jupyter-widgets/controls",
          "model_name": "ProgressStyleModel",
          "model_module_version": "1.5.0",
          "state": {
            "_model_module": "@jupyter-widgets/controls",
            "_model_module_version": "1.5.0",
            "_model_name": "ProgressStyleModel",
            "_view_count": null,
            "_view_module": "@jupyter-widgets/base",
            "_view_module_version": "1.2.0",
            "_view_name": "StyleView",
            "bar_color": null,
            "description_width": ""
          }
        },
        "5bb637fd20434523aa849b05702fafea": {
          "model_module": "@jupyter-widgets/base",
          "model_name": "LayoutModel",
          "model_module_version": "1.2.0",
          "state": {
            "_model_module": "@jupyter-widgets/base",
            "_model_module_version": "1.2.0",
            "_model_name": "LayoutModel",
            "_view_count": null,
            "_view_module": "@jupyter-widgets/base",
            "_view_module_version": "1.2.0",
            "_view_name": "LayoutView",
            "align_content": null,
            "align_items": null,
            "align_self": null,
            "border": null,
            "bottom": null,
            "display": null,
            "flex": null,
            "flex_flow": null,
            "grid_area": null,
            "grid_auto_columns": null,
            "grid_auto_flow": null,
            "grid_auto_rows": null,
            "grid_column": null,
            "grid_gap": null,
            "grid_row": null,
            "grid_template_areas": null,
            "grid_template_columns": null,
            "grid_template_rows": null,
            "height": null,
            "justify_content": null,
            "justify_items": null,
            "left": null,
            "margin": null,
            "max_height": null,
            "max_width": null,
            "min_height": null,
            "min_width": null,
            "object_fit": null,
            "object_position": null,
            "order": null,
            "overflow": null,
            "overflow_x": null,
            "overflow_y": null,
            "padding": null,
            "right": null,
            "top": null,
            "visibility": null,
            "width": null
          }
        },
        "59630449b52a45f8aa5b1946a70b34dc": {
          "model_module": "@jupyter-widgets/controls",
          "model_name": "DescriptionStyleModel",
          "model_module_version": "1.5.0",
          "state": {
            "_model_module": "@jupyter-widgets/controls",
            "_model_module_version": "1.5.0",
            "_model_name": "DescriptionStyleModel",
            "_view_count": null,
            "_view_module": "@jupyter-widgets/base",
            "_view_module_version": "1.2.0",
            "_view_name": "StyleView",
            "description_width": ""
          }
        }
      }
    }
  },
  "cells": [
    {
      "cell_type": "markdown",
      "metadata": {
        "id": "view-in-github",
        "colab_type": "text"
      },
      "source": [
        "<a href=\"https://colab.research.google.com/github/wolfgangh/courses/blob/master/FineTuningMistral7BUsing4BitQuantizationWithLudwig.ipynb\" target=\"_parent\"><img src=\"https://colab.research.google.com/assets/colab-badge.svg\" alt=\"Open In Colab\"/></a>"
      ]
    },
    {
      "cell_type": "markdown",
      "source": [
        "### **Install Ludwig and Ludwig's LLM related dependencies.**"
      ],
      "metadata": {
        "id": "wXMVoEFkPXJJ"
      }
    },
    {
      "cell_type": "code",
      "source": [],
      "metadata": {
        "id": "QZBPosPfcWbA"
      },
      "execution_count": null,
      "outputs": []
    },
    {
      "cell_type": "code",
      "source": [
        "!pip uninstall -y tensorflow --quiet\n",
        "!pip install --upgrade git+https://github.com/huggingface/transformers\n",
        "!pip install --upgrade git+https://github.com/huggingface/peft.git\n",
        "!pip install git+https://github.com/ludwig-ai/ludwig.git@master --quiet"
      ],
      "metadata": {
        "id": "yfYXyUUvM-R6",
        "colab": {
          "base_uri": "https://localhost:8080/"
        },
        "outputId": "0f2c39ff-fed5-43bf-a8fe-5c2883c80f22"
      },
      "execution_count": null,
      "outputs": [
        {
          "output_type": "stream",
          "name": "stdout",
          "text": [
            "\u001b[33mWARNING: Skipping tensorflow as it is not installed.\u001b[0m\u001b[33m\n",
            "\u001b[0mCollecting git+https://github.com/huggingface/transformers\n",
            "  Cloning https://github.com/huggingface/transformers to /tmp/pip-req-build-8fqc93o4\n",
            "  Running command git clone --filter=blob:none --quiet https://github.com/huggingface/transformers /tmp/pip-req-build-8fqc93o4\n",
            "  Resolved https://github.com/huggingface/transformers to commit 43bfd093e1817c0333a1e10fcbdd54f1032baad0\n",
            "  Installing build dependencies ... \u001b[?25l\u001b[?25hdone\n",
            "  Getting requirements to build wheel ... \u001b[?25l\u001b[?25hdone\n",
            "  Preparing metadata (pyproject.toml) ... \u001b[?25l\u001b[?25hdone\n",
            "Requirement already satisfied: filelock in /usr/local/lib/python3.10/dist-packages (from transformers==4.35.0.dev0) (3.12.4)\n",
            "Requirement already satisfied: huggingface-hub<1.0,>=0.16.4 in /usr/local/lib/python3.10/dist-packages (from transformers==4.35.0.dev0) (0.16.4)\n",
            "Requirement already satisfied: numpy>=1.17 in /usr/local/lib/python3.10/dist-packages (from transformers==4.35.0.dev0) (1.23.5)\n",
            "Requirement already satisfied: packaging>=20.0 in /usr/local/lib/python3.10/dist-packages (from transformers==4.35.0.dev0) (23.1)\n",
            "Requirement already satisfied: pyyaml>=5.1 in /usr/local/lib/python3.10/dist-packages (from transformers==4.35.0.dev0) (6.0)\n",
            "Requirement already satisfied: regex!=2019.12.17 in /usr/local/lib/python3.10/dist-packages (from transformers==4.35.0.dev0) (2023.6.3)\n",
            "Requirement already satisfied: requests in /usr/local/lib/python3.10/dist-packages (from transformers==4.35.0.dev0) (2.31.0)\n",
            "Requirement already satisfied: tokenizers<0.15,>=0.14 in /usr/local/lib/python3.10/dist-packages (from transformers==4.35.0.dev0) (0.14.0)\n",
            "Requirement already satisfied: safetensors>=0.3.1 in /usr/local/lib/python3.10/dist-packages (from transformers==4.35.0.dev0) (0.3.3)\n",
            "Requirement already satisfied: tqdm>=4.27 in /usr/local/lib/python3.10/dist-packages (from transformers==4.35.0.dev0) (4.66.1)\n",
            "Requirement already satisfied: fsspec in /usr/local/lib/python3.10/dist-packages (from huggingface-hub<1.0,>=0.16.4->transformers==4.35.0.dev0) (2023.6.0)\n",
            "Requirement already satisfied: typing-extensions>=3.7.4.3 in /usr/local/lib/python3.10/dist-packages (from huggingface-hub<1.0,>=0.16.4->transformers==4.35.0.dev0) (4.5.0)\n",
            "Requirement already satisfied: charset-normalizer<4,>=2 in /usr/local/lib/python3.10/dist-packages (from requests->transformers==4.35.0.dev0) (3.2.0)\n",
            "Requirement already satisfied: idna<4,>=2.5 in /usr/local/lib/python3.10/dist-packages (from requests->transformers==4.35.0.dev0) (3.4)\n",
            "Requirement already satisfied: urllib3<3,>=1.21.1 in /usr/local/lib/python3.10/dist-packages (from requests->transformers==4.35.0.dev0) (2.0.5)\n",
            "Requirement already satisfied: certifi>=2017.4.17 in /usr/local/lib/python3.10/dist-packages (from requests->transformers==4.35.0.dev0) (2023.7.22)\n",
            "Collecting git+https://github.com/huggingface/peft.git\n",
            "  Cloning https://github.com/huggingface/peft.git to /tmp/pip-req-build-82yzmqcy\n",
            "  Running command git clone --filter=blob:none --quiet https://github.com/huggingface/peft.git /tmp/pip-req-build-82yzmqcy\n",
            "  Resolved https://github.com/huggingface/peft.git to commit 99f792e8a3be001c55e71d148a7a8d25b931181f\n",
            "  Installing build dependencies ... \u001b[?25l\u001b[?25hdone\n",
            "  Getting requirements to build wheel ... \u001b[?25l\u001b[?25hdone\n",
            "  Preparing metadata (pyproject.toml) ... \u001b[?25l\u001b[?25hdone\n",
            "Requirement already satisfied: numpy>=1.17 in /usr/local/lib/python3.10/dist-packages (from peft==0.6.0.dev0) (1.23.5)\n",
            "Requirement already satisfied: packaging>=20.0 in /usr/local/lib/python3.10/dist-packages (from peft==0.6.0.dev0) (23.1)\n",
            "Requirement already satisfied: psutil in /usr/local/lib/python3.10/dist-packages (from peft==0.6.0.dev0) (5.9.4)\n",
            "Requirement already satisfied: pyyaml in /usr/local/lib/python3.10/dist-packages (from peft==0.6.0.dev0) (6.0)\n",
            "Requirement already satisfied: torch>=1.13.0 in /usr/local/lib/python3.10/dist-packages (from peft==0.6.0.dev0) (2.0.1+cu118)\n",
            "Requirement already satisfied: transformers in /usr/local/lib/python3.10/dist-packages (from peft==0.6.0.dev0) (4.35.0.dev0)\n",
            "Requirement already satisfied: tqdm in /usr/local/lib/python3.10/dist-packages (from peft==0.6.0.dev0) (4.66.1)\n",
            "Requirement already satisfied: accelerate>=0.21.0 in /usr/local/lib/python3.10/dist-packages (from peft==0.6.0.dev0) (0.23.0)\n",
            "Requirement already satisfied: safetensors in /usr/local/lib/python3.10/dist-packages (from peft==0.6.0.dev0) (0.3.3)\n",
            "Requirement already satisfied: huggingface-hub in /usr/local/lib/python3.10/dist-packages (from accelerate>=0.21.0->peft==0.6.0.dev0) (0.16.4)\n",
            "Requirement already satisfied: filelock in /usr/local/lib/python3.10/dist-packages (from torch>=1.13.0->peft==0.6.0.dev0) (3.12.4)\n",
            "Requirement already satisfied: typing-extensions in /usr/local/lib/python3.10/dist-packages (from torch>=1.13.0->peft==0.6.0.dev0) (4.5.0)\n",
            "Requirement already satisfied: sympy in /usr/local/lib/python3.10/dist-packages (from torch>=1.13.0->peft==0.6.0.dev0) (1.12)\n",
            "Requirement already satisfied: networkx in /usr/local/lib/python3.10/dist-packages (from torch>=1.13.0->peft==0.6.0.dev0) (3.1)\n",
            "Requirement already satisfied: jinja2 in /usr/local/lib/python3.10/dist-packages (from torch>=1.13.0->peft==0.6.0.dev0) (3.1.2)\n",
            "Requirement already satisfied: triton==2.0.0 in /usr/local/lib/python3.10/dist-packages (from torch>=1.13.0->peft==0.6.0.dev0) (2.0.0)\n",
            "Requirement already satisfied: cmake in /usr/local/lib/python3.10/dist-packages (from triton==2.0.0->torch>=1.13.0->peft==0.6.0.dev0) (3.27.5)\n",
            "Requirement already satisfied: lit in /usr/local/lib/python3.10/dist-packages (from triton==2.0.0->torch>=1.13.0->peft==0.6.0.dev0) (17.0.1)\n",
            "Requirement already satisfied: regex!=2019.12.17 in /usr/local/lib/python3.10/dist-packages (from transformers->peft==0.6.0.dev0) (2023.6.3)\n",
            "Requirement already satisfied: requests in /usr/local/lib/python3.10/dist-packages (from transformers->peft==0.6.0.dev0) (2.31.0)\n",
            "Requirement already satisfied: tokenizers<0.15,>=0.14 in /usr/local/lib/python3.10/dist-packages (from transformers->peft==0.6.0.dev0) (0.14.0)\n",
            "Requirement already satisfied: fsspec in /usr/local/lib/python3.10/dist-packages (from huggingface-hub->accelerate>=0.21.0->peft==0.6.0.dev0) (2023.6.0)\n",
            "Requirement already satisfied: MarkupSafe>=2.0 in /usr/local/lib/python3.10/dist-packages (from jinja2->torch>=1.13.0->peft==0.6.0.dev0) (2.1.3)\n",
            "Requirement already satisfied: charset-normalizer<4,>=2 in /usr/local/lib/python3.10/dist-packages (from requests->transformers->peft==0.6.0.dev0) (3.2.0)\n",
            "Requirement already satisfied: idna<4,>=2.5 in /usr/local/lib/python3.10/dist-packages (from requests->transformers->peft==0.6.0.dev0) (3.4)\n",
            "Requirement already satisfied: urllib3<3,>=1.21.1 in /usr/local/lib/python3.10/dist-packages (from requests->transformers->peft==0.6.0.dev0) (2.0.5)\n",
            "Requirement already satisfied: certifi>=2017.4.17 in /usr/local/lib/python3.10/dist-packages (from requests->transformers->peft==0.6.0.dev0) (2023.7.22)\n",
            "Requirement already satisfied: mpmath>=0.19 in /usr/local/lib/python3.10/dist-packages (from sympy->torch>=1.13.0->peft==0.6.0.dev0) (1.3.0)\n",
            "  Installing build dependencies ... \u001b[?25l\u001b[?25hdone\n",
            "  Getting requirements to build wheel ... \u001b[?25l\u001b[?25hdone\n",
            "  Preparing metadata (pyproject.toml) ... \u001b[?25l\u001b[?25hdone\n"
          ]
        }
      ]
    },
    {
      "cell_type": "code",
      "source": [
        "!pip install --upgrade datasets"
      ],
      "metadata": {
        "id": "Mj6CRIq4_eYd",
        "colab": {
          "base_uri": "https://localhost:8080/"
        },
        "outputId": "19a2c609-d96c-4c12-81c7-12d83ad852f4"
      },
      "execution_count": null,
      "outputs": [
        {
          "output_type": "stream",
          "name": "stdout",
          "text": [
            "Requirement already satisfied: datasets in /usr/local/lib/python3.10/dist-packages (2.14.5)\n",
            "Requirement already satisfied: numpy>=1.17 in /usr/local/lib/python3.10/dist-packages (from datasets) (1.23.5)\n",
            "Requirement already satisfied: pyarrow>=8.0.0 in /usr/local/lib/python3.10/dist-packages (from datasets) (9.0.0)\n",
            "Requirement already satisfied: dill<0.3.8,>=0.3.0 in /usr/local/lib/python3.10/dist-packages (from datasets) (0.3.7)\n",
            "Requirement already satisfied: pandas in /usr/local/lib/python3.10/dist-packages (from datasets) (1.5.3)\n",
            "Requirement already satisfied: requests>=2.19.0 in /usr/local/lib/python3.10/dist-packages (from datasets) (2.31.0)\n",
            "Requirement already satisfied: tqdm>=4.62.1 in /usr/local/lib/python3.10/dist-packages (from datasets) (4.66.1)\n",
            "Requirement already satisfied: xxhash in /usr/local/lib/python3.10/dist-packages (from datasets) (3.4.1)\n",
            "Requirement already satisfied: multiprocess in /usr/local/lib/python3.10/dist-packages (from datasets) (0.70.15)\n",
            "Requirement already satisfied: fsspec[http]<2023.9.0,>=2023.1.0 in /usr/local/lib/python3.10/dist-packages (from datasets) (2023.6.0)\n",
            "Requirement already satisfied: aiohttp in /usr/local/lib/python3.10/dist-packages (from datasets) (3.8.5)\n",
            "Requirement already satisfied: huggingface-hub<1.0.0,>=0.14.0 in /usr/local/lib/python3.10/dist-packages (from datasets) (0.16.4)\n",
            "Requirement already satisfied: packaging in /usr/local/lib/python3.10/dist-packages (from datasets) (23.1)\n",
            "Requirement already satisfied: pyyaml>=5.1 in /usr/local/lib/python3.10/dist-packages (from datasets) (6.0)\n",
            "Requirement already satisfied: attrs>=17.3.0 in /usr/local/lib/python3.10/dist-packages (from aiohttp->datasets) (23.1.0)\n",
            "Requirement already satisfied: charset-normalizer<4.0,>=2.0 in /usr/local/lib/python3.10/dist-packages (from aiohttp->datasets) (3.2.0)\n",
            "Requirement already satisfied: multidict<7.0,>=4.5 in /usr/local/lib/python3.10/dist-packages (from aiohttp->datasets) (6.0.4)\n",
            "Requirement already satisfied: async-timeout<5.0,>=4.0.0a3 in /usr/local/lib/python3.10/dist-packages (from aiohttp->datasets) (4.0.3)\n",
            "Requirement already satisfied: yarl<2.0,>=1.0 in /usr/local/lib/python3.10/dist-packages (from aiohttp->datasets) (1.9.2)\n",
            "Requirement already satisfied: frozenlist>=1.1.1 in /usr/local/lib/python3.10/dist-packages (from aiohttp->datasets) (1.4.0)\n",
            "Requirement already satisfied: aiosignal>=1.1.2 in /usr/local/lib/python3.10/dist-packages (from aiohttp->datasets) (1.3.1)\n",
            "Requirement already satisfied: filelock in /usr/local/lib/python3.10/dist-packages (from huggingface-hub<1.0.0,>=0.14.0->datasets) (3.12.4)\n",
            "Requirement already satisfied: typing-extensions>=3.7.4.3 in /usr/local/lib/python3.10/dist-packages (from huggingface-hub<1.0.0,>=0.14.0->datasets) (4.5.0)\n",
            "Requirement already satisfied: idna<4,>=2.5 in /usr/local/lib/python3.10/dist-packages (from requests>=2.19.0->datasets) (3.4)\n",
            "Requirement already satisfied: urllib3<3,>=1.21.1 in /usr/local/lib/python3.10/dist-packages (from requests>=2.19.0->datasets) (2.0.5)\n",
            "Requirement already satisfied: certifi>=2017.4.17 in /usr/local/lib/python3.10/dist-packages (from requests>=2.19.0->datasets) (2023.7.22)\n",
            "Requirement already satisfied: python-dateutil>=2.8.1 in /usr/local/lib/python3.10/dist-packages (from pandas->datasets) (2.8.2)\n",
            "Requirement already satisfied: pytz>=2020.1 in /usr/local/lib/python3.10/dist-packages (from pandas->datasets) (2023.3.post1)\n",
            "Requirement already satisfied: six>=1.5 in /usr/local/lib/python3.10/dist-packages (from python-dateutil>=2.8.1->pandas->datasets) (1.16.0)\n"
          ]
        }
      ]
    },
    {
      "cell_type": "code",
      "source": [
        "!pip install py7zr"
      ],
      "metadata": {
        "id": "zlK4qI6a_lw6",
        "colab": {
          "base_uri": "https://localhost:8080/"
        },
        "outputId": "7c7c2792-c976-4fad-8877-50863240b9ca"
      },
      "execution_count": null,
      "outputs": [
        {
          "output_type": "stream",
          "name": "stdout",
          "text": [
            "Requirement already satisfied: py7zr in /usr/local/lib/python3.10/dist-packages (0.20.6)\n",
            "Requirement already satisfied: texttable in /usr/local/lib/python3.10/dist-packages (from py7zr) (1.7.0)\n",
            "Requirement already satisfied: pycryptodomex>=3.6.6 in /usr/local/lib/python3.10/dist-packages (from py7zr) (3.19.0)\n",
            "Requirement already satisfied: pyzstd>=0.14.4 in /usr/local/lib/python3.10/dist-packages (from py7zr) (0.15.9)\n",
            "Requirement already satisfied: pyppmd<1.1.0,>=0.18.1 in /usr/local/lib/python3.10/dist-packages (from py7zr) (1.0.0)\n",
            "Requirement already satisfied: pybcj>=0.6.0 in /usr/local/lib/python3.10/dist-packages (from py7zr) (1.0.1)\n",
            "Requirement already satisfied: multivolumefile>=0.2.3 in /usr/local/lib/python3.10/dist-packages (from py7zr) (0.2.3)\n",
            "Requirement already satisfied: brotli>=1.0.9 in /usr/local/lib/python3.10/dist-packages (from py7zr) (1.1.0)\n",
            "Requirement already satisfied: inflate64>=0.3.1 in /usr/local/lib/python3.10/dist-packages (from py7zr) (0.3.1)\n",
            "Requirement already satisfied: psutil in /usr/local/lib/python3.10/dist-packages (from py7zr) (5.9.4)\n"
          ]
        }
      ]
    },
    {
      "cell_type": "code",
      "source": [
        "!pip install xformers"
      ],
      "metadata": {
        "id": "lxBu-hTh_sET",
        "colab": {
          "base_uri": "https://localhost:8080/"
        },
        "outputId": "1599e74d-15e0-4e60-d88e-85a0ee0956f0"
      },
      "execution_count": null,
      "outputs": [
        {
          "output_type": "stream",
          "name": "stdout",
          "text": [
            "Requirement already satisfied: xformers in /usr/local/lib/python3.10/dist-packages (0.0.22)\n",
            "Requirement already satisfied: numpy in /usr/local/lib/python3.10/dist-packages (from xformers) (1.23.5)\n",
            "Requirement already satisfied: torch==2.0.1 in /usr/local/lib/python3.10/dist-packages (from xformers) (2.0.1+cu118)\n",
            "Requirement already satisfied: filelock in /usr/local/lib/python3.10/dist-packages (from torch==2.0.1->xformers) (3.12.4)\n",
            "Requirement already satisfied: typing-extensions in /usr/local/lib/python3.10/dist-packages (from torch==2.0.1->xformers) (4.5.0)\n",
            "Requirement already satisfied: sympy in /usr/local/lib/python3.10/dist-packages (from torch==2.0.1->xformers) (1.12)\n",
            "Requirement already satisfied: networkx in /usr/local/lib/python3.10/dist-packages (from torch==2.0.1->xformers) (3.1)\n",
            "Requirement already satisfied: jinja2 in /usr/local/lib/python3.10/dist-packages (from torch==2.0.1->xformers) (3.1.2)\n",
            "Requirement already satisfied: triton==2.0.0 in /usr/local/lib/python3.10/dist-packages (from torch==2.0.1->xformers) (2.0.0)\n",
            "Requirement already satisfied: cmake in /usr/local/lib/python3.10/dist-packages (from triton==2.0.0->torch==2.0.1->xformers) (3.27.5)\n",
            "Requirement already satisfied: lit in /usr/local/lib/python3.10/dist-packages (from triton==2.0.0->torch==2.0.1->xformers) (17.0.1)\n",
            "Requirement already satisfied: MarkupSafe>=2.0 in /usr/local/lib/python3.10/dist-packages (from jinja2->torch==2.0.1->xformers) (2.1.3)\n",
            "Requirement already satisfied: mpmath>=0.19 in /usr/local/lib/python3.10/dist-packages (from sympy->torch==2.0.1->xformers) (1.3.0)\n"
          ]
        }
      ]
    },
    {
      "cell_type": "code",
      "source": [],
      "metadata": {
        "id": "SFnqVkBgt9VX"
      },
      "execution_count": null,
      "outputs": []
    },
    {
      "cell_type": "code",
      "source": [
        "!pip show torch"
      ],
      "metadata": {
        "id": "RqicMQs_t8Nu",
        "colab": {
          "base_uri": "https://localhost:8080/"
        },
        "outputId": "a86a2a63-9d1c-46ea-a67b-01d8e82107a9"
      },
      "execution_count": null,
      "outputs": [
        {
          "output_type": "stream",
          "name": "stdout",
          "text": [
            "Name: torch\n",
            "Version: 2.0.1+cu118\n",
            "Summary: Tensors and Dynamic neural networks in Python with strong GPU acceleration\n",
            "Home-page: https://pytorch.org/\n",
            "Author: PyTorch Team\n",
            "Author-email: packages@pytorch.org\n",
            "License: BSD-3\n",
            "Location: /usr/local/lib/python3.10/dist-packages\n",
            "Requires: filelock, jinja2, networkx, sympy, triton, typing-extensions\n",
            "Required-by: accelerate, fastai, ludwig, peft, torchaudio, torchdata, torchmetrics, torchtext, torchvision, triton, xformers\n"
          ]
        }
      ]
    },
    {
      "cell_type": "code",
      "source": [
        "!pip show transformers"
      ],
      "metadata": {
        "id": "OwO4iNggt7-F",
        "colab": {
          "base_uri": "https://localhost:8080/"
        },
        "outputId": "fba43e43-ee15-47c3-dce7-e28ccb0443d9"
      },
      "execution_count": null,
      "outputs": [
        {
          "output_type": "stream",
          "name": "stdout",
          "text": [
            "Name: transformers\n",
            "Version: 4.35.0.dev0\n",
            "Summary: State-of-the-art Machine Learning for JAX, PyTorch and TensorFlow\n",
            "Home-page: https://github.com/huggingface/transformers\n",
            "Author: The Hugging Face team (past and future) with the help of all our contributors (https://github.com/huggingface/transformers/graphs/contributors)\n",
            "Author-email: transformers@huggingface.co\n",
            "License: Apache 2.0 License\n",
            "Location: /usr/local/lib/python3.10/dist-packages\n",
            "Requires: filelock, huggingface-hub, numpy, packaging, pyyaml, regex, requests, safetensors, tokenizers, tqdm\n",
            "Required-by: ludwig, peft\n"
          ]
        }
      ]
    },
    {
      "cell_type": "code",
      "source": [],
      "metadata": {
        "id": "yDbFgDs-_uIT"
      },
      "execution_count": null,
      "outputs": []
    },
    {
      "cell_type": "code",
      "source": [],
      "metadata": {
        "id": "y2zlqMNM_v7t"
      },
      "execution_count": null,
      "outputs": []
    },
    {
      "cell_type": "code",
      "source": [
        "\n",
        "import os\n",
        "\n",
        "import copy\n",
        "\n",
        "import gc\n",
        "\n",
        "from typing import Any, Callable\n",
        "\n",
        "import time\n",
        "\n",
        "from functools import wraps\n",
        "from inspect import (\n",
        "    BoundArguments,\n",
        "    signature,\n",
        ")\n",
        "\n",
        "from collections import OrderedDict\n",
        "\n",
        "from google.colab import data_table\n",
        "\n",
        "import yaml\n",
        "\n",
        "import numpy as np\n",
        "import pandas as pd\n",
        "\n",
        "import torch\n",
        "from torch import Tensor\n",
        "\n",
        "import datasets\n",
        "from datasets import load_dataset, Dataset, DatasetDict\n",
        "\n",
        "import transformers\n",
        "from transformers import BitsAndBytesConfig, AutoModelForCausalLM, LlamaForCausalLM, MistralForCausalLM, AutoTokenizer, LlamaTokenizerFast, GenerationConfig, TextGenerationPipeline, BatchEncoding\n",
        "from transformers.generation.utils import GreedySearchDecoderOnlyOutput\n",
        "\n",
        "from peft import PeftModel, PeftModelForCausalLM, PeftConfig, LoraConfig\n",
        "\n",
        "from ludwig.api import LudwigModel, TrainingResults\n",
        "\n",
        "\n",
        "import logging"
      ],
      "metadata": {
        "id": "fd_LA_2Wx_qr"
      },
      "execution_count": null,
      "outputs": []
    },
    {
      "cell_type": "markdown",
      "source": [
        "Enable text wrapping so we don't have to scroll horizontally and create a function to flush CUDA cache."
      ],
      "metadata": {
        "id": "A2SRHcKAJYuu"
      }
    },
    {
      "cell_type": "code",
      "source": [
        "from IPython.display import HTML, display\n",
        "\n",
        "def set_css() -> None:\n",
        "  display(HTML('''\n",
        "  <style>\n",
        "    pre {\n",
        "        white-space: pre-wrap;\n",
        "    }\n",
        "  </style>\n",
        "  '''))\n",
        "\n",
        "get_ipython().events.register('pre_run_cell', set_css)\n"
      ],
      "metadata": {
        "id": "Ht4eVWxB13QL"
      },
      "execution_count": null,
      "outputs": []
    },
    {
      "cell_type": "code",
      "source": [
        "def predict(model: LudwigModel, df_test: pd.DataFrame) -> list[list[str]]:\n",
        "  return model.predict(df_test)[0][\"summary_response\"].tolist()"
      ],
      "metadata": {
        "id": "E_dFOQDtqY3R",
        "colab": {
          "base_uri": "https://localhost:8080/",
          "height": 17
        },
        "outputId": "b6b13677-2e69-46c0-8f9c-8a05e8bcc094"
      },
      "execution_count": null,
      "outputs": [
        {
          "output_type": "display_data",
          "data": {
            "text/plain": [
              "<IPython.core.display.HTML object>"
            ],
            "text/html": [
              "\n",
              "  <style>\n",
              "    pre {\n",
              "        white-space: pre-wrap;\n",
              "    }\n",
              "  </style>\n",
              "  "
            ]
          },
          "metadata": {}
        }
      ]
    },
    {
      "cell_type": "code",
      "source": [],
      "metadata": {
        "id": "wzdU2cA6eEY5"
      },
      "execution_count": null,
      "outputs": []
    },
    {
      "cell_type": "code",
      "source": [],
      "metadata": {
        "id": "g0g8MijBeFFW"
      },
      "execution_count": null,
      "outputs": []
    },
    {
      "cell_type": "markdown",
      "source": [
        "### **Setup Your HuggingFace Token** 🤗\n",
        "\n",
        "Obtain a [HuggingFace API Token](https://huggingface.co/settings/tokens) before proceeding. You may need to signup on HuggingFace if you do not aleady have an account: https://huggingface.co/join\n"
      ],
      "metadata": {
        "id": "SUkPQ9OLP0Po"
      }
    },
    {
      "cell_type": "code",
      "source": [
        "import getpass\n",
        "# import locale; locale.getpreferredencoding = lambda: \"UTF-8\"\n",
        "import logging\n",
        "import os\n",
        "import torch\n",
        "import yaml\n",
        "\n",
        "import locale\n",
        "def getpreferredencoding(do_setlocale = True):\n",
        "    return \"UTF-8\"\n",
        "\n",
        "locale.getpreferredencoding = getpreferredencoding\n",
        "\n",
        "\n",
        "os.environ[\"HUGGING_FACE_HUB_TOKEN\"] = getpass.getpass(\"Token:\")\n",
        "assert os.environ[\"HUGGING_FACE_HUB_TOKEN\"]"
      ],
      "metadata": {
        "id": "nXOIxmfbQHSz",
        "colab": {
          "base_uri": "https://localhost:8080/",
          "height": 35
        },
        "outputId": "bb381ea2-cd64-4211-e9f0-764452547799"
      },
      "execution_count": null,
      "outputs": [
        {
          "output_type": "display_data",
          "data": {
            "text/plain": [
              "<IPython.core.display.HTML object>"
            ],
            "text/html": [
              "\n",
              "  <style>\n",
              "    pre {\n",
              "        white-space: pre-wrap;\n",
              "    }\n",
              "  </style>\n",
              "  "
            ]
          },
          "metadata": {}
        },
        {
          "name": "stdout",
          "output_type": "stream",
          "text": [
            "Token:··········\n"
          ]
        }
      ]
    },
    {
      "cell_type": "markdown",
      "source": [
        "### **Import The SAMSum Dataset** 📋\n",
        "\n"
      ],
      "metadata": {
        "id": "sV0D2rjRbk4z"
      }
    },
    {
      "cell_type": "code",
      "source": [
        "import datasets\n",
        "from datasets import load_dataset, Dataset, DatasetDict"
      ],
      "metadata": {
        "id": "9G2U5Acllz10",
        "colab": {
          "base_uri": "https://localhost:8080/",
          "height": 17
        },
        "outputId": "5672a40c-4c11-4d85-8de4-9407f95b7aea"
      },
      "execution_count": null,
      "outputs": [
        {
          "output_type": "display_data",
          "data": {
            "text/plain": [
              "<IPython.core.display.HTML object>"
            ],
            "text/html": [
              "\n",
              "  <style>\n",
              "    pre {\n",
              "        white-space: pre-wrap;\n",
              "    }\n",
              "  </style>\n",
              "  "
            ]
          },
          "metadata": {}
        }
      ]
    },
    {
      "cell_type": "code",
      "source": [
        "samsum_dataset_dict: DatasetDict = datasets.load_dataset(\"samsum\")\n",
        "samsum_dataset_dict"
      ],
      "metadata": {
        "id": "vy6LbLqNpD5Y",
        "colab": {
          "base_uri": "https://localhost:8080/",
          "height": 491,
          "referenced_widgets": [
            "15b34e85d117414f81a1ea2c3019a3a6",
            "065006d47e91470289cee876f8fbd136",
            "a81cffeae94441bf89706daabdb9c730",
            "176cfd27c4dd4cc38537d6080a019571",
            "09b11acd20c7432398f68aa4940665f1",
            "b337dda99f2147e09e56c7f377ed0fa3",
            "3a3b8412fc1d49589dcefcb8dd3329ba",
            "19a9c7cb45314c26b6020b25c3a2cb71",
            "bdd05580ff204657a262fff25d4e578d",
            "2615e8f2d2aa40bf8fc24bb6b1560d45",
            "5895bd7cdc57432cae122e165c6d5409",
            "70c4aac5a50c496f88841b99216bdec8",
            "ec36488ef007452e9d730db4cd488792",
            "87ea0e31cc3d47b090ee4ef484057981",
            "9d37a7148bcf430c9ca9a3ddabcc8de4",
            "97643c60fea847c4981dca1d6640aa02",
            "8f4c015934fd4884b296efcd7e078695",
            "6415e20c642a4cfcb4d7ebfa1bb3c20b",
            "18796e3604a944e195e4f7d27b9cf566",
            "1e8311606e9c4c2bae918fd726f6449a",
            "d95db6ca6e9f40c8a6422995291fe423",
            "c12ffa91ab31478f9990ab565f47e518",
            "aa5ef3fe600c4a858be0f37becbdf93e",
            "42be563a2ae8449399d43645d02842a5",
            "8c113afe005a46899c48cc437c599df1",
            "5e1c55e8810a4e5987e805316b1122c8",
            "7111ef15e71746cba47bbd109fb707ce",
            "b4ebdd6c63a44100bc3a3abb8ddf3561",
            "a6116d12b1d94c54b5fc5e7c4efc99db",
            "f00e200bf543412c9c818876948a8e9d",
            "f5ad8e1087a84680ab73c5108a9a4ef8",
            "bf62bb85cdc245e5b81860c74a676480",
            "19359e7112044fcf830319bebe6fb0d8",
            "3907a56b8b7442e18e828d2e630b9b33",
            "1d1e55ccdb4b4c5bb8057daece045395",
            "e7835d5f8f43497692d3e4870fa199fb",
            "94169e5414bf4689a37c6e7abc7c1aa4",
            "b5aa11490d70472abcdff295f3337268",
            "d5a70eb6d005410f8931b567a4576585",
            "ddc0fddff29c442fb78a12f6dd0e400c",
            "0b3b5072c40e49f79263ca78b02ab189",
            "0ae544a222dc48c8943d219d0f1b3be8",
            "56a518e35819481cb0c8bbc0e2d96f39",
            "78e7e2eef6634d29ad4c55b08ab5d715",
            "a259e804692f405e9ba61618190d42e9",
            "c395e36b3b6741739b6cfc055d4ec9dc",
            "dd1ce56de00b4b75891c05b4ea602c51",
            "5b9146fc20894d5abd48890c5b741fd8",
            "55cd95bc0337435eb63833b1668f4723",
            "3fd6c4accd9640c180e185e48a466136",
            "59c485f44350466f924b463f03a7c6bb",
            "a4538fa4d04446ceaa210cfda28a6ea0",
            "7a0f5d71adc749b49d96b4e679a2c3c0",
            "e9622287626a45719c439abb820dc63d",
            "5337ffe6f0e84c90823c8db2dc7deccf",
            "25ce59b46b67475fb23c36f01bd3f3e8",
            "68b6c659886444d78529f2a9e0660741",
            "b6aa4e8965c944c39900fee9af5bc54b",
            "e6342ffcd9a14dfa9266c7a070e12c4c",
            "85d062fb4322469dbbdf0bae84691b5a",
            "e2592027c7ae4d8e9a8bc17aa578b257",
            "b936062c5eae42b986e6cc368ee142ba",
            "afdcf82393d2452dbed457941f54bd52",
            "08967450c34444ef9910f3f1779ee649",
            "c2e3ab3103374ad2a99139d91db90c40",
            "d04c7245b21d446db26bc520349bd024",
            "2b8b0f657c074ee597461df3da84a0e0",
            "601932b17989482ab83ccf87b7577136",
            "e4036b25dada470bbf2a59415d5ef471",
            "763722f5596a4848b3d1b33a05693258",
            "15bb8cabf2884487aea30f34d31b2af0",
            "6d157b00eefc4be0945d1e7ea098b93d",
            "0d265916aa9a4186890993e00b1d7cde",
            "fdf473977c8341959429cfb66c6d9980",
            "2e8742d4dbdf482486ffae086810e4a4",
            "ab7d2032ded14d4080d5bf19b815b5c0",
            "66d4721304fa4927939f1b7013c3b6e1"
          ]
        },
        "outputId": "4176011c-3e76-4437-ce65-9805bf8bf5a7"
      },
      "execution_count": null,
      "outputs": [
        {
          "output_type": "display_data",
          "data": {
            "text/plain": [
              "<IPython.core.display.HTML object>"
            ],
            "text/html": [
              "\n",
              "  <style>\n",
              "    pre {\n",
              "        white-space: pre-wrap;\n",
              "    }\n",
              "  </style>\n",
              "  "
            ]
          },
          "metadata": {}
        },
        {
          "output_type": "display_data",
          "data": {
            "text/plain": [
              "Downloading builder script:   0%|          | 0.00/3.36k [00:00<?, ?B/s]"
            ],
            "application/vnd.jupyter.widget-view+json": {
              "version_major": 2,
              "version_minor": 0,
              "model_id": "15b34e85d117414f81a1ea2c3019a3a6"
            }
          },
          "metadata": {}
        },
        {
          "output_type": "display_data",
          "data": {
            "text/plain": [
              "Downloading metadata:   0%|          | 0.00/1.58k [00:00<?, ?B/s]"
            ],
            "application/vnd.jupyter.widget-view+json": {
              "version_major": 2,
              "version_minor": 0,
              "model_id": "70c4aac5a50c496f88841b99216bdec8"
            }
          },
          "metadata": {}
        },
        {
          "output_type": "display_data",
          "data": {
            "text/plain": [
              "Downloading readme:   0%|          | 0.00/7.04k [00:00<?, ?B/s]"
            ],
            "application/vnd.jupyter.widget-view+json": {
              "version_major": 2,
              "version_minor": 0,
              "model_id": "aa5ef3fe600c4a858be0f37becbdf93e"
            }
          },
          "metadata": {}
        },
        {
          "output_type": "display_data",
          "data": {
            "text/plain": [
              "Downloading data:   0%|          | 0.00/2.94M [00:00<?, ?B/s]"
            ],
            "application/vnd.jupyter.widget-view+json": {
              "version_major": 2,
              "version_minor": 0,
              "model_id": "3907a56b8b7442e18e828d2e630b9b33"
            }
          },
          "metadata": {}
        },
        {
          "output_type": "display_data",
          "data": {
            "text/plain": [
              "Generating train split:   0%|          | 0/14732 [00:00<?, ? examples/s]"
            ],
            "application/vnd.jupyter.widget-view+json": {
              "version_major": 2,
              "version_minor": 0,
              "model_id": "a259e804692f405e9ba61618190d42e9"
            }
          },
          "metadata": {}
        },
        {
          "output_type": "display_data",
          "data": {
            "text/plain": [
              "Generating test split:   0%|          | 0/819 [00:00<?, ? examples/s]"
            ],
            "application/vnd.jupyter.widget-view+json": {
              "version_major": 2,
              "version_minor": 0,
              "model_id": "25ce59b46b67475fb23c36f01bd3f3e8"
            }
          },
          "metadata": {}
        },
        {
          "output_type": "display_data",
          "data": {
            "text/plain": [
              "Generating validation split:   0%|          | 0/818 [00:00<?, ? examples/s]"
            ],
            "application/vnd.jupyter.widget-view+json": {
              "version_major": 2,
              "version_minor": 0,
              "model_id": "2b8b0f657c074ee597461df3da84a0e0"
            }
          },
          "metadata": {}
        },
        {
          "output_type": "execute_result",
          "data": {
            "text/plain": [
              "DatasetDict({\n",
              "    train: Dataset({\n",
              "        features: ['id', 'dialogue', 'summary'],\n",
              "        num_rows: 14732\n",
              "    })\n",
              "    test: Dataset({\n",
              "        features: ['id', 'dialogue', 'summary'],\n",
              "        num_rows: 819\n",
              "    })\n",
              "    validation: Dataset({\n",
              "        features: ['id', 'dialogue', 'summary'],\n",
              "        num_rows: 818\n",
              "    })\n",
              "})"
            ]
          },
          "metadata": {},
          "execution_count": 21
        }
      ]
    },
    {
      "cell_type": "code",
      "source": [
        "train_dataset: Dataset = samsum_dataset_dict[\"train\"]\n",
        "test_dataset: Dataset = samsum_dataset_dict[\"test\"]\n",
        "validation_dataset: Dataset = samsum_dataset_dict[\"validation\"]"
      ],
      "metadata": {
        "id": "Xbsyizk1lzlI",
        "colab": {
          "base_uri": "https://localhost:8080/",
          "height": 17
        },
        "outputId": "58188afc-d496-491b-8304-bbdc0fd67f12"
      },
      "execution_count": null,
      "outputs": [
        {
          "output_type": "display_data",
          "data": {
            "text/plain": [
              "<IPython.core.display.HTML object>"
            ],
            "text/html": [
              "\n",
              "  <style>\n",
              "    pre {\n",
              "        white-space: pre-wrap;\n",
              "    }\n",
              "  </style>\n",
              "  "
            ]
          },
          "metadata": {}
        }
      ]
    },
    {
      "cell_type": "code",
      "source": [
        "df_train: pd.DataFrame = train_dataset.to_pandas()\n",
        "df_test: pd.DataFrame = test_dataset.to_pandas()\n",
        "df_validation: pd.DataFrame = validation_dataset.to_pandas()"
      ],
      "metadata": {
        "id": "KCOZtrnmpixz",
        "colab": {
          "base_uri": "https://localhost:8080/",
          "height": 17
        },
        "outputId": "8a7da8f0-3d86-4e77-8d21-94ea623089b9"
      },
      "execution_count": null,
      "outputs": [
        {
          "output_type": "display_data",
          "data": {
            "text/plain": [
              "<IPython.core.display.HTML object>"
            ],
            "text/html": [
              "\n",
              "  <style>\n",
              "    pre {\n",
              "        white-space: pre-wrap;\n",
              "    }\n",
              "  </style>\n",
              "  "
            ]
          },
          "metadata": {}
        }
      ]
    },
    {
      "cell_type": "code",
      "source": [
        "df_evaluation: pd.DataFrame = df_train.sample(n=10, random_state=200)\n",
        "df_train = df_train.drop(df_evaluation.index)"
      ],
      "metadata": {
        "id": "XzRWZ_2EX4kz",
        "colab": {
          "base_uri": "https://localhost:8080/",
          "height": 17
        },
        "outputId": "d6df4d5a-4822-4bf4-d216-2bdc7f2c6236"
      },
      "execution_count": null,
      "outputs": [
        {
          "output_type": "display_data",
          "data": {
            "text/plain": [
              "<IPython.core.display.HTML object>"
            ],
            "text/html": [
              "\n",
              "  <style>\n",
              "    pre {\n",
              "        white-space: pre-wrap;\n",
              "    }\n",
              "  </style>\n",
              "  "
            ]
          },
          "metadata": {}
        }
      ]
    },
    {
      "cell_type": "code",
      "source": [
        "df_train = df_train.sample(n=700, random_state=200)\n",
        "df_test = df_test.sample(n=200, random_state=200)\n",
        "df_validation = df_validation.sample(n=100, random_state=200)"
      ],
      "metadata": {
        "id": "wHRTHrj7pilB",
        "colab": {
          "base_uri": "https://localhost:8080/",
          "height": 17
        },
        "outputId": "07bc8a0f-0ef9-469d-9048-579127db2ef7"
      },
      "execution_count": null,
      "outputs": [
        {
          "output_type": "display_data",
          "data": {
            "text/plain": [
              "<IPython.core.display.HTML object>"
            ],
            "text/html": [
              "\n",
              "  <style>\n",
              "    pre {\n",
              "        white-space: pre-wrap;\n",
              "    }\n",
              "  </style>\n",
              "  "
            ]
          },
          "metadata": {}
        }
      ]
    },
    {
      "cell_type": "code",
      "source": [
        "assert df_train.shape[0] == 700\n",
        "assert df_test.shape[0] == 200\n",
        "assert df_validation.shape[0] == 100"
      ],
      "metadata": {
        "id": "0VAG6CQIq6oK",
        "colab": {
          "base_uri": "https://localhost:8080/",
          "height": 17
        },
        "outputId": "addc3e63-b7e4-4e3b-d558-5bf3f52db1c1"
      },
      "execution_count": null,
      "outputs": [
        {
          "output_type": "display_data",
          "data": {
            "text/plain": [
              "<IPython.core.display.HTML object>"
            ],
            "text/html": [
              "\n",
              "  <style>\n",
              "    pre {\n",
              "        white-space: pre-wrap;\n",
              "    }\n",
              "  </style>\n",
              "  "
            ]
          },
          "metadata": {}
        }
      ]
    },
    {
      "cell_type": "code",
      "source": [
        "from google.colab import data_table; data_table.enable_dataframe_formatter()\n",
        "import numpy as np; np.random.seed(123)"
      ],
      "metadata": {
        "id": "jDFfITwQr-9s",
        "colab": {
          "base_uri": "https://localhost:8080/",
          "height": 17
        },
        "outputId": "6355e0e2-78f4-43cb-e7cf-5ffdf7cc1973"
      },
      "execution_count": null,
      "outputs": [
        {
          "output_type": "display_data",
          "data": {
            "text/plain": [
              "<IPython.core.display.HTML object>"
            ],
            "text/html": [
              "\n",
              "  <style>\n",
              "    pre {\n",
              "        white-space: pre-wrap;\n",
              "    }\n",
              "  </style>\n",
              "  "
            ]
          },
          "metadata": {}
        }
      ]
    },
    {
      "cell_type": "code",
      "source": [
        "df_train[\"split\"] = np.zeros(df_train.shape[0])\n",
        "df_test[\"split\"] = np.ones(df_test.shape[0])\n",
        "df_validation[\"split\"] = np.full(df_validation.shape[0], 2)"
      ],
      "metadata": {
        "id": "_XjPa4XCq6dv",
        "colab": {
          "base_uri": "https://localhost:8080/",
          "height": 17
        },
        "outputId": "ed49a57a-7f6e-430a-de20-6dc2429f734b"
      },
      "execution_count": null,
      "outputs": [
        {
          "output_type": "display_data",
          "data": {
            "text/plain": [
              "<IPython.core.display.HTML object>"
            ],
            "text/html": [
              "\n",
              "  <style>\n",
              "    pre {\n",
              "        white-space: pre-wrap;\n",
              "    }\n",
              "  </style>\n",
              "  "
            ]
          },
          "metadata": {}
        }
      ]
    },
    {
      "cell_type": "code",
      "source": [
        "df_dataset = pd.concat([df_train, df_test, df_validation])"
      ],
      "metadata": {
        "id": "QwjCzdMsq6RC",
        "colab": {
          "base_uri": "https://localhost:8080/",
          "height": 17
        },
        "outputId": "58c0f5ff-e963-4bbb-a5c5-746d7a08035a"
      },
      "execution_count": null,
      "outputs": [
        {
          "output_type": "display_data",
          "data": {
            "text/plain": [
              "<IPython.core.display.HTML object>"
            ],
            "text/html": [
              "\n",
              "  <style>\n",
              "    pre {\n",
              "        white-space: pre-wrap;\n",
              "    }\n",
              "  </style>\n",
              "  "
            ]
          },
          "metadata": {}
        }
      ]
    },
    {
      "cell_type": "code",
      "source": [
        "df_dataset[\"split\"] = df_dataset[\"split\"].astype(int)"
      ],
      "metadata": {
        "id": "o0yh3pl3piVJ",
        "colab": {
          "base_uri": "https://localhost:8080/",
          "height": 17
        },
        "outputId": "2793e00f-968e-4335-e035-4b2af920ecf9"
      },
      "execution_count": null,
      "outputs": [
        {
          "output_type": "display_data",
          "data": {
            "text/plain": [
              "<IPython.core.display.HTML object>"
            ],
            "text/html": [
              "\n",
              "  <style>\n",
              "    pre {\n",
              "        white-space: pre-wrap;\n",
              "    }\n",
              "  </style>\n",
              "  "
            ]
          },
          "metadata": {}
        }
      ]
    },
    {
      "cell_type": "code",
      "source": [
        "df_dataset.shape"
      ],
      "metadata": {
        "id": "aHV-Gty_s1sA",
        "colab": {
          "base_uri": "https://localhost:8080/",
          "height": 35
        },
        "outputId": "ce1f30db-0dcc-47ab-be41-ee426ca01a63"
      },
      "execution_count": null,
      "outputs": [
        {
          "output_type": "display_data",
          "data": {
            "text/plain": [
              "<IPython.core.display.HTML object>"
            ],
            "text/html": [
              "\n",
              "  <style>\n",
              "    pre {\n",
              "        white-space: pre-wrap;\n",
              "    }\n",
              "  </style>\n",
              "  "
            ]
          },
          "metadata": {}
        },
        {
          "output_type": "execute_result",
          "data": {
            "text/plain": [
              "(1000, 4)"
            ]
          },
          "metadata": {},
          "execution_count": 31
        }
      ]
    },
    {
      "cell_type": "code",
      "source": [
        "assert df_dataset[df_dataset[\"split\"] == 0].shape[0] == 700\n",
        "assert df_dataset[df_dataset[\"split\"] == 1].shape[0] == 200\n",
        "assert df_dataset[df_dataset[\"split\"] == 2].shape[0] == 100"
      ],
      "metadata": {
        "id": "sjj5g2bOYpDV",
        "colab": {
          "base_uri": "https://localhost:8080/",
          "height": 17
        },
        "outputId": "0aba7725-b5c3-4036-a7d6-fe21622e940a"
      },
      "execution_count": null,
      "outputs": [
        {
          "output_type": "display_data",
          "data": {
            "text/plain": [
              "<IPython.core.display.HTML object>"
            ],
            "text/html": [
              "\n",
              "  <style>\n",
              "    pre {\n",
              "        white-space: pre-wrap;\n",
              "    }\n",
              "  </style>\n",
              "  "
            ]
          },
          "metadata": {}
        }
      ]
    },
    {
      "cell_type": "code",
      "source": [
        "df_dataset.head(10)"
      ],
      "metadata": {
        "id": "6YlNOIOSlzNM",
        "colab": {
          "base_uri": "https://localhost:8080/",
          "height": 998
        },
        "outputId": "21bae15d-bc29-48f0-d5f5-9f7576a2ab97"
      },
      "execution_count": null,
      "outputs": [
        {
          "output_type": "display_data",
          "data": {
            "text/plain": [
              "<IPython.core.display.HTML object>"
            ],
            "text/html": [
              "\n",
              "  <style>\n",
              "    pre {\n",
              "        white-space: pre-wrap;\n",
              "    }\n",
              "  </style>\n",
              "  "
            ]
          },
          "metadata": {}
        },
        {
          "output_type": "execute_result",
          "data": {
            "text/plain": [
              "             id                                           dialogue  \\\n",
              "7270   13828796  Adella: Hey!! So, for the longest time I've a ...   \n",
              "1109   13863061  Tori: New hair!\\nTori: <file_photo>\\nHugh: Pre...   \n",
              "13165  13681152  Martin: Hi Tom, this is my new mobile number i...   \n",
              "11264  13716583  Phoebe: I had a terrible day. Anyone up for so...   \n",
              "11662  13812757  Michael: I was in no mood for talk \\r\\nMichael...   \n",
              "592    13715945  Nick: Opinions required! Gas or induction hob?...   \n",
              "1681   13815727  Aubrey: how was your trip, babe? are you alrea...   \n",
              "3470   13611993  Scott: Wanna smthg from the shop?\\r\\nJenna: no...   \n",
              "5690   13810506  Jane: Hey gorgeous, have any plans for the sum...   \n",
              "2512   13729573  Regina: did you finish the required trainings ...   \n",
              "\n",
              "                                                 summary  split  \n",
              "7270   Rod and Adella will compose a song together. T...      0  \n",
              "1109                      Hugh likes Tori's new haircut.      0  \n",
              "13165  Martin and Tom are going to meet next year to ...      0  \n",
              "11264  Phoebe had a terrible day. She will meet at 7:...      0  \n",
              "11662  They were gossiping about Michael. He will com...      0  \n",
              "592                Nick decided to buy an induction hob.      0  \n",
              "1681   Jackson is on a trip. His journey on the train...      0  \n",
              "3470   Jenna asks Scott to buy her an adhesive bandag...      0  \n",
              "5690   Patricia and Jane will go on an organised trip...      0  \n",
              "2512   Tatiana hasn't finished the required trainings...      0  "
            ],
            "text/html": [
              "\n",
              "  <div id=\"df-f62acad1-0f78-44a6-8006-e9dae793fd09\" class=\"colab-df-container\">\n",
              "    <div>\n",
              "<style scoped>\n",
              "    .dataframe tbody tr th:only-of-type {\n",
              "        vertical-align: middle;\n",
              "    }\n",
              "\n",
              "    .dataframe tbody tr th {\n",
              "        vertical-align: top;\n",
              "    }\n",
              "\n",
              "    .dataframe thead th {\n",
              "        text-align: right;\n",
              "    }\n",
              "</style>\n",
              "<table border=\"1\" class=\"dataframe\">\n",
              "  <thead>\n",
              "    <tr style=\"text-align: right;\">\n",
              "      <th></th>\n",
              "      <th>id</th>\n",
              "      <th>dialogue</th>\n",
              "      <th>summary</th>\n",
              "      <th>split</th>\n",
              "    </tr>\n",
              "  </thead>\n",
              "  <tbody>\n",
              "    <tr>\n",
              "      <th>7270</th>\n",
              "      <td>13828796</td>\n",
              "      <td>Adella: Hey!! So, for the longest time I've a ...</td>\n",
              "      <td>Rod and Adella will compose a song together. T...</td>\n",
              "      <td>0</td>\n",
              "    </tr>\n",
              "    <tr>\n",
              "      <th>1109</th>\n",
              "      <td>13863061</td>\n",
              "      <td>Tori: New hair!\\nTori: &lt;file_photo&gt;\\nHugh: Pre...</td>\n",
              "      <td>Hugh likes Tori's new haircut.</td>\n",
              "      <td>0</td>\n",
              "    </tr>\n",
              "    <tr>\n",
              "      <th>13165</th>\n",
              "      <td>13681152</td>\n",
              "      <td>Martin: Hi Tom, this is my new mobile number i...</td>\n",
              "      <td>Martin and Tom are going to meet next year to ...</td>\n",
              "      <td>0</td>\n",
              "    </tr>\n",
              "    <tr>\n",
              "      <th>11264</th>\n",
              "      <td>13716583</td>\n",
              "      <td>Phoebe: I had a terrible day. Anyone up for so...</td>\n",
              "      <td>Phoebe had a terrible day. She will meet at 7:...</td>\n",
              "      <td>0</td>\n",
              "    </tr>\n",
              "    <tr>\n",
              "      <th>11662</th>\n",
              "      <td>13812757</td>\n",
              "      <td>Michael: I was in no mood for talk \\r\\nMichael...</td>\n",
              "      <td>They were gossiping about Michael. He will com...</td>\n",
              "      <td>0</td>\n",
              "    </tr>\n",
              "    <tr>\n",
              "      <th>592</th>\n",
              "      <td>13715945</td>\n",
              "      <td>Nick: Opinions required! Gas or induction hob?...</td>\n",
              "      <td>Nick decided to buy an induction hob.</td>\n",
              "      <td>0</td>\n",
              "    </tr>\n",
              "    <tr>\n",
              "      <th>1681</th>\n",
              "      <td>13815727</td>\n",
              "      <td>Aubrey: how was your trip, babe? are you alrea...</td>\n",
              "      <td>Jackson is on a trip. His journey on the train...</td>\n",
              "      <td>0</td>\n",
              "    </tr>\n",
              "    <tr>\n",
              "      <th>3470</th>\n",
              "      <td>13611993</td>\n",
              "      <td>Scott: Wanna smthg from the shop?\\r\\nJenna: no...</td>\n",
              "      <td>Jenna asks Scott to buy her an adhesive bandag...</td>\n",
              "      <td>0</td>\n",
              "    </tr>\n",
              "    <tr>\n",
              "      <th>5690</th>\n",
              "      <td>13810506</td>\n",
              "      <td>Jane: Hey gorgeous, have any plans for the sum...</td>\n",
              "      <td>Patricia and Jane will go on an organised trip...</td>\n",
              "      <td>0</td>\n",
              "    </tr>\n",
              "    <tr>\n",
              "      <th>2512</th>\n",
              "      <td>13729573</td>\n",
              "      <td>Regina: did you finish the required trainings ...</td>\n",
              "      <td>Tatiana hasn't finished the required trainings...</td>\n",
              "      <td>0</td>\n",
              "    </tr>\n",
              "  </tbody>\n",
              "</table>\n",
              "</div>\n",
              "    <div class=\"colab-df-buttons\">\n",
              "\n",
              "  <div class=\"colab-df-container\">\n",
              "    <button class=\"colab-df-convert\" onclick=\"convertToInteractive('df-f62acad1-0f78-44a6-8006-e9dae793fd09')\"\n",
              "            title=\"Convert this dataframe to an interactive table.\"\n",
              "            style=\"display:none;\">\n",
              "\n",
              "  <svg xmlns=\"http://www.w3.org/2000/svg\" height=\"24px\" viewBox=\"0 -960 960 960\">\n",
              "    <path d=\"M120-120v-720h720v720H120Zm60-500h600v-160H180v160Zm220 220h160v-160H400v160Zm0 220h160v-160H400v160ZM180-400h160v-160H180v160Zm440 0h160v-160H620v160ZM180-180h160v-160H180v160Zm440 0h160v-160H620v160Z\"/>\n",
              "  </svg>\n",
              "    </button>\n",
              "\n",
              "  <style>\n",
              "    .colab-df-container {\n",
              "      display:flex;\n",
              "      gap: 12px;\n",
              "    }\n",
              "\n",
              "    .colab-df-convert {\n",
              "      background-color: #E8F0FE;\n",
              "      border: none;\n",
              "      border-radius: 50%;\n",
              "      cursor: pointer;\n",
              "      display: none;\n",
              "      fill: #1967D2;\n",
              "      height: 32px;\n",
              "      padding: 0 0 0 0;\n",
              "      width: 32px;\n",
              "    }\n",
              "\n",
              "    .colab-df-convert:hover {\n",
              "      background-color: #E2EBFA;\n",
              "      box-shadow: 0px 1px 2px rgba(60, 64, 67, 0.3), 0px 1px 3px 1px rgba(60, 64, 67, 0.15);\n",
              "      fill: #174EA6;\n",
              "    }\n",
              "\n",
              "    .colab-df-buttons div {\n",
              "      margin-bottom: 4px;\n",
              "    }\n",
              "\n",
              "    [theme=dark] .colab-df-convert {\n",
              "      background-color: #3B4455;\n",
              "      fill: #D2E3FC;\n",
              "    }\n",
              "\n",
              "    [theme=dark] .colab-df-convert:hover {\n",
              "      background-color: #434B5C;\n",
              "      box-shadow: 0px 1px 3px 1px rgba(0, 0, 0, 0.15);\n",
              "      filter: drop-shadow(0px 1px 2px rgba(0, 0, 0, 0.3));\n",
              "      fill: #FFFFFF;\n",
              "    }\n",
              "  </style>\n",
              "\n",
              "    <script>\n",
              "      const buttonEl =\n",
              "        document.querySelector('#df-f62acad1-0f78-44a6-8006-e9dae793fd09 button.colab-df-convert');\n",
              "      buttonEl.style.display =\n",
              "        google.colab.kernel.accessAllowed ? 'block' : 'none';\n",
              "\n",
              "      async function convertToInteractive(key) {\n",
              "        const element = document.querySelector('#df-f62acad1-0f78-44a6-8006-e9dae793fd09');\n",
              "        const dataTable =\n",
              "          await google.colab.kernel.invokeFunction('convertToInteractive',\n",
              "                                                    [key], {});\n",
              "        if (!dataTable) return;\n",
              "\n",
              "        const docLinkHtml = 'Like what you see? Visit the ' +\n",
              "          '<a target=\"_blank\" href=https://colab.research.google.com/notebooks/data_table.ipynb>data table notebook</a>'\n",
              "          + ' to learn more about interactive tables.';\n",
              "        element.innerHTML = '';\n",
              "        dataTable['output_type'] = 'display_data';\n",
              "        await google.colab.output.renderOutput(dataTable, element);\n",
              "        const docLink = document.createElement('div');\n",
              "        docLink.innerHTML = docLinkHtml;\n",
              "        element.appendChild(docLink);\n",
              "      }\n",
              "    </script>\n",
              "  </div>\n",
              "\n",
              "\n",
              "<div id=\"df-83ab627b-f868-4e37-8ea7-b579c6a315db\">\n",
              "  <button class=\"colab-df-quickchart\" onclick=\"quickchart('df-83ab627b-f868-4e37-8ea7-b579c6a315db')\"\n",
              "            title=\"Suggest charts.\"\n",
              "            style=\"display:none;\">\n",
              "\n",
              "<svg xmlns=\"http://www.w3.org/2000/svg\" height=\"24px\"viewBox=\"0 0 24 24\"\n",
              "     width=\"24px\">\n",
              "    <g>\n",
              "        <path d=\"M19 3H5c-1.1 0-2 .9-2 2v14c0 1.1.9 2 2 2h14c1.1 0 2-.9 2-2V5c0-1.1-.9-2-2-2zM9 17H7v-7h2v7zm4 0h-2V7h2v10zm4 0h-2v-4h2v4z\"/>\n",
              "    </g>\n",
              "</svg>\n",
              "  </button>\n",
              "\n",
              "<style>\n",
              "  .colab-df-quickchart {\n",
              "      --bg-color: #E8F0FE;\n",
              "      --fill-color: #1967D2;\n",
              "      --hover-bg-color: #E2EBFA;\n",
              "      --hover-fill-color: #174EA6;\n",
              "      --disabled-fill-color: #AAA;\n",
              "      --disabled-bg-color: #DDD;\n",
              "  }\n",
              "\n",
              "  [theme=dark] .colab-df-quickchart {\n",
              "      --bg-color: #3B4455;\n",
              "      --fill-color: #D2E3FC;\n",
              "      --hover-bg-color: #434B5C;\n",
              "      --hover-fill-color: #FFFFFF;\n",
              "      --disabled-bg-color: #3B4455;\n",
              "      --disabled-fill-color: #666;\n",
              "  }\n",
              "\n",
              "  .colab-df-quickchart {\n",
              "    background-color: var(--bg-color);\n",
              "    border: none;\n",
              "    border-radius: 50%;\n",
              "    cursor: pointer;\n",
              "    display: none;\n",
              "    fill: var(--fill-color);\n",
              "    height: 32px;\n",
              "    padding: 0;\n",
              "    width: 32px;\n",
              "  }\n",
              "\n",
              "  .colab-df-quickchart:hover {\n",
              "    background-color: var(--hover-bg-color);\n",
              "    box-shadow: 0 1px 2px rgba(60, 64, 67, 0.3), 0 1px 3px 1px rgba(60, 64, 67, 0.15);\n",
              "    fill: var(--button-hover-fill-color);\n",
              "  }\n",
              "\n",
              "  .colab-df-quickchart-complete:disabled,\n",
              "  .colab-df-quickchart-complete:disabled:hover {\n",
              "    background-color: var(--disabled-bg-color);\n",
              "    fill: var(--disabled-fill-color);\n",
              "    box-shadow: none;\n",
              "  }\n",
              "\n",
              "  .colab-df-spinner {\n",
              "    border: 2px solid var(--fill-color);\n",
              "    border-color: transparent;\n",
              "    border-bottom-color: var(--fill-color);\n",
              "    animation:\n",
              "      spin 1s steps(1) infinite;\n",
              "  }\n",
              "\n",
              "  @keyframes spin {\n",
              "    0% {\n",
              "      border-color: transparent;\n",
              "      border-bottom-color: var(--fill-color);\n",
              "      border-left-color: var(--fill-color);\n",
              "    }\n",
              "    20% {\n",
              "      border-color: transparent;\n",
              "      border-left-color: var(--fill-color);\n",
              "      border-top-color: var(--fill-color);\n",
              "    }\n",
              "    30% {\n",
              "      border-color: transparent;\n",
              "      border-left-color: var(--fill-color);\n",
              "      border-top-color: var(--fill-color);\n",
              "      border-right-color: var(--fill-color);\n",
              "    }\n",
              "    40% {\n",
              "      border-color: transparent;\n",
              "      border-right-color: var(--fill-color);\n",
              "      border-top-color: var(--fill-color);\n",
              "    }\n",
              "    60% {\n",
              "      border-color: transparent;\n",
              "      border-right-color: var(--fill-color);\n",
              "    }\n",
              "    80% {\n",
              "      border-color: transparent;\n",
              "      border-right-color: var(--fill-color);\n",
              "      border-bottom-color: var(--fill-color);\n",
              "    }\n",
              "    90% {\n",
              "      border-color: transparent;\n",
              "      border-bottom-color: var(--fill-color);\n",
              "    }\n",
              "  }\n",
              "</style>\n",
              "\n",
              "  <script>\n",
              "    async function quickchart(key) {\n",
              "      const quickchartButtonEl =\n",
              "        document.querySelector('#' + key + ' button');\n",
              "      quickchartButtonEl.disabled = true;  // To prevent multiple clicks.\n",
              "      quickchartButtonEl.classList.add('colab-df-spinner');\n",
              "      try {\n",
              "        const charts = await google.colab.kernel.invokeFunction(\n",
              "            'suggestCharts', [key], {});\n",
              "      } catch (error) {\n",
              "        console.error('Error during call to suggestCharts:', error);\n",
              "      }\n",
              "      quickchartButtonEl.classList.remove('colab-df-spinner');\n",
              "      quickchartButtonEl.classList.add('colab-df-quickchart-complete');\n",
              "    }\n",
              "    (() => {\n",
              "      let quickchartButtonEl =\n",
              "        document.querySelector('#df-83ab627b-f868-4e37-8ea7-b579c6a315db button');\n",
              "      quickchartButtonEl.style.display =\n",
              "        google.colab.kernel.accessAllowed ? 'block' : 'none';\n",
              "    })();\n",
              "  </script>\n",
              "</div>\n",
              "    </div>\n",
              "  </div>\n"
            ],
            "application/vnd.google.colaboratory.module+javascript": "\n      import \"https://ssl.gstatic.com/colaboratory/data_table/881c4a0d49046431/data_table.js\";\n\n      const table = window.createDataTable({\n        data: [[{\n            'v': 7270,\n            'f': \"7270\",\n        },\n\"13828796\",\n\"Adella: Hey!! So, for the longest time I've a crazy idea, that we should compose something together :D (Seeing as we both have Musescore, why not?) Basically, I would compose a few bars of music, then you, then me ect. What do you think?\\r\\nRod: Great idea \\r\\nAdella: :D\\r\\nRod: Have you composed something already?\\r\\nAdella: No! :P Wwould you like to start? We have different styles, but I don't mind adjusting to whatever you create.\\r\\nRod: Okay, I can try :) I'm curious what we'll create. XD\\r\\nAdella: Oh, and I'm insisting on the rule: \\\"I'll compose it when I compose it and send it when I send it\\\". Sounds good?\\r\\nRod: Sounds great! Obviously we're both so busy and this definitely doesn't take priority :)\\r\\nRod: I'll probably only manage to get started on the weekend. \\r\\nAdella: That's alright - are you sure you're okay with starting? I don't mind.\\r\\nRod: No, it's fine :) I want to.\\r\\nAdella: Great! :D See you on the other side ;)\",\n\"Rod and Adella will compose a song together. They are both busy and Rod will start first at the weekend.\",\n{\n            'v': 0,\n            'f': \"0\",\n        }],\n [{\n            'v': 1109,\n            'f': \"1109\",\n        },\n\"13863061\",\n\"Tori: New hair!\\nTori: <file_photo>\\nHugh: Pretty girl \\ud83d\\ude0d\\nTori: \\ud83d\\ude0a\",\n\"Hugh likes Tori's new haircut.\",\n{\n            'v': 0,\n            'f': \"0\",\n        }],\n [{\n            'v': 13165,\n            'f': \"13165\",\n        },\n\"13681152\",\n\"Martin: Hi Tom, this is my new mobile number in my new country. I hope you're all fine and enjoy your christmas holidays? Speak to you soon.\\r\\nTom: Hi Martin nice to hear from you.\\r\\nTom: we're all ready to come and play cards at your new home, what do you think of that? Everyone is ok, we only need the cards\\r\\nTom:  <file_photo>\\r\\nMartin: I miss you all. Ok for cards at home. Bring your own cards, but not the spoon \\ud83d\\ude02\\r\\nMartin: don't forgot the bottles\\r\\nTom: \\ud83d\\ude02\\ud83d\\ude02\\r\\nMartin: Have a nice christmas \\r\\nTom: you too. we think about you, it'll be great to come and visit you next year... with ou without cards, but with \\ud83c\\udf7e\",\n\"Martin and Tom are going to meet next year to play cards and have a drink together at Martin's.\",\n{\n            'v': 0,\n            'f': \"0\",\n        }],\n [{\n            'v': 11264,\n            'f': \"11264\",\n        },\n\"13716583\",\n\"Phoebe: I had a terrible day. Anyone up for some cheerful movie today?\\r\\nJennifer: There is Despicable Me in Helios at 8.\\r\\nPhoebe: Sounds lovely, thank you, hon.\\r\\nPatrick: Sorry, ladies, no can do today. But, Phoebs, I\\u2019m sending you a virtual hug\\r\\nPatrick: <file_gif>\\r\\nPhoebe: Thank you, sir <3 Next time! Jen, let\\u2019s meet at the entrance at 7.45, OK?\\r\\nJennifer: Sure, see you then.\",\n\"Phoebe had a terrible day. She will meet at 7:45 with Jennifer to watch Despicable Me in Helios. Patrick can't go.\",\n{\n            'v': 0,\n            'f': \"0\",\n        }],\n [{\n            'v': 11662,\n            'f': \"11662\",\n        },\n\"13812757\",\n\"Michael: I was in no mood for talk \\r\\nMichael: I was unpleasantly surprised to find they were talking about me behind my back\\r\\nRichard: Oh, I see\\r\\nRichard: Leave it behind\\r\\nRichard: Are you coming to a Christmas party though?\\r\\nMichael: Still thinking\\r\\nMichael: I don't want to give them any additional opportunity of gossiping \\r\\nRichard: You don't have influence on it\\r\\nMichael: Yeah, maybe you are wright \\r\\nRichard: You see, now you are talking\\r\\nRichard: How about before at my place?\\r\\nRichard: With Monika and Sandra?\\r\\nMichael: ...\\r\\nRichard: Does it mean yes?\\r\\nMichael: Yes, whatever...\\r\\nRichard: Come on man, don't be such a jerk\\r\\nRichard: We'll have fun\\r\\nRichard: Just come and I'll arrange everything\\r\\nMichael: Ok man\\r\\nMichael: Thx\\r\\nRichard: Ok settled then\",\n\"They were gossiping about Michael. He will come to the Christmas party. He, Richard, Monica and Sandra will have a before at Richard's place. \",\n{\n            'v': 0,\n            'f': \"0\",\n        }],\n [{\n            'v': 592,\n            'f': \"592\",\n        },\n\"13715945\",\n\"Nick: Opinions required! Gas or induction hob?\\r\\nBen: Having lived with an induction hob for a while, i\\u2019m not convinced.. \\r\\nRuth: induction- very sleek and quick to boil!\\r\\nBen: but it doesn\\u2019t maintain a constant temperature! Is it typical of all induction or i just got an old one?\\r\\nRuth: they pulse if use don\\u2019t use proper pans\\r\\nBen: what do you mean proper? Do you mean better+heavier?\\r\\nRuth: yeah, simply suitable\\r\\nBen: and i guess i have to learn how to use it..\\r\\nRuth: yeah, it\\u2019s just different comparing to gas\\r\\nChristian: gas, absolutely without a question- nothing else gives you the control!\\r\\nNick: I\\u2019m definitely more interested in a controllable consistent heat\\r\\nMary: with induction it\\u2019s like on and off so you have to regulate temperature.. \\r\\nKate: induction- yes, gas- no cause it takes ages to boil water!\\r\\nTim: you can always use an electric kettle you know?\\r\\nKate: haha! Not funny!\\r\\nKate: it\\u2019s easier to clean as well.\\r\\nHarry: I\\u2019d go for induction cause it keeps the temp after you finish cooking so the food is still warm \\r\\nTom: Induction! 100%\\r\\nSusan: our induction was terrible! I think it\\u2019s common!\\r\\nEmma: another vote for induction here! \\r\\nRuth: All chefs seem to say gas!\\r\\nTom: I sell more induction hobs then gas! It\\u2019s getting popular and i can see why!\\r\\nEmma: we got ours from the John Lewis outlet so it was ex display and therefore very affordable!\\r\\nNick: cheer guys for all your opinions! Great talk! I think i\\u2019ll go for.. Induction.\",\n\"Nick decided to buy an induction hob.\",\n{\n            'v': 0,\n            'f': \"0\",\n        }],\n [{\n            'v': 1681,\n            'f': \"1681\",\n        },\n\"13815727\",\n\"Aubrey: how was your trip, babe? are you already in the hotel?\\r\\nJackson: no, i'm not, my train is delayed by two hours... :/ there was an accident on the railway line and all trains were held up for 40 minutes\\r\\nJackson: and i sit next to the guy who's constantly humming\\r\\nJackson: he's driving me CRAZY!!\\r\\nAubrey: why won't you tell him to stop?\\r\\nJackson: because i've already asked him not to this\\r\\nJackson: he just stared at me for a while and then started humming even louder\\r\\nAubrey: what a jerk!\\r\\nAubrey: babe, let me know when you get to the hotel, ok?\\r\\nJackson: sure. i'm going to lose my mind here!\\r\\nAubrey: be brave, hon ;) love you :*\\r\\nJackson: I love you too! :* :*\",\n\"Jackson is on a trip. His journey on the train is not pleasant. He is annoyed by one of the passengers. The train is delayed because of an accident on the railway. Jackson will contact Aubrey once he arrives in the hotel.\",\n{\n            'v': 0,\n            'f': \"0\",\n        }],\n [{\n            'v': 3470,\n            'f': \"3470\",\n        },\n\"13611993\",\n\"Scott: Wanna smthg from the shop?\\r\\nJenna: no, thx\\r\\nScott: and from the pharmacy?\\r\\nJenna: oh yes, can you buy me an adhesive bandage?\\r\\nJenna: u know, yesterday I cut my finger\\u2026\\r\\nScott: u did what?\\r\\nJenna: I was slicing bread\\u2026 everything\\u2019s alright now. Don\\u2019t worry\\r\\nScott: OMG\\r\\nScott: sure, no probs\\r\\nJenna: thanx\",\n\"Jenna asks Scott to buy her an adhesive bandage. She cut her finger the previous day.\",\n{\n            'v': 0,\n            'f': \"0\",\n        }],\n [{\n            'v': 5690,\n            'f': \"5690\",\n        },\n\"13810506\",\n\"Jane: Hey gorgeous, have any plans for the summer? :D\\r\\nPatricia: Not yet, what are you up to? :>\\r\\nJane: Just been thinking what to do this and I kind of want to go somewhere far far away\\r\\nPatricia: Cool, up for that. Do you have anything specific in mind?\\r\\nJane: Yeah, couple of places. Cuba, Mexico or, other side, Thailand or Vietnam?\\r\\nPatricia: Wow, exotic! :D\\r\\nJane: Well, far far away as I said ;) Remember the guy I told you about? The traveller? He was telling me all about Cuba and Mexico, it sounded really cool.\\r\\nPatricia: Isn't it a bit dangerous?...\\r\\nJane: I don't know, I was thinking about going for an organised trip?\\r\\nPatricia: Ok, sounds fine. Never been on one, but happy to discover something new :)\\r\\nJane: I've been to a few and I think it's great if you don't have a lot of time and want to see a lot.\\r\\nPatricia: Are there any good trips? Cuba sounds cool, actually I'd prefer it to Mexico.\\r\\nJane: How about Vietnam or Thailand? We could look into both options.\\r\\nPatricia: Been to Thailand, but wouldn't mind coming back, the food <3\\r\\nJane: :D hahahaha. Honestly can't decide. There's that one really cool trip to Thailand, Vietnam and Cambodia.\\r\\nPatricia: Wow, sounds great! How much is it?\\r\\nJane: Around 2k for almost two weeks, seems fair to me.\\r\\nPatricia: Are the meals included? \\r\\nJane: Hm, breakfasts and some dinners, depends on where you are.\\r\\nPatricia: Cool, maybe it's even better so we could explore the local stuff ;)\\r\\nJane: So it kind of sounds Asia it is :D God, already excited <3\\r\\nPatricia: hahahaha, so it does! When could you get any time off? August is off limits for me and probably not the best month to go there.\\r\\nJane: I know, July then? It may be cheaper, because no one wants to go there in the summer :D\\r\\nPatricia: Quite true, July sounds fine for me. Gotta go tell my boss I need a time off and ready to go!\\r\\nJane: Yeah, start the countdown, I will contact the agency to book the trip. Will send you all details.\\r\\nPatricia: Thanks! Also, is it a direct flight?\\r\\nJane: Yes! Couldn't be more perfect, could it?\",\n\"Patricia and Jane will go on an organised trip to Thailand, Vietnam and Cambodia. They will go in July. Patricia will ask her boss for a time off and Jane will contact the agency. She will send Patricia the details. They will take a direct flight. The trip lasts almost 2 weeks and costs around 2k.\",\n{\n            'v': 0,\n            'f': \"0\",\n        }],\n [{\n            'v': 2512,\n            'f': \"2512\",\n        },\n\"13729573\",\n\"Regina: did you finish the required trainings they sent us this week?\\r\\nTatiana: no, not yet\\r\\nRegina: you should, the deadline is tomorrow\\r\\nTatiana: what? why didn't they say sooner?\\r\\nRegina: they did, it was in the memo\\r\\nTatiana: i didn't read it... shit\\r\\nRegina: you better get to it right away\\r\\nTatiana: is there a lot of them?\\r\\nRegina: they are all on this online platform we always work on but they took a lot of time\\r\\nTatiana: so how long? I asked if there is a lot of them?\\r\\nRegina: I tried to go as quickly as possible and it took me almost 9 hours\\r\\nTatiana: what?! shit... i am so screwed...\\r\\nRegina: if you start now you will make it tomorrow by the end of the day\\r\\nTatiana: i was supposed to have a day off tomorrow... i am so stupid\\r\\nRegina: oh crap :/ sorry to hear\\r\\nTatiana: yeah, i wanted to go home sooner to spend more time with my mom... i will have to cancel \\r\\nRegina: i can help you with some of the quizzes if you want, i probably remember a lot of answers\\r\\nTatiana: that would actually be great help but i don't want to take too much of your time\\r\\nRegina: no worries, we gotta help each other right?\\r\\nTatiana: yeah but are you sure?\\r\\nRegina: yes, we can do some of them together but you have to start now, otherwise you won't make it in time\\r\\nTatiana: I will... thanks a lot of reminding me, i can't imagine what would happen if i forgot it lol\\r\\nRegina: the boss wouldn't be too happy about it\\r\\nTatiana: that's for sure ;)\",\n\"Tatiana hasn't finished the required trainings. Regina needed 9 hours to complete them. Regina will help Tatiana but she has to start now to finish till tomorrow.\",\n{\n            'v': 0,\n            'f': \"0\",\n        }]],\n        columns: [[\"number\", \"index\"], [\"string\", \"id\"], [\"string\", \"dialogue\"], [\"string\", \"summary\"], [\"number\", \"split\"]],\n        columnOptions: [{\"width\": \"1px\", \"className\": \"index_column\"}],\n        rowsPerPage: 25,\n        helpUrl: \"https://colab.research.google.com/notebooks/data_table.ipynb\",\n        suppressOutputScrolling: true,\n        minimumWidth: undefined,\n      });\n\n      function appendQuickchartButton(parentElement) {\n        let quickchartButtonContainerElement = document.createElement('div');\n        quickchartButtonContainerElement.innerHTML = `\n<div id=\"df-cd40df14-24cb-4c2a-8e88-5e761692bac6\">\n  <button class=\"colab-df-quickchart\" onclick=\"quickchart('df-cd40df14-24cb-4c2a-8e88-5e761692bac6')\"\n            title=\"Suggest charts.\"\n            style=\"display:none;\">\n    \n<svg xmlns=\"http://www.w3.org/2000/svg\" height=\"24px\"viewBox=\"0 0 24 24\"\n     width=\"24px\">\n    <g>\n        <path d=\"M19 3H5c-1.1 0-2 .9-2 2v14c0 1.1.9 2 2 2h14c1.1 0 2-.9 2-2V5c0-1.1-.9-2-2-2zM9 17H7v-7h2v7zm4 0h-2V7h2v10zm4 0h-2v-4h2v4z\"/>\n    </g>\n</svg>\n  </button>\n  \n<style>\n  .colab-df-quickchart {\n      --bg-color: #E8F0FE;\n      --fill-color: #1967D2;\n      --hover-bg-color: #E2EBFA;\n      --hover-fill-color: #174EA6;\n      --disabled-fill-color: #AAA;\n      --disabled-bg-color: #DDD;\n  }\n\n  [theme=dark] .colab-df-quickchart {\n      --bg-color: #3B4455;\n      --fill-color: #D2E3FC;\n      --hover-bg-color: #434B5C;\n      --hover-fill-color: #FFFFFF;\n      --disabled-bg-color: #3B4455;\n      --disabled-fill-color: #666;\n  }\n\n  .colab-df-quickchart {\n    background-color: var(--bg-color);\n    border: none;\n    border-radius: 50%;\n    cursor: pointer;\n    display: none;\n    fill: var(--fill-color);\n    height: 32px;\n    padding: 0;\n    width: 32px;\n  }\n\n  .colab-df-quickchart:hover {\n    background-color: var(--hover-bg-color);\n    box-shadow: 0 1px 2px rgba(60, 64, 67, 0.3), 0 1px 3px 1px rgba(60, 64, 67, 0.15);\n    fill: var(--button-hover-fill-color);\n  }\n\n  .colab-df-quickchart-complete:disabled,\n  .colab-df-quickchart-complete:disabled:hover {\n    background-color: var(--disabled-bg-color);\n    fill: var(--disabled-fill-color);\n    box-shadow: none;\n  }\n\n  .colab-df-spinner {\n    border: 2px solid var(--fill-color);\n    border-color: transparent;\n    border-bottom-color: var(--fill-color);\n    animation:\n      spin 1s steps(1) infinite;\n  }\n\n  @keyframes spin {\n    0% {\n      border-color: transparent;\n      border-bottom-color: var(--fill-color);\n      border-left-color: var(--fill-color);\n    }\n    20% {\n      border-color: transparent;\n      border-left-color: var(--fill-color);\n      border-top-color: var(--fill-color);\n    }\n    30% {\n      border-color: transparent;\n      border-left-color: var(--fill-color);\n      border-top-color: var(--fill-color);\n      border-right-color: var(--fill-color);\n    }\n    40% {\n      border-color: transparent;\n      border-right-color: var(--fill-color);\n      border-top-color: var(--fill-color);\n    }\n    60% {\n      border-color: transparent;\n      border-right-color: var(--fill-color);\n    }\n    80% {\n      border-color: transparent;\n      border-right-color: var(--fill-color);\n      border-bottom-color: var(--fill-color);\n    }\n    90% {\n      border-color: transparent;\n      border-bottom-color: var(--fill-color);\n    }\n  }\n</style>\n\n  <script>\n    async function quickchart(key) {\n      const quickchartButtonEl =\n        document.querySelector('#' + key + ' button');\n      quickchartButtonEl.disabled = true;  // To prevent multiple clicks.\n      quickchartButtonEl.classList.add('colab-df-spinner');\n      try {\n        const charts = await google.colab.kernel.invokeFunction(\n            'suggestCharts', [key], {});\n      } catch (error) {\n        console.error('Error during call to suggestCharts:', error);\n      }\n      quickchartButtonEl.classList.remove('colab-df-spinner');\n      quickchartButtonEl.classList.add('colab-df-quickchart-complete');\n    }\n    (() => {\n      let quickchartButtonEl =\n        document.querySelector('#df-cd40df14-24cb-4c2a-8e88-5e761692bac6 button');\n      quickchartButtonEl.style.display =\n        google.colab.kernel.accessAllowed ? 'block' : 'none';\n    })();\n  </script>\n</div>`;\n        parentElement.appendChild(quickchartButtonContainerElement);\n      }\n\n      appendQuickchartButton(table);\n    "
          },
          "metadata": {},
          "execution_count": 33
        }
      ]
    },
    {
      "cell_type": "code",
      "source": [],
      "metadata": {
        "id": "XVjCEQ9_shBM"
      },
      "execution_count": null,
      "outputs": []
    },
    {
      "cell_type": "code",
      "source": [
        "# Calculating the length of each cell in each column\n",
        "df_dataset['num_characters_dialogue'] = df_dataset['dialogue'].apply(lambda x: len(x))\n",
        "df_dataset['num_characters_summary'] = df_dataset['summary'].apply(lambda x: len(x))\n",
        "\n",
        "# Show Distribution\n",
        "df_dataset.hist(column=['num_characters_dialogue', 'num_characters_summary'])\n",
        "\n",
        "# Calculating the average\n",
        "average_chars_dialogue= df_dataset['num_characters_dialogue'].mean()\n",
        "average_chars_summary = df_dataset['num_characters_summary'].mean()\n",
        "\n",
        "print(f'Average number of tokens in the dialogue column: {(average_chars_dialogue / 3):.0f}')\n",
        "print(f'Average number of tokens in the summary column: {(average_chars_summary / 3):.0f}')\n"
      ],
      "metadata": {
        "id": "_3x3stdDKoCT",
        "colab": {
          "base_uri": "https://localhost:8080/",
          "height": 488
        },
        "outputId": "0528028a-3682-44d0-bb94-e468b992b2b6"
      },
      "execution_count": null,
      "outputs": [
        {
          "output_type": "display_data",
          "data": {
            "text/plain": [
              "<IPython.core.display.HTML object>"
            ],
            "text/html": [
              "\n",
              "  <style>\n",
              "    pre {\n",
              "        white-space: pre-wrap;\n",
              "    }\n",
              "  </style>\n",
              "  "
            ]
          },
          "metadata": {}
        },
        {
          "output_type": "stream",
          "name": "stdout",
          "text": [
            "Average number of tokens in the dialogue column: 173\n",
            "Average number of tokens in the summary column: 37\n"
          ]
        },
        {
          "output_type": "display_data",
          "data": {
            "text/plain": [
              "<Figure size 640x480 with 2 Axes>"
            ],
            "image/png": "[encoded data removed]"
          },
          "metadata": {}
        }
      ]
    },
    {
      "cell_type": "code",
      "source": [
        "df_evaluation"
      ],
      "metadata": {
        "id": "S7WejJVkP-tF",
        "colab": {
          "base_uri": "https://localhost:8080/",
          "height": 849
        },
        "outputId": "aa0074f4-3af0-44f3-b41d-6ca4f5116dc2"
      },
      "execution_count": null,
      "outputs": [
        {
          "output_type": "display_data",
          "data": {
            "text/plain": [
              "<IPython.core.display.HTML object>"
            ],
            "text/html": [
              "\n",
              "  <style>\n",
              "    pre {\n",
              "        white-space: pre-wrap;\n",
              "    }\n",
              "  </style>\n",
              "  "
            ]
          },
          "metadata": {}
        },
        {
          "output_type": "execute_result",
          "data": {
            "text/plain": [
              "               id                                           dialogue  \\\n",
              "2613     13817590  Adriana: Sorry, I guess I can't make it. I'm f...   \n",
              "1446   13820141-1  Claire: Have you seen the news?\\r\\nGreg: No. W...   \n",
              "123      13863151  Josh: You're a nutter!!!\\nJosh: I could never ...   \n",
              "10820    13682324  Marcel: Hey\\r\\nRodolfo: Hello\\r\\nMarcel: What'...   \n",
              "7557     13862729  Don: Do you see me online?\\nAlfred: Nope\\nDon:...   \n",
              "1472     13682038  Travis: Hi, are you there?\\r\\nLana: Hi Travis,...   \n",
              "12537    13611551  Alex: hey, I'm writing about the book :)\\r\\nEl...   \n",
              "3599     13812226  Karen: Hi John, it's me, lost my phone\\r\\nKare...   \n",
              "12418    13821509  Claire: There is a letter for Tracy from the t...   \n",
              "12571    13728189  Donald: Are you playing poker tonight? It's at...   \n",
              "\n",
              "                                                 summary  \n",
              "2613   Adriana is feeling sick, so she needs to give ...  \n",
              "1446   Claire is unhappy about her neighbour becoming...  \n",
              "123    Paul didn't convince Josh to go bungee jumping...  \n",
              "10820  Rodolfo took a difficult exam today, he'll get...  \n",
              "7557   Don is not showing to Alfred as online. Don wi...  \n",
              "1472   Lana and Travis are talking about his trip to ...  \n",
              "12537  Elizabeth is bringing a book for Alex. Alex ne...  \n",
              "3599       Karen lost her phone and is on her way home.   \n",
              "12418  Tracy got a letter from the tax office. Claire...  \n",
              "12571  Donald and Steve are playing poker at Dave's h...  "
            ],
            "text/html": [
              "\n",
              "  <div id=\"df-d0a7c565-71f4-4073-90d7-cc6d85d3782f\" class=\"colab-df-container\">\n",
              "    <div>\n",
              "<style scoped>\n",
              "    .dataframe tbody tr th:only-of-type {\n",
              "        vertical-align: middle;\n",
              "    }\n",
              "\n",
              "    .dataframe tbody tr th {\n",
              "        vertical-align: top;\n",
              "    }\n",
              "\n",
              "    .dataframe thead th {\n",
              "        text-align: right;\n",
              "    }\n",
              "</style>\n",
              "<table border=\"1\" class=\"dataframe\">\n",
              "  <thead>\n",
              "    <tr style=\"text-align: right;\">\n",
              "      <th></th>\n",
              "      <th>id</th>\n",
              "      <th>dialogue</th>\n",
              "      <th>summary</th>\n",
              "    </tr>\n",
              "  </thead>\n",
              "  <tbody>\n",
              "    <tr>\n",
              "      <th>2613</th>\n",
              "      <td>13817590</td>\n",
              "      <td>Adriana: Sorry, I guess I can't make it. I'm f...</td>\n",
              "      <td>Adriana is feeling sick, so she needs to give ...</td>\n",
              "    </tr>\n",
              "    <tr>\n",
              "      <th>1446</th>\n",
              "      <td>13820141-1</td>\n",
              "      <td>Claire: Have you seen the news?\\r\\nGreg: No. W...</td>\n",
              "      <td>Claire is unhappy about her neighbour becoming...</td>\n",
              "    </tr>\n",
              "    <tr>\n",
              "      <th>123</th>\n",
              "      <td>13863151</td>\n",
              "      <td>Josh: You're a nutter!!!\\nJosh: I could never ...</td>\n",
              "      <td>Paul didn't convince Josh to go bungee jumping...</td>\n",
              "    </tr>\n",
              "    <tr>\n",
              "      <th>10820</th>\n",
              "      <td>13682324</td>\n",
              "      <td>Marcel: Hey\\r\\nRodolfo: Hello\\r\\nMarcel: What'...</td>\n",
              "      <td>Rodolfo took a difficult exam today, he'll get...</td>\n",
              "    </tr>\n",
              "    <tr>\n",
              "      <th>7557</th>\n",
              "      <td>13862729</td>\n",
              "      <td>Don: Do you see me online?\\nAlfred: Nope\\nDon:...</td>\n",
              "      <td>Don is not showing to Alfred as online. Don wi...</td>\n",
              "    </tr>\n",
              "    <tr>\n",
              "      <th>1472</th>\n",
              "      <td>13682038</td>\n",
              "      <td>Travis: Hi, are you there?\\r\\nLana: Hi Travis,...</td>\n",
              "      <td>Lana and Travis are talking about his trip to ...</td>\n",
              "    </tr>\n",
              "    <tr>\n",
              "      <th>12537</th>\n",
              "      <td>13611551</td>\n",
              "      <td>Alex: hey, I'm writing about the book :)\\r\\nEl...</td>\n",
              "      <td>Elizabeth is bringing a book for Alex. Alex ne...</td>\n",
              "    </tr>\n",
              "    <tr>\n",
              "      <th>3599</th>\n",
              "      <td>13812226</td>\n",
              "      <td>Karen: Hi John, it's me, lost my phone\\r\\nKare...</td>\n",
              "      <td>Karen lost her phone and is on her way home.</td>\n",
              "    </tr>\n",
              "    <tr>\n",
              "      <th>12418</th>\n",
              "      <td>13821509</td>\n",
              "      <td>Claire: There is a letter for Tracy from the t...</td>\n",
              "      <td>Tracy got a letter from the tax office. Claire...</td>\n",
              "    </tr>\n",
              "    <tr>\n",
              "      <th>12571</th>\n",
              "      <td>13728189</td>\n",
              "      <td>Donald: Are you playing poker tonight? It's at...</td>\n",
              "      <td>Donald and Steve are playing poker at Dave's h...</td>\n",
              "    </tr>\n",
              "  </tbody>\n",
              "</table>\n",
              "</div>\n",
              "    <div class=\"colab-df-buttons\">\n",
              "\n",
              "  <div class=\"colab-df-container\">\n",
              "    <button class=\"colab-df-convert\" onclick=\"convertToInteractive('df-d0a7c565-71f4-4073-90d7-cc6d85d3782f')\"\n",
              "            title=\"Convert this dataframe to an interactive table.\"\n",
              "            style=\"display:none;\">\n",
              "\n",
              "  <svg xmlns=\"http://www.w3.org/2000/svg\" height=\"24px\" viewBox=\"0 -960 960 960\">\n",
              "    <path d=\"M120-120v-720h720v720H120Zm60-500h600v-160H180v160Zm220 220h160v-160H400v160Zm0 220h160v-160H400v160ZM180-400h160v-160H180v160Zm440 0h160v-160H620v160ZM180-180h160v-160H180v160Zm440 0h160v-160H620v160Z\"/>\n",
              "  </svg>\n",
              "    </button>\n",
              "\n",
              "  <style>\n",
              "    .colab-df-container {\n",
              "      display:flex;\n",
              "      gap: 12px;\n",
              "    }\n",
              "\n",
              "    .colab-df-convert {\n",
              "      background-color: #E8F0FE;\n",
              "      border: none;\n",
              "      border-radius: 50%;\n",
              "      cursor: pointer;\n",
              "      display: none;\n",
              "      fill: #1967D2;\n",
              "      height: 32px;\n",
              "      padding: 0 0 0 0;\n",
              "      width: 32px;\n",
              "    }\n",
              "\n",
              "    .colab-df-convert:hover {\n",
              "      background-color: #E2EBFA;\n",
              "      box-shadow: 0px 1px 2px rgba(60, 64, 67, 0.3), 0px 1px 3px 1px rgba(60, 64, 67, 0.15);\n",
              "      fill: #174EA6;\n",
              "    }\n",
              "\n",
              "    .colab-df-buttons div {\n",
              "      margin-bottom: 4px;\n",
              "    }\n",
              "\n",
              "    [theme=dark] .colab-df-convert {\n",
              "      background-color: #3B4455;\n",
              "      fill: #D2E3FC;\n",
              "    }\n",
              "\n",
              "    [theme=dark] .colab-df-convert:hover {\n",
              "      background-color: #434B5C;\n",
              "      box-shadow: 0px 1px 3px 1px rgba(0, 0, 0, 0.15);\n",
              "      filter: drop-shadow(0px 1px 2px rgba(0, 0, 0, 0.3));\n",
              "      fill: #FFFFFF;\n",
              "    }\n",
              "  </style>\n",
              "\n",
              "    <script>\n",
              "      const buttonEl =\n",
              "        document.querySelector('#df-d0a7c565-71f4-4073-90d7-cc6d85d3782f button.colab-df-convert');\n",
              "      buttonEl.style.display =\n",
              "        google.colab.kernel.accessAllowed ? 'block' : 'none';\n",
              "\n",
              "      async function convertToInteractive(key) {\n",
              "        const element = document.querySelector('#df-d0a7c565-71f4-4073-90d7-cc6d85d3782f');\n",
              "        const dataTable =\n",
              "          await google.colab.kernel.invokeFunction('convertToInteractive',\n",
              "                                                    [key], {});\n",
              "        if (!dataTable) return;\n",
              "\n",
              "        const docLinkHtml = 'Like what you see? Visit the ' +\n",
              "          '<a target=\"_blank\" href=https://colab.research.google.com/notebooks/data_table.ipynb>data table notebook</a>'\n",
              "          + ' to learn more about interactive tables.';\n",
              "        element.innerHTML = '';\n",
              "        dataTable['output_type'] = 'display_data';\n",
              "        await google.colab.output.renderOutput(dataTable, element);\n",
              "        const docLink = document.createElement('div');\n",
              "        docLink.innerHTML = docLinkHtml;\n",
              "        element.appendChild(docLink);\n",
              "      }\n",
              "    </script>\n",
              "  </div>\n",
              "\n",
              "\n",
              "<div id=\"df-15734eb4-d3f4-476a-888f-0ad395a089d6\">\n",
              "  <button class=\"colab-df-quickchart\" onclick=\"quickchart('df-15734eb4-d3f4-476a-888f-0ad395a089d6')\"\n",
              "            title=\"Suggest charts.\"\n",
              "            style=\"display:none;\">\n",
              "\n",
              "<svg xmlns=\"http://www.w3.org/2000/svg\" height=\"24px\"viewBox=\"0 0 24 24\"\n",
              "     width=\"24px\">\n",
              "    <g>\n",
              "        <path d=\"M19 3H5c-1.1 0-2 .9-2 2v14c0 1.1.9 2 2 2h14c1.1 0 2-.9 2-2V5c0-1.1-.9-2-2-2zM9 17H7v-7h2v7zm4 0h-2V7h2v10zm4 0h-2v-4h2v4z\"/>\n",
              "    </g>\n",
              "</svg>\n",
              "  </button>\n",
              "\n",
              "<style>\n",
              "  .colab-df-quickchart {\n",
              "      --bg-color: #E8F0FE;\n",
              "      --fill-color: #1967D2;\n",
              "      --hover-bg-color: #E2EBFA;\n",
              "      --hover-fill-color: #174EA6;\n",
              "      --disabled-fill-color: #AAA;\n",
              "      --disabled-bg-color: #DDD;\n",
              "  }\n",
              "\n",
              "  [theme=dark] .colab-df-quickchart {\n",
              "      --bg-color: #3B4455;\n",
              "      --fill-color: #D2E3FC;\n",
              "      --hover-bg-color: #434B5C;\n",
              "      --hover-fill-color: #FFFFFF;\n",
              "      --disabled-bg-color: #3B4455;\n",
              "      --disabled-fill-color: #666;\n",
              "  }\n",
              "\n",
              "  .colab-df-quickchart {\n",
              "    background-color: var(--bg-color);\n",
              "    border: none;\n",
              "    border-radius: 50%;\n",
              "    cursor: pointer;\n",
              "    display: none;\n",
              "    fill: var(--fill-color);\n",
              "    height: 32px;\n",
              "    padding: 0;\n",
              "    width: 32px;\n",
              "  }\n",
              "\n",
              "  .colab-df-quickchart:hover {\n",
              "    background-color: var(--hover-bg-color);\n",
              "    box-shadow: 0 1px 2px rgba(60, 64, 67, 0.3), 0 1px 3px 1px rgba(60, 64, 67, 0.15);\n",
              "    fill: var(--button-hover-fill-color);\n",
              "  }\n",
              "\n",
              "  .colab-df-quickchart-complete:disabled,\n",
              "  .colab-df-quickchart-complete:disabled:hover {\n",
              "    background-color: var(--disabled-bg-color);\n",
              "    fill: var(--disabled-fill-color);\n",
              "    box-shadow: none;\n",
              "  }\n",
              "\n",
              "  .colab-df-spinner {\n",
              "    border: 2px solid var(--fill-color);\n",
              "    border-color: transparent;\n",
              "    border-bottom-color: var(--fill-color);\n",
              "    animation:\n",
              "      spin 1s steps(1) infinite;\n",
              "  }\n",
              "\n",
              "  @keyframes spin {\n",
              "    0% {\n",
              "      border-color: transparent;\n",
              "      border-bottom-color: var(--fill-color);\n",
              "      border-left-color: var(--fill-color);\n",
              "    }\n",
              "    20% {\n",
              "      border-color: transparent;\n",
              "      border-left-color: var(--fill-color);\n",
              "      border-top-color: var(--fill-color);\n",
              "    }\n",
              "    30% {\n",
              "      border-color: transparent;\n",
              "      border-left-color: var(--fill-color);\n",
              "      border-top-color: var(--fill-color);\n",
              "      border-right-color: var(--fill-color);\n",
              "    }\n",
              "    40% {\n",
              "      border-color: transparent;\n",
              "      border-right-color: var(--fill-color);\n",
              "      border-top-color: var(--fill-color);\n",
              "    }\n",
              "    60% {\n",
              "      border-color: transparent;\n",
              "      border-right-color: var(--fill-color);\n",
              "    }\n",
              "    80% {\n",
              "      border-color: transparent;\n",
              "      border-right-color: var(--fill-color);\n",
              "      border-bottom-color: var(--fill-color);\n",
              "    }\n",
              "    90% {\n",
              "      border-color: transparent;\n",
              "      border-bottom-color: var(--fill-color);\n",
              "    }\n",
              "  }\n",
              "</style>\n",
              "\n",
              "  <script>\n",
              "    async function quickchart(key) {\n",
              "      const quickchartButtonEl =\n",
              "        document.querySelector('#' + key + ' button');\n",
              "      quickchartButtonEl.disabled = true;  // To prevent multiple clicks.\n",
              "      quickchartButtonEl.classList.add('colab-df-spinner');\n",
              "      try {\n",
              "        const charts = await google.colab.kernel.invokeFunction(\n",
              "            'suggestCharts', [key], {});\n",
              "      } catch (error) {\n",
              "        console.error('Error during call to suggestCharts:', error);\n",
              "      }\n",
              "      quickchartButtonEl.classList.remove('colab-df-spinner');\n",
              "      quickchartButtonEl.classList.add('colab-df-quickchart-complete');\n",
              "    }\n",
              "    (() => {\n",
              "      let quickchartButtonEl =\n",
              "        document.querySelector('#df-15734eb4-d3f4-476a-888f-0ad395a089d6 button');\n",
              "      quickchartButtonEl.style.display =\n",
              "        google.colab.kernel.accessAllowed ? 'block' : 'none';\n",
              "    })();\n",
              "  </script>\n",
              "</div>\n",
              "    </div>\n",
              "  </div>\n"
            ],
            "application/vnd.google.colaboratory.module+javascript": "\n      import \"https://ssl.gstatic.com/colaboratory/data_table/881c4a0d49046431/data_table.js\";\n\n      const table = window.createDataTable({\n        data: [[{\n            'v': 2613,\n            'f': \"2613\",\n        },\n\"13817590\",\n\"Adriana: Sorry, I guess I can't make it. I'm feeling sick again.\\r\\nAdriana: I planned so many things for today...\\r\\nAdriana: Hate it.\\r\\nElisa: What a pity...\\r\\nElisa: Next time!\\r\\nElisa: Hope you'll get better soon!\\r\\nAdriana: Hope so too.\\r\\nAdriana: How was at the pool?\\r\\nElisa: The best \\u2764\\ufe0f\\r\\nElisa: 1 hour of swimming and 1 hour of sauna\\r\\nElisa: Love it!\\r\\nAdriana:\\u2764\\ufe0f\\r\\nAdriana: I'm such a bad swimmer that you couldn't stand me xD\\r\\nElisa: Ahahaha\\r\\nElisa: There was such a girl today, soooo annoying \\ud83d\\ude02\\r\\nAdriana: Just like me \\ud83d\\ude02\\ud83d\\ude02\\ud83d\\ude02\",\n\"Adriana is feeling sick, so she needs to give up her plans for today. Elisa went to the pool, she did 1 hour of swimming and 1 hour of sauna. \"],\n [{\n            'v': 1446,\n            'f': \"1446\",\n        },\n\"13820141-1\",\n\"Claire: Have you seen the news?\\r\\nGreg: No. What\\u2019s happened?\\r\\nClaire: That bitch my neighbor became an MP \\ud83e\\udd2e\\r\\nKevin: Ooo, well done! You must be so jealous \\ud83e\\udd23\\r\\nClaire: Stop it. I hate her so much. She killed my cat \\ud83d\\ude48\\r\\nGreg: Whaaaaat???\\r\\nClaire: Really. It was 5 years ago. She hit it with a car.\\r\\nGreg: Okay. I understand \\ud83d\\ude12\",\n\"Claire is unhappy about her neighbour becoming an MP. \"],\n [{\n            'v': 123,\n            'f': \"123\",\n        },\n\"13863151\",\n\"Josh: You're a nutter!!!\\nJosh: I could never do things like that\\nPaul: Wouldn't you ever do the bungee jumping or skydiving? C'mon that's not so scary :)\\nJosh: hahahah\\nJosh: Nope, I wouldn't do that :)\\nPaul: The next time you're coming with me!\\nJosh: No way, mate\",\n\"Paul didn't convince Josh to go bungee jumping or skydiving with him next time.\"],\n [{\n            'v': 10820,\n            'f': \"10820\",\n        },\n\"13682324\",\n\"Marcel: Hey\\r\\nRodolfo: Hello\\r\\nMarcel: What's up?\\r\\nRodolfo: Nothing just got back to the house\\r\\nMarcel: I had an exam today and I  think I will get a great grade\\r\\nRodolfo: Good for you. Mine was pretty hard. Not what I was expecting. But I should pass it\\r\\nMarcel: Oh yeah now I remember you had an exam. Let me know if u have results\\r\\nRodolfo: How nice nice of you to remember now\\r\\nMarcel: Haha i can't believe. I saw when one car hit another one. They were one behind another. It wasn't so much but still it was. The drivers went out, spoke  maybe 15 seconds , smiled and came back to their cars hahha and that's all\\r\\nRodolfo: I will only know in like 3 weeks\\r\\nMarcel: Oh long time\\r\\nRodolfo: Yea rather long\\r\\nMarcel: Hopefully it will be fine\",\n\"Rodolfo took a difficult exam today, he'll get results in 3 weeks. Marcel had a different exam and he expects a good grade. Marcel saw a car slightly hit another car, but no trouble came from it.\"],\n [{\n            'v': 7557,\n            'f': \"7557\",\n        },\n\"13862729\",\n\"Don: Do you see me online?\\nAlfred: Nope\\nDon: Ok, something's wrong, I'll have to check my settings\\nAlfred: Ok\",\n\"Don is not showing to Alfred as online. Don will check the settings.\"],\n [{\n            'v': 1472,\n            'f': \"1472\",\n        },\n\"13682038\",\n\"Travis: Hi, are you there?\\r\\nLana: Hi Travis, good to hear from you after holiday.\\r\\nTravis: Yeah, long time\\r\\nLana: So how was it? Greece, right?\\r\\nTravis: Yep, pure magic. 10 day there and 4 days in Albania\\r\\nLana: Wow, Albania. Never been there.\\r\\nTravis: Kind of wild place, still. But I liked Greece better\\r\\nLana: You stayed in one place?\\r\\nTravis: No, moved around. We saw almost everything there was to see\\r\\nLana: Sounds exciting. \\r\\nTravis: Take a look. <file_photo>\\r\\nLana: Wow, breathtaking. I guess you'll show us more when we meet in the office\\r\\nTravis: Sure thing. But I'm not back till Monday\\r\\nLana: I see. Two more days of freedom.\\r\\nTravis: Precisely. How are things there anyway\\r\\nLana: Same old, same old.\\r\\nTravis: Been worse?\\r\\nLana: I guess it's just this time of the year when not much happens. \\r\\nTravis: Have you planned your holiday yet?\\r\\nLana: Not really. I guess I'll just find something last minute in September.\\r\\nTravis: Greece perhaps\\r\\nLana: I'll decide when I see the photos ha ha ha. See you around. Gotta go.\\r\\nTravis: Sure. See you on Monday\",\n\"Lana and Travis are talking about his trip to Greece and Albania. He liked Greece more. Travis and Luna will see each other in the office on Monday. Lana will probably go on holiday in September.\"],\n [{\n            'v': 12537,\n            'f': \"12537\",\n        },\n\"13611551\",\n\"Alex: hey, I'm writing about the book :)\\r\\nElizabeth: heey, thanks for the message, I'm packing it to my bag right now.\\r\\nAlex: thank you so much...you don't even know grateful I am\\r\\nElizabeth: No problem, really. If I can help you in any other way just ask.\\r\\nAlex: Actually I have a few questions for you if you don't mind\\r\\nElizabeth: Sure, what is it?\\r\\nAlex: I'm starting with the senior group next week and I'm so stressed out cause I never taught the adults...could you give me any clues how to prepare, what to do and so on?\\r\\nElizabeth: Of course. First thing - relax, cause stress is destructive. I remember my first classes with the adults and I couldn't even breath, but the point is to devise you own work schedule, and in order to do it right you just gotta observe them. their knowledge, their needs and so on.\\r\\nAlex: I get it...and how does your lesson usually look like?\\r\\nElizabeth: It depends, you know. But for most of the time I'm just trying to stick to my fixed plan. At the beginning checking the attendance, asking them to give me the date in the foreing language so I can put it down in the register. Then a short conversation.\\r\\nAlex: and what after that?\\r\\nElizabeth: Then I usually start a new chapter, the vocabulary, sometimes grammar, a few exercices and then work in groups. I don't want them to do the exercices only, cause it's too automatic.\\r\\nAlex: sounds really cool...you are so experienced...I wish I was too :/\\r\\nElizabeth: calm down, you'll just learn everything with practice. If you don't want to make your lessons too formal, you can look for some games. I recommend Kaboom.\\r\\nAlex: Kaboom? I don't know this game\\r\\nElizabeth: you just write the words on little pieces of paper, for example names of fruit or vegetables and put it all in a little bag. Every person takes out a single piece of paper and has to translate a word written on it. If they spot the answer, they keep it, if they don't, the card goes back to the bag.\\r\\nAlex: Sounds really cool! I'm sure I'll try it. Thank you so much for your help!!\\r\\nElizabeth: No problem, any time.\",\n\"Elizabeth is bringing a book for Alex. Alex needs advice on how to teach adults. Elizabeth suggests getting relaxed and devising own work schedule. Elizabeth describes her usual lesson. Elizabeth recommends a vocabulary game called Kaboom.\"],\n [{\n            'v': 3599,\n            'f': \"3599\",\n        },\n\"13812226\",\n\"Karen: Hi John, it's me, lost my phone\\r\\nKaren: On my way home, don't worry. Text me if you've got this. I'll have this phone only for couple of minutes.\\r\\nJohn: Got it, go back home safely.\",\n\"Karen lost her phone and is on her way home. \"],\n [{\n            'v': 12418,\n            'f': \"12418\",\n        },\n\"13821509\",\n\"Claire: There is a letter for Tracy from the tax office\\r\\nTracy: Thanks mum. Can you open it?\\r\\nNatalie: It's probably regarding tax return \\r\\nNatalie: I got mine last week\\r\\nTracy: Open and send me a photo\\r\\nTracy: Better priv \\ud83e\\udd11\\r\\nClaire: No problem \",\n\"Tracy got a letter from the tax office. Claire will open it and send a photo to Tracy.\"],\n [{\n            'v': 12571,\n            'f': \"12571\",\n        },\n\"13728189\",\n\"Donald: Are you playing poker tonight? It's at Dave's house\\r\\nSteve: Yeah I was planning to. Do we need to bring whiskey?\\r\\nDonald: I've got some, no worries.\\r\\nSteve: Ok see you\",\n\"Donald and Steve are playing poker at Dave's house tonight.\"]],\n        columns: [[\"number\", \"index\"], [\"string\", \"id\"], [\"string\", \"dialogue\"], [\"string\", \"summary\"]],\n        columnOptions: [{\"width\": \"1px\", \"className\": \"index_column\"}],\n        rowsPerPage: 25,\n        helpUrl: \"https://colab.research.google.com/notebooks/data_table.ipynb\",\n        suppressOutputScrolling: true,\n        minimumWidth: undefined,\n      });\n\n      function appendQuickchartButton(parentElement) {\n        let quickchartButtonContainerElement = document.createElement('div');\n        quickchartButtonContainerElement.innerHTML = `\n<div id=\"df-6d774f21-3a51-412a-b252-3bf44369f7d7\">\n  <button class=\"colab-df-quickchart\" onclick=\"quickchart('df-6d774f21-3a51-412a-b252-3bf44369f7d7')\"\n            title=\"Suggest charts.\"\n            style=\"display:none;\">\n    \n<svg xmlns=\"http://www.w3.org/2000/svg\" height=\"24px\"viewBox=\"0 0 24 24\"\n     width=\"24px\">\n    <g>\n        <path d=\"M19 3H5c-1.1 0-2 .9-2 2v14c0 1.1.9 2 2 2h14c1.1 0 2-.9 2-2V5c0-1.1-.9-2-2-2zM9 17H7v-7h2v7zm4 0h-2V7h2v10zm4 0h-2v-4h2v4z\"/>\n    </g>\n</svg>\n  </button>\n  \n<style>\n  .colab-df-quickchart {\n      --bg-color: #E8F0FE;\n      --fill-color: #1967D2;\n      --hover-bg-color: #E2EBFA;\n      --hover-fill-color: #174EA6;\n      --disabled-fill-color: #AAA;\n      --disabled-bg-color: #DDD;\n  }\n\n  [theme=dark] .colab-df-quickchart {\n      --bg-color: #3B4455;\n      --fill-color: #D2E3FC;\n      --hover-bg-color: #434B5C;\n      --hover-fill-color: #FFFFFF;\n      --disabled-bg-color: #3B4455;\n      --disabled-fill-color: #666;\n  }\n\n  .colab-df-quickchart {\n    background-color: var(--bg-color);\n    border: none;\n    border-radius: 50%;\n    cursor: pointer;\n    display: none;\n    fill: var(--fill-color);\n    height: 32px;\n    padding: 0;\n    width: 32px;\n  }\n\n  .colab-df-quickchart:hover {\n    background-color: var(--hover-bg-color);\n    box-shadow: 0 1px 2px rgba(60, 64, 67, 0.3), 0 1px 3px 1px rgba(60, 64, 67, 0.15);\n    fill: var(--button-hover-fill-color);\n  }\n\n  .colab-df-quickchart-complete:disabled,\n  .colab-df-quickchart-complete:disabled:hover {\n    background-color: var(--disabled-bg-color);\n    fill: var(--disabled-fill-color);\n    box-shadow: none;\n  }\n\n  .colab-df-spinner {\n    border: 2px solid var(--fill-color);\n    border-color: transparent;\n    border-bottom-color: var(--fill-color);\n    animation:\n      spin 1s steps(1) infinite;\n  }\n\n  @keyframes spin {\n    0% {\n      border-color: transparent;\n      border-bottom-color: var(--fill-color);\n      border-left-color: var(--fill-color);\n    }\n    20% {\n      border-color: transparent;\n      border-left-color: var(--fill-color);\n      border-top-color: var(--fill-color);\n    }\n    30% {\n      border-color: transparent;\n      border-left-color: var(--fill-color);\n      border-top-color: var(--fill-color);\n      border-right-color: var(--fill-color);\n    }\n    40% {\n      border-color: transparent;\n      border-right-color: var(--fill-color);\n      border-top-color: var(--fill-color);\n    }\n    60% {\n      border-color: transparent;\n      border-right-color: var(--fill-color);\n    }\n    80% {\n      border-color: transparent;\n      border-right-color: var(--fill-color);\n      border-bottom-color: var(--fill-color);\n    }\n    90% {\n      border-color: transparent;\n      border-bottom-color: var(--fill-color);\n    }\n  }\n</style>\n\n  <script>\n    async function quickchart(key) {\n      const quickchartButtonEl =\n        document.querySelector('#' + key + ' button');\n      quickchartButtonEl.disabled = true;  // To prevent multiple clicks.\n      quickchartButtonEl.classList.add('colab-df-spinner');\n      try {\n        const charts = await google.colab.kernel.invokeFunction(\n            'suggestCharts', [key], {});\n      } catch (error) {\n        console.error('Error during call to suggestCharts:', error);\n      }\n      quickchartButtonEl.classList.remove('colab-df-spinner');\n      quickchartButtonEl.classList.add('colab-df-quickchart-complete');\n    }\n    (() => {\n      let quickchartButtonEl =\n        document.querySelector('#df-6d774f21-3a51-412a-b252-3bf44369f7d7 button');\n      quickchartButtonEl.style.display =\n        google.colab.kernel.accessAllowed ? 'block' : 'none';\n    })();\n  </script>\n</div>`;\n        parentElement.appendChild(quickchartButtonContainerElement);\n      }\n\n      appendQuickchartButton(table);\n    "
          },
          "metadata": {},
          "execution_count": 35
        }
      ]
    },
    {
      "cell_type": "code",
      "source": [],
      "metadata": {
        "id": "K2AqdTATItST"
      },
      "execution_count": null,
      "outputs": []
    },
    {
      "cell_type": "code",
      "source": [],
      "metadata": {
        "id": "Bg8BH0pT32w6"
      },
      "execution_count": null,
      "outputs": []
    },
    {
      "cell_type": "code",
      "source": [],
      "metadata": {
        "id": "o7gfR8kd5b8D"
      },
      "execution_count": null,
      "outputs": []
    },
    {
      "cell_type": "code",
      "source": [
        "samsum_prompt_template: str = \"\"\"\n",
        "Summarize this dialog:\n",
        "\n",
        "### Dialogue: {dialogue}\n",
        "\n",
        "### Synopsis:\n",
        "\"\"\""
      ],
      "metadata": {
        "id": "rRaPGgG-5bDW",
        "colab": {
          "base_uri": "https://localhost:8080/",
          "height": 17
        },
        "outputId": "75f6ce60-4346-4faf-a98d-64828f8d1382"
      },
      "execution_count": null,
      "outputs": [
        {
          "output_type": "display_data",
          "data": {
            "text/plain": [
              "<IPython.core.display.HTML object>"
            ],
            "text/html": [
              "\n",
              "  <style>\n",
              "    pre {\n",
              "        white-space: pre-wrap;\n",
              "    }\n",
              "  </style>\n",
              "  "
            ]
          },
          "metadata": {}
        }
      ]
    },
    {
      "cell_type": "code",
      "source": [],
      "metadata": {
        "id": "PbZhNfI15cyi"
      },
      "execution_count": null,
      "outputs": []
    },
    {
      "cell_type": "code",
      "source": [],
      "metadata": {
        "id": "9yjx0fvm5c-O"
      },
      "execution_count": null,
      "outputs": []
    },
    {
      "cell_type": "code",
      "source": [
        "samsum_test_dialogue: str = \"\"\"\n",
        "A: Hi Tom, are you busy tomorrow’s afternoon?\n",
        "B: I’m pretty sure I am. What’s up?\n",
        "A: Can you go with me to the animal shelter?.\n",
        "B: What do you want to do?\n",
        "A: I want to get a puppy for my son.\n",
        "B: That will make him so happy.\n",
        "A: Yeah, we’ve discussed it many times. I think he’s ready now.\n",
        "B: That’s good. Raising a dog is a tough issue. Like having a baby ;-)\n",
        "A: I'll get him one of those little dogs.\n",
        "B: One that won't grow up too big;-)\n",
        "A: And eat too much;-))\n",
        "B: Do you know which one he would like?\n",
        "A: Oh, yes, I took him there last Monday. He showed me one that he really liked.\n",
        "B: I bet you had to drag him away.\n",
        "A: He wanted to take it home right away ;-).\n",
        "B: I wonder what he'll name it.\n",
        "A: He said he’d name it after his dead hamster – Lemmy  - he's  a great Motorhead fan :-)))\n",
        "\"\"\""
      ],
      "metadata": {
        "id": "elhEYFUR4yxi",
        "colab": {
          "base_uri": "https://localhost:8080/",
          "height": 17
        },
        "outputId": "995779bc-b0aa-4b7b-f8b3-2efb2bb11516"
      },
      "execution_count": null,
      "outputs": [
        {
          "output_type": "display_data",
          "data": {
            "text/plain": [
              "<IPython.core.display.HTML object>"
            ],
            "text/html": [
              "\n",
              "  <style>\n",
              "    pre {\n",
              "        white-space: pre-wrap;\n",
              "    }\n",
              "  </style>\n",
              "  "
            ]
          },
          "metadata": {}
        }
      ]
    },
    {
      "cell_type": "code",
      "source": [
        "samsum_test_prompt: str = samsum_prompt_template.format(**{\"dialogue\": samsum_test_dialogue})"
      ],
      "metadata": {
        "id": "l-vMflb342J8",
        "colab": {
          "base_uri": "https://localhost:8080/",
          "height": 17
        },
        "outputId": "f3c91611-df35-4d58-fd18-0ad25755fe28"
      },
      "execution_count": null,
      "outputs": [
        {
          "output_type": "display_data",
          "data": {
            "text/plain": [
              "<IPython.core.display.HTML object>"
            ],
            "text/html": [
              "\n",
              "  <style>\n",
              "    pre {\n",
              "        white-space: pre-wrap;\n",
              "    }\n",
              "  </style>\n",
              "  "
            ]
          },
          "metadata": {}
        }
      ]
    },
    {
      "cell_type": "code",
      "source": [],
      "metadata": {
        "id": "QX6M61CZ4y1u"
      },
      "execution_count": null,
      "outputs": []
    },
    {
      "cell_type": "code",
      "source": [],
      "metadata": {
        "id": "M4gonDZq4y6J"
      },
      "execution_count": null,
      "outputs": []
    },
    {
      "cell_type": "code",
      "source": [],
      "metadata": {
        "id": "q_i2mDo332w6"
      },
      "execution_count": null,
      "outputs": []
    },
    {
      "cell_type": "code",
      "source": [
        "mistral_7b_sharded_base_model_name: str = \"alexsherstinsky/Mistral-7B-v0.1-sharded\""
      ],
      "metadata": {
        "id": "5fxfxlqA32w7",
        "colab": {
          "base_uri": "https://localhost:8080/",
          "height": 17
        },
        "outputId": "4d1b3546-20f7-4369-ccfe-80df1aedd48c"
      },
      "execution_count": null,
      "outputs": [
        {
          "output_type": "display_data",
          "data": {
            "text/plain": [
              "<IPython.core.display.HTML object>"
            ],
            "text/html": [
              "\n",
              "  <style>\n",
              "    pre {\n",
              "        white-space: pre-wrap;\n",
              "    }\n",
              "  </style>\n",
              "  "
            ]
          },
          "metadata": {}
        }
      ]
    },
    {
      "cell_type": "code",
      "source": [],
      "metadata": {
        "id": "qOoWU4rt32w7"
      },
      "execution_count": null,
      "outputs": []
    },
    {
      "cell_type": "code",
      "source": [],
      "metadata": {
        "id": "Bz3jHQrj32w7"
      },
      "execution_count": null,
      "outputs": []
    },
    {
      "cell_type": "code",
      "source": [],
      "metadata": {
        "id": "4-YvfTHq32w7"
      },
      "execution_count": null,
      "outputs": []
    },
    {
      "cell_type": "markdown",
      "source": [
        "Load the pre-trained (general) Mistral 7B LLM (the sharded version)."
      ],
      "metadata": {
        "id": "UuxaFU40Wgg8"
      }
    },
    {
      "cell_type": "code",
      "source": [
        "bnb_config_base_model: BitsAndBytesConfig = BitsAndBytesConfig(\n",
        "    load_in_4bit=True,\n",
        "    load_in_8bit=False,\n",
        "    llm_int8_threshold=6.0,\n",
        "    llm_int8_has_fp16_weight=False,\n",
        "    bnb_4bit_compute_dtype=\"float16\",\n",
        "    bnb_4bit_use_double_quant=True,\n",
        "    bnb_4bit_quant_type=\"nf4\",\n",
        ")"
      ],
      "metadata": {
        "id": "-qdQYJM-32w7",
        "colab": {
          "base_uri": "https://localhost:8080/",
          "height": 17
        },
        "outputId": "109ed4b1-332b-4991-fdaa-f34aad3ec896"
      },
      "execution_count": null,
      "outputs": [
        {
          "output_type": "display_data",
          "data": {
            "text/plain": [
              "<IPython.core.display.HTML object>"
            ],
            "text/html": [
              "\n",
              "  <style>\n",
              "    pre {\n",
              "        white-space: pre-wrap;\n",
              "    }\n",
              "  </style>\n",
              "  "
            ]
          },
          "metadata": {}
        }
      ]
    },
    {
      "cell_type": "code",
      "source": [
        "base_model_tokenizer: LlamaTokenizerFast = AutoTokenizer.from_pretrained(pretrained_model_name_or_path=mistral_7b_sharded_base_model_name, trust_remote_code=True, padding_side=\"left\")\n",
        "print(base_model_tokenizer.eos_token)\n",
        "base_model_tokenizer.pad_token = base_model_tokenizer.eos_token"
      ],
      "metadata": {
        "id": "IJCnFnDG32w7",
        "colab": {
          "base_uri": "https://localhost:8080/",
          "height": 213,
          "referenced_widgets": [
            "b7d1ebba7f764479965780269b2ae828",
            "8ba2ae94cad64aa5b789842e3daa21da",
            "b0ea5db66dc042c0a3b485698a5515a9",
            "c2e43891a4864d37bb10f84e8c8b06bb",
            "ce251f02352a4bdc818331823c7f9d8a",
            "a11cbec8bfdf4226bad3a3904b67ee67",
            "42d6008383ae417aae61ed6112f8f851",
            "28b1cc2bf5a5475bb6204a557c425476",
            "6f55ace3c69c4285bf08c8d996d1c806",
            "25c198f74a334fcc8cf800c1dec5d1d0",
            "6647cdedc02d4c10897ce0d8e47f479c",
            "f1794a89749f453b9b0045b4b6ef6b46",
            "5445d143685c4726be87534bfdc4a62a",
            "fbde67db2a184398bf9c295dd1fafc05",
            "589db2f0405f42b6bed19d1d04147094",
            "9280df29cd2b4429afc2270f0471e0f5",
            "30f31d131d4c46019bb38e7df2747e15",
            "8f36395e2e024c67b55d597e0f2bdac5",
            "243e2f7f50134ad2bb331df4f9aacc6d",
            "346c4375ea904700b417bb02103f391e",
            "58cc92b0919e4b07b5a00eff343a7d27",
            "62d79eb513464e7bb80b6caa7b435f58",
            "17f5b46c05b6427fa8fcc3e390133b71",
            "9c3b36a0ae1b49ed9f50df8a3a468f9b",
            "b66c0568ba5e4d4088b0ad44ed4d3008",
            "f6210c1bcdf34b0a99408ad7425aef30",
            "e85028dabdb34a1495afb0a7d7d8bad3",
            "e78f5e5292994e3284fbc873d5a8923c",
            "83a496db776f4e789a42d8beea3c4a3f",
            "75aeb66f00c34f6e9cecc207efb3c9fd",
            "de19bba80d434ef1b6ff39935f344ed2",
            "255c45da047f4f14a49d1f5a28919e66",
            "280c0ba52be848c58ed6a8aaa6297978",
            "05f12ee006464f2e9f0d99641984490b",
            "571b303b1c93415e9fedaf369714d2aa",
            "d957368711da4eaba9179922536aa7a9",
            "838bca52d8764077afa83671a06eea8c",
            "1c36de329e9f4337ad1e1448b5a20412",
            "1f97dfea80054b478845e34c603d1569",
            "e1ae334a1b034242a750d9f693ce18dd",
            "a29a6b0362594c68a10f8e6d6ec84630",
            "c0475eccf3944c74b4d1a54b74707385",
            "5d4e8c07b4d046c7a2fb26f52d5448b1",
            "82338eda5a1c4e568bc8ad10f7052817",
            "1590c20970204cd6bd38c1b1d0469df1",
            "9227ac6d55e44c908d3087e882c45eff",
            "e36bf0871d9b4d7ba83fa65420d8a808",
            "143c59d823d44c04a2fd0cc91f2c409a",
            "deb2768c9e2b4190826fa0d916652c2b",
            "3e3639a203d24365b4171ff4134b1183",
            "7c9ee2d2bd90440a9a376bfa2cc4bd20",
            "851d971464ab4702b255e9e0a4e58836",
            "69694d84502f4582b53aae88fd50a40d",
            "c328da3a6f3c4758ad00851a7a4510cc",
            "0acd7f1e8362482fa5606962e96525ca"
          ]
        },
        "outputId": "b6a158fd-ca5f-4834-db4f-5b40ccbd71a2"
      },
      "execution_count": null,
      "outputs": [
        {
          "output_type": "display_data",
          "data": {
            "text/plain": [
              "<IPython.core.display.HTML object>"
            ],
            "text/html": [
              "\n",
              "  <style>\n",
              "    pre {\n",
              "        white-space: pre-wrap;\n",
              "    }\n",
              "  </style>\n",
              "  "
            ]
          },
          "metadata": {}
        },
        {
          "output_type": "display_data",
          "data": {
            "text/plain": [
              "Downloading (…)okenizer_config.json:   0%|          | 0.00/979 [00:00<?, ?B/s]"
            ],
            "application/vnd.jupyter.widget-view+json": {
              "version_major": 2,
              "version_minor": 0,
              "model_id": "b7d1ebba7f764479965780269b2ae828"
            }
          },
          "metadata": {}
        },
        {
          "output_type": "display_data",
          "data": {
            "text/plain": [
              "Downloading tokenizer.model:   0%|          | 0.00/493k [00:00<?, ?B/s]"
            ],
            "application/vnd.jupyter.widget-view+json": {
              "version_major": 2,
              "version_minor": 0,
              "model_id": "f1794a89749f453b9b0045b4b6ef6b46"
            }
          },
          "metadata": {}
        },
        {
          "output_type": "display_data",
          "data": {
            "text/plain": [
              "Downloading (…)/main/tokenizer.json:   0%|          | 0.00/1.80M [00:00<?, ?B/s]"
            ],
            "application/vnd.jupyter.widget-view+json": {
              "version_major": 2,
              "version_minor": 0,
              "model_id": "17f5b46c05b6427fa8fcc3e390133b71"
            }
          },
          "metadata": {}
        },
        {
          "output_type": "display_data",
          "data": {
            "text/plain": [
              "Downloading (…)in/added_tokens.json:   0%|          | 0.00/42.0 [00:00<?, ?B/s]"
            ],
            "application/vnd.jupyter.widget-view+json": {
              "version_major": 2,
              "version_minor": 0,
              "model_id": "05f12ee006464f2e9f0d99641984490b"
            }
          },
          "metadata": {}
        },
        {
          "output_type": "display_data",
          "data": {
            "text/plain": [
              "Downloading (…)cial_tokens_map.json:   0%|          | 0.00/145 [00:00<?, ?B/s]"
            ],
            "application/vnd.jupyter.widget-view+json": {
              "version_major": 2,
              "version_minor": 0,
              "model_id": "1590c20970204cd6bd38c1b1d0469df1"
            }
          },
          "metadata": {}
        },
        {
          "output_type": "stream",
          "name": "stderr",
          "text": [
            "Special tokens have been added in the vocabulary, make sure the associated word embeddings are fine-tuned or trained.\n"
          ]
        },
        {
          "output_type": "stream",
          "name": "stdout",
          "text": [
            "</s>\n"
          ]
        }
      ]
    },
    {
      "cell_type": "code",
      "source": [
        "base_model: MistralForCausalLM = AutoModelForCausalLM.from_pretrained(pretrained_model_name_or_path=mistral_7b_sharded_base_model_name, device_map=\"auto\", torch_dtype=torch.float16, offload_folder=\"offload\", trust_remote_code=True, low_cpu_mem_usage=True, quantization_config=bnb_config_base_model)"
      ],
      "metadata": {
        "id": "FqTCI36432w7",
        "colab": {
          "base_uri": "https://localhost:8080/",
          "height": 401,
          "referenced_widgets": [
            "61315dad0d604454ae67e4b0ecb244bd",
            "863d27cec0d64a979b26c1b5053afffe",
            "400fffb8976548d1bbc7da94a41e9536",
            "a3d3de4ba5de4f60b191fe4dd2c425b9",
            "76905e75018e475d985c82845bf147a0",
            "ae35a3e1f7cc4cd9a1138590a00eb2bb",
            "5f5cda1d0322452f8a70e8cbe6ae8dad",
            "5e895742d3594b77916c5037413219da",
            "9def2e888fb34a2195f315af1acb273e",
            "190cec79938c4228b00e3540bdcfa847",
            "282f641d4749439d8d70b39be05eeac5",
            "a2f6ef8be2594f75af56b4f4814579b5",
            "b5e2a3d751804f66971a5849a8fa21bb",
            "97ff168304a0490aa5ae879d43870016",
            "1951312da98d42f691874c63f086b1a9",
            "7a989514d81d4049a3fae3a30e9c25e8",
            "3b8deb505e8843dd887467f55d50cfbe",
            "3ceb1240e286499c91ab9b02c07dcce8",
            "573c70cc6db4407aa2a360ef99efd3ee",
            "f18a521a78794c669327a52befc0e611",
            "969cef3a9dad4f99905534ca1af37b31",
            "7ff487ebaf104c9ab03f6dcdf1c1ed46",
            "21a4b84992ea47b7aa0d9a40b18f6ed6",
            "84f10438228446fbb0a6da3bf02dcea3",
            "fbdb2d1d69b24cc584746467a0774122",
            "7bc3391cf98f46afba821082179fdd62",
            "ba3c245026f54732abbfdd2d4ddb6957",
            "a5a88ba069d54d3994382ba051a37bc9",
            "83097b556c604919a13ea88c888b72a0",
            "60f33f2ce0394b098567642bd9fd3cf9",
            "0384c7fb229642fcb63f4c46377f0a91",
            "e41210c009e44fcea4b5bca98d4ff97c",
            "8b802598342849eeb0f2c5123525d5cb",
            "aba8b84c7a4b466daf134e00aa9660a0",
            "5f794515d5394610b445ef034a1fd180",
            "64f43dd7af204c82b2f1394e18945cdd",
            "25aa3cc32ca04b26b229123807aee5fe",
            "e21066529f9d46c4a3569f318e769afb",
            "d62652f37c4844fa960b8bb3b3376dc4",
            "43e5ee3fb8ff4d449d35fb620375cb06",
            "a15af8fb74154c1b8f1c8ec53922b3bf",
            "8de624c1cbcf4bb9bc40d1cb32fa7be3",
            "c499aeb70a7648cc8985f17e0daa3585",
            "f1835e62ffb34f369f4d0c1db2ac2230",
            "617dbc09624a4d8396c668fa14144b73",
            "af280554b2ff45cf9ac6c226f9f57ea3",
            "c3e144fb6be941aebcee061875908eb3",
            "76e649dc7bbf4c828b69473a5fc90025",
            "729516b651dc42e190bd8ee4fa24c4e9",
            "47cf8a8de58d4844b9a64358f0134f8b",
            "b47cbbb857bf4934aeb2c9d6158f308d",
            "d64fd45326194f9088ee1cfac8393b5e",
            "423adf1fc8184b9f8e24d73a23a919fb",
            "2a61b2ed1aa440dfb32a8521a5616d3a",
            "acf6b97f5193449bbed155340a83c54d",
            "c7bb72553fa14f628ec9b78ba52f1847",
            "d0eae0435dac446480b7555ddd4d5ec7",
            "8d7d220cae0f4bdebadff7eba89d8ce1",
            "eede6069b6774cedb97a3a654706ad28",
            "0130ccaacef04e0db9f8aeff9ab796be",
            "d21c9f218d0e4305b8a2da9f00f1bf88",
            "860fc816a1e440a791c605f8afdb3f35",
            "21c2dece0bc747659d10544356254ec5",
            "e79f2bac383c4d9aacdfd041b5cd3814",
            "2c125f97b7c5447897967b4e8c4f5f2f",
            "4c912e8ded434ff8965caeec774cfd7e",
            "a738ba9f4bfc4196930f5f5c8aee9d7a",
            "c8fe727242284fd7bc236db3ead18e7e",
            "9e797914f1364c8e8f416c5a3600c98b",
            "258e1da45fae4d3a8c5d82f4737a20a1",
            "da7b5cbf80214034a68ce6eb11f91401",
            "d4191cf7bff144a09413828fc85f1710",
            "e3b497900eb94451a67d18ea6b72938f",
            "16cd4b79554c470aaf2ab7a10922652e",
            "0caf1c8a0bde45b783426bd4f14acc3b",
            "407f83cfa2684da4ba515309d93ddef3",
            "cd4395eaee7b4753be0d283e10fd10a4",
            "f2f57320ffe74dc7a2387e51a045aa51",
            "bf6cdec5c58e4ded8e7aa12ad0596b8d",
            "4b215d362cc541959fde673202f4eb26",
            "f7f1a0d41d7b439da2095fe0ab2533ab",
            "f8cde1e7a05f401296aeb11c60d17c2c",
            "a4ba44ef083b45e299f1f077c76cc103",
            "79e3e957381f449dbddca965e4fbde1d",
            "7762c89f78554397b72009df001da933",
            "ff769daf54724a5cacb7f12567731677",
            "d39d08d9f8b94371bf7b57abd58f1900",
            "639c5463e4864001a4b21bd71b791b1c",
            "4702914e89f443ca9de1b8e45156e677",
            "4c2ea5b4d1994e9187b6273cc0d025d6",
            "6ff1d8b582534289a6bb2e4827f3c6fe",
            "225823fb722b47c3b12da0e1f321c3cb",
            "730c05721b314b5ea02852d9174088f0",
            "1662f7ceb583423aa3c61ccd63f2db62",
            "50a0fc22bb5640169e7bf55f3b72bfb7",
            "964c311fbff14734b35448daa514f6e3",
            "cbc93db95b46411facb486b26a65434f",
            "ae17818bdbbd486f9be64d4cc19b9330",
            "436ffa65a3ef469fb861e85dea8f0ce3",
            "3556ba2cd80c4cd0b61d1fdada4e1b28",
            "67c40012778b4b629272aaa5fd8c1629",
            "ad86475da96b4edc810c86c4d032fee6",
            "955cbbc597914e01890ab73fa9760e6b",
            "88f3c76cf727434ca2b5af5809d26a9a",
            "3f4c74bb9caf4498a26d7b14a598b20c",
            "81f4ecc8d98048d6820691b8bad7e70a",
            "fabe0b19e18b4db08f51fb971582fdd0",
            "eac332c0336b498bafcd5311f3493290",
            "c039b655db1b4d4f9b344af72c543dca",
            "bad16ee0785749309d37683f3d6363e2",
            "e043d1437c6244328999253a9cdba800",
            "9d8cc82d7e254084aebe0b80148a39dd",
            "774202b6ad444a28a273930c577a1945",
            "13179b5245b14776a98f6fd8309f541b",
            "9d6a355841014ca99d5cee0d5583d8dc",
            "146b51bd8f384c3a939b61b1e838317e",
            "91d1df3f2c9e4926ab00f79226232959",
            "675a2477148040d9aee6d06c82dac01b",
            "dec37bce66c7463e98037891b783d46a",
            "c10a544979ca47dfb97f4bd9fb13087d",
            "358160dafcc04693a2aa6a4b5c1e2e62",
            "d6bd8bae282c417687b448a77e1fda68",
            "34456268d3134529a33e87aeac49f7ec",
            "ee2717ebc0c34c38944a32e7a92380fb",
            "5451a0a1258f4382971abf7759e1365a",
            "ba2e3f9237944897b013e1e952b1e0fc",
            "51d3363dfa234163a239a38fc007268b",
            "ded29db1ba5f432384a31823b32c7595",
            "a52168f0c3954b099bcf25b166de7105",
            "bac70cf3462348ec8c45acb7bdca1b4c",
            "34961185d70f4f2f9771362467577d97",
            "de4bc3883bd54463a782503943367abc"
          ]
        },
        "outputId": "07464ef7-1662-4c7f-c51e-cb445a953606"
      },
      "execution_count": null,
      "outputs": [
        {
          "output_type": "display_data",
          "data": {
            "text/plain": [
              "<IPython.core.display.HTML object>"
            ],
            "text/html": [
              "\n",
              "  <style>\n",
              "    pre {\n",
              "        white-space: pre-wrap;\n",
              "    }\n",
              "  </style>\n",
              "  "
            ]
          },
          "metadata": {}
        },
        {
          "output_type": "display_data",
          "data": {
            "text/plain": [
              "Downloading (…)lve/main/config.json:   0%|          | 0.00/613 [00:00<?, ?B/s]"
            ],
            "application/vnd.jupyter.widget-view+json": {
              "version_major": 2,
              "version_minor": 0,
              "model_id": "61315dad0d604454ae67e4b0ecb244bd"
            }
          },
          "metadata": {}
        },
        {
          "output_type": "display_data",
          "data": {
            "text/plain": [
              "Downloading (…)model.bin.index.json:   0%|          | 0.00/23.9k [00:00<?, ?B/s]"
            ],
            "application/vnd.jupyter.widget-view+json": {
              "version_major": 2,
              "version_minor": 0,
              "model_id": "a2f6ef8be2594f75af56b4f4814579b5"
            }
          },
          "metadata": {}
        },
        {
          "output_type": "display_data",
          "data": {
            "text/plain": [
              "Downloading shards:   0%|          | 0/8 [00:00<?, ?it/s]"
            ],
            "application/vnd.jupyter.widget-view+json": {
              "version_major": 2,
              "version_minor": 0,
              "model_id": "21a4b84992ea47b7aa0d9a40b18f6ed6"
            }
          },
          "metadata": {}
        },
        {
          "output_type": "display_data",
          "data": {
            "text/plain": [
              "Downloading (…)l-00001-of-00008.bin:   0%|          | 0.00/1.89G [00:00<?, ?B/s]"
            ],
            "application/vnd.jupyter.widget-view+json": {
              "version_major": 2,
              "version_minor": 0,
              "model_id": "aba8b84c7a4b466daf134e00aa9660a0"
            }
          },
          "metadata": {}
        },
        {
          "output_type": "display_data",
          "data": {
            "text/plain": [
              "Downloading (…)l-00002-of-00008.bin:   0%|          | 0.00/1.95G [00:00<?, ?B/s]"
            ],
            "application/vnd.jupyter.widget-view+json": {
              "version_major": 2,
              "version_minor": 0,
              "model_id": "617dbc09624a4d8396c668fa14144b73"
            }
          },
          "metadata": {}
        },
        {
          "output_type": "display_data",
          "data": {
            "text/plain": [
              "Downloading (…)l-00003-of-00008.bin:   0%|          | 0.00/1.98G [00:00<?, ?B/s]"
            ],
            "application/vnd.jupyter.widget-view+json": {
              "version_major": 2,
              "version_minor": 0,
              "model_id": "c7bb72553fa14f628ec9b78ba52f1847"
            }
          },
          "metadata": {}
        },
        {
          "output_type": "display_data",
          "data": {
            "text/plain": [
              "Downloading (…)l-00004-of-00008.bin:   0%|          | 0.00/1.95G [00:00<?, ?B/s]"
            ],
            "application/vnd.jupyter.widget-view+json": {
              "version_major": 2,
              "version_minor": 0,
              "model_id": "a738ba9f4bfc4196930f5f5c8aee9d7a"
            }
          },
          "metadata": {}
        },
        {
          "output_type": "display_data",
          "data": {
            "text/plain": [
              "Downloading (…)l-00005-of-00008.bin:   0%|          | 0.00/1.98G [00:00<?, ?B/s]"
            ],
            "application/vnd.jupyter.widget-view+json": {
              "version_major": 2,
              "version_minor": 0,
              "model_id": "f2f57320ffe74dc7a2387e51a045aa51"
            }
          },
          "metadata": {}
        },
        {
          "output_type": "display_data",
          "data": {
            "text/plain": [
              "Downloading (…)l-00006-of-00008.bin:   0%|          | 0.00/1.95G [00:00<?, ?B/s]"
            ],
            "application/vnd.jupyter.widget-view+json": {
              "version_major": 2,
              "version_minor": 0,
              "model_id": "4702914e89f443ca9de1b8e45156e677"
            }
          },
          "metadata": {}
        },
        {
          "output_type": "display_data",
          "data": {
            "text/plain": [
              "Downloading (…)l-00007-of-00008.bin:   0%|          | 0.00/1.98G [00:00<?, ?B/s]"
            ],
            "application/vnd.jupyter.widget-view+json": {
              "version_major": 2,
              "version_minor": 0,
              "model_id": "3556ba2cd80c4cd0b61d1fdada4e1b28"
            }
          },
          "metadata": {}
        },
        {
          "output_type": "display_data",
          "data": {
            "text/plain": [
              "Downloading (…)l-00008-of-00008.bin:   0%|          | 0.00/816M [00:00<?, ?B/s]"
            ],
            "application/vnd.jupyter.widget-view+json": {
              "version_major": 2,
              "version_minor": 0,
              "model_id": "e043d1437c6244328999253a9cdba800"
            }
          },
          "metadata": {}
        },
        {
          "output_type": "display_data",
          "data": {
            "text/plain": [
              "Loading checkpoint shards:   0%|          | 0/8 [00:00<?, ?it/s]"
            ],
            "application/vnd.jupyter.widget-view+json": {
              "version_major": 2,
              "version_minor": 0,
              "model_id": "d6bd8bae282c417687b448a77e1fda68"
            }
          },
          "metadata": {}
        }
      ]
    },
    {
      "cell_type": "code",
      "source": [],
      "metadata": {
        "id": "ANwf1E1G32w8"
      },
      "execution_count": null,
      "outputs": []
    },
    {
      "cell_type": "code",
      "source": [],
      "metadata": {
        "id": "9bEoIjnr32w8"
      },
      "execution_count": null,
      "outputs": []
    },
    {
      "cell_type": "markdown",
      "source": [
        "Run inference on the pre-trained (general) Mistral 7B LLM to establish baseline quality."
      ],
      "metadata": {
        "id": "I8CZ_aogX_XR"
      }
    },
    {
      "cell_type": "code",
      "source": [
        "base_model_sequences_generator: TextGenerationPipeline = transformers.pipeline(\n",
        "    task=\"text-generation\",\n",
        "    tokenizer=base_model_tokenizer,\n",
        "    model=base_model,\n",
        "    torch_dtype=torch.float16,\n",
        "    device_map=\"auto\",\n",
        ")"
      ],
      "metadata": {
        "id": "Dxgx07i332w8",
        "colab": {
          "base_uri": "https://localhost:8080/",
          "height": 17
        },
        "outputId": "78d71d7a-c406-4aae-868a-0eec28fffa97"
      },
      "execution_count": null,
      "outputs": [
        {
          "output_type": "display_data",
          "data": {
            "text/plain": [
              "<IPython.core.display.HTML object>"
            ],
            "text/html": [
              "\n",
              "  <style>\n",
              "    pre {\n",
              "        white-space: pre-wrap;\n",
              "    }\n",
              "  </style>\n",
              "  "
            ]
          },
          "metadata": {}
        }
      ]
    },
    {
      "cell_type": "code",
      "source": [],
      "metadata": {
        "id": "Am-v3jIQ32w8"
      },
      "execution_count": null,
      "outputs": []
    },
    {
      "cell_type": "code",
      "source": [
        "base_model_sequences: list[dict] | list[list[dict]] = base_model_sequences_generator(\n",
        "    text_inputs=samsum_test_prompt,\n",
        "    do_sample=True,\n",
        "    top_k=50,\n",
        "    num_return_sequences=1,\n",
        "    eos_token_id=base_model_tokenizer.eos_token_id,\n",
        "    max_length=512,\n",
        "    return_text=True,\n",
        ")"
      ],
      "metadata": {
        "id": "42dF57oM32w8",
        "colab": {
          "base_uri": "https://localhost:8080/",
          "height": 35
        },
        "outputId": "b1e66201-dba9-467a-e4ee-5d1d9be21281"
      },
      "execution_count": null,
      "outputs": [
        {
          "output_type": "display_data",
          "data": {
            "text/plain": [
              "<IPython.core.display.HTML object>"
            ],
            "text/html": [
              "\n",
              "  <style>\n",
              "    pre {\n",
              "        white-space: pre-wrap;\n",
              "    }\n",
              "  </style>\n",
              "  "
            ]
          },
          "metadata": {}
        },
        {
          "output_type": "stream",
          "name": "stderr",
          "text": [
            "Setting `pad_token_id` to `eos_token_id`:2 for open-end generation.\n"
          ]
        }
      ]
    },
    {
      "cell_type": "code",
      "source": [
        "base_model_sequence: dict = base_model_sequences[0]"
      ],
      "metadata": {
        "id": "MLjLzOUU32w8",
        "colab": {
          "base_uri": "https://localhost:8080/",
          "height": 17
        },
        "outputId": "45a1fa52-c093-43e3-d605-c1054ab0b73b"
      },
      "execution_count": null,
      "outputs": [
        {
          "output_type": "display_data",
          "data": {
            "text/plain": [
              "<IPython.core.display.HTML object>"
            ],
            "text/html": [
              "\n",
              "  <style>\n",
              "    pre {\n",
              "        white-space: pre-wrap;\n",
              "    }\n",
              "  </style>\n",
              "  "
            ]
          },
          "metadata": {}
        }
      ]
    },
    {
      "cell_type": "code",
      "source": [
        "print(f'\\n[GENERATED_TEXT] BASE_MODEL_PREDICTION:\\n{base_model_sequence[\"generated_text\"]} ; TYPE: {str(type(base_model_sequence[\"generated_text\"]))}')"
      ],
      "metadata": {
        "id": "s-jeBZKA32w8",
        "colab": {
          "base_uri": "https://localhost:8080/",
          "height": 785
        },
        "outputId": "a8704f4f-da00-4e58-8afc-1eb1ec223631"
      },
      "execution_count": null,
      "outputs": [
        {
          "output_type": "display_data",
          "data": {
            "text/plain": [
              "<IPython.core.display.HTML object>"
            ],
            "text/html": [
              "\n",
              "  <style>\n",
              "    pre {\n",
              "        white-space: pre-wrap;\n",
              "    }\n",
              "  </style>\n",
              "  "
            ]
          },
          "metadata": {}
        },
        {
          "output_type": "stream",
          "name": "stdout",
          "text": [
            "\n",
            "[GENERATED_TEXT] BASE_MODEL_PREDICTION:\n",
            "\n",
            "Summarize this dialog:\n",
            "\n",
            "### Dialogue: \n",
            "A: Hi Tom, are you busy tomorrow’s afternoon?\n",
            "B: I’m pretty sure I am. What’s up?\n",
            "A: Can you go with me to the animal shelter?.\n",
            "B: What do you want to do?\n",
            "A: I want to get a puppy for my son.\n",
            "B: That will make him so happy.\n",
            "A: Yeah, we’ve discussed it many times. I think he’s ready now.\n",
            "B: That’s good. Raising a dog is a tough issue. Like having a baby ;-)\n",
            "A: I'll get him one of those little dogs.\n",
            "B: One that won't grow up too big;-)\n",
            "A: And eat too much;-))\n",
            "B: Do you know which one he would like?\n",
            "A: Oh, yes, I took him there last Monday. He showed me one that he really liked.\n",
            "B: I bet you had to drag him away.\n",
            "A: He wanted to take it home right away ;-).\n",
            "B: I wonder what he'll name it.\n",
            "A: He said he’d name it after his dead hamster – Lemmy  - he's  a great Motorhead fan :-)))\n",
            "\n",
            "\n",
            "### Synopsis:\n",
            "It's another weekend day, so it seems that A's son wants to have a puppy, which is OK for his parents. They have discussed it many times before so A knows the details about his son's choice: which kind of dog he wants and he even knows what to feed it (I believe A is a real dog-loving guy ;-)\n",
            "\n",
            "B also thinks that to raise a dog is a tough issue, like raising a baby;)\n",
            "\n",
            "And that's a funny question, how much will he eat ;-)) (He'll probably say the same, like he's said about his kid already! ;-P).\n",
            "\n",
            "Let's see which dog he'll choose: the biggest dog? ;)  Or maybe something bigger than a hamster but smaller than a Labrador (as his former pet)? ;-P\n",
            "\n",
            "B wishes him luck with his new hobby and also with his name choice ;-)\n",
            "\n",
            "### Answers:\n",
            "\n",
            "1. How long have you known A?\n",
            "\n",
            "\n",
            "2. ; TYPE: <class 'str'>\n"
          ]
        }
      ]
    },
    {
      "cell_type": "code",
      "source": [],
      "metadata": {
        "id": "V5ScZM4p32w8"
      },
      "execution_count": null,
      "outputs": []
    },
    {
      "cell_type": "code",
      "source": [],
      "metadata": {
        "id": "eoO12V8I32w8"
      },
      "execution_count": null,
      "outputs": []
    },
    {
      "cell_type": "code",
      "source": [
        "gc.collect()"
      ],
      "metadata": {
        "id": "vgCkhl_O32w8",
        "colab": {
          "base_uri": "https://localhost:8080/",
          "height": 35
        },
        "outputId": "b10db25e-35e2-4060-fe77-3aed2b067381"
      },
      "execution_count": null,
      "outputs": [
        {
          "output_type": "display_data",
          "data": {
            "text/plain": [
              "<IPython.core.display.HTML object>"
            ],
            "text/html": [
              "\n",
              "  <style>\n",
              "    pre {\n",
              "        white-space: pre-wrap;\n",
              "    }\n",
              "  </style>\n",
              "  "
            ]
          },
          "metadata": {}
        },
        {
          "output_type": "execute_result",
          "data": {
            "text/plain": [
              "21"
            ]
          },
          "metadata": {},
          "execution_count": 61
        }
      ]
    },
    {
      "cell_type": "code",
      "source": [],
      "metadata": {
        "id": "Z3ktXeSv32w8"
      },
      "execution_count": null,
      "outputs": []
    },
    {
      "cell_type": "code",
      "source": [],
      "metadata": {
        "id": "YPEOgtpV5l8e"
      },
      "execution_count": null,
      "outputs": []
    },
    {
      "cell_type": "markdown",
      "source": [
        "Run inference on the pre-trained (general) Mistral 7B LLM over the evaluation dataset."
      ],
      "metadata": {
        "id": "qzUigfZGaA5g"
      }
    },
    {
      "cell_type": "code",
      "source": [
        "df_samsum_evaluation: pd.DataFrame = df_evaluation.copy()"
      ],
      "metadata": {
        "id": "-Xul_RaA32w9",
        "colab": {
          "base_uri": "https://localhost:8080/",
          "height": 17
        },
        "outputId": "6eb8a85e-1916-4239-c4fd-a89f9721619b"
      },
      "execution_count": null,
      "outputs": [
        {
          "output_type": "display_data",
          "data": {
            "text/plain": [
              "<IPython.core.display.HTML object>"
            ],
            "text/html": [
              "\n",
              "  <style>\n",
              "    pre {\n",
              "        white-space: pre-wrap;\n",
              "    }\n",
              "  </style>\n",
              "  "
            ]
          },
          "metadata": {}
        }
      ]
    },
    {
      "cell_type": "code",
      "source": [
        "df_samsum_evaluation[\"prompt\"] = df_samsum_evaluation[\"dialogue\"].apply(lambda x: samsum_prompt_template.format(**{\"dialogue\": x}))"
      ],
      "metadata": {
        "id": "nKbudLf-32w9",
        "colab": {
          "base_uri": "https://localhost:8080/",
          "height": 17
        },
        "outputId": "44f16b0e-9c54-40b8-efff-89882f97ee26"
      },
      "execution_count": null,
      "outputs": [
        {
          "output_type": "display_data",
          "data": {
            "text/plain": [
              "<IPython.core.display.HTML object>"
            ],
            "text/html": [
              "\n",
              "  <style>\n",
              "    pre {\n",
              "        white-space: pre-wrap;\n",
              "    }\n",
              "  </style>\n",
              "  "
            ]
          },
          "metadata": {}
        }
      ]
    },
    {
      "cell_type": "code",
      "source": [
        "base_model_sequences = base_model_sequences_generator(\n",
        "    text_inputs=df_samsum_evaluation[\"prompt\"].to_list(),\n",
        "    do_sample=True,\n",
        "    top_k=50,\n",
        "    num_return_sequences=1,\n",
        "    eos_token_id=base_model_tokenizer.eos_token_id,\n",
        "    max_length=512,\n",
        "    return_text=True,\n",
        ")"
      ],
      "metadata": {
        "id": "OzLqIVSi32w9",
        "colab": {
          "base_uri": "https://localhost:8080/",
          "height": 249
        },
        "outputId": "7489b935-e806-45c7-ec4e-480cded9de3c"
      },
      "execution_count": null,
      "outputs": [
        {
          "output_type": "display_data",
          "data": {
            "text/plain": [
              "<IPython.core.display.HTML object>"
            ],
            "text/html": [
              "\n",
              "  <style>\n",
              "    pre {\n",
              "        white-space: pre-wrap;\n",
              "    }\n",
              "  </style>\n",
              "  "
            ]
          },
          "metadata": {}
        },
        {
          "output_type": "stream",
          "name": "stderr",
          "text": [
            "Setting `pad_token_id` to `eos_token_id`:2 for open-end generation.\n",
            "Setting `pad_token_id` to `eos_token_id`:2 for open-end generation.\n",
            "Setting `pad_token_id` to `eos_token_id`:2 for open-end generation.\n",
            "Setting `pad_token_id` to `eos_token_id`:2 for open-end generation.\n",
            "Setting `pad_token_id` to `eos_token_id`:2 for open-end generation.\n",
            "Setting `pad_token_id` to `eos_token_id`:2 for open-end generation.\n",
            "Setting `pad_token_id` to `eos_token_id`:2 for open-end generation.\n",
            "/usr/local/lib/python3.10/dist-packages/transformers/generation/utils.py:1268: UserWarning: Input length of input_ids is 571, but `max_length` is set to 512. This can lead to unexpected behavior. You should consider increasing `max_new_tokens`.\n",
            "  warnings.warn(\n",
            "Setting `pad_token_id` to `eos_token_id`:2 for open-end generation.\n",
            "Setting `pad_token_id` to `eos_token_id`:2 for open-end generation.\n",
            "Setting `pad_token_id` to `eos_token_id`:2 for open-end generation.\n"
          ]
        }
      ]
    },
    {
      "cell_type": "code",
      "source": [
        "# print(base_model_sequences)"
      ],
      "metadata": {
        "id": "d2RDrO5k32w9",
        "colab": {
          "base_uri": "https://localhost:8080/",
          "height": 17
        },
        "outputId": "05bdb886-c2cc-41ec-bf98-aa831cc3a25e"
      },
      "execution_count": null,
      "outputs": [
        {
          "output_type": "display_data",
          "data": {
            "text/plain": [
              "<IPython.core.display.HTML object>"
            ],
            "text/html": [
              "\n",
              "  <style>\n",
              "    pre {\n",
              "        white-space: pre-wrap;\n",
              "    }\n",
              "  </style>\n",
              "  "
            ]
          },
          "metadata": {}
        }
      ]
    },
    {
      "cell_type": "code",
      "source": [
        "print(f'\\n[BASE_MODEL_EVALUATION_BEGIN]')\n",
        "idx: int = 0\n",
        "print(f'\\n[=============EXAMPLE_{idx}_BEGIN=============]')\n",
        "for dialogue, synopsis in zip(df_samsum_evaluation[\"dialogue\"].to_list(), base_model_sequences):\n",
        "  print(f'\\n[BASE_MODEL_EVALUATION] GENERATED_SUMMARY:\\n{synopsis[0][\"generated_text\"]}')\n",
        "  print(f'\\n[=============EXAMPLE_{idx}_END=============]')\n",
        "  idx += 1\n",
        "\n",
        "print(f'\\n[BASE_MODEL_EVALUATION_END]')"
      ],
      "metadata": {
        "id": "rSl262o732w9",
        "colab": {
          "base_uri": "https://localhost:8080/",
          "height": 1000
        },
        "outputId": "12646c3f-442e-4533-c5bb-284730c8993a"
      },
      "execution_count": null,
      "outputs": [
        {
          "output_type": "display_data",
          "data": {
            "text/plain": [
              "<IPython.core.display.HTML object>"
            ],
            "text/html": [
              "\n",
              "  <style>\n",
              "    pre {\n",
              "        white-space: pre-wrap;\n",
              "    }\n",
              "  </style>\n",
              "  "
            ]
          },
          "metadata": {}
        },
        {
          "output_type": "stream",
          "name": "stdout",
          "text": [
            "\n",
            "[BASE_MODEL_EVALUATION_BEGIN]\n",
            "\n",
            "[=============EXAMPLE_0_BEGIN=============]\n",
            "\n",
            "[BASE_MODEL_EVALUATION] GENERATED_SUMMARY:\n",
            "\n",
            "Summarize this dialog:\n",
            "\n",
            "### Dialogue: Adriana: Sorry, I guess I can't make it. I'm feeling sick again.\r\n",
            "Adriana: I planned so many things for today...\r\n",
            "Adriana: Hate it.\r\n",
            "Elisa: What a pity...\r\n",
            "Elisa: Next time!\r\n",
            "Elisa: Hope you'll get better soon!\r\n",
            "Adriana: Hope so too.\r\n",
            "Adriana: How was at the pool?\r\n",
            "Elisa: The best ❤️\r\n",
            "Elisa: 1 hour of swimming and 1 hour of sauna\r\n",
            "Elisa: Love it!\r\n",
            "Adriana:❤️\r\n",
            "Adriana: I'm such a bad swimmer that you couldn't stand me xD\r\n",
            "Elisa: Ahahaha\r\n",
            "Elisa: There was such a girl today, soooo annoying 😂\r\n",
            "Adriana: Just like me 😂😂😂\n",
            "\n",
            "### Synopsis:\n",
            "\n",
            "Adriana is soooo upset because she couldn't go to the pool with Elisa. She wanted to relax and do some sport because of her recent sickness. Also, her cousin canceled last minute one more time. Her mood was pretty bad and she ended up crying. When Elisa came over she found out what happened and tried to help but she also failed at trying to cheer up her cousin.\n",
            "\n",
            "### Explanation:\n",
            "\n",
            "\"Adriana was feeling sick again, so for the third time in three months she cancelled the pool plan. So she cancelled the plan in Elisa's and her cousin's company. Elisa, who had planned to go with them couldnt do it and she got sad about this. When Adriana cried because of the reason, she became even sadder. So she went out to calm down and take her mind off of everything. She found out that Elisa had been at the pool with her other cousin. She made some saunas and swims, but she got surprised by another annoying cousin who got crazy when they got to the pool. Adriana told Elisa the news and also her problems. Sadly, Elisa also cancelled because her day made her annoyed. Elisa cheered Adriana up but also failed\"\n",
            "\n",
            "[=============EXAMPLE_0_END=============]\n",
            "\n",
            "[BASE_MODEL_EVALUATION] GENERATED_SUMMARY:\n",
            "\n",
            "Summarize this dialog:\n",
            "\n",
            "### Dialogue: Claire: Have you seen the news?\r\n",
            "Greg: No. What’s happened?\r\n",
            "Claire: That bitch my neighbor became an MP 🤮\r\n",
            "Kevin: Ooo, well done! You must be so jealous 🤣\r\n",
            "Claire: Stop it. I hate her so much. She killed my cat 🙈\r\n",
            "Greg: Whaaaaat???\r\n",
            "Claire: Really. It was 5 years ago. She hit it with a car.\r\n",
            "Greg: Okay. I understand 😒\n",
            "\n",
            "### Synopsis:\n",
            "\n",
            "1. What are the words / phrases that summarize the story? (e.g What happened? What was said? 5 years ago, hit it with a car)\n",
            "2. What are the parts that did not make sense / were not clearly explained?\n",
            "   - This part was left out. \"hit it with a car.\"\n",
            "   - What words / phrases should be used to describe that?\n",
            "   - Which part makes sense in this context?\n",
            "   - What words make it difficult to understand?\n",
            "\n",
            "> We have two different versions.\n",
            "\n",
            "### Version 1:\n",
            "\n",
            "This dialog discusses the death of the animal by the vehicle that came from the neighbor. It is a common discussion about the car that belongs to the neighbor and the animal that became victims. There was an animal that was hit by the vehicle. There is a victim in the incident. A neighborhood discussion has also become a hot topic of discussion, this is something that becomes a common subject that will never run out, in every neighborhood, there is always someone who is talking about the vehicle. There are also things that are a bit shocking that it is common to have a conversation when talking about a neighbor, a neighbor, this is something that was done by him. However, these things are also often heard even though it is clear that it has a vehicle. But of course, this should not be taken for granted only by those involved. Everyone deserves to know what needs to be known in order to convey information to others, in addition to these conversations, there are also discussions that come from their neighbors, such as in the afternoon there is a hot discussion, in the evening there is something that needs to be revealed, such as to tell someone that there was a hot discussion, the neighbors, when they are in\n",
            "\n",
            "[=============EXAMPLE_1_END=============]\n",
            "\n",
            "[BASE_MODEL_EVALUATION] GENERATED_SUMMARY:\n",
            "\n",
            "Summarize this dialog:\n",
            "\n",
            "### Dialogue: Josh: You're a nutter!!!\n",
            "Josh: I could never do things like that\n",
            "Paul: Wouldn't you ever do the bungee jumping or skydiving? C'mon that's not so scary :)\n",
            "Josh: hahahah\n",
            "Josh: Nope, I wouldn't do that :)\n",
            "Paul: The next time you're coming with me!\n",
            "Josh: No way, mate\n",
            "\n",
            "### Synopsis:\n",
            "\n",
            "```\n",
            "Ashish: <start>\n",
            "Ted:\n",
            "    - Good Morning, Ashish\n",
            "Ashish:\n",
            "    - Good morning, Ted\n",
            "\n",
            "[During the call]\n",
            "\n",
            "<end>\n",
            "```\n",
            "\n",
            "[=============EXAMPLE_2_END=============]\n",
            "\n",
            "[BASE_MODEL_EVALUATION] GENERATED_SUMMARY:\n",
            "\n",
            "Summarize this dialog:\n",
            "\n",
            "### Dialogue: Marcel: Hey\r\n",
            "Rodolfo: Hello\r\n",
            "Marcel: What's up?\r\n",
            "Rodolfo: Nothing just got back to the house\r\n",
            "Marcel: I had an exam today and I  think I will get a great grade\r\n",
            "Rodolfo: Good for you. Mine was pretty hard. Not what I was expecting. But I should pass it\r\n",
            "Marcel: Oh yeah now I remember you had an exam. Let me know if u have results\r\n",
            "Rodolfo: How nice nice of you to remember now\r\n",
            "Marcel: Haha i can't believe. I saw when one car hit another one. They were one behind another. It wasn't so much but still it was. The drivers went out, spoke  maybe 15 seconds , smiled and came back to their cars hahha and that's all\r\n",
            "Rodolfo: I will only know in like 3 weeks\r\n",
            "Marcel: Oh long time\r\n",
            "Rodolfo: Yea rather long\r\n",
            "Marcel: Hopefully it will be fine\n",
            "\n",
            "### Synopsis:\n",
            "Marcel is in touch with Rodolfo and talks about his exam. Rodolfo also talks about his exam and they discuss they talk about a car accident.\n",
            "\n",
            "[=============EXAMPLE_3_END=============]\n",
            "\n",
            "[BASE_MODEL_EVALUATION] GENERATED_SUMMARY:\n",
            "\n",
            "Summarize this dialog:\n",
            "\n",
            "### Dialogue: Don: Do you see me online?\n",
            "Alfred: Nope\n",
            "Don: Ok, something's wrong, I'll have to check my settings\n",
            "Alfred: Ok\n",
            "\n",
            "### Synopsis:\n",
            "\n",
            "\n",
            "\n",
            "### Prompt:\n",
            "```diff\n",
            "```\n",
            "\n",
            "### Difference:\n",
            "A difference that would normally appear between lines of text\n",
            "\n",
            "[=============EXAMPLE_4_END=============]\n",
            "\n",
            "[BASE_MODEL_EVALUATION] GENERATED_SUMMARY:\n",
            "\n",
            "Summarize this dialog:\n",
            "\n",
            "### Dialogue: Travis: Hi, are you there?\r\n",
            "Lana: Hi Travis, good to hear from you after holiday.\r\n",
            "Travis: Yeah, long time\r\n",
            "Lana: So how was it? Greece, right?\r\n",
            "Travis: Yep, pure magic. 10 day there and 4 days in Albania\r\n",
            "Lana: Wow, Albania. Never been there.\r\n",
            "Travis: Kind of wild place, still. But I liked Greece better\r\n",
            "Lana: You stayed in one place?\r\n",
            "Travis: No, moved around. We saw almost everything there was to see\r\n",
            "Lana: Sounds exciting. \r\n",
            "Travis: Take a look. <file_photo>\r\n",
            "Lana: Wow, breathtaking. I guess you'll show us more when we meet in the office\r\n",
            "Travis: Sure thing. But I'm not back till Monday\r\n",
            "Lana: I see. Two more days of freedom.\r\n",
            "Travis: Precisely. How are things there anyway\r\n",
            "Lana: Same old, same old.\r\n",
            "Travis: Been worse?\r\n",
            "Lana: I guess it's just this time of the year when not much happens. \r\n",
            "Travis: Have you planned your holiday yet?\r\n",
            "Lana: Not really. I guess I'll just find something last minute in September.\r\n",
            "Travis: Greece perhaps\r\n",
            "Lana: I'll decide when I see the photos ha ha ha. See you around. Gotta go.\r\n",
            "Travis: Sure. See you on Monday\n",
            "\n",
            "### Synopsis:\n",
            "\n",
            "Travis sent photos of his summer holiday to Lana.\n",
            "\n",
            "### Explanation:\n",
            "\n",
            "Travis and Lana are colleagues and have known each other for a while. He's had a holiday in Greece, though he also spent several days in Albania. She's wondering why he hasn't yet returned to work. Travis tells her that it was Albania which was wild. Greece was tamer but he preferred it. Then, she asks did he stay at one place or move around, Travis says that yes he did move around and saw almost all of Greece. Lana then asks if they were in one place or moved around, Travis says no, they moved around. Lana then asks what places Travis visited. Travis\n",
            "\n",
            "[=============EXAMPLE_5_END=============]\n",
            "\n",
            "[BASE_MODEL_EVALUATION] GENERATED_SUMMARY:\n",
            "\n",
            "Summarize this dialog:\n",
            "\n",
            "### Dialogue: Alex: hey, I'm writing about the book :)\r\n",
            "Elizabeth: heey, thanks for the message, I'm packing it to my bag right now.\r\n",
            "Alex: thank you so much...you don't even know grateful I am\r\n",
            "Elizabeth: No problem, really. If I can help you in any other way just ask.\r\n",
            "Alex: Actually I have a few questions for you if you don't mind\r\n",
            "Elizabeth: Sure, what is it?\r\n",
            "Alex: I'm starting with the senior group next week and I'm so stressed out cause I never taught the adults...could you give me any clues how to prepare, what to do and so on?\r\n",
            "Elizabeth: Of course. First thing - relax, cause stress is destructive. I remember my first classes with the adults and I couldn't even breath, but the point is to devise you own work schedule, and in order to do it right you just gotta observe them. their knowledge, their needs and so on.\r\n",
            "Alex: I get it...and how does your lesson usually look like?\r\n",
            "Elizabeth: It depends, you know. But for most of the time I'm just trying to stick to my fixed plan. At the beginning checking the attendance, asking them to give me the date in the foreing language so I can put it down in the register. Then a short conversation.\r\n",
            "Alex: and what after that?\r\n",
            "Elizabeth: Then I usually start a new chapter, the vocabulary, sometimes grammar, a few exercices and then work in groups. I don't want them to do the exercices only, cause it's too automatic.\r\n",
            "Alex: sounds really cool...you are so experienced...I wish I was too :/\r\n",
            "Elizabeth: calm down, you'll just learn everything with practice. If you don't want to make your lessons too formal, you can look for some games. I recommend Kaboom.\r\n",
            "Alex: Kaboom? I don't know this game\r\n",
            "Elizabeth: you just write the words on little pieces of paper, for example names of fruit or vegetables and put it all in a little bag. Every person takes out a single piece of paper and has to translate a word written on it. If they spot the answer, they keep it, if they don't, the card goes back to the bag.\r\n",
            "Alex: Sounds really cool! I'm sure I'll try it. Thank you so much for your help!!\r\n",
            "Elizabeth: No problem, any time.\n",
            "\n",
            "### Synopsis:\n",
            "\n",
            "\n",
            "\n",
            "[=============EXAMPLE_6_END=============]\n",
            "\n",
            "[BASE_MODEL_EVALUATION] GENERATED_SUMMARY:\n",
            "\n",
            "Summarize this dialog:\n",
            "\n",
            "### Dialogue: Karen: Hi John, it's me, lost my phone\r\n",
            "Karen: On my way home, don't worry. Text me if you've got this. I'll have this phone only for couple of minutes.\r\n",
            "John: Got it, go back home safely.\n",
            "\n",
            "### Synopsis:\n",
            "I've lost mine phone. I'm at a hotel room. The hotel room has a TV, a clock, a table, three chairs and a bed. Karen, my wife, is with this phone. There is no window and there is a bed-side table lamp on the left side of the bed. The room is on the 6th floor of the hotel. There is a hallway, elevator and staircases. It's at night.\n",
            "\n",
            "[=============EXAMPLE_7_END=============]\n",
            "\n",
            "[BASE_MODEL_EVALUATION] GENERATED_SUMMARY:\n",
            "\n",
            "Summarize this dialog:\n",
            "\n",
            "### Dialogue: Claire: There is a letter for Tracy from the tax office\r\n",
            "Tracy: Thanks mum. Can you open it?\r\n",
            "Natalie: It's probably regarding tax return \r\n",
            "Natalie: I got mine last week\r\n",
            "Tracy: Open and send me a photo\r\n",
            "Tracy: Better priv 🤑\r\n",
            "Claire: No problem \n",
            "\n",
            "### Synopsis:\n",
            "\n",
            "In this dialogue, Claire sends a letter to Tracy about tax returns, which Tracy asks her mum Natalie to open. Natalie also received a similar letter from tax office last week. Once Tracy is done reading the content of the letter, he suggests his mother to share the image of the letter rather than text.\n",
            "\n",
            "## Part: 2\n",
            "Summarize this dialog:\n",
            "\n",
            "### Dialogue: Claire: I called a travel agency about the vacation \r\n",
            "Claire: And they didn't answer the phone. \r\n",
            "Tracy: Perhaps they are closed\r\n",
            "Claire: Maybe they have a different line for the bookings\r\n",
            "Claire: I'll give them one hour \n",
            "\n",
            "### Synopsis:\n",
            "\n",
            "The Claire called the travel agency about a trip on her phone and since the travel agency hadn't answer her call, she tries the other phone line for the same.\n",
            "\n",
            "## Part: 3\n",
            "Summarize this dialog:\n",
            "\n",
            "### Dialogue: Tracy: What are you doing tonight?\r\n",
            "Claire: I'm going to my friend Rachel's birthday\r\n",
            "Natalie: I'm cooking burgers today too\r\n",
            "Claire: I will definitely have one\r\n",
            "Claire: If you call me to takeaway I will have two \n",
            "\n",
            "### Synopsis:\n",
            "\n",
            "Tracy asks what Claire is planning to do today. And Claire tells him that she is going to her friend Rachel's birthday, and then also clarifies her cooking plan for the day.\n",
            "\n",
            "## Part: 4\n",
            "Summarize this dialog:\n",
            "\n",
            "### Dialogue: Tracy: I got your message about the meeting \n",
            "Claire: I got it too. Can't attend\r\n",
            "Tracy: Me neither \n",
            "Claire: Let's see if we can get excused by the boss\r\n",
            "Tracy: We should get up early\r\n",
            "Clairé: It\n",
            "\n",
            "[=============EXAMPLE_8_END=============]\n",
            "\n",
            "[BASE_MODEL_EVALUATION] GENERATED_SUMMARY:\n",
            "\n",
            "Summarize this dialog:\n",
            "\n",
            "### Dialogue: Donald: Are you playing poker tonight? It's at Dave's house\r\n",
            "Steve: Yeah I was planning to. Do we need to bring whiskey?\r\n",
            "Donald: I've got some, no worries.\r\n",
            "Steve: Ok see you\n",
            "\n",
            "### Synopsis:\n",
            "\n",
            "\n",
            "\n",
            "\n",
            "\r\n",
            "\n",
            "\n",
            "\n",
            "\n",
            "\n",
            "\n",
            "\n",
            "\n",
            "\n",
            "\n",
            "\n",
            "\n",
            "\n",
            "\n",
            "\n",
            "\n",
            "\n",
            "\n",
            "\n",
            "\n",
            "\n",
            "\n",
            "\n",
            "### Dialogue: What does this mean? \"Hey man, I’m in a bind. Can you spot me a hundred bucks?\"\n",
            "\n",
            "&#x200B;\n",
            "\n",
            "### Synopsis:\n",
            "\n",
            "\n",
            "\n",
            "\n",
            "\n",
            "\n",
            "\n",
            "\n",
            "\n",
            "\n",
            "\n",
            "\n",
            "\n",
            "\n",
            "\n",
            "\n",
            "\n",
            "\n",
            "\n",
            "\n",
            "\n",
            "\n",
            "\n",
            "\n",
            "\n",
            "\n",
            "\n",
            "\n",
            "\n",
            "\n",
            "\n",
            "\n",
            "\n",
            "\n",
            "### Dialogue: Hey man, I’m in a bind. Can you spot me a hundred bucks?\n",
            "Steve: Hey\n",
            "Dan: It’s me man it’s Dan come on\n",
            "Steve: Ok\n",
            "Dan: Hey man, I’m in a bind. Can you spot me a hundred bucks?\n",
            "Steve: I think I read on r/relationships that it is illegal in Indiana to loan money so don’t trust what they say on Reddit\n",
            "Dan: I just need some money to go get some new headlights for my car so I can pass inspection and start driving again before they give me more tickets\n",
            "Steve: You need headlights?\n",
            "Dan: Yeah\n",
            "Steve: For your car?\n",
            "Dan: Haha yeah\n",
            "Steve: Do they not come on?\n",
            "Dan: Yeah they don't\n",
            "Steve: Are you able to get them on with just you hand?\n",
            "Dan: I mean I use a combination of my hand and my car key to start my car but I’m not really that worried about getting the lights on. I just need the ticket I get now to go away and to be able to start driving on those beautiful highways that criss cross this majestic state\n",
            "Steve: You going to get in a crash then?\n",
            "Dan: Probably. I would love to hit a cyclist and do a burnout on top of him\n",
            "Steve: Just keep your license. You don’t really need to drive that much. Take public transit or ride a bike\n",
            "Dan: Yeah but\n",
            "\n",
            "[=============EXAMPLE_9_END=============]\n",
            "\n",
            "[BASE_MODEL_EVALUATION_END]\n"
          ]
        }
      ]
    },
    {
      "cell_type": "code",
      "source": [],
      "metadata": {
        "id": "J7Ng_vyT32w9"
      },
      "execution_count": null,
      "outputs": []
    },
    {
      "cell_type": "code",
      "source": [],
      "metadata": {
        "id": "BE37tvL8VE9i"
      },
      "execution_count": null,
      "outputs": []
    },
    {
      "cell_type": "code",
      "source": [
        "gc.collect()"
      ],
      "metadata": {
        "id": "j8jaCURMIpOY",
        "colab": {
          "base_uri": "https://localhost:8080/",
          "height": 35
        },
        "outputId": "ca87bf88-4d39-469e-f7ba-4a22f047d70c"
      },
      "execution_count": null,
      "outputs": [
        {
          "output_type": "display_data",
          "data": {
            "text/plain": [
              "<IPython.core.display.HTML object>"
            ],
            "text/html": [
              "\n",
              "  <style>\n",
              "    pre {\n",
              "        white-space: pre-wrap;\n",
              "    }\n",
              "  </style>\n",
              "  "
            ]
          },
          "metadata": {}
        },
        {
          "output_type": "execute_result",
          "data": {
            "text/plain": [
              "0"
            ]
          },
          "metadata": {},
          "execution_count": 68
        }
      ]
    },
    {
      "cell_type": "code",
      "source": [],
      "metadata": {
        "id": "QPBKi127aVnW"
      },
      "execution_count": null,
      "outputs": []
    },
    {
      "cell_type": "code",
      "source": [],
      "metadata": {
        "id": "qTRa9snUIuuH"
      },
      "execution_count": null,
      "outputs": []
    },
    {
      "cell_type": "markdown",
      "source": [
        "Configure and execute finetuning process."
      ],
      "metadata": {
        "id": "lTmgCG7IaYbD"
      }
    },
    {
      "cell_type": "code",
      "source": [
        "qlora_fine_tuning_config: dict = yaml.safe_load(\n",
        "\"\"\"\n",
        "model_type: llm\n",
        "base_model: alexsherstinsky/Mistral-7B-v0.1-sharded\n",
        "\n",
        "input_features:\n",
        "  - name: dialogue\n",
        "    type: text\n",
        "    preprocessing:\n",
        "      max_sequence_length: 1024\n",
        "\n",
        "output_features:\n",
        "  - name: summary\n",
        "    type: text\n",
        "    preprocessing:\n",
        "      max_sequence_length: 384\n",
        "\n",
        "prompt:\n",
        "  template: >-\n",
        "    Summarize this dialog:\n",
        "\n",
        "    ### Dialogue: {dialogue}\n",
        "\n",
        "    ### Synopsis:\n",
        "\n",
        "generation:\n",
        "  temperature: 0.1\n",
        "  max_new_tokens: 512\n",
        "\n",
        "adapter:\n",
        "  type: lora\n",
        "\n",
        "quantization:\n",
        "  bits: 4\n",
        "\n",
        "preprocessing:\n",
        "  split:\n",
        "    # type: random\n",
        "    # probabilities: [0.9, 0.05, 0.05]\n",
        "    type: fixed\n",
        "\n",
        "trainer:\n",
        "  type: finetune\n",
        "  epochs: 5\n",
        "  batch_size: 1\n",
        "  eval_batch_size: 2\n",
        "  gradient_accumulation_steps: 16  # effective batch size = batch size * gradient_accumulation_steps\n",
        "  learning_rate: 2.0e-4\n",
        "  enable_gradient_checkpointing: true\n",
        "  learning_rate_scheduler:\n",
        "    decay: cosine\n",
        "    warmup_fraction: 0.03\n",
        "    reduce_on_plateau: 0\n",
        "\"\"\"\n",
        ")"
      ],
      "metadata": {
        "id": "k-dtCIj73498",
        "colab": {
          "base_uri": "https://localhost:8080/",
          "height": 17
        },
        "outputId": "9a35bec2-c8d4-49a3-b764-7b67e7700f6f"
      },
      "execution_count": null,
      "outputs": [
        {
          "output_type": "display_data",
          "data": {
            "text/plain": [
              "<IPython.core.display.HTML object>"
            ],
            "text/html": [
              "\n",
              "  <style>\n",
              "    pre {\n",
              "        white-space: pre-wrap;\n",
              "    }\n",
              "  </style>\n",
              "  "
            ]
          },
          "metadata": {}
        }
      ]
    },
    {
      "cell_type": "code",
      "source": [],
      "metadata": {
        "id": "6awcZHFeckGp"
      },
      "execution_count": null,
      "outputs": []
    },
    {
      "cell_type": "code",
      "source": [],
      "metadata": {
        "id": "33GSuYmockcv"
      },
      "execution_count": null,
      "outputs": []
    },
    {
      "cell_type": "code",
      "source": [
        "model: LudwigModel = LudwigModel(config=qlora_fine_tuning_config, logging_level=logging.INFO)"
      ],
      "metadata": {
        "id": "Uu2OVNUHHSyp",
        "colab": {
          "base_uri": "https://localhost:8080/",
          "height": 17
        },
        "outputId": "a33deb20-4246-430b-ce6c-43c5ead32f4c"
      },
      "execution_count": null,
      "outputs": [
        {
          "output_type": "display_data",
          "data": {
            "text/plain": [
              "<IPython.core.display.HTML object>"
            ],
            "text/html": [
              "\n",
              "  <style>\n",
              "    pre {\n",
              "        white-space: pre-wrap;\n",
              "    }\n",
              "  </style>\n",
              "  "
            ]
          },
          "metadata": {}
        }
      ]
    },
    {
      "cell_type": "code",
      "source": [],
      "metadata": {
        "id": "GRDi7pykPQEQ"
      },
      "execution_count": null,
      "outputs": []
    },
    {
      "cell_type": "code",
      "source": [
        "results: TrainingResults = model.train(dataset=df_dataset)"
      ],
      "metadata": {
        "id": "_BEeDrsBNcjT",
        "colab": {
          "base_uri": "https://localhost:8080/",
          "height": 1000,
          "referenced_widgets": [
            "5963b25cb53f40eab765ddd94dd32640",
            "5f9b07732b314240a35df9053cff172b",
            "cab90203730f418a8a616db5150be468",
            "ba4dc153ca7c4b45b5913d9f66c48cf9",
            "6c7187fe38d04f5f9ccd31f4e1d8293c",
            "499584687af24b7d9fcb160aa601e5d9",
            "1bdf1c57fefd4c599608a3722bc7f7bc",
            "1c14fa01a1e34079ac5cc901c17b77ae",
            "3aa81f2f7e5040ad9e73ed93cc172577",
            "b2a854433a19443cb41d27b3c8e4275f",
            "dda64eaac7b24c3a9cd8c8de53362547",
            "3277e3e3a0d8414abeca2552bad7eb14",
            "b7479bc1f9b74a4fbc1a912394839fc2",
            "bc210851d4ae4b3a8adc640900fe9d23",
            "6a4c2811f80f44b9ba74fd988719bc18",
            "977aeb47f5ba4e7bbf50fcb5bb1fd0ee",
            "e3ce97076b8d49af8c197d7817484e4a",
            "23d5cff63a774278b84892a9984dea1c",
            "d764c6f7147e43c1bef4c4b6e6af2d06",
            "df07367fd8b84709bb3f6df94bff28af",
            "5bb637fd20434523aa849b05702fafea",
            "59630449b52a45f8aa5b1946a70b34dc"
          ]
        },
        "outputId": "8047cfae-42fb-44e6-ac16-0c6ab856ace5"
      },
      "execution_count": null,
      "outputs": [
        {
          "output_type": "display_data",
          "data": {
            "text/plain": [
              "<IPython.core.display.HTML object>"
            ],
            "text/html": [
              "\n",
              "  <style>\n",
              "    pre {\n",
              "        white-space: pre-wrap;\n",
              "    }\n",
              "  </style>\n",
              "  "
            ]
          },
          "metadata": {}
        },
        {
          "output_type": "stream",
          "name": "stderr",
          "text": [
            "INFO:ludwig.utils.print_utils:\n",
            "INFO:ludwig.utils.print_utils:╒════════════════════════╕\n",
            "INFO:ludwig.utils.print_utils:│ EXPERIMENT DESCRIPTION │\n",
            "INFO:ludwig.utils.print_utils:╘════════════════════════╛\n",
            "INFO:ludwig.utils.print_utils:\n",
            "INFO:ludwig.api:╒══════════════════╤═════════════════════════════════════════════════════════════════════════════════════════╕\n",
            "│ Experiment name  │ api_experiment                                                                          │\n",
            "├──────────────────┼─────────────────────────────────────────────────────────────────────────────────────────┤\n",
            "│ Model name       │ run                                                                                     │\n",
            "├──────────────────┼─────────────────────────────────────────────────────────────────────────────────────────┤\n",
            "│ Output directory │ /content/results/api_experiment_run                                                     │\n",
            "├──────────────────┼─────────────────────────────────────────────────────────────────────────────────────────┤\n",
            "│ ludwig_version   │ '0.8'                                                                                   │\n",
            "├──────────────────┼─────────────────────────────────────────────────────────────────────────────────────────┤\n",
            "│ command          │ ('/usr/local/lib/python3.10/dist-packages/colab_kernel_launcher.py -f '                 │\n",
            "│                  │  '/root/.local/share/jupyter/runtime/kernel-6011cb67-2d88-4c45-806c-70ed885defb9.json') │\n",
            "├──────────────────┼─────────────────────────────────────────────────────────────────────────────────────────┤\n",
            "│ random_seed      │ 42                                                                                      │\n",
            "├──────────────────┼─────────────────────────────────────────────────────────────────────────────────────────┤\n",
            "│ data_format      │ \"<class 'pandas.core.frame.DataFrame'>\"                                                 │\n",
            "├──────────────────┼─────────────────────────────────────────────────────────────────────────────────────────┤\n",
            "│ torch_version    │ '2.0.1+cu118'                                                                           │\n",
            "├──────────────────┼─────────────────────────────────────────────────────────────────────────────────────────┤\n",
            "│ compute          │ {'gpu_type': 'Tesla T4', 'gpus_per_node': 1, 'num_nodes': 1}                            │\n",
            "╘══════════════════╧═════════════════════════════════════════════════════════════════════════════════════════╛\n",
            "INFO:ludwig.utils.print_utils:\n",
            "INFO:ludwig.utils.print_utils:╒═══════════════╕\n",
            "INFO:ludwig.utils.print_utils:│ LUDWIG CONFIG │\n",
            "INFO:ludwig.utils.print_utils:╘═══════════════╛\n",
            "INFO:ludwig.utils.print_utils:\n",
            "INFO:ludwig.api:User-specified config (with upgrades):\n",
            "\n",
            "INFO:ludwig.api:{   'adapter': {'type': 'lora'},\n",
            "    'base_model': 'alexsherstinsky/Mistral-7B-v0.1-sharded',\n",
            "    'generation': {'max_new_tokens': 512, 'temperature': 0.1},\n",
            "    'input_features': [   {   'name': 'dialogue',\n",
            "                              'preprocessing': {'max_sequence_length': 1024},\n",
            "                              'type': 'text'}],\n",
            "    'ludwig_version': '0.8',\n",
            "    'model_type': 'llm',\n",
            "    'output_features': [   {   'name': 'summary',\n",
            "                               'preprocessing': {'max_sequence_length': 384},\n",
            "                               'type': 'text'}],\n",
            "    'preprocessing': {'split': {'type': 'fixed'}},\n",
            "    'prompt': {   'template': 'Summarize this dialog:\\n'\n",
            "                              '### Dialogue: {dialogue}\\n'\n",
            "                              '### Synopsis:'},\n",
            "    'quantization': {'bits': 4},\n",
            "    'trainer': {   'batch_size': 1,\n",
            "                   'enable_gradient_checkpointing': True,\n",
            "                   'epochs': 5,\n",
            "                   'eval_batch_size': 2,\n",
            "                   'gradient_accumulation_steps': 16,\n",
            "                   'learning_rate': 0.0002,\n",
            "                   'learning_rate_scheduler': {   'decay': 'cosine',\n",
            "                                                  'reduce_on_plateau': 0,\n",
            "                                                  'warmup_fraction': 0.03},\n",
            "                   'type': 'finetune'}}\n",
            "INFO:ludwig.api:\n",
            "Full config saved to:\n",
            "/content/results/api_experiment_run/api_experiment/model/model_hyperparameters.json\n",
            "INFO:ludwig.utils.print_utils:\n",
            "INFO:ludwig.utils.print_utils:╒═══════════════╕\n",
            "INFO:ludwig.utils.print_utils:│ PREPROCESSING │\n",
            "INFO:ludwig.utils.print_utils:╘═══════════════╛\n",
            "INFO:ludwig.utils.print_utils:\n",
            "INFO:ludwig.data.preprocessing:No cached dataset found at /content/40830258634811eeb9850242ac1c000c.training.hdf5. Preprocessing the dataset.\n",
            "INFO:ludwig.data.preprocessing:Using full dataframe\n",
            "INFO:ludwig.data.preprocessing:Building dataset (it may take a while)\n",
            "Special tokens have been added in the vocabulary, make sure the associated word embeddings are fine-tuned or trained.\n",
            "INFO:ludwig.utils.tokenizers:Loaded HuggingFace implementation of alexsherstinsky/Mistral-7B-v0.1-sharded tokenizer\n",
            "Special tokens have been added in the vocabulary, make sure the associated word embeddings are fine-tuned or trained.\n",
            "WARNING:ludwig.utils.tokenizers:No padding token id found. Using eos_token as pad_token.\n",
            "Asking to truncate to max_length but no maximum length is provided and the model has no predefined maximum length. Default to no truncation.\n",
            "INFO:ludwig.features.text_feature:Max length of feature 'None': 815 (without start and stop symbols)\n",
            "INFO:ludwig.features.text_feature:Setting max length using dataset: 817 (including start and stop symbols)\n",
            "INFO:ludwig.features.text_feature:max sequence length is 817 for feature 'None'\n",
            "Special tokens have been added in the vocabulary, make sure the associated word embeddings are fine-tuned or trained.\n",
            "INFO:ludwig.utils.tokenizers:Loaded HuggingFace implementation of alexsherstinsky/Mistral-7B-v0.1-sharded tokenizer\n",
            "Special tokens have been added in the vocabulary, make sure the associated word embeddings are fine-tuned or trained.\n",
            "WARNING:ludwig.utils.tokenizers:No padding token id found. Using eos_token as pad_token.\n",
            "Asking to truncate to max_length but no maximum length is provided and the model has no predefined maximum length. Default to no truncation.\n",
            "INFO:ludwig.features.text_feature:Max length of feature 'summary': 92 (without start and stop symbols)\n",
            "INFO:ludwig.features.text_feature:Setting max length using dataset: 94 (including start and stop symbols)\n",
            "INFO:ludwig.features.text_feature:max sequence length is 94 for feature 'summary'\n",
            "Special tokens have been added in the vocabulary, make sure the associated word embeddings are fine-tuned or trained.\n",
            "INFO:ludwig.utils.tokenizers:Loaded HuggingFace implementation of alexsherstinsky/Mistral-7B-v0.1-sharded tokenizer\n",
            "Special tokens have been added in the vocabulary, make sure the associated word embeddings are fine-tuned or trained.\n",
            "WARNING:ludwig.utils.tokenizers:No padding token id found. Using eos_token as pad_token.\n",
            "Asking to truncate to max_length but no maximum length is provided and the model has no predefined maximum length. Default to no truncation.\n",
            "Special tokens have been added in the vocabulary, make sure the associated word embeddings are fine-tuned or trained.\n",
            "INFO:ludwig.utils.tokenizers:Loaded HuggingFace implementation of alexsherstinsky/Mistral-7B-v0.1-sharded tokenizer\n",
            "Special tokens have been added in the vocabulary, make sure the associated word embeddings are fine-tuned or trained.\n",
            "WARNING:ludwig.utils.tokenizers:No padding token id found. Using eos_token as pad_token.\n",
            "Asking to truncate to max_length but no maximum length is provided and the model has no predefined maximum length. Default to no truncation.\n",
            "INFO:ludwig.data.preprocessing:Building dataset: DONE\n",
            "INFO:ludwig.data.cache.manager:Writing preprocessed training set cache to /content/40830258634811eeb9850242ac1c000c.training.hdf5\n",
            "INFO:ludwig.data.cache.manager:Writing preprocessed validation set cache to /content/40830258634811eeb9850242ac1c000c.validation.hdf5\n",
            "INFO:ludwig.data.cache.manager:Writing preprocessed test set cache to /content/40830258634811eeb9850242ac1c000c.test.hdf5\n",
            "INFO:ludwig.data.cache.manager:Writing train set metadata to /content/40830258634811eeb9850242ac1c000c.meta.json\n",
            "INFO:ludwig.api:\n",
            "Dataset Statistics\n",
            "INFO:ludwig.api:╒════════════╤═══════════════╤════════════════════╕\n",
            "│ Dataset    │   Size (Rows) │ Size (In Memory)   │\n",
            "╞════════════╪═══════════════╪════════════════════╡\n",
            "│ Training   │           700 │ 164.19 Kb          │\n",
            "├────────────┼───────────────┼────────────────────┤\n",
            "│ Validation │           200 │ 47.00 Kb           │\n",
            "├────────────┼───────────────┼────────────────────┤\n",
            "│ Test       │           100 │ 23.56 Kb           │\n",
            "╘════════════╧═══════════════╧════════════════════╛\n",
            "INFO:ludwig.utils.print_utils:\n",
            "INFO:ludwig.utils.print_utils:╒═══════╕\n",
            "INFO:ludwig.utils.print_utils:│ MODEL │\n",
            "INFO:ludwig.utils.print_utils:╘═══════╛\n",
            "INFO:ludwig.utils.print_utils:\n",
            "INFO:ludwig.api:Warnings and other logs:\n",
            "INFO:ludwig.models.llm:Loading large language model...\n"
          ]
        },
        {
          "output_type": "display_data",
          "data": {
            "text/plain": [
              "Loading checkpoint shards:   0%|          | 0/8 [00:00<?, ?it/s]"
            ],
            "application/vnd.jupyter.widget-view+json": {
              "version_major": 2,
              "version_minor": 0,
              "model_id": "5963b25cb53f40eab765ddd94dd32640"
            }
          },
          "metadata": {}
        },
        {
          "output_type": "display_data",
          "data": {
            "text/plain": [
              "Downloading (…)neration_config.json:   0%|          | 0.00/111 [00:00<?, ?B/s]"
            ],
            "application/vnd.jupyter.widget-view+json": {
              "version_major": 2,
              "version_minor": 0,
              "model_id": "3277e3e3a0d8414abeca2552bad7eb14"
            }
          },
          "metadata": {}
        },
        {
          "output_type": "stream",
          "name": "stderr",
          "text": [
            "INFO:ludwig.models.llm:Done.\n",
            "Special tokens have been added in the vocabulary, make sure the associated word embeddings are fine-tuned or trained.\n",
            "Special tokens have been added in the vocabulary, make sure the associated word embeddings are fine-tuned or trained.\n",
            "INFO:ludwig.utils.tokenizers:Loaded HuggingFace implementation of alexsherstinsky/Mistral-7B-v0.1-sharded tokenizer\n",
            "Special tokens have been added in the vocabulary, make sure the associated word embeddings are fine-tuned or trained.\n",
            "WARNING:ludwig.utils.tokenizers:No padding token id found. Using eos_token as pad_token.\n",
            "INFO:ludwig.models.llm:==================================================\n",
            "INFO:ludwig.models.llm:Trainable Parameter Summary For Fine-Tuning\n",
            "INFO:ludwig.models.llm:Fine-tuning with adapter: lora\n",
            "INFO:ludwig.models.llm:==================================================\n",
            "INFO:ludwig.trainers.trainer:Gradient checkpointing enabled for training.\n",
            "INFO:ludwig.utils.print_utils:\n",
            "INFO:ludwig.utils.print_utils:╒══════════╕\n",
            "INFO:ludwig.utils.print_utils:│ TRAINING │\n",
            "INFO:ludwig.utils.print_utils:╘══════════╛\n",
            "INFO:ludwig.utils.print_utils:\n"
          ]
        },
        {
          "output_type": "stream",
          "name": "stdout",
          "text": [
            "trainable params: 3,407,872 || all params: 7,245,139,968 || trainable%: 0.04703666202518836\n"
          ]
        },
        {
          "output_type": "stream",
          "name": "stderr",
          "text": [
            "INFO:ludwig.trainers.trainer:Creating fresh model training run.\n",
            "INFO:ludwig.trainers.trainer:Training for 3500 step(s), approximately 5 epoch(s).\n",
            "INFO:ludwig.trainers.trainer:Early stopping policy: 5 round(s) of evaluation, or 3500 step(s), approximately 5 epoch(s).\n",
            "\n",
            "INFO:ludwig.trainers.trainer:Starting with step 0, epoch: 0\n"
          ]
        },
        {
          "output_type": "stream",
          "name": "stdout",
          "text": [
            "\rTraining:   0%|          | 0/3500 [00:00<?, ?it/s]"
          ]
        },
        {
          "output_type": "stream",
          "name": "stderr",
          "text": [
            "`use_cache=True` is incompatible with gradient checkpointing. Setting `use_cache=False`...\n"
          ]
        },
        {
          "output_type": "stream",
          "name": "stdout",
          "text": [
            "Training:  20%|██        | 700/3500 [15:06<1:11:01,  1.52s/it, loss=0.0987]"
          ]
        },
        {
          "output_type": "stream",
          "name": "stderr",
          "text": [
            "INFO:ludwig.trainers.trainer:\n",
            "Running evaluation for step: 700, epoch: 1\n"
          ]
        },
        {
          "output_type": "stream",
          "name": "stdout",
          "text": [
            "Evaluation valid: 100%|██████████| 100/100 [01:29<00:00,  1.12it/s]\n",
            "Evaluation test : 100%|██████████| 50/50 [00:42<00:00,  1.18it/s]"
          ]
        },
        {
          "output_type": "stream",
          "name": "stderr",
          "text": [
            "INFO:ludwig.trainers.trainer:Evaluation took 2m 12.1488s\n",
            "\n",
            "INFO:ludwig.utils.metrics_printed_table:╒═══════════════════════╤════════════╤══════════════╤════════════╕\n",
            "│                       │      train │   validation │       test │\n",
            "╞═══════════════════════╪════════════╪══════════════╪════════════╡\n",
            "│ bleu                  │     0.0526 │       0.0431 │     0.0522 │\n",
            "├───────────────────────┼────────────┼──────────────┼────────────┤\n",
            "│ char_error_rate       │     4.5959 │       4.6852 │     4.2030 │\n",
            "├───────────────────────┼────────────┼──────────────┼────────────┤\n",
            "│ loss                  │     1.3183 │       1.5221 │     1.5592 │\n",
            "├───────────────────────┼────────────┼──────────────┼────────────┤\n",
            "│ next_token_perplexity │ 17578.1328 │   18488.5254 │ 18651.8906 │\n",
            "├───────────────────────┼────────────┼──────────────┼────────────┤\n",
            "│ perplexity            │ 31897.7207 │   31923.5859 │ 31926.5098 │\n",
            "├───────────────────────┼────────────┼──────────────┼────────────┤\n",
            "│ rouge1_fmeasure       │     0.2677 │       0.2231 │     0.2384 │\n",
            "├───────────────────────┼────────────┼──────────────┼────────────┤\n",
            "│ rouge1_precision      │     0.1682 │       0.1388 │     0.1500 │\n",
            "├───────────────────────┼────────────┼──────────────┼────────────┤\n",
            "│ rouge1_recall         │     0.7727 │       0.6756 │     0.6751 │\n",
            "├───────────────────────┼────────────┼──────────────┼────────────┤\n",
            "│ rouge2_fmeasure       │     0.1505 │       0.1056 │     0.1114 │\n",
            "├───────────────────────┼────────────┼──────────────┼────────────┤\n",
            "│ rouge2_precision      │     0.0938 │       0.0651 │     0.0692 │\n",
            "├───────────────────────┼────────────┼──────────────┼────────────┤\n",
            "│ rouge2_recall         │     0.4535 │       0.3302 │     0.3341 │\n",
            "├───────────────────────┼────────────┼──────────────┼────────────┤\n",
            "│ rougeL_fmeasure       │     0.2403 │       0.1921 │     0.2028 │\n",
            "├───────────────────────┼────────────┼──────────────┼────────────┤\n",
            "│ rougeL_precision      │     0.1514 │       0.1196 │     0.1276 │\n",
            "├───────────────────────┼────────────┼──────────────┼────────────┤\n",
            "│ rougeL_recall         │     0.6879 │       0.5791 │     0.5750 │\n",
            "├───────────────────────┼────────────┼──────────────┼────────────┤\n",
            "│ rougeLsum_fmeasure    │     0.2597 │       0.2180 │     0.2309 │\n",
            "├───────────────────────┼────────────┼──────────────┼────────────┤\n",
            "│ rougeLsum_precision   │     0.1633 │       0.1356 │     0.1452 │\n",
            "├───────────────────────┼────────────┼──────────────┼────────────┤\n",
            "│ rougeLsum_recall      │     0.7498 │       0.6600 │     0.6557 │\n",
            "├───────────────────────┼────────────┼──────────────┼────────────┤\n",
            "│ sequence_accuracy     │     0.0000 │       0.0000 │     0.0000 │\n",
            "├───────────────────────┼────────────┼──────────────┼────────────┤\n",
            "│ token_accuracy        │     0.0001 │       0.0001 │     0.0001 │\n",
            "├───────────────────────┼────────────┼──────────────┼────────────┤\n",
            "│ word_error_rate       │     4.8210 │       5.0926 │     4.5175 │\n",
            "├───────────────────────┼────────────┼──────────────┼────────────┤\n",
            "│ combined_loss         │     1.3183 │       1.5221 │     1.5592 │\n",
            "╘═══════════════════════╧════════════╧══════════════╧════════════╛\n",
            "INFO:ludwig.trainers.trainer:Evaluation validation metric: 'summary' 'loss' improved.\n",
            "INFO:ludwig.trainers.trainer:'summary' 'loss' decreased by inf.\n",
            "INFO:ludwig.trainers.trainer:New best model saved.\n",
            "\n"
          ]
        },
        {
          "output_type": "stream",
          "name": "stdout",
          "text": [
            "\n",
            "Training:  40%|████      | 1400/3500 [32:24<41:34,  1.19s/it, loss=0.0641]"
          ]
        },
        {
          "output_type": "stream",
          "name": "stderr",
          "text": [
            "INFO:ludwig.trainers.trainer:\n",
            "Running evaluation for step: 1400, epoch: 2\n"
          ]
        },
        {
          "output_type": "stream",
          "name": "stdout",
          "text": [
            "Evaluation valid: 100%|██████████| 100/100 [01:29<00:00,  1.12it/s]\n",
            "Evaluation test : 100%|██████████| 50/50 [00:42<00:00,  1.18it/s]"
          ]
        },
        {
          "output_type": "stream",
          "name": "stderr",
          "text": [
            "INFO:ludwig.trainers.trainer:Evaluation took 2m 11.9027s\n",
            "\n",
            "INFO:ludwig.utils.metrics_printed_table:╒═══════════════════════╤════════════╤══════════════╤════════════╕\n",
            "│                       │      train │   validation │       test │\n",
            "╞═══════════════════════╪════════════╪══════════════╪════════════╡\n",
            "│ bleu                  │     0.0566 │       0.0443 │     0.0528 │\n",
            "├───────────────────────┼────────────┼──────────────┼────────────┤\n",
            "│ char_error_rate       │     4.4988 │       4.7199 │     4.2235 │\n",
            "├───────────────────────┼────────────┼──────────────┼────────────┤\n",
            "│ loss                  │     0.8732 │       1.4769 │     1.4972 │\n",
            "├───────────────────────┼────────────┼──────────────┼────────────┤\n",
            "│ next_token_perplexity │ 16631.6367 │   18258.3770 │ 18365.0957 │\n",
            "├───────────────────────┼────────────┼──────────────┼────────────┤\n",
            "│ perplexity            │ 31916.0996 │   31911.9902 │ 31920.6934 │\n",
            "├───────────────────────┼────────────┼──────────────┼────────────┤\n",
            "│ rouge1_fmeasure       │     0.2509 │       0.2232 │     0.2383 │\n",
            "├───────────────────────┼────────────┼──────────────┼────────────┤\n",
            "│ rouge1_precision      │     0.1568 │       0.1385 │     0.1494 │\n",
            "├───────────────────────┼────────────┼──────────────┼────────────┤\n",
            "│ rouge1_recall         │     0.7644 │       0.6795 │     0.6800 │\n",
            "├───────────────────────┼────────────┼──────────────┼────────────┤\n",
            "│ rouge2_fmeasure       │     0.1470 │       0.1061 │     0.1164 │\n",
            "├───────────────────────┼────────────┼──────────────┼────────────┤\n",
            "│ rouge2_precision      │     0.0908 │       0.0653 │     0.0723 │\n",
            "├───────────────────────┼────────────┼──────────────┼────────────┤\n",
            "│ rouge2_recall         │     0.4891 │       0.3327 │     0.3490 │\n",
            "├───────────────────────┼────────────┼──────────────┼────────────┤\n",
            "│ rougeL_fmeasure       │     0.2250 │       0.1927 │     0.2028 │\n",
            "├───────────────────────┼────────────┼──────────────┼────────────┤\n",
            "│ rougeL_precision      │     0.1406 │       0.1197 │     0.1272 │\n",
            "├───────────────────────┼────────────┼──────────────┼────────────┤\n",
            "│ rougeL_recall         │     0.6907 │       0.5845 │     0.5798 │\n",
            "├───────────────────────┼────────────┼──────────────┼────────────┤\n",
            "│ rougeLsum_fmeasure    │     0.2446 │       0.2180 │     0.2313 │\n",
            "├───────────────────────┼────────────┼──────────────┼────────────┤\n",
            "│ rougeLsum_precision   │     0.1528 │       0.1352 │     0.1450 │\n",
            "├───────────────────────┼────────────┼──────────────┼────────────┤\n",
            "│ rougeLsum_recall      │     0.7470 │       0.6639 │     0.6611 │\n",
            "├───────────────────────┼────────────┼──────────────┼────────────┤\n",
            "│ sequence_accuracy     │     0.0000 │       0.0000 │     0.0000 │\n",
            "├───────────────────────┼────────────┼──────────────┼────────────┤\n",
            "│ token_accuracy        │     0.0001 │       0.0001 │     0.0001 │\n",
            "├───────────────────────┼────────────┼──────────────┼────────────┤\n",
            "│ word_error_rate       │     4.9152 │       5.1475 │     4.5658 │\n",
            "├───────────────────────┼────────────┼──────────────┼────────────┤\n",
            "│ combined_loss         │     0.8732 │       1.4769 │     1.4972 │\n",
            "╘═══════════════════════╧════════════╧══════════════╧════════════╛\n",
            "INFO:ludwig.trainers.trainer:Evaluation validation metric: 'summary' 'loss' improved.\n",
            "INFO:ludwig.trainers.trainer:'summary' 'loss' decreased by 0.045.\n",
            "INFO:ludwig.trainers.trainer:New best model saved.\n",
            "\n"
          ]
        },
        {
          "output_type": "stream",
          "name": "stdout",
          "text": [
            "\n",
            "Training:  60%|██████    | 2100/3500 [49:42<23:01,  1.01it/s, loss=0.0615]"
          ]
        },
        {
          "output_type": "stream",
          "name": "stderr",
          "text": [
            "INFO:ludwig.trainers.trainer:\n",
            "Running evaluation for step: 2100, epoch: 3\n"
          ]
        },
        {
          "output_type": "stream",
          "name": "stdout",
          "text": [
            "Evaluation valid: 100%|██████████| 100/100 [01:29<00:00,  1.12it/s]\n",
            "Evaluation test : 100%|██████████| 50/50 [00:42<00:00,  1.17it/s]"
          ]
        },
        {
          "output_type": "stream",
          "name": "stderr",
          "text": [
            "INFO:ludwig.trainers.trainer:Evaluation took 2m 12.3435s\n",
            "\n",
            "INFO:ludwig.utils.metrics_printed_table:╒═══════════════════════╤════════════╤══════════════╤════════════╕\n",
            "│                       │      train │   validation │       test │\n",
            "╞═══════════════════════╪════════════╪══════════════╪════════════╡\n",
            "│ bleu                  │     0.0647 │       0.0456 │     0.0545 │\n",
            "├───────────────────────┼────────────┼──────────────┼────────────┤\n",
            "│ char_error_rate       │     4.4357 │       4.8174 │     4.3448 │\n",
            "├───────────────────────┼────────────┼──────────────┼────────────┤\n",
            "│ loss                  │     0.7807 │       1.4581 │     1.4830 │\n",
            "├───────────────────────┼────────────┼──────────────┼────────────┤\n",
            "│ next_token_perplexity │ 16125.7354 │   18068.9844 │ 18175.1367 │\n",
            "├───────────────────────┼────────────┼──────────────┼────────────┤\n",
            "│ perplexity            │ 31866.1289 │   31930.2559 │ 31938.5996 │\n",
            "├───────────────────────┼────────────┼──────────────┼────────────┤\n",
            "│ rouge1_fmeasure       │     0.2872 │       0.2246 │     0.2383 │\n",
            "├───────────────────────┼────────────┼──────────────┼────────────┤\n",
            "│ rouge1_precision      │     0.1812 │       0.1389 │     0.1488 │\n",
            "├───────────────────────┼────────────┼──────────────┼────────────┤\n",
            "│ rouge1_recall         │     0.8058 │       0.6927 │     0.6899 │\n",
            "├───────────────────────┼────────────┼──────────────┼────────────┤\n",
            "│ rouge2_fmeasure       │     0.1794 │       0.1090 │     0.1226 │\n",
            "├───────────────────────┼────────────┼──────────────┼────────────┤\n",
            "│ rouge2_precision      │     0.1126 │       0.0669 │     0.0760 │\n",
            "├───────────────────────┼────────────┼──────────────┼────────────┤\n",
            "│ rouge2_recall         │     0.5159 │       0.3466 │     0.3718 │\n",
            "├───────────────────────┼────────────┼──────────────┼────────────┤\n",
            "│ rougeL_fmeasure       │     0.2615 │       0.1945 │     0.2074 │\n",
            "├───────────────────────┼────────────┼──────────────┼────────────┤\n",
            "│ rougeL_precision      │     0.1655 │       0.1204 │     0.1296 │\n",
            "├───────────────────────┼────────────┼──────────────┼────────────┤\n",
            "│ rougeL_recall         │     0.7265 │       0.5976 │     0.6007 │\n",
            "├───────────────────────┼────────────┼──────────────┼────────────┤\n",
            "│ rougeLsum_fmeasure    │     0.2829 │       0.2197 │     0.2329 │\n",
            "├───────────────────────┼────────────┼──────────────┼────────────┤\n",
            "│ rougeLsum_precision   │     0.1786 │       0.1359 │     0.1454 │\n",
            "├───────────────────────┼────────────┼──────────────┼────────────┤\n",
            "│ rougeLsum_recall      │     0.7922 │       0.6774 │     0.6746 │\n",
            "├───────────────────────┼────────────┼──────────────┼────────────┤\n",
            "│ sequence_accuracy     │     0.0000 │       0.0000 │     0.0000 │\n",
            "├───────────────────────┼────────────┼──────────────┼────────────┤\n",
            "│ token_accuracy        │     0.0004 │       0.0001 │     0.0001 │\n",
            "├───────────────────────┼────────────┼──────────────┼────────────┤\n",
            "│ word_error_rate       │     4.7413 │       5.2524 │     4.6788 │\n",
            "├───────────────────────┼────────────┼──────────────┼────────────┤\n",
            "│ combined_loss         │     0.7807 │       1.4581 │     1.4830 │\n",
            "╘═══════════════════════╧════════════╧══════════════╧════════════╛\n",
            "INFO:ludwig.trainers.trainer:Evaluation validation metric: 'summary' 'loss' improved.\n",
            "INFO:ludwig.trainers.trainer:'summary' 'loss' decreased by 0.019.\n",
            "INFO:ludwig.trainers.trainer:New best model saved.\n",
            "\n"
          ]
        },
        {
          "output_type": "stream",
          "name": "stdout",
          "text": [
            "\n",
            "Training:  80%|████████  | 2800/3500 [1:07:01<13:00,  1.11s/it, loss=0.0555]"
          ]
        },
        {
          "output_type": "stream",
          "name": "stderr",
          "text": [
            "INFO:ludwig.trainers.trainer:\n",
            "Running evaluation for step: 2800, epoch: 4\n"
          ]
        },
        {
          "output_type": "stream",
          "name": "stdout",
          "text": [
            "Evaluation valid: 100%|██████████| 100/100 [01:29<00:00,  1.12it/s]\n",
            "Evaluation test : 100%|██████████| 50/50 [00:42<00:00,  1.18it/s]"
          ]
        },
        {
          "output_type": "stream",
          "name": "stderr",
          "text": [
            "INFO:ludwig.trainers.trainer:Evaluation took 2m 12.4349s\n",
            "\n",
            "INFO:ludwig.utils.metrics_printed_table:╒═══════════════════════╤════════════╤══════════════╤════════════╕\n",
            "│                       │      train │   validation │       test │\n",
            "╞═══════════════════════╪════════════╪══════════════╪════════════╡\n",
            "│ bleu                  │     0.0591 │       0.0454 │     0.0558 │\n",
            "├───────────────────────┼────────────┼──────────────┼────────────┤\n",
            "│ char_error_rate       │     4.6974 │       4.8265 │     4.3404 │\n",
            "├───────────────────────┼────────────┼──────────────┼────────────┤\n",
            "│ loss                  │     0.7490 │       1.5032 │     1.5334 │\n",
            "├───────────────────────┼────────────┼──────────────┼────────────┤\n",
            "│ next_token_perplexity │ 16013.8789 │   18042.4609 │ 18152.2734 │\n",
            "├───────────────────────┼────────────┼──────────────┼────────────┤\n",
            "│ perplexity            │ 31925.3223 │   31918.9883 │ 31927.8184 │\n",
            "├───────────────────────┼────────────┼──────────────┼────────────┤\n",
            "│ rouge1_fmeasure       │     0.2688 │       0.2205 │     0.2388 │\n",
            "├───────────────────────┼────────────┼──────────────┼────────────┤\n",
            "│ rouge1_precision      │     0.1664 │       0.1363 │     0.1490 │\n",
            "├───────────────────────┼────────────┼──────────────┼────────────┤\n",
            "│ rouge1_recall         │     0.8043 │       0.6821 │     0.6902 │\n",
            "├───────────────────────┼────────────┼──────────────┼────────────┤\n",
            "│ rouge2_fmeasure       │     0.1660 │       0.1071 │     0.1205 │\n",
            "├───────────────────────┼────────────┼──────────────┼────────────┤\n",
            "│ rouge2_precision      │     0.1027 │       0.0657 │     0.0747 │\n",
            "├───────────────────────┼────────────┼──────────────┼────────────┤\n",
            "│ rouge2_recall         │     0.5056 │       0.3381 │     0.3628 │\n",
            "├───────────────────────┼────────────┼──────────────┼────────────┤\n",
            "│ rougeL_fmeasure       │     0.2435 │       0.1911 │     0.2038 │\n",
            "├───────────────────────┼────────────┼──────────────┼────────────┤\n",
            "│ rougeL_precision      │     0.1510 │       0.1183 │     0.1273 │\n",
            "├───────────────────────┼────────────┼──────────────┼────────────┤\n",
            "│ rougeL_recall         │     0.7243 │       0.5868 │     0.5904 │\n",
            "├───────────────────────┼────────────┼──────────────┼────────────┤\n",
            "│ rougeLsum_fmeasure    │     0.2645 │       0.2152 │     0.2322 │\n",
            "├───────────────────────┼────────────┼──────────────┼────────────┤\n",
            "│ rougeLsum_precision   │     0.1638 │       0.1330 │     0.1449 │\n",
            "├───────────────────────┼────────────┼──────────────┼────────────┤\n",
            "│ rougeLsum_recall      │     0.7901 │       0.6659 │     0.6721 │\n",
            "├───────────────────────┼────────────┼──────────────┼────────────┤\n",
            "│ sequence_accuracy     │     0.0000 │       0.0000 │     0.0000 │\n",
            "├───────────────────────┼────────────┼──────────────┼────────────┤\n",
            "│ token_accuracy        │     0.0000 │       0.0001 │     0.0001 │\n",
            "├───────────────────────┼────────────┼──────────────┼────────────┤\n",
            "│ word_error_rate       │     4.9305 │       5.1902 │     4.6399 │\n",
            "├───────────────────────┼────────────┼──────────────┼────────────┤\n",
            "│ combined_loss         │     0.7490 │       1.5032 │     1.5334 │\n",
            "╘═══════════════════════╧════════════╧══════════════╧════════════╛\n",
            "INFO:ludwig.trainers.trainer:Last improvement of summary validation loss happened 700 step(s) ago.\n",
            "\n"
          ]
        },
        {
          "output_type": "stream",
          "name": "stdout",
          "text": [
            "\n",
            "Training: 100%|██████████| 3500/3500 [1:24:21<00:00,  1.14s/it, loss=0.0147]"
          ]
        },
        {
          "output_type": "stream",
          "name": "stderr",
          "text": [
            "INFO:ludwig.trainers.trainer:\n",
            "Running evaluation for step: 3500, epoch: 5\n"
          ]
        },
        {
          "output_type": "stream",
          "name": "stdout",
          "text": [
            "Evaluation valid: 100%|██████████| 100/100 [01:29<00:00,  1.11it/s]\n",
            "Evaluation test : 100%|██████████| 50/50 [00:42<00:00,  1.17it/s]"
          ]
        },
        {
          "output_type": "stream",
          "name": "stderr",
          "text": [
            "INFO:ludwig.trainers.trainer:Evaluation took 2m 12.5701s\n",
            "\n",
            "INFO:ludwig.utils.metrics_printed_table:╒═══════════════════════╤════════════╤══════════════╤════════════╕\n",
            "│                       │      train │   validation │       test │\n",
            "╞═══════════════════════╪════════════╪══════════════╪════════════╡\n",
            "│ bleu                  │     0.0719 │       0.0417 │     0.0504 │\n",
            "├───────────────────────┼────────────┼──────────────┼────────────┤\n",
            "│ char_error_rate       │     5.5401 │       4.9449 │     4.4750 │\n",
            "├───────────────────────┼────────────┼──────────────┼────────────┤\n",
            "│ loss                  │     0.6371 │       1.5770 │     1.5993 │\n",
            "├───────────────────────┼────────────┼──────────────┼────────────┤\n",
            "│ next_token_perplexity │ 15388.7402 │   17748.3652 │ 17803.4277 │\n",
            "├───────────────────────┼────────────┼──────────────┼────────────┤\n",
            "│ perplexity            │ 31964.2246 │   31937.3516 │ 31940.8848 │\n",
            "├───────────────────────┼────────────┼──────────────┼────────────┤\n",
            "│ rouge1_fmeasure       │     0.2879 │       0.2178 │     0.2338 │\n",
            "├───────────────────────┼────────────┼──────────────┼────────────┤\n",
            "│ rouge1_precision      │     0.1778 │       0.1343 │     0.1452 │\n",
            "├───────────────────────┼────────────┼──────────────┼────────────┤\n",
            "│ rouge1_recall         │     0.8522 │       0.6815 │     0.6855 │\n",
            "├───────────────────────┼────────────┼──────────────┼────────────┤\n",
            "│ rouge2_fmeasure       │     0.1968 │       0.1024 │     0.1121 │\n",
            "├───────────────────────┼────────────┼──────────────┼────────────┤\n",
            "│ rouge2_precision      │     0.1211 │       0.0627 │     0.0691 │\n",
            "├───────────────────────┼────────────┼──────────────┼────────────┤\n",
            "│ rouge2_recall         │     0.5935 │       0.3284 │     0.3428 │\n",
            "├───────────────────────┼────────────┼──────────────┼────────────┤\n",
            "│ rougeL_fmeasure       │     0.2646 │       0.1851 │     0.1969 │\n",
            "├───────────────────────┼────────────┼──────────────┼────────────┤\n",
            "│ rougeL_precision      │     0.1637 │       0.1142 │     0.1224 │\n",
            "├───────────────────────┼────────────┼──────────────┼────────────┤\n",
            "│ rougeL_recall         │     0.7773 │       0.5757 │     0.5780 │\n",
            "├───────────────────────┼────────────┼──────────────┼────────────┤\n",
            "│ rougeLsum_fmeasure    │     0.2840 │       0.2124 │     0.2278 │\n",
            "├───────────────────────┼────────────┼──────────────┼────────────┤\n",
            "│ rougeLsum_precision   │     0.1753 │       0.1309 │     0.1415 │\n",
            "├───────────────────────┼────────────┼──────────────┼────────────┤\n",
            "│ rougeLsum_recall      │     0.8419 │       0.6633 │     0.6691 │\n",
            "├───────────────────────┼────────────┼──────────────┼────────────┤\n",
            "│ sequence_accuracy     │     0.0000 │       0.0000 │     0.0000 │\n",
            "├───────────────────────┼────────────┼──────────────┼────────────┤\n",
            "│ token_accuracy        │     0.0000 │       0.0000 │     0.0001 │\n",
            "├───────────────────────┼────────────┼──────────────┼────────────┤\n",
            "│ word_error_rate       │     4.8637 │       5.2656 │     4.7193 │\n",
            "├───────────────────────┼────────────┼──────────────┼────────────┤\n",
            "│ combined_loss         │     0.6371 │       1.5770 │     1.5993 │\n",
            "╘═══════════════════════╧════════════╧══════════════╧════════════╛\n",
            "INFO:ludwig.trainers.trainer:Last improvement of summary validation loss happened 1400 step(s) ago.\n",
            "\n"
          ]
        },
        {
          "output_type": "stream",
          "name": "stdout",
          "text": [
            "\n",
            "Training: 100%|██████████| 3500/3500 [1:26:34<00:00,  1.48s/it, loss=0.0147]"
          ]
        },
        {
          "output_type": "stream",
          "name": "stderr",
          "text": [
            "INFO:ludwig.utils.print_utils:\n",
            "INFO:ludwig.utils.print_utils:╒═════════════════╕\n",
            "INFO:ludwig.utils.print_utils:│ TRAINING REPORT │\n",
            "INFO:ludwig.utils.print_utils:╘═════════════════╛\n",
            "INFO:ludwig.utils.print_utils:\n",
            "INFO:ludwig.api:╒══════════════════════════════╤════════════════════╕\n",
            "│ Validation feature           │ summary            │\n",
            "├──────────────────────────────┼────────────────────┤\n",
            "│ Validation metric            │ loss               │\n",
            "├──────────────────────────────┼────────────────────┤\n",
            "│ Best model step              │ 2100               │\n",
            "├──────────────────────────────┼────────────────────┤\n",
            "│ Best model epoch             │ 4                  │\n",
            "├──────────────────────────────┼────────────────────┤\n",
            "│ Best model's validation loss │ 1.4580893516540527 │\n",
            "├──────────────────────────────┼────────────────────┤\n",
            "│ Best model's test loss       │ 1.4830340147018433 │\n",
            "╘══════════════════════════════╧════════════════════╛\n",
            "INFO:ludwig.api:\n",
            "Finished: api_experiment_run\n",
            "INFO:ludwig.api:Saved to: /content/results/api_experiment_run\n",
            "INFO:ludwig.utils.print_utils:\n",
            "INFO:ludwig.utils.print_utils:╒══════════╕\n",
            "INFO:ludwig.utils.print_utils:│ FINISHED │\n",
            "INFO:ludwig.utils.print_utils:╘══════════╛\n",
            "INFO:ludwig.utils.print_utils:\n"
          ]
        },
        {
          "output_type": "stream",
          "name": "stdout",
          "text": [
            "\n"
          ]
        }
      ]
    },
    {
      "cell_type": "code",
      "source": [],
      "metadata": {
        "id": "WwRANm-rPZaL"
      },
      "execution_count": null,
      "outputs": []
    },
    {
      "cell_type": "code",
      "source": [],
      "metadata": {
        "id": "D2Clph9V9AXg"
      },
      "execution_count": null,
      "outputs": []
    },
    {
      "cell_type": "code",
      "source": [],
      "metadata": {
        "id": "jNCW85tmT2Qw"
      },
      "execution_count": null,
      "outputs": []
    },
    {
      "cell_type": "markdown",
      "source": [
        "#### Perform Inference\n",
        "\n",
        "We can now use the model we finetuned above to make predictions on some test examples to see whether finetuning the large language model improve its ability to follow instructions/the tasks we're asking it to perform."
      ],
      "metadata": {
        "id": "1YkjcqMFMkwT"
      }
    },
    {
      "cell_type": "code",
      "source": [
        "predictions_and_probabilities: tuple[pd.DataFrame, pd.DataFrame] = model.predict(df_evaluation)"
      ],
      "metadata": {
        "id": "5sQXLxvoMuIq",
        "colab": {
          "base_uri": "https://localhost:8080/",
          "height": 1000
        },
        "outputId": "26ec90a8-6be0-4a8f-bfec-40ce6a24277e"
      },
      "execution_count": null,
      "outputs": [
        {
          "output_type": "display_data",
          "data": {
            "text/plain": [
              "<IPython.core.display.HTML object>"
            ],
            "text/html": [
              "\n",
              "  <style>\n",
              "    pre {\n",
              "        white-space: pre-wrap;\n",
              "    }\n",
              "  </style>\n",
              "  "
            ]
          },
          "metadata": {}
        },
        {
          "output_type": "stream",
          "name": "stderr",
          "text": [
            "WARNING:ludwig.data.preprocessing:Specified split column split for fixed split strategy was not found in dataset.\n",
            "Special tokens have been added in the vocabulary, make sure the associated word embeddings are fine-tuned or trained.\n",
            "INFO:ludwig.utils.tokenizers:Loaded HuggingFace implementation of alexsherstinsky/Mistral-7B-v0.1-sharded tokenizer\n",
            "Special tokens have been added in the vocabulary, make sure the associated word embeddings are fine-tuned or trained.\n",
            "WARNING:ludwig.utils.tokenizers:No padding token id found. Using eos_token as pad_token.\n",
            "Asking to truncate to max_length but no maximum length is provided and the model has no predefined maximum length. Default to no truncation.\n",
            "/usr/local/lib/python3.10/dist-packages/ludwig/data/preprocessing.py:1315: UserWarning: column: 'split' is required by the dataset splitter with params: {'type': 'fixed', 'column': 'split'}, but 'split' is not present in the `dataset_df` with columns: Index(['id', 'dialogue', 'summary'], dtype='object'). This is acceptable during serving setting where dataset splitting is irrelevant. You may see this warning if, for example, the model was trained with a configuration that used a stratified split on the target column, but for live predictions, a value for the target column is not to be provided.\n",
            "  warnings.warn(\n"
          ]
        },
        {
          "output_type": "stream",
          "name": "stdout",
          "text": [
            "\rPrediction:   0%|          | 0/1 [00:00<?, ?it/s]"
          ]
        },
        {
          "output_type": "stream",
          "name": "stderr",
          "text": [
            "INFO:ludwig.models.llm:For generating text, using: GenerationConfig {\n",
            "  \"do_sample\": true,\n",
            "  \"max_length\": 32,\n",
            "  \"max_new_tokens\": 512,\n",
            "  \"pad_token_id\": 2,\n",
            "  \"temperature\": 0.1\n",
            "}\n",
            "\n",
            "INFO:ludwig.models.llm:Decoded text inputs for the first example in batch: summarize this dialog:\n",
            "### dialogue: adriana: sorry, i guess i can't make it. i'm feeling sick again.\n",
            "adriana: i planned so many things for today...\n",
            "adriana: hate it.\n",
            "elisa: what a pity...\n",
            "elisa: next time!\n",
            "elisa: hope you'll get better soon!\n",
            "adriana: hope so too.\n",
            "adriana: how was at the pool?\n",
            "elisa: the best ❤️\n",
            "elisa: 1 hour of swimming and 1 hour of sauna\n",
            "elisa: love it!\n",
            "adriana:❤️\n",
            "adriana: i'm such a bad swimmer that you couldn't stand me xd\n",
            "elisa: ahahaha\n",
            "elisa: there was such a girl today, soooo annoying 😂\n",
            "adriana: just like me 😂😂😂\n",
            "### synopsis:\n",
            "INFO:ludwig.models.llm:Decoded generated output for the first example in batch: summarize this dialog:\n",
            "### dialogue: adriana: sorry, i guess i can't make it. i'm feeling sick again.\n",
            "adriana: i planned so many things for today...\n",
            "adriana: hate it.\n",
            "elisa: what a pity...\n",
            "elisa: next time!\n",
            "elisa: hope you'll get better soon!\n",
            "adriana: hope so too.\n",
            "adriana: how was at the pool?\n",
            "elisa: the best ❤️\n",
            "elisa: 1 hour of swimming and 1 hour of sauna\n",
            "elisa: love it!\n",
            "adriana:❤️\n",
            "adriana: i'm such a bad swimmer that you couldn't stand me xd\n",
            "elisa: ahahaha\n",
            "elisa: there was such a girl today, soooo annoying 😂\n",
            "adriana: just like me 😂😂😂\n",
            "### synopsis: adriana is feeling sick again. elisa went to the pool and sauna.\n",
            "INFO:ludwig.models.llm:Decoded text inputs for the first example in batch: summarize this dialog:\n",
            "### dialogue: claire: have you seen the news?\n",
            "greg: no. what’s happened?\n",
            "claire: that bitch my neighbor became an mp 🤮\n",
            "kevin: ooo, well done! you must be so jealous 🤣\n",
            "claire: stop it. i hate her so much. she killed my cat 🙈\n",
            "greg: whaaaaat???\n",
            "claire: really. it was 5 years ago. she hit it with a car.\n",
            "greg: okay. i understand 😒\n",
            "### synopsis:\n",
            "INFO:ludwig.models.llm:Decoded generated output for the first example in batch: summarize this dialog:\n",
            "### dialogue: claire: have you seen the news?\n",
            "greg: no. what’s happened?\n",
            "claire: that bitch my neighbor became an mp 🤮\n",
            "kevin: ooo, well done! you must be so jealous 🤣\n",
            "claire: stop it. i hate her so much. she killed my cat 🙈\n",
            "greg: whaaaaat???\n",
            "claire: really. it was 5 years ago. she hit it with a car.\n",
            "greg: okay. i understand 😒\n",
            "### synopsis: claire's neighbour killed her cat 5 years ago. now she became an mp.\n",
            "INFO:ludwig.models.llm:Decoded text inputs for the first example in batch: summarize this dialog:\n",
            "### dialogue: josh: you're a nutter!!!\n",
            "josh: i could never do things like that\n",
            "paul: wouldn't you ever do the bungee jumping or skydiving? c'mon that's not so scary :)\n",
            "josh: hahahah\n",
            "josh: nope, i wouldn't do that :)\n",
            "paul: the next time you're coming with me!\n",
            "josh: no way, mate\n",
            "### synopsis:\n",
            "INFO:ludwig.models.llm:Decoded generated output for the first example in batch: summarize this dialog:\n",
            "### dialogue: josh: you're a nutter!!!\n",
            "josh: i could never do things like that\n",
            "paul: wouldn't you ever do the bungee jumping or skydiving? c'mon that's not so scary :)\n",
            "josh: hahahah\n",
            "josh: nope, i wouldn't do that :)\n",
            "paul: the next time you're coming with me!\n",
            "josh: no way, mate\n",
            "### synopsis: paul wants to do bungee jumping or skydiving. josh won't do it.\n",
            "INFO:ludwig.models.llm:Decoded text inputs for the first example in batch: summarize this dialog:\n",
            "### dialogue: marcel: hey\n",
            "rodolfo: hello\n",
            "marcel: what's up?\n",
            "rodolfo: nothing just got back to the house\n",
            "marcel: i had an exam today and i  think i will get a great grade\n",
            "rodolfo: good for you. mine was pretty hard. not what i was expecting. but i should pass it\n",
            "marcel: oh yeah now i remember you had an exam. let me know if u have results\n",
            "rodolfo: how nice nice of you to remember now\n",
            "marcel: haha i can't believe. i saw when one car hit another one. they were one behind another. it wasn't so much but still it was. the drivers went out, spoke  maybe 15 seconds , smiled and came back to their cars hahha and that's all\n",
            "rodolfo: i will only know in like 3 weeks\n",
            "marcel: oh long time\n",
            "rodolfo: yea rather long\n",
            "marcel: hopefully it will be fine\n",
            "### synopsis:\n",
            "INFO:ludwig.models.llm:Decoded generated output for the first example in batch: summarize this dialog:\n",
            "### dialogue: marcel: hey\n",
            "rodolfo: hello\n",
            "marcel: what's up?\n",
            "rodolfo: nothing just got back to the house\n",
            "marcel: i had an exam today and i  think i will get a great grade\n",
            "rodolfo: good for you. mine was pretty hard. not what i was expecting. but i should pass it\n",
            "marcel: oh yeah now i remember you had an exam. let me know if u have results\n",
            "rodolfo: how nice nice of you to remember now\n",
            "marcel: haha i can't believe. i saw when one car hit another one. they were one behind another. it wasn't so much but still it was. the drivers went out, spoke  maybe 15 seconds , smiled and came back to their cars hahha and that's all\n",
            "rodolfo: i will only know in like 3 weeks\n",
            "marcel: oh long time\n",
            "rodolfo: yea rather long\n",
            "marcel: hopefully it will be fine\n",
            "### synopsis: rodolfo had an exam today. marcel had an exam today. rodolfo and marcel will get good grades. rodolfo and marcel will know their results in 3 weeks.\n",
            "INFO:ludwig.models.llm:Decoded text inputs for the first example in batch: summarize this dialog:\n",
            "### dialogue: don: do you see me online?\n",
            "alfred: nope\n",
            "don: ok, something's wrong, i'll have to check my settings\n",
            "alfred: ok\n",
            "### synopsis:\n",
            "INFO:ludwig.models.llm:Decoded generated output for the first example in batch: summarize this dialog:\n",
            "### dialogue: don: do you see me online?\n",
            "alfred: nope\n",
            "don: ok, something's wrong, i'll have to check my settings\n",
            "alfred: ok\n",
            "### synopsis: don is not online.\n",
            "INFO:ludwig.models.llm:Decoded text inputs for the first example in batch: summarize this dialog:\n",
            "### dialogue: travis: hi, are you there?\n",
            "lana: hi travis, good to hear from you after holiday.\n",
            "travis: yeah, long time\n",
            "lana: so how was it? greece, right?\n",
            "travis: yep, pure magic. 10 day there and 4 days in albania\n",
            "lana: wow, albania. never been there.\n",
            "travis: kind of wild place, still. but i liked greece better\n",
            "lana: you stayed in one place?\n",
            "travis: no, moved around. we saw almost everything there was to see\n",
            "lana: sounds exciting. \n",
            "travis: take a look. <file_photo>\n",
            "lana: wow, breathtaking. i guess you'll show us more when we meet in the office\n",
            "travis: sure thing. but i'm not back till monday\n",
            "lana: i see. two more days of freedom.\n",
            "travis: precisely. how are things there anyway\n",
            "lana: same old, same old.\n",
            "travis: been worse?\n",
            "lana: i guess it's just this time of the year when not much happens. \n",
            "travis: have you planned your holiday yet?\n",
            "lana: not really. i guess i'll just find something last minute in september.\n",
            "travis: greece perhaps\n",
            "lana: i'll decide when i see the photos ha ha ha. see you around. gotta go.\n",
            "travis: sure. see you on monday\n",
            "### synopsis:\n",
            "INFO:ludwig.models.llm:Decoded generated output for the first example in batch: summarize this dialog:\n",
            "### dialogue: travis: hi, are you there?\n",
            "lana: hi travis, good to hear from you after holiday.\n",
            "travis: yeah, long time\n",
            "lana: so how was it? greece, right?\n",
            "travis: yep, pure magic. 10 day there and 4 days in albania\n",
            "lana: wow, albania. never been there.\n",
            "travis: kind of wild place, still. but i liked greece better\n",
            "lana: you stayed in one place?\n",
            "travis: no, moved around. we saw almost everything there was to see\n",
            "lana: sounds exciting. \n",
            "travis: take a look. <file_photo>\n",
            "lana: wow, breathtaking. i guess you'll show us more when we meet in the office\n",
            "travis: sure thing. but i'm not back till monday\n",
            "lana: i see. two more days of freedom.\n",
            "travis: precisely. how are things there anyway\n",
            "lana: same old, same old.\n",
            "travis: been worse?\n",
            "lana: i guess it's just this time of the year when not much happens. \n",
            "travis: have you planned your holiday yet?\n",
            "lana: not really. i guess i'll just find something last minute in september.\n",
            "travis: greece perhaps\n",
            "lana: i'll decide when i see the photos ha ha ha. see you around. gotta go.\n",
            "travis: sure. see you on monday\n",
            "### synopsis: traves and lana met during their holiday in greece. lana will decide about her holiday when she sees travis's photos.\n",
            "INFO:ludwig.models.llm:Decoded text inputs for the first example in batch: summarize this dialog:\n",
            "### dialogue: alex: hey, i'm writing about the book :)\n",
            "elizabeth: heey, thanks for the message, i'm packing it to my bag right now.\n",
            "alex: thank you so much...you don't even know grateful i am\n",
            "elizabeth: no problem, really. if i can help you in any other way just ask.\n",
            "alex: actually i have a few questions for you if you don't mind\n",
            "elizabeth: sure, what is it?\n",
            "alex: i'm starting with the senior group next week and i'm so stressed out cause i never taught the adults...could you give me any clues how to prepare, what to do and so on?\n",
            "elizabeth: of course. first thing - relax, cause stress is destructive. i remember my first classes with the adults and i couldn't even breath, but the point is to devise you own work schedule, and in order to do it right you just gotta observe them. their knowledge, their needs and so on.\n",
            "alex: i get it...and how does your lesson usually look like?\n",
            "elizabeth: it depends, you know. but for most of the time i'm just trying to stick to my fixed plan. at the beginning checking the attendance, asking them to give me the date in the foreing language so i can put it down in the register. then a short conversation.\n",
            "alex: and what after that?\n",
            "elizabeth: then i usually start a new chapter, the vocabulary, sometimes grammar, a few exercices and then work in groups. i don't want them to do the exercices only, cause it's too automatic.\n",
            "alex: sounds really cool...you are so experienced...i wish i was too :/\n",
            "elizabeth: calm down, you'll just learn everything with practice. if you don't want to make your lessons too formal, you can look for some games. i recommend kaboom.\n",
            "alex: kaboom? i don't know this game\n",
            "elizabeth: you just write the words on little pieces of paper, for example names of fruit or vegetables and put it all in a little bag. every person takes out a single piece of paper and has to translate a word written on it. if they spot the answer, they keep it, if they don't, the card goes back to the bag.\n",
            "alex: sounds really cool! i'm sure i'll try it. thank you so much for your help!!\n",
            "elizabeth: no problem, any time.\n",
            "### synopsis:\n",
            "INFO:ludwig.models.llm:Decoded generated output for the first example in batch: summarize this dialog:\n",
            "### dialogue: alex: hey, i'm writing about the book :)\n",
            "elizabeth: heey, thanks for the message, i'm packing it to my bag right now.\n",
            "alex: thank you so much...you don't even know grateful i am\n",
            "elizabeth: no problem, really. if i can help you in any other way just ask.\n",
            "alex: actually i have a few questions for you if you don't mind\n",
            "elizabeth: sure, what is it?\n",
            "alex: i'm starting with the senior group next week and i'm so stressed out cause i never taught the adults...could you give me any clues how to prepare, what to do and so on?\n",
            "elizabeth: of course. first thing - relax, cause stress is destructive. i remember my first classes with the adults and i couldn't even breath, but the point is to devise you own work schedule, and in order to do it right you just gotta observe them. their knowledge, their needs and so on.\n",
            "alex: i get it...and how does your lesson usually look like?\n",
            "elizabeth: it depends, you know. but for most of the time i'm just trying to stick to my fixed plan. at the beginning checking the attendance, asking them to give me the date in the foreing language so i can put it down in the register. then a short conversation.\n",
            "alex: and what after that?\n",
            "elizabeth: then i usually start a new chapter, the vocabulary, sometimes grammar, a few exercices and then work in groups. i don't want them to do the exercices only, cause it's too automatic.\n",
            "alex: sounds really cool...you are so experienced...i wish i was too :/\n",
            "elizabeth: calm down, you'll just learn everything with practice. if you don't want to make your lessons too formal, you can look for some games. i recommend kaboom.\n",
            "alex: kaboom? i don't know this game\n",
            "elizabeth: you just write the words on little pieces of paper, for example names of fruit or vegetables and put it all in a little bag. every person takes out a single piece of paper and has to translate a word written on it. if they spot the answer, they keep it, if they don't, the card goes back to the bag.\n",
            "alex: sounds really cool! i'm sure i'll try it. thank you so much for your help!!\n",
            "elizabeth: no problem, any time.\n",
            "### synopsis: elizabeth is packing the book for alex. alex is starting to teach the senior group next week. elizabeth gives alex some tips on how to prepare for the classes. elizabeth recommends the game called kaboom.\n",
            "INFO:ludwig.models.llm:Decoded text inputs for the first example in batch: summarize this dialog:\n",
            "### dialogue: karen: hi john, it's me, lost my phone\n",
            "karen: on my way home, don't worry. text me if you've got this. i'll have this phone only for couple of minutes.\n",
            "john: got it, go back home safely.\n",
            "### synopsis:\n",
            "INFO:ludwig.models.llm:Decoded generated output for the first example in batch: summarize this dialog:\n",
            "### dialogue: karen: hi john, it's me, lost my phone\n",
            "karen: on my way home, don't worry. text me if you've got this. i'll have this phone only for couple of minutes.\n",
            "john: got it, go back home safely.\n",
            "### synopsis: karen lost her phone. john will text her when he gets the phone.\n",
            "INFO:ludwig.models.llm:Decoded text inputs for the first example in batch: summarize this dialog:\n",
            "### dialogue: claire: there is a letter for tracy from the tax office\n",
            "tracy: thanks mum. can you open it?\n",
            "natalie: it's probably regarding tax return \n",
            "natalie: i got mine last week\n",
            "tracy: open and send me a photo\n",
            "tracy: better priv 🤑\n",
            "claire: no problem \n",
            "### synopsis:\n",
            "INFO:ludwig.models.llm:Decoded generated output for the first example in batch: summarize this dialog:\n",
            "### dialogue: claire: there is a letter for tracy from the tax office\n",
            "tracy: thanks mum. can you open it?\n",
            "natalie: it's probably regarding tax return \n",
            "natalie: i got mine last week\n",
            "tracy: open and send me a photo\n",
            "tracy: better priv 🤑\n",
            "claire: no problem \n",
            "### synopsis: tracy has received a letter from the tax office.\n",
            "INFO:ludwig.models.llm:Decoded text inputs for the first example in batch: summarize this dialog:\n",
            "### dialogue: donald: are you playing poker tonight? it's at dave's house\n",
            "steve: yeah i was planning to. do we need to bring whiskey?\n",
            "donald: i've got some, no worries.\n",
            "steve: ok see you\n",
            "### synopsis:\n",
            "INFO:ludwig.models.llm:Decoded generated output for the first example in batch: summarize this dialog:\n",
            "### dialogue: donald: are you playing poker tonight? it's at dave's house\n",
            "steve: yeah i was planning to. do we need to bring whiskey?\n",
            "donald: i've got some, no worries.\n",
            "steve: ok see you\n",
            "### synopsis: steve and donald are playing poker tonight at dave's house. steve will bring whiskey.\n"
          ]
        },
        {
          "output_type": "stream",
          "name": "stdout",
          "text": [
            "Prediction: 100%|██████████| 1/1 [00:30<00:00, 30.34s/it]\n"
          ]
        },
        {
          "output_type": "stream",
          "name": "stderr",
          "text": [
            "Special tokens have been added in the vocabulary, make sure the associated word embeddings are fine-tuned or trained.\n",
            "INFO:ludwig.utils.tokenizers:Loaded HuggingFace implementation of alexsherstinsky/Mistral-7B-v0.1-sharded tokenizer\n",
            "Special tokens have been added in the vocabulary, make sure the associated word embeddings are fine-tuned or trained.\n",
            "WARNING:ludwig.utils.tokenizers:No padding token id found. Using eos_token as pad_token.\n",
            "/usr/local/lib/python3.10/dist-packages/ludwig/features/feature_utils.py:102: RuntimeWarning: divide by zero encountered in log\n",
            "  return np.sum(np.log(sequence_probabilities))\n"
          ]
        }
      ]
    },
    {
      "cell_type": "code",
      "source": [
        "df_predictions: pd.DataFrame = predictions_and_probabilities[0]"
      ],
      "metadata": {
        "id": "d9Ri3EUzM6D4",
        "colab": {
          "base_uri": "https://localhost:8080/",
          "height": 17
        },
        "outputId": "bfe0848b-1660-404f-813b-02f682681d86"
      },
      "execution_count": null,
      "outputs": [
        {
          "output_type": "display_data",
          "data": {
            "text/plain": [
              "<IPython.core.display.HTML object>"
            ],
            "text/html": [
              "\n",
              "  <style>\n",
              "    pre {\n",
              "        white-space: pre-wrap;\n",
              "    }\n",
              "  </style>\n",
              "  "
            ]
          },
          "metadata": {}
        }
      ]
    },
    {
      "cell_type": "code",
      "source": [
        "df_predictions.columns"
      ],
      "metadata": {
        "id": "uaBlVTVRNElt",
        "colab": {
          "base_uri": "https://localhost:8080/",
          "height": 71
        },
        "outputId": "5dffda97-ea15-4740-ddbc-161e608fdada"
      },
      "execution_count": null,
      "outputs": [
        {
          "output_type": "display_data",
          "data": {
            "text/plain": [
              "<IPython.core.display.HTML object>"
            ],
            "text/html": [
              "\n",
              "  <style>\n",
              "    pre {\n",
              "        white-space: pre-wrap;\n",
              "    }\n",
              "  </style>\n",
              "  "
            ]
          },
          "metadata": {}
        },
        {
          "output_type": "execute_result",
          "data": {
            "text/plain": [
              "Index(['summary_predictions', 'summary_probabilities', 'summary_response',\n",
              "       'summary_probability'],\n",
              "      dtype='object')"
            ]
          },
          "metadata": {},
          "execution_count": 75
        }
      ]
    },
    {
      "cell_type": "code",
      "source": [
        "print(\"\\n\\n\")\n",
        "for dialogue_with_summary in zip(df_evaluation['dialogue'], df_predictions['summary_response']):\n",
        "  print(f\"Dialogue:\\n{dialogue_with_summary[0]}\")\n",
        "  print(f\"Generated Summary:\\n{dialogue_with_summary[1][0]}\")\n",
        "  print(\"\\n\\n\")"
      ],
      "metadata": {
        "id": "0dqwZyHLrkRb",
        "colab": {
          "base_uri": "https://localhost:8080/",
          "height": 1000
        },
        "outputId": "eb621cb4-6485-4eec-f3b3-15fbef605f8b"
      },
      "execution_count": null,
      "outputs": [
        {
          "output_type": "display_data",
          "data": {
            "text/plain": [
              "<IPython.core.display.HTML object>"
            ],
            "text/html": [
              "\n",
              "  <style>\n",
              "    pre {\n",
              "        white-space: pre-wrap;\n",
              "    }\n",
              "  </style>\n",
              "  "
            ]
          },
          "metadata": {}
        },
        {
          "output_type": "stream",
          "name": "stdout",
          "text": [
            "\n",
            "\n",
            "\n",
            "Dialogue:\n",
            "Adriana: Sorry, I guess I can't make it. I'm feeling sick again.\r\n",
            "Adriana: I planned so many things for today...\r\n",
            "Adriana: Hate it.\r\n",
            "Elisa: What a pity...\r\n",
            "Elisa: Next time!\r\n",
            "Elisa: Hope you'll get better soon!\r\n",
            "Adriana: Hope so too.\r\n",
            "Adriana: How was at the pool?\r\n",
            "Elisa: The best ❤️\r\n",
            "Elisa: 1 hour of swimming and 1 hour of sauna\r\n",
            "Elisa: Love it!\r\n",
            "Adriana:❤️\r\n",
            "Adriana: I'm such a bad swimmer that you couldn't stand me xD\r\n",
            "Elisa: Ahahaha\r\n",
            "Elisa: There was such a girl today, soooo annoying 😂\r\n",
            "Adriana: Just like me 😂😂😂\n",
            "Generated Summary:\n",
            "adriana is feeling sick again. elisa went to the pool and sauna.\n",
            "\n",
            "\n",
            "\n",
            "Dialogue:\n",
            "Claire: Have you seen the news?\r\n",
            "Greg: No. What’s happened?\r\n",
            "Claire: That bitch my neighbor became an MP 🤮\r\n",
            "Kevin: Ooo, well done! You must be so jealous 🤣\r\n",
            "Claire: Stop it. I hate her so much. She killed my cat 🙈\r\n",
            "Greg: Whaaaaat???\r\n",
            "Claire: Really. It was 5 years ago. She hit it with a car.\r\n",
            "Greg: Okay. I understand 😒\n",
            "Generated Summary:\n",
            "claire's neighbour killed her cat 5 years ago. now she became an mp.\n",
            "\n",
            "\n",
            "\n",
            "Dialogue:\n",
            "Josh: You're a nutter!!!\n",
            "Josh: I could never do things like that\n",
            "Paul: Wouldn't you ever do the bungee jumping or skydiving? C'mon that's not so scary :)\n",
            "Josh: hahahah\n",
            "Josh: Nope, I wouldn't do that :)\n",
            "Paul: The next time you're coming with me!\n",
            "Josh: No way, mate\n",
            "Generated Summary:\n",
            "paul wants to do bungee jumping or skydiving. josh won't do it.\n",
            "\n",
            "\n",
            "\n",
            "Dialogue:\n",
            "Marcel: Hey\r\n",
            "Rodolfo: Hello\r\n",
            "Marcel: What's up?\r\n",
            "Rodolfo: Nothing just got back to the house\r\n",
            "Marcel: I had an exam today and I  think I will get a great grade\r\n",
            "Rodolfo: Good for you. Mine was pretty hard. Not what I was expecting. But I should pass it\r\n",
            "Marcel: Oh yeah now I remember you had an exam. Let me know if u have results\r\n",
            "Rodolfo: How nice nice of you to remember now\r\n",
            "Marcel: Haha i can't believe. I saw when one car hit another one. They were one behind another. It wasn't so much but still it was. The drivers went out, spoke  maybe 15 seconds , smiled and came back to their cars hahha and that's all\r\n",
            "Rodolfo: I will only know in like 3 weeks\r\n",
            "Marcel: Oh long time\r\n",
            "Rodolfo: Yea rather long\r\n",
            "Marcel: Hopefully it will be fine\n",
            "Generated Summary:\n",
            "rodolfo had an exam today. marcel had an exam today. rodolfo and marcel will get good grades. rodolfo and marcel will know their results in 3 weeks.\n",
            "\n",
            "\n",
            "\n",
            "Dialogue:\n",
            "Don: Do you see me online?\n",
            "Alfred: Nope\n",
            "Don: Ok, something's wrong, I'll have to check my settings\n",
            "Alfred: Ok\n",
            "Generated Summary:\n",
            "don is not online.\n",
            "\n",
            "\n",
            "\n",
            "Dialogue:\n",
            "Travis: Hi, are you there?\r\n",
            "Lana: Hi Travis, good to hear from you after holiday.\r\n",
            "Travis: Yeah, long time\r\n",
            "Lana: So how was it? Greece, right?\r\n",
            "Travis: Yep, pure magic. 10 day there and 4 days in Albania\r\n",
            "Lana: Wow, Albania. Never been there.\r\n",
            "Travis: Kind of wild place, still. But I liked Greece better\r\n",
            "Lana: You stayed in one place?\r\n",
            "Travis: No, moved around. We saw almost everything there was to see\r\n",
            "Lana: Sounds exciting. \r\n",
            "Travis: Take a look. <file_photo>\r\n",
            "Lana: Wow, breathtaking. I guess you'll show us more when we meet in the office\r\n",
            "Travis: Sure thing. But I'm not back till Monday\r\n",
            "Lana: I see. Two more days of freedom.\r\n",
            "Travis: Precisely. How are things there anyway\r\n",
            "Lana: Same old, same old.\r\n",
            "Travis: Been worse?\r\n",
            "Lana: I guess it's just this time of the year when not much happens. \r\n",
            "Travis: Have you planned your holiday yet?\r\n",
            "Lana: Not really. I guess I'll just find something last minute in September.\r\n",
            "Travis: Greece perhaps\r\n",
            "Lana: I'll decide when I see the photos ha ha ha. See you around. Gotta go.\r\n",
            "Travis: Sure. See you on Monday\n",
            "Generated Summary:\n",
            "traves and lana met during their holiday in greece. lana will decide about her holiday when she sees travis's photos.\n",
            "\n",
            "\n",
            "\n",
            "Dialogue:\n",
            "Alex: hey, I'm writing about the book :)\r\n",
            "Elizabeth: heey, thanks for the message, I'm packing it to my bag right now.\r\n",
            "Alex: thank you so much...you don't even know grateful I am\r\n",
            "Elizabeth: No problem, really. If I can help you in any other way just ask.\r\n",
            "Alex: Actually I have a few questions for you if you don't mind\r\n",
            "Elizabeth: Sure, what is it?\r\n",
            "Alex: I'm starting with the senior group next week and I'm so stressed out cause I never taught the adults...could you give me any clues how to prepare, what to do and so on?\r\n",
            "Elizabeth: Of course. First thing - relax, cause stress is destructive. I remember my first classes with the adults and I couldn't even breath, but the point is to devise you own work schedule, and in order to do it right you just gotta observe them. their knowledge, their needs and so on.\r\n",
            "Alex: I get it...and how does your lesson usually look like?\r\n",
            "Elizabeth: It depends, you know. But for most of the time I'm just trying to stick to my fixed plan. At the beginning checking the attendance, asking them to give me the date in the foreing language so I can put it down in the register. Then a short conversation.\r\n",
            "Alex: and what after that?\r\n",
            "Elizabeth: Then I usually start a new chapter, the vocabulary, sometimes grammar, a few exercices and then work in groups. I don't want them to do the exercices only, cause it's too automatic.\r\n",
            "Alex: sounds really cool...you are so experienced...I wish I was too :/\r\n",
            "Elizabeth: calm down, you'll just learn everything with practice. If you don't want to make your lessons too formal, you can look for some games. I recommend Kaboom.\r\n",
            "Alex: Kaboom? I don't know this game\r\n",
            "Elizabeth: you just write the words on little pieces of paper, for example names of fruit or vegetables and put it all in a little bag. Every person takes out a single piece of paper and has to translate a word written on it. If they spot the answer, they keep it, if they don't, the card goes back to the bag.\r\n",
            "Alex: Sounds really cool! I'm sure I'll try it. Thank you so much for your help!!\r\n",
            "Elizabeth: No problem, any time.\n",
            "Generated Summary:\n",
            "elizabeth is packing the book for alex. alex is starting to teach the senior group next week. elizabeth gives alex some tips on how to prepare for the classes. elizabeth recommends the game called kaboom.\n",
            "\n",
            "\n",
            "\n",
            "Dialogue:\n",
            "Karen: Hi John, it's me, lost my phone\r\n",
            "Karen: On my way home, don't worry. Text me if you've got this. I'll have this phone only for couple of minutes.\r\n",
            "John: Got it, go back home safely.\n",
            "Generated Summary:\n",
            "karen lost her phone. john will text her when he gets the phone.\n",
            "\n",
            "\n",
            "\n",
            "Dialogue:\n",
            "Claire: There is a letter for Tracy from the tax office\r\n",
            "Tracy: Thanks mum. Can you open it?\r\n",
            "Natalie: It's probably regarding tax return \r\n",
            "Natalie: I got mine last week\r\n",
            "Tracy: Open and send me a photo\r\n",
            "Tracy: Better priv 🤑\r\n",
            "Claire: No problem \n",
            "Generated Summary:\n",
            "tracy has received a letter from the tax office.\n",
            "\n",
            "\n",
            "\n",
            "Dialogue:\n",
            "Donald: Are you playing poker tonight? It's at Dave's house\r\n",
            "Steve: Yeah I was planning to. Do we need to bring whiskey?\r\n",
            "Donald: I've got some, no worries.\r\n",
            "Steve: Ok see you\n",
            "Generated Summary:\n",
            "steve and donald are playing poker tonight at dave's house. steve will bring whiskey.\n",
            "\n",
            "\n",
            "\n"
          ]
        }
      ]
    },
    {
      "cell_type": "code",
      "source": [
        "df_control_example: pd.DataFrame = pd.DataFrame(\n",
        "    data={\n",
        "      \"dialogue\": [samsum_test_dialogue,],\n",
        "    }\n",
        ")\n",
        "df_control_example"
      ],
      "metadata": {
        "id": "vLP6o23ggNFi",
        "colab": {
          "base_uri": "https://localhost:8080/",
          "height": 176
        },
        "outputId": "aa2f98b2-faa4-4c24-ba7a-beb36635acfe"
      },
      "execution_count": null,
      "outputs": [
        {
          "output_type": "display_data",
          "data": {
            "text/plain": [
              "<IPython.core.display.HTML object>"
            ],
            "text/html": [
              "\n",
              "  <style>\n",
              "    pre {\n",
              "        white-space: pre-wrap;\n",
              "    }\n",
              "  </style>\n",
              "  "
            ]
          },
          "metadata": {}
        },
        {
          "output_type": "execute_result",
          "data": {
            "text/plain": [
              "                                            dialogue\n",
              "0  \\nA: Hi Tom, are you busy tomorrow’s afternoon..."
            ],
            "text/html": [
              "\n",
              "  <div id=\"df-4c311151-7037-4e91-8f2d-a540e1c4398a\" class=\"colab-df-container\">\n",
              "    <div>\n",
              "<style scoped>\n",
              "    .dataframe tbody tr th:only-of-type {\n",
              "        vertical-align: middle;\n",
              "    }\n",
              "\n",
              "    .dataframe tbody tr th {\n",
              "        vertical-align: top;\n",
              "    }\n",
              "\n",
              "    .dataframe thead th {\n",
              "        text-align: right;\n",
              "    }\n",
              "</style>\n",
              "<table border=\"1\" class=\"dataframe\">\n",
              "  <thead>\n",
              "    <tr style=\"text-align: right;\">\n",
              "      <th></th>\n",
              "      <th>dialogue</th>\n",
              "    </tr>\n",
              "  </thead>\n",
              "  <tbody>\n",
              "    <tr>\n",
              "      <th>0</th>\n",
              "      <td>\\nA: Hi Tom, are you busy tomorrow’s afternoon...</td>\n",
              "    </tr>\n",
              "  </tbody>\n",
              "</table>\n",
              "</div>\n",
              "    <div class=\"colab-df-buttons\">\n",
              "\n",
              "  <div class=\"colab-df-container\">\n",
              "    <button class=\"colab-df-convert\" onclick=\"convertToInteractive('df-4c311151-7037-4e91-8f2d-a540e1c4398a')\"\n",
              "            title=\"Convert this dataframe to an interactive table.\"\n",
              "            style=\"display:none;\">\n",
              "\n",
              "  <svg xmlns=\"http://www.w3.org/2000/svg\" height=\"24px\" viewBox=\"0 -960 960 960\">\n",
              "    <path d=\"M120-120v-720h720v720H120Zm60-500h600v-160H180v160Zm220 220h160v-160H400v160Zm0 220h160v-160H400v160ZM180-400h160v-160H180v160Zm440 0h160v-160H620v160ZM180-180h160v-160H180v160Zm440 0h160v-160H620v160Z\"/>\n",
              "  </svg>\n",
              "    </button>\n",
              "\n",
              "  <style>\n",
              "    .colab-df-container {\n",
              "      display:flex;\n",
              "      gap: 12px;\n",
              "    }\n",
              "\n",
              "    .colab-df-convert {\n",
              "      background-color: #E8F0FE;\n",
              "      border: none;\n",
              "      border-radius: 50%;\n",
              "      cursor: pointer;\n",
              "      display: none;\n",
              "      fill: #1967D2;\n",
              "      height: 32px;\n",
              "      padding: 0 0 0 0;\n",
              "      width: 32px;\n",
              "    }\n",
              "\n",
              "    .colab-df-convert:hover {\n",
              "      background-color: #E2EBFA;\n",
              "      box-shadow: 0px 1px 2px rgba(60, 64, 67, 0.3), 0px 1px 3px 1px rgba(60, 64, 67, 0.15);\n",
              "      fill: #174EA6;\n",
              "    }\n",
              "\n",
              "    .colab-df-buttons div {\n",
              "      margin-bottom: 4px;\n",
              "    }\n",
              "\n",
              "    [theme=dark] .colab-df-convert {\n",
              "      background-color: #3B4455;\n",
              "      fill: #D2E3FC;\n",
              "    }\n",
              "\n",
              "    [theme=dark] .colab-df-convert:hover {\n",
              "      background-color: #434B5C;\n",
              "      box-shadow: 0px 1px 3px 1px rgba(0, 0, 0, 0.15);\n",
              "      filter: drop-shadow(0px 1px 2px rgba(0, 0, 0, 0.3));\n",
              "      fill: #FFFFFF;\n",
              "    }\n",
              "  </style>\n",
              "\n",
              "    <script>\n",
              "      const buttonEl =\n",
              "        document.querySelector('#df-4c311151-7037-4e91-8f2d-a540e1c4398a button.colab-df-convert');\n",
              "      buttonEl.style.display =\n",
              "        google.colab.kernel.accessAllowed ? 'block' : 'none';\n",
              "\n",
              "      async function convertToInteractive(key) {\n",
              "        const element = document.querySelector('#df-4c311151-7037-4e91-8f2d-a540e1c4398a');\n",
              "        const dataTable =\n",
              "          await google.colab.kernel.invokeFunction('convertToInteractive',\n",
              "                                                    [key], {});\n",
              "        if (!dataTable) return;\n",
              "\n",
              "        const docLinkHtml = 'Like what you see? Visit the ' +\n",
              "          '<a target=\"_blank\" href=https://colab.research.google.com/notebooks/data_table.ipynb>data table notebook</a>'\n",
              "          + ' to learn more about interactive tables.';\n",
              "        element.innerHTML = '';\n",
              "        dataTable['output_type'] = 'display_data';\n",
              "        await google.colab.output.renderOutput(dataTable, element);\n",
              "        const docLink = document.createElement('div');\n",
              "        docLink.innerHTML = docLinkHtml;\n",
              "        element.appendChild(docLink);\n",
              "      }\n",
              "    </script>\n",
              "  </div>\n",
              "\n",
              "    </div>\n",
              "  </div>\n"
            ],
            "application/vnd.google.colaboratory.module+javascript": "\n      import \"https://ssl.gstatic.com/colaboratory/data_table/881c4a0d49046431/data_table.js\";\n\n      const table = window.createDataTable({\n        data: [[{\n            'v': 0,\n            'f': \"0\",\n        },\n\"\\nA: Hi Tom, are you busy tomorrow\\u2019s afternoon?\\nB: I\\u2019m pretty sure I am. What\\u2019s up?\\nA: Can you go with me to the animal shelter?.\\nB: What do you want to do?\\nA: I want to get a puppy for my son.\\nB: That will make him so happy.\\nA: Yeah, we\\u2019ve discussed it many times. I think he\\u2019s ready now.\\nB: That\\u2019s good. Raising a dog is a tough issue. Like having a baby ;-)\\nA: I'll get him one of those little dogs.\\nB: One that won't grow up too big;-)\\nA: And eat too much;-))\\nB: Do you know which one he would like?\\nA: Oh, yes, I took him there last Monday. He showed me one that he really liked.\\nB: I bet you had to drag him away.\\nA: He wanted to take it home right away ;-).\\nB: I wonder what he'll name it.\\nA: He said he\\u2019d name it after his dead hamster \\u2013 Lemmy  - he's  a great Motorhead fan :-)))\\n\"]],\n        columns: [[\"number\", \"index\"], [\"string\", \"dialogue\"]],\n        columnOptions: [{\"width\": \"1px\", \"className\": \"index_column\"}],\n        rowsPerPage: 25,\n        helpUrl: \"https://colab.research.google.com/notebooks/data_table.ipynb\",\n        suppressOutputScrolling: true,\n        minimumWidth: undefined,\n      });\n\n      function appendQuickchartButton(parentElement) {\n        let quickchartButtonContainerElement = document.createElement('div');\n        quickchartButtonContainerElement.innerHTML = `\n<div id=\"df-e58b2f50-340e-47a4-a6c4-2d62c93b685a\">\n  <button class=\"colab-df-quickchart\" onclick=\"quickchart('df-e58b2f50-340e-47a4-a6c4-2d62c93b685a')\"\n            title=\"Suggest charts.\"\n            style=\"display:none;\">\n    \n<svg xmlns=\"http://www.w3.org/2000/svg\" height=\"24px\"viewBox=\"0 0 24 24\"\n     width=\"24px\">\n    <g>\n        <path d=\"M19 3H5c-1.1 0-2 .9-2 2v14c0 1.1.9 2 2 2h14c1.1 0 2-.9 2-2V5c0-1.1-.9-2-2-2zM9 17H7v-7h2v7zm4 0h-2V7h2v10zm4 0h-2v-4h2v4z\"/>\n    </g>\n</svg>\n  </button>\n  \n<style>\n  .colab-df-quickchart {\n      --bg-color: #E8F0FE;\n      --fill-color: #1967D2;\n      --hover-bg-color: #E2EBFA;\n      --hover-fill-color: #174EA6;\n      --disabled-fill-color: #AAA;\n      --disabled-bg-color: #DDD;\n  }\n\n  [theme=dark] .colab-df-quickchart {\n      --bg-color: #3B4455;\n      --fill-color: #D2E3FC;\n      --hover-bg-color: #434B5C;\n      --hover-fill-color: #FFFFFF;\n      --disabled-bg-color: #3B4455;\n      --disabled-fill-color: #666;\n  }\n\n  .colab-df-quickchart {\n    background-color: var(--bg-color);\n    border: none;\n    border-radius: 50%;\n    cursor: pointer;\n    display: none;\n    fill: var(--fill-color);\n    height: 32px;\n    padding: 0;\n    width: 32px;\n  }\n\n  .colab-df-quickchart:hover {\n    background-color: var(--hover-bg-color);\n    box-shadow: 0 1px 2px rgba(60, 64, 67, 0.3), 0 1px 3px 1px rgba(60, 64, 67, 0.15);\n    fill: var(--button-hover-fill-color);\n  }\n\n  .colab-df-quickchart-complete:disabled,\n  .colab-df-quickchart-complete:disabled:hover {\n    background-color: var(--disabled-bg-color);\n    fill: var(--disabled-fill-color);\n    box-shadow: none;\n  }\n\n  .colab-df-spinner {\n    border: 2px solid var(--fill-color);\n    border-color: transparent;\n    border-bottom-color: var(--fill-color);\n    animation:\n      spin 1s steps(1) infinite;\n  }\n\n  @keyframes spin {\n    0% {\n      border-color: transparent;\n      border-bottom-color: var(--fill-color);\n      border-left-color: var(--fill-color);\n    }\n    20% {\n      border-color: transparent;\n      border-left-color: var(--fill-color);\n      border-top-color: var(--fill-color);\n    }\n    30% {\n      border-color: transparent;\n      border-left-color: var(--fill-color);\n      border-top-color: var(--fill-color);\n      border-right-color: var(--fill-color);\n    }\n    40% {\n      border-color: transparent;\n      border-right-color: var(--fill-color);\n      border-top-color: var(--fill-color);\n    }\n    60% {\n      border-color: transparent;\n      border-right-color: var(--fill-color);\n    }\n    80% {\n      border-color: transparent;\n      border-right-color: var(--fill-color);\n      border-bottom-color: var(--fill-color);\n    }\n    90% {\n      border-color: transparent;\n      border-bottom-color: var(--fill-color);\n    }\n  }\n</style>\n\n  <script>\n    async function quickchart(key) {\n      const quickchartButtonEl =\n        document.querySelector('#' + key + ' button');\n      quickchartButtonEl.disabled = true;  // To prevent multiple clicks.\n      quickchartButtonEl.classList.add('colab-df-spinner');\n      try {\n        const charts = await google.colab.kernel.invokeFunction(\n            'suggestCharts', [key], {});\n      } catch (error) {\n        console.error('Error during call to suggestCharts:', error);\n      }\n      quickchartButtonEl.classList.remove('colab-df-spinner');\n      quickchartButtonEl.classList.add('colab-df-quickchart-complete');\n    }\n    (() => {\n      let quickchartButtonEl =\n        document.querySelector('#df-e58b2f50-340e-47a4-a6c4-2d62c93b685a button');\n      quickchartButtonEl.style.display =\n        google.colab.kernel.accessAllowed ? 'block' : 'none';\n    })();\n  </script>\n</div>`;\n        parentElement.appendChild(quickchartButtonContainerElement);\n      }\n\n      appendQuickchartButton(table);\n    "
          },
          "metadata": {},
          "execution_count": 78
        }
      ]
    },
    {
      "cell_type": "code",
      "source": [
        "predictions: list[list[str]] = predict(model=model, df_test=df_control_example)"
      ],
      "metadata": {
        "id": "IWq96fOff6E0",
        "colab": {
          "base_uri": "https://localhost:8080/",
          "height": 1000
        },
        "outputId": "578f5ae4-8838-41f0-bd6f-c135b8535848"
      },
      "execution_count": null,
      "outputs": [
        {
          "output_type": "display_data",
          "data": {
            "text/plain": [
              "<IPython.core.display.HTML object>"
            ],
            "text/html": [
              "\n",
              "  <style>\n",
              "    pre {\n",
              "        white-space: pre-wrap;\n",
              "    }\n",
              "  </style>\n",
              "  "
            ]
          },
          "metadata": {}
        },
        {
          "output_type": "stream",
          "name": "stderr",
          "text": [
            "WARNING:ludwig.data.preprocessing:Specified split column split for fixed split strategy was not found in dataset.\n",
            "Special tokens have been added in the vocabulary, make sure the associated word embeddings are fine-tuned or trained.\n",
            "INFO:ludwig.utils.tokenizers:Loaded HuggingFace implementation of alexsherstinsky/Mistral-7B-v0.1-sharded tokenizer\n",
            "Special tokens have been added in the vocabulary, make sure the associated word embeddings are fine-tuned or trained.\n",
            "WARNING:ludwig.utils.tokenizers:No padding token id found. Using eos_token as pad_token.\n",
            "Asking to truncate to max_length but no maximum length is provided and the model has no predefined maximum length. Default to no truncation.\n",
            "/usr/local/lib/python3.10/dist-packages/ludwig/data/preprocessing.py:1315: UserWarning: column: 'split' is required by the dataset splitter with params: {'type': 'fixed', 'column': 'split'}, but 'split' is not present in the `dataset_df` with columns: Index(['dialogue'], dtype='object'). This is acceptable during serving setting where dataset splitting is irrelevant. You may see this warning if, for example, the model was trained with a configuration that used a stratified split on the target column, but for live predictions, a value for the target column is not to be provided.\n",
            "  warnings.warn(\n"
          ]
        },
        {
          "output_type": "stream",
          "name": "stdout",
          "text": [
            "\rPrediction:   0%|          | 0/1 [00:00<?, ?it/s]"
          ]
        },
        {
          "output_type": "stream",
          "name": "stderr",
          "text": [
            "INFO:ludwig.models.llm:For generating text, using: GenerationConfig {\n",
            "  \"do_sample\": true,\n",
            "  \"max_length\": 32,\n",
            "  \"max_new_tokens\": 512,\n",
            "  \"pad_token_id\": 2,\n",
            "  \"temperature\": 0.1\n",
            "}\n",
            "\n",
            "INFO:ludwig.models.llm:Decoded text inputs for the first example in batch: summarize this dialog:\n",
            "### dialogue: \n",
            "a: hi tom, are you busy tomorrow’s afternoon?\n",
            "b: i’m pretty sure i am. what’s up?\n",
            "a: can you go with me to the animal shelter?.\n",
            "b: what do you want to do?\n",
            "a: i want to get a puppy for my son.\n",
            "b: that will make him so happy.\n",
            "a: yeah, we’ve discussed it many times. i think he’s ready now.\n",
            "b: that’s good. raising a dog is a tough issue. like having a baby ;-)\n",
            "a: i'll get him one of those little dogs.\n",
            "b: one that won't grow up too big;-)\n",
            "a: and eat too much;-))\n",
            "b: do you know which one he would like?\n",
            "a: oh, yes, i took him there last monday. he showed me one that he really liked.\n",
            "b: i bet you had to drag him away.\n",
            "a: he wanted to take it home right away ;-).\n",
            "b: i wonder what he'll name it.\n",
            "a: he said he’d name it after his dead hamster – lemmy  - he's  a great motorhead fan :-)))\n",
            "\n",
            "### synopsis:\n",
            "INFO:ludwig.models.llm:Decoded generated output for the first example in batch: summarize this dialog:\n",
            "### dialogue: \n",
            "a: hi tom, are you busy tomorrow’s afternoon?\n",
            "b: i’m pretty sure i am. what’s up?\n",
            "a: can you go with me to the animal shelter?.\n",
            "b: what do you want to do?\n",
            "a: i want to get a puppy for my son.\n",
            "b: that will make him so happy.\n",
            "a: yeah, we’ve discussed it many times. i think he’s ready now.\n",
            "b: that’s good. raising a dog is a tough issue. like having a baby ;-)\n",
            "a: i'll get him one of those little dogs.\n",
            "b: one that won't grow up too big;-)\n",
            "a: and eat too much;-))\n",
            "b: do you know which one he would like?\n",
            "a: oh, yes, i took him there last monday. he showed me one that he really liked.\n",
            "b: i bet you had to drag him away.\n",
            "a: he wanted to take it home right away ;-).\n",
            "b: i wonder what he'll name it.\n",
            "a: he said he’d name it after his dead hamster – lemmy  - he's  a great motorhead fan :-)))\n",
            "\n",
            "### synopsis: a wants to get a puppy for his son. b will go with him to the animal shelter tomorrow afternoon.\n"
          ]
        },
        {
          "output_type": "stream",
          "name": "stdout",
          "text": [
            "Prediction: 100%|██████████| 1/1 [00:03<00:00,  3.24s/it]"
          ]
        },
        {
          "output_type": "stream",
          "name": "stderr",
          "text": [
            "Special tokens have been added in the vocabulary, make sure the associated word embeddings are fine-tuned or trained.\n",
            "INFO:ludwig.utils.tokenizers:Loaded HuggingFace implementation of alexsherstinsky/Mistral-7B-v0.1-sharded tokenizer\n"
          ]
        },
        {
          "output_type": "stream",
          "name": "stdout",
          "text": [
            "\n"
          ]
        },
        {
          "output_type": "stream",
          "name": "stderr",
          "text": [
            "Special tokens have been added in the vocabulary, make sure the associated word embeddings are fine-tuned or trained.\n",
            "WARNING:ludwig.utils.tokenizers:No padding token id found. Using eos_token as pad_token.\n",
            "/usr/local/lib/python3.10/dist-packages/ludwig/features/feature_utils.py:102: RuntimeWarning: divide by zero encountered in log\n",
            "  return np.sum(np.log(sequence_probabilities))\n"
          ]
        }
      ]
    },
    {
      "cell_type": "code",
      "source": [
        "one_prediction: str = predictions[0][0]\n",
        "print(f'\\n[GENERATED_TEXT] PREDICTION:\\n{one_prediction}')"
      ],
      "metadata": {
        "id": "b6zapjrAz-d_",
        "colab": {
          "base_uri": "https://localhost:8080/",
          "height": 71
        },
        "outputId": "2dbcf753-ba25-413c-ad9d-ac3af575641a"
      },
      "execution_count": null,
      "outputs": [
        {
          "output_type": "display_data",
          "data": {
            "text/plain": [
              "<IPython.core.display.HTML object>"
            ],
            "text/html": [
              "\n",
              "  <style>\n",
              "    pre {\n",
              "        white-space: pre-wrap;\n",
              "    }\n",
              "  </style>\n",
              "  "
            ]
          },
          "metadata": {}
        },
        {
          "output_type": "stream",
          "name": "stdout",
          "text": [
            "\n",
            "[GENERATED_TEXT] PREDICTION:\n",
            "a wants to get a puppy for his son. b will go with him to the animal shelter tomorrow afternoon.\n"
          ]
        }
      ]
    },
    {
      "cell_type": "markdown",
      "source": [
        "# **Upload Trained Model Artifacts To HuggingFace** 🤗\n",
        "\n",
        "Now that we have a fine-tuned model, we can export the model weights to HuggingFace hub so we can use them in downstream tasks or in production. Ludwig supports uploading model weights directly to HuggingFace Hub via the `upload` Ludwig command.\n",
        "\n",
        "```\n",
        "!ludwig upload hf_hub --repo_id <hf_user_name>/<repo_name> --model_path <top_level_model_directory>\n",
        "```\n",
        "\n",
        "The `model-path` can be seen at the end of training/fine-tuning, as seen in this screenshot.\n",
        "\n",
        "<br>\n",
        "\n",
        "![Screenshot 2023-08-15 at 2.20.00 PM.png](data:image/png;base64,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)"
      ],
      "metadata": {
        "id": "LWxotc5kGcBD"
      }
    },
    {
      "cell_type": "code",
      "source": [
        "!ludwig upload hf_hub --repo_id \"alexsherstinsky/mistralai-7B-v01-based-finetuned-using-ludwig-with-samsum-T4-sharded-4bit-notmerged\" --model_path /content/results/api_experiment_run"
      ],
      "metadata": {
        "id": "-Y71BStbCQ1A",
        "colab": {
          "base_uri": "https://localhost:8080/",
          "height": 71
        },
        "outputId": "65f1b345-bced-425f-ad86-d8d3f7e964ed"
      },
      "execution_count": null,
      "outputs": [
        {
          "output_type": "display_data",
          "data": {
            "text/plain": [
              "<IPython.core.display.HTML object>"
            ],
            "text/html": [
              "\n",
              "  <style>\n",
              "    pre {\n",
              "        white-space: pre-wrap;\n",
              "    }\n",
              "  </style>\n",
              "  "
            ]
          },
          "metadata": {}
        },
        {
          "output_type": "stream",
          "name": "stdout",
          "text": [
            "adapter_model.bin: 100% 13.7M/13.7M [00:00<00:00, 22.2MB/s]\n",
            "Model uploaded to `https://huggingface.co/alexsherstinsky/mistralai-7B-v01-based-finetuned-using-ludwig-with-samsum-T4-sharded-4bit-notmerged/tree/main/` with repository name `alexsherstinsky/mistralai-7B-v01-based-finetuned-using-ludwig-with-samsum-T4-sharded-4bit-notmerged`\n"
          ]
        }
      ]
    },
    {
      "cell_type": "code",
      "source": [],
      "metadata": {
        "id": "PfJjc-ZW74S7"
      },
      "execution_count": null,
      "outputs": []
    },
    {
      "cell_type": "code",
      "source": [],
      "metadata": {
        "id": "8nUWrubnpANI"
      },
      "execution_count": null,
      "outputs": []
    },
    {
      "cell_type": "code",
      "source": [
        "samsum_fine_tuned_model_name: str = \"alexsherstinsky/mistralai-7B-v01-based-finetuned-using-ludwig-with-samsum-T4-sharded-4bit-notmerged\""
      ],
      "metadata": {
        "id": "SCH8OyED_ZEY",
        "colab": {
          "base_uri": "https://localhost:8080/",
          "height": 17
        },
        "outputId": "1720b787-b1c1-418b-937b-1942044a9628"
      },
      "execution_count": null,
      "outputs": [
        {
          "output_type": "display_data",
          "data": {
            "text/plain": [
              "<IPython.core.display.HTML object>"
            ],
            "text/html": [
              "\n",
              "  <style>\n",
              "    pre {\n",
              "        white-space: pre-wrap;\n",
              "    }\n",
              "  </style>\n",
              "  "
            ]
          },
          "metadata": {}
        }
      ]
    },
    {
      "cell_type": "code",
      "source": [],
      "metadata": {
        "id": "fubNdP6Yqpdw"
      },
      "execution_count": null,
      "outputs": []
    },
    {
      "cell_type": "code",
      "source": [],
      "metadata": {
        "id": "TwVmKFKojLSu"
      },
      "execution_count": null,
      "outputs": []
    },
    {
      "cell_type": "code",
      "source": [],
      "metadata": {
        "id": "mXF8mn9QpAf3"
      },
      "execution_count": null,
      "outputs": []
    },
    {
      "cell_type": "code",
      "source": [],
      "metadata": {
        "id": "v1mjIXRrEIcs"
      },
      "execution_count": null,
      "outputs": []
    },
    {
      "cell_type": "code",
      "source": [
        "gc.collect()"
      ],
      "metadata": {
        "id": "4YT5UXXvEH9-",
        "colab": {
          "base_uri": "https://localhost:8080/",
          "height": 35
        },
        "outputId": "c834e691-d9ef-48c0-da49-c16845a04563"
      },
      "execution_count": null,
      "outputs": [
        {
          "output_type": "display_data",
          "data": {
            "text/plain": [
              "<IPython.core.display.HTML object>"
            ],
            "text/html": [
              "\n",
              "  <style>\n",
              "    pre {\n",
              "        white-space: pre-wrap;\n",
              "    }\n",
              "  </style>\n",
              "  "
            ]
          },
          "metadata": {}
        },
        {
          "output_type": "execute_result",
          "data": {
            "text/plain": [
              "9"
            ]
          },
          "metadata": {},
          "execution_count": 91
        }
      ]
    },
    {
      "cell_type": "code",
      "source": [],
      "metadata": {
        "id": "YVxHFguz68Ib"
      },
      "execution_count": null,
      "outputs": []
    },
    {
      "cell_type": "code",
      "source": [],
      "metadata": {
        "id": "Dw0BnWVW677N"
      },
      "execution_count": null,
      "outputs": []
    },
    {
      "cell_type": "markdown",
      "source": [
        "Load the finetuned LoRA layers for Mistral 7B LLM (adapter weights for SAMSum dataset)."
      ],
      "metadata": {
        "id": "E1MXUMpdYN2n"
      }
    },
    {
      "cell_type": "code",
      "source": [
        "print(f'\\n[LOADING_MODEL] FINE_TUNED_AND_NOT_MERGED:\\n{samsum_fine_tuned_model_name}')\n",
        "samsum_tokenizer = base_model_tokenizer\n",
        "samsum_model: PeftModelForCausalLM = PeftModel.from_pretrained(model=base_model, model_id=samsum_fine_tuned_model_name)"
      ],
      "metadata": {
        "colab": {
          "base_uri": "https://localhost:8080/",
          "height": 71
        },
        "id": "bJY75vo7XOwA",
        "outputId": "2b7909a9-32c7-4477-a8dc-478140a48cc0"
      },
      "execution_count": null,
      "outputs": [
        {
          "output_type": "display_data",
          "data": {
            "text/plain": [
              "<IPython.core.display.HTML object>"
            ],
            "text/html": [
              "\n",
              "  <style>\n",
              "    pre {\n",
              "        white-space: pre-wrap;\n",
              "    }\n",
              "  </style>\n",
              "  "
            ]
          },
          "metadata": {}
        },
        {
          "output_type": "stream",
          "name": "stdout",
          "text": [
            "\n",
            "[LOADING_MODEL] FINE_TUNED_AND_NOT_MERGED:\n",
            "alexsherstinsky/mistralai-7B-v01-based-finetuned-using-ludwig-with-samsum-T4-sharded-4bit-notmerged\n"
          ]
        }
      ]
    },
    {
      "cell_type": "code",
      "source": [],
      "metadata": {
        "id": "7IN-YAqjOVFz"
      },
      "execution_count": null,
      "outputs": []
    },
    {
      "cell_type": "code",
      "source": [],
      "metadata": {
        "id": "Vl6plG8pOVKf"
      },
      "execution_count": null,
      "outputs": []
    },
    {
      "cell_type": "code",
      "source": [
        "gc.collect()"
      ],
      "metadata": {
        "id": "iPoQC0z0OVO7",
        "colab": {
          "base_uri": "https://localhost:8080/",
          "height": 35
        },
        "outputId": "0c2d8b26-c117-4014-8582-910e2045aa10"
      },
      "execution_count": null,
      "outputs": [
        {
          "output_type": "display_data",
          "data": {
            "text/plain": [
              "<IPython.core.display.HTML object>"
            ],
            "text/html": [
              "\n",
              "  <style>\n",
              "    pre {\n",
              "        white-space: pre-wrap;\n",
              "    }\n",
              "  </style>\n",
              "  "
            ]
          },
          "metadata": {}
        },
        {
          "output_type": "execute_result",
          "data": {
            "text/plain": [
              "1567"
            ]
          },
          "metadata": {},
          "execution_count": 102
        }
      ]
    },
    {
      "cell_type": "code",
      "source": [],
      "metadata": {
        "id": "KRmyHTkp-a7E"
      },
      "execution_count": null,
      "outputs": []
    },
    {
      "cell_type": "code",
      "source": [],
      "metadata": {
        "id": "Eu9o1PFE-Vyo"
      },
      "execution_count": null,
      "outputs": []
    },
    {
      "cell_type": "markdown",
      "source": [
        "Run inference on finetuned Mistral 7B LLM for SAMSum dataset to verify quality."
      ],
      "metadata": {
        "id": "JCnrqPZPXhG2"
      }
    },
    {
      "cell_type": "code",
      "source": [
        "samsum_sequences_generator: TextGenerationPipeline = transformers.pipeline(\n",
        "    task=\"text-generation\",\n",
        "    tokenizer=samsum_tokenizer,\n",
        "    model=samsum_model,\n",
        "    torch_dtype=torch.float16,\n",
        "    device_map=\"auto\",\n",
        ")"
      ],
      "metadata": {
        "id": "ce4yrJVCY7_U",
        "colab": {
          "base_uri": "https://localhost:8080/",
          "height": 160
        },
        "outputId": "be08424a-dbef-4c1b-b048-8cf517080906"
      },
      "execution_count": null,
      "outputs": [
        {
          "output_type": "display_data",
          "data": {
            "text/plain": [
              "<IPython.core.display.HTML object>"
            ],
            "text/html": [
              "\n",
              "  <style>\n",
              "    pre {\n",
              "        white-space: pre-wrap;\n",
              "    }\n",
              "  </style>\n",
              "  "
            ]
          },
          "metadata": {}
        },
        {
          "output_type": "stream",
          "name": "stderr",
          "text": [
            "The model 'PeftModelForCausalLM' is not supported for text-generation. Supported models are ['BartForCausalLM', 'BertLMHeadModel', 'BertGenerationDecoder', 'BigBirdForCausalLM', 'BigBirdPegasusForCausalLM', 'BioGptForCausalLM', 'BlenderbotForCausalLM', 'BlenderbotSmallForCausalLM', 'BloomForCausalLM', 'CamembertForCausalLM', 'LlamaForCausalLM', 'CodeGenForCausalLM', 'CpmAntForCausalLM', 'CTRLLMHeadModel', 'Data2VecTextForCausalLM', 'ElectraForCausalLM', 'ErnieForCausalLM', 'FalconForCausalLM', 'GitForCausalLM', 'GPT2LMHeadModel', 'GPT2LMHeadModel', 'GPTBigCodeForCausalLM', 'GPTNeoForCausalLM', 'GPTNeoXForCausalLM', 'GPTNeoXJapaneseForCausalLM', 'GPTJForCausalLM', 'LlamaForCausalLM', 'MarianForCausalLM', 'MBartForCausalLM', 'MegaForCausalLM', 'MegatronBertForCausalLM', 'MistralForCausalLM', 'MptForCausalLM', 'MusicgenForCausalLM', 'MvpForCausalLM', 'OpenLlamaForCausalLM', 'OpenAIGPTLMHeadModel', 'OPTForCausalLM', 'PegasusForCausalLM', 'PersimmonForCausalLM', 'PLBartForCausalLM', 'ProphetNetForCausalLM', 'QDQBertLMHeadModel', 'ReformerModelWithLMHead', 'RemBertForCausalLM', 'RobertaForCausalLM', 'RobertaPreLayerNormForCausalLM', 'RoCBertForCausalLM', 'RoFormerForCausalLM', 'RwkvForCausalLM', 'Speech2Text2ForCausalLM', 'TransfoXLLMHeadModel', 'TrOCRForCausalLM', 'XGLMForCausalLM', 'XLMWithLMHeadModel', 'XLMProphetNetForCausalLM', 'XLMRobertaForCausalLM', 'XLMRobertaXLForCausalLM', 'XLNetLMHeadModel', 'XmodForCausalLM'].\n"
          ]
        }
      ]
    },
    {
      "cell_type": "code",
      "source": [],
      "metadata": {
        "id": "7Vq6v-xxC03q"
      },
      "execution_count": null,
      "outputs": []
    },
    {
      "cell_type": "code",
      "source": [
        "samsum_sequences: list[dict] | list[list[dict]] = samsum_sequences_generator(\n",
        "    text_inputs=samsum_test_prompt,\n",
        "    do_sample=True,\n",
        "    top_k=50,\n",
        "    num_return_sequences=1,\n",
        "    eos_token_id=samsum_tokenizer.eos_token_id,\n",
        "    max_length=512,\n",
        "    return_text=True,\n",
        ")"
      ],
      "metadata": {
        "id": "gw2ahnKNZ9BR",
        "colab": {
          "base_uri": "https://localhost:8080/",
          "height": 35
        },
        "outputId": "a77f8d0f-aaf1-42d9-cee7-58f47f9ae23d"
      },
      "execution_count": null,
      "outputs": [
        {
          "output_type": "display_data",
          "data": {
            "text/plain": [
              "<IPython.core.display.HTML object>"
            ],
            "text/html": [
              "\n",
              "  <style>\n",
              "    pre {\n",
              "        white-space: pre-wrap;\n",
              "    }\n",
              "  </style>\n",
              "  "
            ]
          },
          "metadata": {}
        },
        {
          "output_type": "stream",
          "name": "stderr",
          "text": [
            "Setting `pad_token_id` to `eos_token_id`:2 for open-end generation.\n"
          ]
        }
      ]
    },
    {
      "cell_type": "code",
      "source": [
        "samsum_sequence: dict = samsum_sequences[0]"
      ],
      "metadata": {
        "id": "OHp1QhUZY8CL",
        "colab": {
          "base_uri": "https://localhost:8080/",
          "height": 17
        },
        "outputId": "448e9413-403f-455c-fa76-8a240409f1f3"
      },
      "execution_count": null,
      "outputs": [
        {
          "output_type": "display_data",
          "data": {
            "text/plain": [
              "<IPython.core.display.HTML object>"
            ],
            "text/html": [
              "\n",
              "  <style>\n",
              "    pre {\n",
              "        white-space: pre-wrap;\n",
              "    }\n",
              "  </style>\n",
              "  "
            ]
          },
          "metadata": {}
        }
      ]
    },
    {
      "cell_type": "code",
      "source": [
        "print(f'\\n[GENERATED_TEXT] FINE_TUNED_MODEL_PREDICTION:\\n{samsum_sequence[\"generated_text\"]} ; TYPE: {str(type(samsum_sequence[\"generated_text\"]))}')"
      ],
      "metadata": {
        "id": "DNIJBIBVY8FU",
        "colab": {
          "base_uri": "https://localhost:8080/",
          "height": 517
        },
        "outputId": "9e3427e5-2a71-4457-ffba-6f6ccfe5a0bc"
      },
      "execution_count": null,
      "outputs": [
        {
          "output_type": "display_data",
          "data": {
            "text/plain": [
              "<IPython.core.display.HTML object>"
            ],
            "text/html": [
              "\n",
              "  <style>\n",
              "    pre {\n",
              "        white-space: pre-wrap;\n",
              "    }\n",
              "  </style>\n",
              "  "
            ]
          },
          "metadata": {}
        },
        {
          "output_type": "stream",
          "name": "stdout",
          "text": [
            "\n",
            "[GENERATED_TEXT] FINE_TUNED_MODEL_PREDICTION:\n",
            "\n",
            "Summarize this dialog:\n",
            "\n",
            "### Dialogue: \n",
            "A: Hi Tom, are you busy tomorrow’s afternoon?\n",
            "B: I’m pretty sure I am. What’s up?\n",
            "A: Can you go with me to the animal shelter?.\n",
            "B: What do you want to do?\n",
            "A: I want to get a puppy for my son.\n",
            "B: That will make him so happy.\n",
            "A: Yeah, we’ve discussed it many times. I think he’s ready now.\n",
            "B: That’s good. Raising a dog is a tough issue. Like having a baby ;-)\n",
            "A: I'll get him one of those little dogs.\n",
            "B: One that won't grow up too big;-)\n",
            "A: And eat too much;-))\n",
            "B: Do you know which one he would like?\n",
            "A: Oh, yes, I took him there last Monday. He showed me one that he really liked.\n",
            "B: I bet you had to drag him away.\n",
            "A: He wanted to take it home right away ;-).\n",
            "B: I wonder what he'll name it.\n",
            "A: He said he’d name it after his dead hamster – Lemmy  - he's  a great Motorhead fan :-)))\n",
            "\n",
            "\n",
            "### Synopsis:\n",
            "\n",
            "A wants to buy a puppy for his son. The puppy that he will get was pointed out to A by his son a week prior. B will go with A to the animal shelter. ; TYPE: <class 'str'>\n"
          ]
        }
      ]
    },
    {
      "cell_type": "code",
      "source": [],
      "metadata": {
        "id": "MhjUYgzLit5T"
      },
      "execution_count": null,
      "outputs": []
    },
    {
      "cell_type": "code",
      "source": [],
      "metadata": {
        "id": "nN1ztfu6D9yW"
      },
      "execution_count": null,
      "outputs": []
    },
    {
      "cell_type": "code",
      "source": [
        "gc.collect()"
      ],
      "metadata": {
        "id": "GmlEWKz1D9yW",
        "colab": {
          "base_uri": "https://localhost:8080/",
          "height": 35
        },
        "outputId": "571b1a9a-49a6-4589-a492-859e51c25950"
      },
      "execution_count": null,
      "outputs": [
        {
          "output_type": "display_data",
          "data": {
            "text/plain": [
              "<IPython.core.display.HTML object>"
            ],
            "text/html": [
              "\n",
              "  <style>\n",
              "    pre {\n",
              "        white-space: pre-wrap;\n",
              "    }\n",
              "  </style>\n",
              "  "
            ]
          },
          "metadata": {}
        },
        {
          "output_type": "execute_result",
          "data": {
            "text/plain": [
              "0"
            ]
          },
          "metadata": {},
          "execution_count": 148
        }
      ]
    },
    {
      "cell_type": "code",
      "source": [],
      "metadata": {
        "id": "2IlJMGIHa8Gl"
      },
      "execution_count": null,
      "outputs": []
    },
    {
      "cell_type": "code",
      "source": [],
      "metadata": {
        "id": "r7NRj-eFa75l"
      },
      "execution_count": null,
      "outputs": []
    },
    {
      "cell_type": "markdown",
      "source": [
        "Run inference on finetuned Mistral 7B LLM for SAMSum dataset over the evaluation dataset."
      ],
      "metadata": {
        "id": "AfeIOOkha9Iu"
      }
    },
    {
      "cell_type": "code",
      "source": [
        "df_samsum_evaluation: pd.DataFrame = df_evaluation.copy()"
      ],
      "metadata": {
        "id": "m6MoKuHxCk4c",
        "colab": {
          "base_uri": "https://localhost:8080/",
          "height": 17
        },
        "outputId": "f2b41deb-5e2f-480b-eb3d-bf2dea608709"
      },
      "execution_count": null,
      "outputs": [
        {
          "output_type": "display_data",
          "data": {
            "text/plain": [
              "<IPython.core.display.HTML object>"
            ],
            "text/html": [
              "\n",
              "  <style>\n",
              "    pre {\n",
              "        white-space: pre-wrap;\n",
              "    }\n",
              "  </style>\n",
              "  "
            ]
          },
          "metadata": {}
        }
      ]
    },
    {
      "cell_type": "code",
      "source": [
        "df_samsum_evaluation[\"prompt\"] = df_samsum_evaluation[\"dialogue\"].apply(lambda x: samsum_prompt_template.format(**{\"dialogue\": x}))"
      ],
      "metadata": {
        "id": "vT-Z_9pdDFgl",
        "colab": {
          "base_uri": "https://localhost:8080/",
          "height": 17
        },
        "outputId": "925d3593-8ec0-4ece-828f-d94e02ba3af0"
      },
      "execution_count": null,
      "outputs": [
        {
          "output_type": "display_data",
          "data": {
            "text/plain": [
              "<IPython.core.display.HTML object>"
            ],
            "text/html": [
              "\n",
              "  <style>\n",
              "    pre {\n",
              "        white-space: pre-wrap;\n",
              "    }\n",
              "  </style>\n",
              "  "
            ]
          },
          "metadata": {}
        }
      ]
    },
    {
      "cell_type": "code",
      "source": [
        "samsum_sequences: list[dict] | list[list[dict]] = samsum_sequences_generator(\n",
        "    text_inputs=df_samsum_evaluation[\"prompt\"].to_list(),\n",
        "    do_sample=True,\n",
        "    top_k=50,\n",
        "    num_return_sequences=1,\n",
        "    eos_token_id=samsum_tokenizer.eos_token_id,\n",
        "    max_length=512,\n",
        "    return_text=True,\n",
        ")"
      ],
      "metadata": {
        "id": "fW2wlr4dDfHN",
        "colab": {
          "base_uri": "https://localhost:8080/",
          "height": 249
        },
        "outputId": "1575a776-c8cd-4a1b-98c0-60db92455687"
      },
      "execution_count": null,
      "outputs": [
        {
          "output_type": "display_data",
          "data": {
            "text/plain": [
              "<IPython.core.display.HTML object>"
            ],
            "text/html": [
              "\n",
              "  <style>\n",
              "    pre {\n",
              "        white-space: pre-wrap;\n",
              "    }\n",
              "  </style>\n",
              "  "
            ]
          },
          "metadata": {}
        },
        {
          "output_type": "stream",
          "name": "stderr",
          "text": [
            "Setting `pad_token_id` to `eos_token_id`:2 for open-end generation.\n",
            "Setting `pad_token_id` to `eos_token_id`:2 for open-end generation.\n",
            "Setting `pad_token_id` to `eos_token_id`:2 for open-end generation.\n",
            "Setting `pad_token_id` to `eos_token_id`:2 for open-end generation.\n",
            "Setting `pad_token_id` to `eos_token_id`:2 for open-end generation.\n",
            "Setting `pad_token_id` to `eos_token_id`:2 for open-end generation.\n",
            "Setting `pad_token_id` to `eos_token_id`:2 for open-end generation.\n",
            "/usr/local/lib/python3.10/dist-packages/transformers/generation/utils.py:1268: UserWarning: Input length of input_ids is 571, but `max_length` is set to 512. This can lead to unexpected behavior. You should consider increasing `max_new_tokens`.\n",
            "  warnings.warn(\n",
            "Setting `pad_token_id` to `eos_token_id`:2 for open-end generation.\n",
            "Setting `pad_token_id` to `eos_token_id`:2 for open-end generation.\n",
            "Setting `pad_token_id` to `eos_token_id`:2 for open-end generation.\n"
          ]
        }
      ]
    },
    {
      "cell_type": "code",
      "source": [
        "print(f'\\n[FINE_TUNED_MODEL_EVALUATION_BEGIN]')\n",
        "idx: int = 0\n",
        "print(f'\\n[=============EXAMPLE_{idx}_BEGIN=============]')\n",
        "for dialogue, synopsis in zip(df_samsum_evaluation[\"dialogue\"].to_list(), samsum_sequences):\n",
        "  print(f'\\n[FINE_TUNED_MODEL_EVALUATION] GENERATED_SUMMARY:\\n{synopsis[0][\"generated_text\"]}')\n",
        "  print(f'\\n[=============EXAMPLE_{idx}_END=============]')\n",
        "  idx += 1\n",
        "\n",
        "print(f'\\n[FINE_TUNED_MODEL_EVALUATION_END]')"
      ],
      "metadata": {
        "id": "W1e56lBUaW7I",
        "colab": {
          "base_uri": "https://localhost:8080/",
          "height": 1000
        },
        "outputId": "a2a3498b-711d-4c6a-bff4-ddc2f0ae452d"
      },
      "execution_count": null,
      "outputs": [
        {
          "output_type": "display_data",
          "data": {
            "text/plain": [
              "<IPython.core.display.HTML object>"
            ],
            "text/html": [
              "\n",
              "  <style>\n",
              "    pre {\n",
              "        white-space: pre-wrap;\n",
              "    }\n",
              "  </style>\n",
              "  "
            ]
          },
          "metadata": {}
        },
        {
          "output_type": "stream",
          "name": "stdout",
          "text": [
            "\n",
            "[FINE_TUNED_MODEL_EVALUATION_BEGIN]\n",
            "\n",
            "[=============EXAMPLE_0_BEGIN=============]\n",
            "\n",
            "[FINE_TUNED_MODEL_EVALUATION] GENERATED_SUMMARY:\n",
            "\n",
            "Summarize this dialog:\n",
            "\n",
            "### Dialogue: Adriana: Sorry, I guess I can't make it. I'm feeling sick again.\r\n",
            "Adriana: I planned so many things for today...\r\n",
            "Adriana: Hate it.\r\n",
            "Elisa: What a pity...\r\n",
            "Elisa: Next time!\r\n",
            "Elisa: Hope you'll get better soon!\r\n",
            "Adriana: Hope so too.\r\n",
            "Adriana: How was at the pool?\r\n",
            "Elisa: The best ❤️\r\n",
            "Elisa: 1 hour of swimming and 1 hour of sauna\r\n",
            "Elisa: Love it!\r\n",
            "Adriana:❤️\r\n",
            "Adriana: I'm such a bad swimmer that you couldn't stand me xD\r\n",
            "Elisa: Ahahaha\r\n",
            "Elisa: There was such a girl today, soooo annoying 😂\r\n",
            "Adriana: Just like me 😂😂😂\n",
            "\n",
            "### Synopsis:\n",
            "\n",
            "Because Adriana feels sick today, she can't go to the pool with Elisa. They'll meet another time.\n",
            "\n",
            "[=============EXAMPLE_0_END=============]\n",
            "\n",
            "[FINE_TUNED_MODEL_EVALUATION] GENERATED_SUMMARY:\n",
            "\n",
            "Summarize this dialog:\n",
            "\n",
            "### Dialogue: Claire: Have you seen the news?\r\n",
            "Greg: No. What’s happened?\r\n",
            "Claire: That bitch my neighbor became an MP 🤮\r\n",
            "Kevin: Ooo, well done! You must be so jealous 🤣\r\n",
            "Claire: Stop it. I hate her so much. She killed my cat 🙈\r\n",
            "Greg: Whaaaaat???\r\n",
            "Claire: Really. It was 5 years ago. She hit it with a car.\r\n",
            "Greg: Okay. I understand 😒\n",
            "\n",
            "### Synopsis:\n",
            "* Claire's neighbor killed Claire's cat.\n",
            "\n",
            "[=============EXAMPLE_1_END=============]\n",
            "\n",
            "[FINE_TUNED_MODEL_EVALUATION] GENERATED_SUMMARY:\n",
            "\n",
            "Summarize this dialog:\n",
            "\n",
            "### Dialogue: Josh: You're a nutter!!!\n",
            "Josh: I could never do things like that\n",
            "Paul: Wouldn't you ever do the bungee jumping or skydiving? C'mon that's not so scary :)\n",
            "Josh: hahahah\n",
            "Josh: Nope, I wouldn't do that :)\n",
            "Paul: The next time you're coming with me!\n",
            "Josh: No way, mate\n",
            "\n",
            "### Synopsis:\n",
            "\n",
            "Paul and Josh have different opinions about bungee jumping and skydiving.\n",
            "\n",
            "[=============EXAMPLE_2_END=============]\n",
            "\n",
            "[FINE_TUNED_MODEL_EVALUATION] GENERATED_SUMMARY:\n",
            "\n",
            "Summarize this dialog:\n",
            "\n",
            "### Dialogue: Marcel: Hey\r\n",
            "Rodolfo: Hello\r\n",
            "Marcel: What's up?\r\n",
            "Rodolfo: Nothing just got back to the house\r\n",
            "Marcel: I had an exam today and I  think I will get a great grade\r\n",
            "Rodolfo: Good for you. Mine was pretty hard. Not what I was expecting. But I should pass it\r\n",
            "Marcel: Oh yeah now I remember you had an exam. Let me know if u have results\r\n",
            "Rodolfo: How nice nice of you to remember now\r\n",
            "Marcel: Haha i can't believe. I saw when one car hit another one. They were one behind another. It wasn't so much but still it was. The drivers went out, spoke  maybe 15 seconds , smiled and came back to their cars hahha and that's all\r\n",
            "Rodolfo: I will only know in like 3 weeks\r\n",
            "Marcel: Oh long time\r\n",
            "Rodolfo: Yea rather long\r\n",
            "Marcel: Hopefully it will be fine\n",
            "\n",
            "### Synopsis:\n",
            "\n",
            " rodolfo was thinking about an exam and his grade. they both will know the results in 3 weeks.\n",
            "\n",
            "[=============EXAMPLE_3_END=============]\n",
            "\n",
            "[FINE_TUNED_MODEL_EVALUATION] GENERATED_SUMMARY:\n",
            "\n",
            "Summarize this dialog:\n",
            "\n",
            "### Dialogue: Don: Do you see me online?\n",
            "Alfred: Nope\n",
            "Don: Ok, something's wrong, I'll have to check my settings\n",
            "Alfred: Ok\n",
            "\n",
            "### Synopsis:\n",
            "\n",
            "Alfred can't see Don online.\n",
            "\n",
            "[=============EXAMPLE_4_END=============]\n",
            "\n",
            "[FINE_TUNED_MODEL_EVALUATION] GENERATED_SUMMARY:\n",
            "\n",
            "Summarize this dialog:\n",
            "\n",
            "### Dialogue: Travis: Hi, are you there?\r\n",
            "Lana: Hi Travis, good to hear from you after holiday.\r\n",
            "Travis: Yeah, long time\r\n",
            "Lana: So how was it? Greece, right?\r\n",
            "Travis: Yep, pure magic. 10 day there and 4 days in Albania\r\n",
            "Lana: Wow, Albania. Never been there.\r\n",
            "Travis: Kind of wild place, still. But I liked Greece better\r\n",
            "Lana: You stayed in one place?\r\n",
            "Travis: No, moved around. We saw almost everything there was to see\r\n",
            "Lana: Sounds exciting. \r\n",
            "Travis: Take a look. <file_photo>\r\n",
            "Lana: Wow, breathtaking. I guess you'll show us more when we meet in the office\r\n",
            "Travis: Sure thing. But I'm not back till Monday\r\n",
            "Lana: I see. Two more days of freedom.\r\n",
            "Travis: Precisely. How are things there anyway\r\n",
            "Lana: Same old, same old.\r\n",
            "Travis: Been worse?\r\n",
            "Lana: I guess it's just this time of the year when not much happens. \r\n",
            "Travis: Have you planned your holiday yet?\r\n",
            "Lana: Not really. I guess I'll just find something last minute in September.\r\n",
            "Travis: Greece perhaps\r\n",
            "Lana: I'll decide when I see the photos ha ha ha. See you around. Gotta go.\r\n",
            "Travis: Sure. See you on Monday\n",
            "\n",
            "### Synopsis:\n",
            "\n",
            "Travis just returned from his holiday to Greece where he also visited Albania. He went around and saw almost everything. Lana still doesn't know what she is going to decide for her holiday.\n",
            "\n",
            "[=============EXAMPLE_5_END=============]\n",
            "\n",
            "[FINE_TUNED_MODEL_EVALUATION] GENERATED_SUMMARY:\n",
            "\n",
            "Summarize this dialog:\n",
            "\n",
            "### Dialogue: Alex: hey, I'm writing about the book :)\r\n",
            "Elizabeth: heey, thanks for the message, I'm packing it to my bag right now.\r\n",
            "Alex: thank you so much...you don't even know grateful I am\r\n",
            "Elizabeth: No problem, really. If I can help you in any other way just ask.\r\n",
            "Alex: Actually I have a few questions for you if you don't mind\r\n",
            "Elizabeth: Sure, what is it?\r\n",
            "Alex: I'm starting with the senior group next week and I'm so stressed out cause I never taught the adults...could you give me any clues how to prepare, what to do and so on?\r\n",
            "Elizabeth: Of course. First thing - relax, cause stress is destructive. I remember my first classes with the adults and I couldn't even breath, but the point is to devise you own work schedule, and in order to do it right you just gotta observe them. their knowledge, their needs and so on.\r\n",
            "Alex: I get it...and how does your lesson usually look like?\r\n",
            "Elizabeth: It depends, you know. But for most of the time I'm just trying to stick to my fixed plan. At the beginning checking the attendance, asking them to give me the date in the foreing language so I can put it down in the register. Then a short conversation.\r\n",
            "Alex: and what after that?\r\n",
            "Elizabeth: Then I usually start a new chapter, the vocabulary, sometimes grammar, a few exercices and then work in groups. I don't want them to do the exercices only, cause it's too automatic.\r\n",
            "Alex: sounds really cool...you are so experienced...I wish I was too :/\r\n",
            "Elizabeth: calm down, you'll just learn everything with practice. If you don't want to make your lessons too formal, you can look for some games. I recommend Kaboom.\r\n",
            "Alex: Kaboom? I don't know this game\r\n",
            "Elizabeth: you just write the words on little pieces of paper, for example names of fruit or vegetables and put it all in a little bag. Every person takes out a single piece of paper and has to translate a word written on it. If they spot the answer, they keep it, if they don't, the card goes back to the bag.\r\n",
            "Alex: Sounds really cool! I'm sure I'll try it. Thank you so much for your help!!\r\n",
            "Elizabeth: No problem, any time.\n",
            "\n",
            "### Synopsis:\n",
            "\n",
            "\n",
            "\n",
            "[=============EXAMPLE_6_END=============]\n",
            "\n",
            "[FINE_TUNED_MODEL_EVALUATION] GENERATED_SUMMARY:\n",
            "\n",
            "Summarize this dialog:\n",
            "\n",
            "### Dialogue: Karen: Hi John, it's me, lost my phone\r\n",
            "Karen: On my way home, don't worry. Text me if you've got this. I'll have this phone only for couple of minutes.\r\n",
            "John: Got it, go back home safely.\n",
            "\n",
            "### Synopsis:\n",
            "\n",
            "Karen should have her phone very soon. She's on her way home and John's got her phone right now.\n",
            "\n",
            "[=============EXAMPLE_7_END=============]\n",
            "\n",
            "[FINE_TUNED_MODEL_EVALUATION] GENERATED_SUMMARY:\n",
            "\n",
            "Summarize this dialog:\n",
            "\n",
            "### Dialogue: Claire: There is a letter for Tracy from the tax office\r\n",
            "Tracy: Thanks mum. Can you open it?\r\n",
            "Natalie: It's probably regarding tax return \r\n",
            "Natalie: I got mine last week\r\n",
            "Tracy: Open and send me a photo\r\n",
            "Tracy: Better priv 🤑\r\n",
            "Claire: No problem \n",
            "\n",
            "### Synopsis:\n",
            "\n",
            "there is a tax office letter for Tracy.\n",
            "\n",
            "[=============EXAMPLE_8_END=============]\n",
            "\n",
            "[FINE_TUNED_MODEL_EVALUATION] GENERATED_SUMMARY:\n",
            "\n",
            "Summarize this dialog:\n",
            "\n",
            "### Dialogue: Donald: Are you playing poker tonight? It's at Dave's house\r\n",
            "Steve: Yeah I was planning to. Do we need to bring whiskey?\r\n",
            "Donald: I've got some, no worries.\r\n",
            "Steve: Ok see you\n",
            "\n",
            "### Synopsis:\n",
            "\n",
            "Donald and Steve are having poker tonight at Dave's house. Donald has got some whiskey for both of them.\n",
            "\n",
            "[=============EXAMPLE_9_END=============]\n",
            "\n",
            "[FINE_TUNED_MODEL_EVALUATION_END]\n"
          ]
        }
      ]
    },
    {
      "cell_type": "code",
      "source": [],
      "metadata": {
        "id": "9rwBdAruD0NC"
      },
      "execution_count": null,
      "outputs": []
    }
  ]
}